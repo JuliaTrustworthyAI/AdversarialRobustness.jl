{
 "cells": [
  {
   "cell_type": "markdown",
   "metadata": {},
   "source": [
    "### Imports"
   ]
  },
  {
   "cell_type": "code",
   "execution_count": 1,
   "metadata": {},
   "outputs": [
    {
     "name": "stderr",
     "output_type": "stream",
     "text": [
      "WARNING: using CounterfactualExplanations.update! in module Main conflicts with an existing identifier.\n"
     ]
    },
    {
     "data": {
      "text/plain": [
       "evaluate_model (generic function with 1 method)"
      ]
     },
     "metadata": {},
     "output_type": "display_data"
    }
   ],
   "source": [
    "using Distributions\n",
    "using Random\n",
    "using Flux, Statistics, ProgressMeter, Plots, TaijaData, Distances\n",
    "using Flux.Data: DataLoader\n",
    "using Flux: onehotbatch, onecold, crossentropy, logitcrossentropy, mse, throttle, update!, push!\n",
    "using Base.Iterators: repeated, partition\n",
    "using LinearAlgebra: norm\n",
    "using CounterfactualExplanations\n",
    "using Distances\n",
    "using BSON\n",
    "\n",
    "include(\"../utils/train.jl\")\n",
    "include(\"../utils/plot.jl\")\n",
    "include(\"../utils/evaluate.jl\")"
   ]
  },
  {
   "cell_type": "markdown",
   "metadata": {},
   "source": [
    "### Adversarial attack algorithms: FGSM and PGD-attack"
   ]
  },
  {
   "cell_type": "code",
   "execution_count": 2,
   "metadata": {},
   "outputs": [
    {
     "data": {
      "text/plain": [
       "PGD (generic function with 1 method)"
      ]
     },
     "metadata": {},
     "output_type": "display_data"
    }
   ],
   "source": [
    "function FGSM(model, loss, x, y; ϵ = 0.3, clamp_range = (0, 1))\n",
    "    grads = gradient(x -> loss(model(x), y), x)[1]\n",
    "    x_adv = clamp.(x + (Float32(ϵ) * sign.(grads)), clamp_range...)\n",
    "    return x_adv\n",
    "end\n",
    "\n",
    "function PGD(model, loss, x, y; ϵ = 0.3, step_size = 0.01, iterations = 40, clamp_range = (0, 1))\n",
    "    x_adv = clamp.(x + (randn(Float32, size(x)...) * Float32(step_size)), clamp_range...); # start from the random point\n",
    "    δ = Distances.chebyshev(x, x_adv)\n",
    "    iteration = 1; while (δ < ϵ) && iteration <= iterations\n",
    "        x_adv = FGSM(model, loss, x_adv, y; ϵ = step_size, clamp_range = clamp_range)\n",
    "        δ = chebyshev(x, x_adv)\n",
    "        iteration += 1\n",
    "    end\n",
    "    return x_adv\n",
    "end"
   ]
  },
  {
   "cell_type": "markdown",
   "metadata": {},
   "source": [
    "### Loading our MNIST data"
   ]
  },
  {
   "cell_type": "code",
   "execution_count": 3,
   "metadata": {},
   "outputs": [
    {
     "data": {
      "text/plain": [
       "784×10000 Matrix{Float32}:\n",
       " 0.0  0.0  0.0  0.0  0.0  0.0  0.0  0.0  …  0.0  0.0  0.0  0.0  0.0  0.0  0.0\n",
       " 0.0  0.0  0.0  0.0  0.0  0.0  0.0  0.0     0.0  0.0  0.0  0.0  0.0  0.0  0.0\n",
       " 0.0  0.0  0.0  0.0  0.0  0.0  0.0  0.0     0.0  0.0  0.0  0.0  0.0  0.0  0.0\n",
       " 0.0  0.0  0.0  0.0  0.0  0.0  0.0  0.0     0.0  0.0  0.0  0.0  0.0  0.0  0.0\n",
       " 0.0  0.0  0.0  0.0  0.0  0.0  0.0  0.0     0.0  0.0  0.0  0.0  0.0  0.0  0.0\n",
       " 0.0  0.0  0.0  0.0  0.0  0.0  0.0  0.0  …  0.0  0.0  0.0  0.0  0.0  0.0  0.0\n",
       " 0.0  0.0  0.0  0.0  0.0  0.0  0.0  0.0     0.0  0.0  0.0  0.0  0.0  0.0  0.0\n",
       " 0.0  0.0  0.0  0.0  0.0  0.0  0.0  0.0     0.0  0.0  0.0  0.0  0.0  0.0  0.0\n",
       " 0.0  0.0  0.0  0.0  0.0  0.0  0.0  0.0     0.0  0.0  0.0  0.0  0.0  0.0  0.0\n",
       " 0.0  0.0  0.0  0.0  0.0  0.0  0.0  0.0     0.0  0.0  0.0  0.0  0.0  0.0  0.0\n",
       " ⋮                        ⋮              ⋱            ⋮                   \n",
       " 0.0  0.0  0.0  0.0  0.0  0.0  0.0  0.0  …  0.0  0.0  0.0  0.0  0.0  0.0  0.0\n",
       " 0.0  0.0  0.0  0.0  0.0  0.0  0.0  0.0     0.0  0.0  0.0  0.0  0.0  0.0  0.0\n",
       " 0.0  0.0  0.0  0.0  0.0  0.0  0.0  0.0     0.0  0.0  0.0  0.0  0.0  0.0  0.0\n",
       " 0.0  0.0  0.0  0.0  0.0  0.0  0.0  0.0     0.0  0.0  0.0  0.0  0.0  0.0  0.0\n",
       " 0.0  0.0  0.0  0.0  0.0  0.0  0.0  0.0     0.0  0.0  0.0  0.0  0.0  0.0  0.0\n",
       " 0.0  0.0  0.0  0.0  0.0  0.0  0.0  0.0  …  0.0  0.0  0.0  0.0  0.0  0.0  0.0\n",
       " 0.0  0.0  0.0  0.0  0.0  0.0  0.0  0.0     0.0  0.0  0.0  0.0  0.0  0.0  0.0\n",
       " 0.0  0.0  0.0  0.0  0.0  0.0  0.0  0.0     0.0  0.0  0.0  0.0  0.0  0.0  0.0\n",
       " 0.0  0.0  0.0  0.0  0.0  0.0  0.0  0.0     0.0  0.0  0.0  0.0  0.0  0.0  0.0"
      ]
     },
     "metadata": {},
     "output_type": "display_data"
    }
   ],
   "source": [
    "x_train, y_train = TaijaData.load_mnist()\n",
    "x_test, y_test = TaijaData.load_mnist_test()\n",
    "\n",
    "x_train = (x_train .+ 1) ./ 2\n",
    "x_test = (x_test .+ 1) ./ 2"
   ]
  },
  {
   "cell_type": "markdown",
   "metadata": {},
   "source": [
    "### Defining model architecture"
   ]
  },
  {
   "cell_type": "code",
   "execution_count": 187,
   "metadata": {},
   "outputs": [
    {
     "data": {
      "text/plain": [
       "Chain(\n",
       "  Dense(784 => 128, relu),              \u001b[90m# 100_480 parameters\u001b[39m\n",
       "  Dense(128 => 10),                     \u001b[90m# 1_290 parameters\u001b[39m\n",
       ") \u001b[90m                  # Total: 4 arrays, \u001b[39m101_770 parameters, 397.789 KiB."
      ]
     },
     "metadata": {},
     "output_type": "display_data"
    }
   ],
   "source": [
    "model = Chain(\n",
    "    Dense(784, 128, relu; init=Flux.glorot_normal),\n",
    "    Dense(128,  10; init=Flux.glorot_normal)\n",
    ")\n",
    "\n",
    "adv_pgd_strong = deepcopy(model)\n",
    "adv_pgd_medium = deepcopy(model)\n",
    "adv_pgd_weak = deepcopy(model)\n",
    "\n",
    "spare = deepcopy(model)"
   ]
  },
  {
   "cell_type": "markdown",
   "metadata": {},
   "source": [
    "### Params for training and attacks"
   ]
  },
  {
   "cell_type": "code",
   "execution_count": 5,
   "metadata": {},
   "outputs": [
    {
     "data": {
      "text/plain": [
       "Adam(0.001, (0.9, 0.999), 1.0e-8, IdDict{Any, Any}())"
      ]
     },
     "metadata": {},
     "output_type": "display_data"
    }
   ],
   "source": [
    "loss(x, y) = logitcrossentropy(x, y) # Not defining softmax in the model to help with CE\n",
    "batch_size = 32\n",
    "epochs = 20\n",
    "clamp_range = (0, 1)\n",
    "opt = ADAM()"
   ]
  },
  {
   "cell_type": "markdown",
   "metadata": {},
   "source": [
    "### Training our models"
   ]
  },
  {
   "cell_type": "markdown",
   "metadata": {},
   "source": [
    "##### Clean model (no adversarial training)"
   ]
  },
  {
   "cell_type": "code",
   "execution_count": 189,
   "metadata": {},
   "outputs": [
    {
     "name": "stdout",
     "output_type": "stream",
     "text": [
      "Epoch: 1\n",
      "Average loss: 0.2664747898076971\n",
      "Epoch: 2"
     ]
    },
    {
     "name": "stderr",
     "output_type": "stream",
     "text": [
      "\u001b[32mProgress:  10%|█████                                    |  ETA: 0:00:54\u001b[39m\u001b[K"
     ]
    },
    {
     "name": "stdout",
     "output_type": "stream",
     "text": [
      "\n",
      "Average loss: 0.11247080943832795\n",
      "Epoch: 3\n"
     ]
    },
    {
     "name": "stderr",
     "output_type": "stream",
     "text": [
      "\u001b[32mProgress:  15%|███████                                  |  ETA: 0:00:51\u001b[39m\u001b[K"
     ]
    },
    {
     "name": "stdout",
     "output_type": "stream",
     "text": [
      "Average loss: 0.07677857563719154\n",
      "Epoch: 4\n"
     ]
    },
    {
     "name": "stderr",
     "output_type": "stream",
     "text": [
      "\u001b[32mProgress:  20%|█████████                                |  ETA: 0:00:48\u001b[39m\u001b[K"
     ]
    },
    {
     "name": "stdout",
     "output_type": "stream",
     "text": [
      "Average loss: 0.057400221182468035\n",
      "Epoch: 5"
     ]
    },
    {
     "name": "stderr",
     "output_type": "stream",
     "text": [
      "\u001b[32mProgress:  25%|███████████                              |  ETA: 0:00:45\u001b[39m\u001b[K"
     ]
    },
    {
     "name": "stdout",
     "output_type": "stream",
     "text": [
      "\n",
      "Average loss: 0.045064044724684206\n",
      "Epoch: 6\n"
     ]
    },
    {
     "name": "stderr",
     "output_type": "stream",
     "text": [
      "\u001b[32mProgress:  30%|█████████████                            |  ETA: 0:00:42\u001b[39m\u001b[K"
     ]
    },
    {
     "name": "stdout",
     "output_type": "stream",
     "text": [
      "Average loss: 0.03461133318341648\n",
      "Epoch: 7"
     ]
    },
    {
     "name": "stderr",
     "output_type": "stream",
     "text": [
      "\u001b[32mProgress:  35%|███████████████                          |  ETA: 0:00:38\u001b[39m\u001b[K"
     ]
    },
    {
     "name": "stdout",
     "output_type": "stream",
     "text": [
      "\n",
      "Average loss: 0.027293429097998888\n",
      "Epoch: 8\n"
     ]
    },
    {
     "name": "stderr",
     "output_type": "stream",
     "text": [
      "\u001b[32mProgress:  40%|█████████████████                        |  ETA: 0:00:35\u001b[39m\u001b[K"
     ]
    },
    {
     "name": "stdout",
     "output_type": "stream",
     "text": [
      "Average loss: 0.02283325185441645\n",
      "Epoch: 9\n"
     ]
    },
    {
     "name": "stderr",
     "output_type": "stream",
     "text": [
      "\u001b[32mProgress:  45%|███████████████████                      |  ETA: 0:00:32\u001b[39m\u001b[K"
     ]
    },
    {
     "name": "stdout",
     "output_type": "stream",
     "text": [
      "Average loss: 0.019551225218048786\n",
      "Epoch: 10\n"
     ]
    },
    {
     "name": "stderr",
     "output_type": "stream",
     "text": [
      "\u001b[32mProgress:  50%|█████████████████████                    |  ETA: 0:00:29\u001b[39m\u001b[K"
     ]
    },
    {
     "name": "stdout",
     "output_type": "stream",
     "text": [
      "Average loss: 0.01613447680302197\n",
      "Epoch: 11"
     ]
    },
    {
     "name": "stderr",
     "output_type": "stream",
     "text": [
      "\u001b[32mProgress:  55%|███████████████████████                  |  ETA: 0:00:27\u001b[39m\u001b[K"
     ]
    },
    {
     "name": "stdout",
     "output_type": "stream",
     "text": [
      "\n",
      "Average loss: 0.012646460618580265\n",
      "Epoch: 12\n"
     ]
    },
    {
     "name": "stderr",
     "output_type": "stream",
     "text": [
      "\u001b[32mProgress:  60%|█████████████████████████                |  ETA: 0:00:24\u001b[39m\u001b[K"
     ]
    },
    {
     "name": "stdout",
     "output_type": "stream",
     "text": [
      "Average loss: 0.010981153934590596\n",
      "Epoch: 13\n"
     ]
    },
    {
     "name": "stderr",
     "output_type": "stream",
     "text": [
      "\u001b[32mProgress:  65%|███████████████████████████              |  ETA: 0:00:21\u001b[39m\u001b[K"
     ]
    },
    {
     "name": "stdout",
     "output_type": "stream",
     "text": [
      "Average loss: 0.010183206647225598\n",
      "Epoch: 14"
     ]
    },
    {
     "name": "stderr",
     "output_type": "stream",
     "text": [
      "\u001b[32mProgress:  70%|█████████████████████████████            |  ETA: 0:00:18\u001b[39m\u001b[K"
     ]
    },
    {
     "name": "stdout",
     "output_type": "stream",
     "text": [
      "\n",
      "Average loss: 0.009970972071788856\n",
      "Epoch: 15\n"
     ]
    },
    {
     "name": "stderr",
     "output_type": "stream",
     "text": [
      "\u001b[32mProgress:  75%|███████████████████████████████          |  ETA: 0:00:15\u001b[39m\u001b[K"
     ]
    },
    {
     "name": "stdout",
     "output_type": "stream",
     "text": [
      "Average loss: 0.007873268117858545\n",
      "Epoch: 16"
     ]
    },
    {
     "name": "stderr",
     "output_type": "stream",
     "text": [
      "\u001b[32mProgress:  80%|█████████████████████████████████        |  ETA: 0:00:12\u001b[39m\u001b[K"
     ]
    },
    {
     "name": "stdout",
     "output_type": "stream",
     "text": [
      "\n",
      "Average loss: 0.0070277909900500765\n",
      "Epoch: 17\n"
     ]
    },
    {
     "name": "stderr",
     "output_type": "stream",
     "text": [
      "\u001b[32mProgress:  85%|███████████████████████████████████      |  ETA: 0:00:09\u001b[39m\u001b[K"
     ]
    },
    {
     "name": "stdout",
     "output_type": "stream",
     "text": [
      "Average loss: 0.006520383232795454\n"
     ]
    },
    {
     "name": "stderr",
     "output_type": "stream",
     "text": [
      "\u001b[32mProgress:  90%|█████████████████████████████████████    |  ETA: 0:00:06\u001b[39m\u001b[K"
     ]
    },
    {
     "name": "stdout",
     "output_type": "stream",
     "text": [
      "Epoch: 18\n",
      "Average loss: 0.005922141496197583\n",
      "Epoch: 19\n"
     ]
    },
    {
     "name": "stderr",
     "output_type": "stream",
     "text": [
      "\u001b[32mProgress:  95%|███████████████████████████████████████  |  ETA: 0:00:03\u001b[39m\u001b[K"
     ]
    },
    {
     "name": "stdout",
     "output_type": "stream",
     "text": [
      "Average loss: 0.00508298921364955\n",
      "Epoch: 20\n"
     ]
    },
    {
     "name": "stderr",
     "output_type": "stream",
     "text": [
      "\u001b[32mProgress: 100%|█████████████████████████████████████████| Time: 0:00:58\u001b[39m\u001b[K\n"
     ]
    },
    {
     "name": "stdout",
     "output_type": "stream",
     "text": [
      "Average loss: 0.005102681703035765\n"
     ]
    },
    {
     "data": {
      "text/plain": [
       "20-element Vector{Any}:\n",
       " 0.2664747898076971\n",
       " 0.11247080943832795\n",
       " 0.07677857563719154\n",
       " 0.057400221182468035\n",
       " 0.045064044724684206\n",
       " 0.03461133318341648\n",
       " 0.027293429097998888\n",
       " 0.02283325185441645\n",
       " 0.019551225218048786\n",
       " 0.01613447680302197\n",
       " 0.012646460618580265\n",
       " 0.010981153934590596\n",
       " 0.010183206647225598\n",
       " 0.009970972071788856\n",
       " 0.007873268117858545\n",
       " 0.0070277909900500765\n",
       " 0.006520383232795454\n",
       " 0.005922141496197583\n",
       " 0.00508298921364955\n",
       " 0.005102681703035765"
      ]
     },
     "metadata": {},
     "output_type": "display_data"
    }
   ],
   "source": [
    "include(\"../utils/train.jl\")\n",
    "\n",
    "vanilla_losses = vanilla_train(model, loss, opt, x_train, y_train, epochs, batch_size, 0, 9)"
   ]
  },
  {
   "cell_type": "markdown",
   "metadata": {},
   "source": [
    "##### Adversarial training: PGD with epsilon 0.3 and 40 iterations of 0.01 step size"
   ]
  },
  {
   "cell_type": "code",
   "execution_count": 190,
   "metadata": {},
   "outputs": [
    {
     "name": "stdout",
     "output_type": "stream",
     "text": [
      "Epoch: 1\n",
      "Average loss: 2.8302430718739826\n",
      "Epoch: 2"
     ]
    },
    {
     "name": "stderr",
     "output_type": "stream",
     "text": [
      "\u001b[32mProgress:  10%|█████                                    |  ETA: 0:11:50\u001b[39m\u001b[K"
     ]
    },
    {
     "name": "stdout",
     "output_type": "stream",
     "text": [
      "\n",
      "Average loss: 2.3435378896077474\n",
      "Epoch: 3\n"
     ]
    },
    {
     "name": "stderr",
     "output_type": "stream",
     "text": [
      "\u001b[32mProgress:  15%|███████                                  |  ETA: 0:11:07\u001b[39m\u001b[K"
     ]
    },
    {
     "name": "stdout",
     "output_type": "stream",
     "text": [
      "Average loss: 2.208391620953878\n",
      "Epoch: 4\n"
     ]
    },
    {
     "name": "stderr",
     "output_type": "stream",
     "text": [
      "\u001b[32mProgress:  20%|█████████                                |  ETA: 0:10:25\u001b[39m\u001b[K"
     ]
    },
    {
     "name": "stdout",
     "output_type": "stream",
     "text": [
      "Average loss: 2.11879963499705\n",
      "Epoch: 5"
     ]
    },
    {
     "name": "stderr",
     "output_type": "stream",
     "text": [
      "\u001b[32mProgress:  25%|███████████                              |  ETA: 0:09:41\u001b[39m\u001b[K"
     ]
    },
    {
     "name": "stdout",
     "output_type": "stream",
     "text": [
      "\n",
      "Average loss: 2.0662906029383343\n",
      "Epoch: 6"
     ]
    },
    {
     "name": "stderr",
     "output_type": "stream",
     "text": [
      "\u001b[32mProgress:  30%|█████████████                            |  ETA: 0:09:01\u001b[39m\u001b[K"
     ]
    },
    {
     "name": "stdout",
     "output_type": "stream",
     "text": [
      "\n",
      "Average loss: 2.0325127106348675\n",
      "Epoch: 7"
     ]
    },
    {
     "name": "stderr",
     "output_type": "stream",
     "text": [
      "\u001b[32mProgress:  35%|███████████████                          |  ETA: 0:08:21\u001b[39m\u001b[K"
     ]
    },
    {
     "name": "stdout",
     "output_type": "stream",
     "text": [
      "\n",
      "Average loss: 2.0012281933466594\n",
      "Epoch: 8\n"
     ]
    },
    {
     "name": "stderr",
     "output_type": "stream",
     "text": [
      "\u001b[32mProgress:  40%|█████████████████                        |  ETA: 0:07:44\u001b[39m\u001b[K"
     ]
    },
    {
     "name": "stdout",
     "output_type": "stream",
     "text": [
      "Average loss: 1.9752935245513916\n",
      "Epoch: 9\n"
     ]
    },
    {
     "name": "stderr",
     "output_type": "stream",
     "text": [
      "\u001b[32mProgress:  45%|███████████████████                      |  ETA: 0:07:04\u001b[39m\u001b[K"
     ]
    },
    {
     "name": "stdout",
     "output_type": "stream",
     "text": [
      "Average loss: 1.9582456284840901\n",
      "Epoch: 10\n"
     ]
    },
    {
     "name": "stderr",
     "output_type": "stream",
     "text": [
      "\u001b[32mProgress:  50%|█████████████████████                    |  ETA: 0:06:25\u001b[39m\u001b[K"
     ]
    },
    {
     "name": "stdout",
     "output_type": "stream",
     "text": [
      "Average loss: 1.936105830637614\n",
      "Epoch: 11\n"
     ]
    },
    {
     "name": "stderr",
     "output_type": "stream",
     "text": [
      "\u001b[32mProgress:  55%|███████████████████████                  |  ETA: 0:05:45\u001b[39m\u001b[K"
     ]
    },
    {
     "name": "stdout",
     "output_type": "stream",
     "text": [
      "Average loss: 1.915768869336446\n",
      "Epoch: 12\n"
     ]
    },
    {
     "name": "stderr",
     "output_type": "stream",
     "text": [
      "\u001b[32mProgress:  60%|█████████████████████████                |  ETA: 0:05:08\u001b[39m\u001b[K"
     ]
    },
    {
     "name": "stdout",
     "output_type": "stream",
     "text": [
      "Average loss: 1.901880867322286\n",
      "Epoch: 13\n"
     ]
    },
    {
     "name": "stderr",
     "output_type": "stream",
     "text": [
      "\u001b[32mProgress:  65%|███████████████████████████              |  ETA: 0:04:29\u001b[39m\u001b[K"
     ]
    },
    {
     "name": "stdout",
     "output_type": "stream",
     "text": [
      "Average loss: 1.8864436416625976\n",
      "Epoch: 14"
     ]
    },
    {
     "name": "stderr",
     "output_type": "stream",
     "text": [
      "\u001b[32mProgress:  70%|█████████████████████████████            |  ETA: 0:03:51\u001b[39m\u001b[K"
     ]
    },
    {
     "name": "stdout",
     "output_type": "stream",
     "text": [
      "\n",
      "Average loss: 1.877781204287211\n",
      "Epoch: 15"
     ]
    },
    {
     "name": "stderr",
     "output_type": "stream",
     "text": [
      "\u001b[32mProgress:  75%|███████████████████████████████          |  ETA: 0:03:12\u001b[39m\u001b[K"
     ]
    },
    {
     "name": "stdout",
     "output_type": "stream",
     "text": [
      "\n",
      "Average loss: 1.8674923355738322\n",
      "Epoch: 16"
     ]
    },
    {
     "name": "stderr",
     "output_type": "stream",
     "text": [
      "\u001b[32mProgress:  80%|█████████████████████████████████        |  ETA: 0:02:33\u001b[39m\u001b[K"
     ]
    },
    {
     "name": "stdout",
     "output_type": "stream",
     "text": [
      "\n",
      "Average loss: 1.8611349582036336\n",
      "Epoch: 17"
     ]
    },
    {
     "name": "stderr",
     "output_type": "stream",
     "text": [
      "\u001b[32mProgress:  85%|███████████████████████████████████      |  ETA: 0:01:55\u001b[39m\u001b[K"
     ]
    },
    {
     "name": "stdout",
     "output_type": "stream",
     "text": [
      "\n",
      "Average loss: 1.853138351949056\n",
      "Epoch: 18"
     ]
    },
    {
     "name": "stderr",
     "output_type": "stream",
     "text": [
      "\u001b[32mProgress:  90%|█████████████████████████████████████    |  ETA: 0:01:17\u001b[39m\u001b[K"
     ]
    },
    {
     "name": "stdout",
     "output_type": "stream",
     "text": [
      "\n",
      "Average loss: 1.849529711405436\n",
      "Epoch: 19\n"
     ]
    },
    {
     "name": "stderr",
     "output_type": "stream",
     "text": [
      "\u001b[32mProgress:  95%|███████████████████████████████████████  |  ETA: 0:00:38\u001b[39m\u001b[K"
     ]
    },
    {
     "name": "stdout",
     "output_type": "stream",
     "text": [
      "Average loss: 1.8464858843485514\n",
      "Epoch: 20\n"
     ]
    },
    {
     "name": "stderr",
     "output_type": "stream",
     "text": [
      "\u001b[32mProgress: 100%|█████████████████████████████████████████| Time: 0:12:47\u001b[39m\u001b[K\n"
     ]
    },
    {
     "name": "stdout",
     "output_type": "stream",
     "text": [
      "Average loss: 1.8399284135182699\n"
     ]
    },
    {
     "data": {
      "text/plain": [
       "20-element Vector{Any}:\n",
       " 2.8302430718739826\n",
       " 2.3435378896077474\n",
       " 2.208391620953878\n",
       " 2.11879963499705\n",
       " 2.0662906029383343\n",
       " 2.0325127106348675\n",
       " 2.0012281933466594\n",
       " 1.9752935245513916\n",
       " 1.9582456284840901\n",
       " 1.936105830637614\n",
       " 1.915768869336446\n",
       " 1.901880867322286\n",
       " 1.8864436416625976\n",
       " 1.877781204287211\n",
       " 1.8674923355738322\n",
       " 1.8611349582036336\n",
       " 1.853138351949056\n",
       " 1.849529711405436\n",
       " 1.8464858843485514\n",
       " 1.8399284135182699"
      ]
     },
     "metadata": {},
     "output_type": "display_data"
    }
   ],
   "source": [
    "include(\"../utils/train.jl\")\n",
    "\n",
    "adversarial_losses_strong = adversarial_train(adv_pgd_strong, loss, opt, x_train, y_train, epochs, batch_size, PGD, 0, 9, 0.3; attack_method=:PGD, iterations=40, step_size=0.01, clamp_range=clamp_range)"
   ]
  },
  {
   "cell_type": "markdown",
   "metadata": {},
   "source": [
    "##### Adversarial training: PGD with epsilon 0.1 and 13 iterations of 0.01 step size"
   ]
  },
  {
   "cell_type": "code",
   "execution_count": 193,
   "metadata": {},
   "outputs": [
    {
     "name": "stdout",
     "output_type": "stream",
     "text": [
      "Epoch: 1\n",
      "Average loss: 1.0305775723218917\n",
      "Epoch: 2\n"
     ]
    },
    {
     "name": "stderr",
     "output_type": "stream",
     "text": [
      "\u001b[32mProgress:  10%|█████                                    |  ETA: 0:04:10\u001b[39m\u001b[K"
     ]
    },
    {
     "name": "stdout",
     "output_type": "stream",
     "text": [
      "Average loss: 0.5794974470456441\n",
      "Epoch: 3\n"
     ]
    },
    {
     "name": "stderr",
     "output_type": "stream",
     "text": [
      "\u001b[32mProgress:  15%|███████                                  |  ETA: 0:03:58\u001b[39m\u001b[K"
     ]
    },
    {
     "name": "stdout",
     "output_type": "stream",
     "text": [
      "Average loss: 0.4691715145190557\n",
      "Epoch: 4\n"
     ]
    },
    {
     "name": "stderr",
     "output_type": "stream",
     "text": [
      "\u001b[32mProgress:  20%|█████████                                |  ETA: 0:03:45\u001b[39m\u001b[K"
     ]
    },
    {
     "name": "stdout",
     "output_type": "stream",
     "text": [
      "Average loss: 0.4123083698272705\n",
      "Epoch: 5\n"
     ]
    },
    {
     "name": "stderr",
     "output_type": "stream",
     "text": [
      "\u001b[32mProgress:  25%|███████████                              |  ETA: 0:03:29\u001b[39m\u001b[K"
     ]
    },
    {
     "name": "stdout",
     "output_type": "stream",
     "text": [
      "Average loss: 0.3773918439924717\n",
      "Epoch: 6\n"
     ]
    },
    {
     "name": "stderr",
     "output_type": "stream",
     "text": [
      "\u001b[32mProgress:  30%|█████████████                            |  ETA: 0:03:14\u001b[39m\u001b[K"
     ]
    },
    {
     "name": "stdout",
     "output_type": "stream",
     "text": [
      "Average loss: 0.3524019051214059\n",
      "Epoch: 7"
     ]
    },
    {
     "name": "stderr",
     "output_type": "stream",
     "text": [
      "\u001b[32mProgress:  35%|███████████████                          |  ETA: 0:02:59\u001b[39m\u001b[K"
     ]
    },
    {
     "name": "stdout",
     "output_type": "stream",
     "text": [
      "\n",
      "Average loss: 0.33148650042514005\n",
      "Epoch: 8\n"
     ]
    },
    {
     "name": "stderr",
     "output_type": "stream",
     "text": [
      "\u001b[32mProgress:  40%|█████████████████                        |  ETA: 0:02:44\u001b[39m\u001b[K"
     ]
    },
    {
     "name": "stdout",
     "output_type": "stream",
     "text": [
      "Average loss: 0.31551023511687915\n",
      "Epoch: 9\n"
     ]
    },
    {
     "name": "stderr",
     "output_type": "stream",
     "text": [
      "\u001b[32mProgress:  45%|███████████████████                      |  ETA: 0:02:31\u001b[39m\u001b[K"
     ]
    },
    {
     "name": "stdout",
     "output_type": "stream",
     "text": [
      "Average loss: 0.29907464048465093\n",
      "Epoch: 10\n"
     ]
    },
    {
     "name": "stderr",
     "output_type": "stream",
     "text": [
      "\u001b[32mProgress:  50%|█████████████████████                    |  ETA: 0:02:18\u001b[39m\u001b[K"
     ]
    },
    {
     "name": "stdout",
     "output_type": "stream",
     "text": [
      "Average loss: 0.29073047401706376\n",
      "Epoch: 11\n"
     ]
    },
    {
     "name": "stderr",
     "output_type": "stream",
     "text": [
      "\u001b[32mProgress:  55%|███████████████████████                  |  ETA: 0:02:04\u001b[39m\u001b[K"
     ]
    },
    {
     "name": "stdout",
     "output_type": "stream",
     "text": [
      "Average loss: 0.28037330766916274\n",
      "Epoch: 12\n"
     ]
    },
    {
     "name": "stderr",
     "output_type": "stream",
     "text": [
      "\u001b[32mProgress:  60%|█████████████████████████                |  ETA: 0:01:50\u001b[39m\u001b[K"
     ]
    },
    {
     "name": "stdout",
     "output_type": "stream",
     "text": [
      "Average loss: 0.27353364822119475\n",
      "Epoch: 13\n"
     ]
    },
    {
     "name": "stderr",
     "output_type": "stream",
     "text": [
      "\u001b[32mProgress:  65%|███████████████████████████              |  ETA: 0:01:35\u001b[39m\u001b[K"
     ]
    },
    {
     "name": "stdout",
     "output_type": "stream",
     "text": [
      "Average loss: 0.267746887708207\n",
      "Epoch: 14\n"
     ]
    },
    {
     "name": "stderr",
     "output_type": "stream",
     "text": [
      "\u001b[32mProgress:  70%|█████████████████████████████            |  ETA: 0:01:21\u001b[39m\u001b[K"
     ]
    },
    {
     "name": "stdout",
     "output_type": "stream",
     "text": [
      "Average loss: 0.2621578505799174\n",
      "Epoch: 15\n"
     ]
    },
    {
     "name": "stderr",
     "output_type": "stream",
     "text": [
      "\u001b[32mProgress:  75%|███████████████████████████████          |  ETA: 0:01:08\u001b[39m\u001b[K"
     ]
    },
    {
     "name": "stdout",
     "output_type": "stream",
     "text": [
      "Average loss: 0.2555314412077268\n",
      "Epoch: 16\n"
     ]
    },
    {
     "name": "stderr",
     "output_type": "stream",
     "text": [
      "\u001b[32mProgress:  80%|█████████████████████████████████        |  ETA: 0:00:54\u001b[39m\u001b[K"
     ]
    },
    {
     "name": "stdout",
     "output_type": "stream",
     "text": [
      "Average loss: 0.251343702677389\n",
      "Epoch: 17\n"
     ]
    },
    {
     "name": "stderr",
     "output_type": "stream",
     "text": [
      "\u001b[32mProgress:  85%|███████████████████████████████████      |  ETA: 0:00:40\u001b[39m\u001b[K"
     ]
    },
    {
     "name": "stdout",
     "output_type": "stream",
     "text": [
      "Average loss: 0.2475958930020531\n",
      "Epoch: 18\n"
     ]
    },
    {
     "name": "stderr",
     "output_type": "stream",
     "text": [
      "\u001b[32mProgress:  90%|█████████████████████████████████████    |  ETA: 0:00:27\u001b[39m\u001b[K"
     ]
    },
    {
     "name": "stdout",
     "output_type": "stream",
     "text": [
      "Average loss: 0.2438068842748801\n",
      "Epoch: 19\n"
     ]
    },
    {
     "name": "stderr",
     "output_type": "stream",
     "text": [
      "\u001b[32mProgress:  95%|███████████████████████████████████████  |  ETA: 0:00:13\u001b[39m\u001b[K"
     ]
    },
    {
     "name": "stdout",
     "output_type": "stream",
     "text": [
      "Average loss: 0.23864472569450737\n",
      "Epoch: 20\n"
     ]
    },
    {
     "name": "stderr",
     "output_type": "stream",
     "text": [
      "\u001b[32mProgress: 100%|█████████████████████████████████████████| Time: 0:04:26\u001b[39m\u001b[K\n"
     ]
    },
    {
     "name": "stdout",
     "output_type": "stream",
     "text": [
      "Average loss: 0.2383509834761421\n"
     ]
    },
    {
     "data": {
      "text/plain": [
       "20-element Vector{Any}:\n",
       " 1.0305775723218917\n",
       " 0.5794974470456441\n",
       " 0.4691715145190557\n",
       " 0.4123083698272705\n",
       " 0.3773918439924717\n",
       " 0.3524019051214059\n",
       " 0.33148650042514005\n",
       " 0.31551023511687915\n",
       " 0.29907464048465093\n",
       " 0.29073047401706376\n",
       " 0.28037330766916274\n",
       " 0.27353364822119475\n",
       " 0.267746887708207\n",
       " 0.2621578505799174\n",
       " 0.2555314412077268\n",
       " 0.251343702677389\n",
       " 0.2475958930020531\n",
       " 0.2438068842748801\n",
       " 0.23864472569450737\n",
       " 0.2383509834761421"
      ]
     },
     "metadata": {},
     "output_type": "display_data"
    }
   ],
   "source": [
    "adversarial_losses_medium = adversarial_train(adv_pgd_medium, loss, opt, x_train, y_train, epochs, batch_size, PGD, 0, 9, 0.1; attack_method=:PGD, iterations=13, step_size=0.01, clamp_range=clamp_range)"
   ]
  },
  {
   "cell_type": "markdown",
   "metadata": {},
   "source": [
    "#### Adversarial training: PGD with epsilon 0.05 and 7 iterations of 0.01 step size"
   ]
  },
  {
   "cell_type": "code",
   "execution_count": 194,
   "metadata": {},
   "outputs": [
    {
     "name": "stdout",
     "output_type": "stream",
     "text": [
      "Epoch: 1\n",
      "Average loss: 0.6616013310869535\n",
      "Epoch: 2\n"
     ]
    },
    {
     "name": "stderr",
     "output_type": "stream",
     "text": [
      "\u001b[32mProgress:  10%|█████                                    |  ETA: 0:02:06\u001b[39m\u001b[K"
     ]
    },
    {
     "name": "stdout",
     "output_type": "stream",
     "text": [
      "Average loss: 0.30470944404204686\n",
      "Epoch: 3\n"
     ]
    },
    {
     "name": "stderr",
     "output_type": "stream",
     "text": [
      "\u001b[32mProgress:  15%|███████                                  |  ETA: 0:02:00\u001b[39m\u001b[K"
     ]
    },
    {
     "name": "stdout",
     "output_type": "stream",
     "text": [
      "Average loss: 0.2169293404345711\n",
      "Epoch: 4\n"
     ]
    },
    {
     "name": "stderr",
     "output_type": "stream",
     "text": [
      "\u001b[32mProgress:  20%|█████████                                |  ETA: 0:01:58\u001b[39m\u001b[K"
     ]
    },
    {
     "name": "stdout",
     "output_type": "stream",
     "text": [
      "Average loss: 0.17630164924065272\n",
      "Epoch: 5\n"
     ]
    },
    {
     "name": "stderr",
     "output_type": "stream",
     "text": [
      "\u001b[32mProgress:  25%|███████████                              |  ETA: 0:01:54\u001b[39m\u001b[K"
     ]
    },
    {
     "name": "stdout",
     "output_type": "stream",
     "text": [
      "Average loss: 0.1470994167027374\n",
      "Epoch: 6\n"
     ]
    },
    {
     "name": "stderr",
     "output_type": "stream",
     "text": [
      "\u001b[32mProgress:  30%|█████████████                            |  ETA: 0:01:49\u001b[39m\u001b[K"
     ]
    },
    {
     "name": "stdout",
     "output_type": "stream",
     "text": [
      "Average loss: 0.12627153066582977\n",
      "Epoch: 7\n"
     ]
    },
    {
     "name": "stderr",
     "output_type": "stream",
     "text": [
      "\u001b[32mProgress:  35%|███████████████                          |  ETA: 0:01:41\u001b[39m\u001b[K"
     ]
    },
    {
     "name": "stdout",
     "output_type": "stream",
     "text": [
      "Average loss: 0.10835899102594704\n",
      "Epoch: 8"
     ]
    },
    {
     "name": "stderr",
     "output_type": "stream",
     "text": [
      "\u001b[32mProgress:  40%|█████████████████                        |  ETA: 0:01:32\u001b[39m\u001b[K"
     ]
    },
    {
     "name": "stdout",
     "output_type": "stream",
     "text": [
      "\n",
      "Average loss: 0.09596296190644305\n",
      "Epoch: 9\n"
     ]
    },
    {
     "name": "stderr",
     "output_type": "stream",
     "text": [
      "\u001b[32mProgress:  45%|███████████████████                      |  ETA: 0:01:24\u001b[39m\u001b[K"
     ]
    },
    {
     "name": "stdout",
     "output_type": "stream",
     "text": [
      "Average loss: 0.08414224446446945\n",
      "Epoch: 10\n"
     ]
    },
    {
     "name": "stderr",
     "output_type": "stream",
     "text": [
      "\u001b[32mProgress:  50%|█████████████████████                    |  ETA: 0:01:16\u001b[39m\u001b[K"
     ]
    },
    {
     "name": "stdout",
     "output_type": "stream",
     "text": [
      "Average loss: 0.07378452579360455\n",
      "Epoch: 11\n"
     ]
    },
    {
     "name": "stderr",
     "output_type": "stream",
     "text": [
      "\u001b[32mProgress:  55%|███████████████████████                  |  ETA: 0:01:08\u001b[39m\u001b[K"
     ]
    },
    {
     "name": "stdout",
     "output_type": "stream",
     "text": [
      "Average loss: 0.06658472979029174\n",
      "Epoch: 12\n"
     ]
    },
    {
     "name": "stderr",
     "output_type": "stream",
     "text": [
      "\u001b[32mProgress:  60%|█████████████████████████                |  ETA: 0:01:00\u001b[39m\u001b[K"
     ]
    },
    {
     "name": "stdout",
     "output_type": "stream",
     "text": [
      "Average loss: 0.0603482985429427\n",
      "Epoch: 13"
     ]
    },
    {
     "name": "stderr",
     "output_type": "stream",
     "text": [
      "\u001b[32mProgress:  65%|███████████████████████████              |  ETA: 0:00:52\u001b[39m\u001b[K"
     ]
    },
    {
     "name": "stdout",
     "output_type": "stream",
     "text": [
      "\n",
      "Average loss: 0.055758422173916675\n",
      "Epoch: 14\n"
     ]
    },
    {
     "name": "stderr",
     "output_type": "stream",
     "text": [
      "\u001b[32mProgress:  70%|█████████████████████████████            |  ETA: 0:00:44\u001b[39m\u001b[K"
     ]
    },
    {
     "name": "stdout",
     "output_type": "stream",
     "text": [
      "Average loss: 0.0502443035332486\n",
      "Epoch: 15"
     ]
    },
    {
     "name": "stderr",
     "output_type": "stream",
     "text": [
      "\u001b[32mProgress:  75%|███████████████████████████████          |  ETA: 0:00:37\u001b[39m\u001b[K"
     ]
    },
    {
     "name": "stdout",
     "output_type": "stream",
     "text": [
      "\n",
      "Average loss: 0.044365901503556716\n",
      "Epoch: 16\n"
     ]
    },
    {
     "name": "stderr",
     "output_type": "stream",
     "text": [
      "\u001b[32mProgress:  80%|█████████████████████████████████        |  ETA: 0:00:29\u001b[39m\u001b[K"
     ]
    },
    {
     "name": "stdout",
     "output_type": "stream",
     "text": [
      "Average loss: 0.040785148941158936\n",
      "Epoch: 17\n"
     ]
    },
    {
     "name": "stderr",
     "output_type": "stream",
     "text": [
      "\u001b[32mProgress:  85%|███████████████████████████████████      |  ETA: 0:00:22\u001b[39m\u001b[K"
     ]
    },
    {
     "name": "stdout",
     "output_type": "stream",
     "text": [
      "Average loss: 0.039063792017727\n",
      "Epoch: 18\n"
     ]
    },
    {
     "name": "stderr",
     "output_type": "stream",
     "text": [
      "\u001b[32mProgress:  90%|█████████████████████████████████████    |  ETA: 0:00:15\u001b[39m\u001b[K"
     ]
    },
    {
     "name": "stdout",
     "output_type": "stream",
     "text": [
      "Average loss: 0.037283637624491044\n"
     ]
    },
    {
     "name": "stderr",
     "output_type": "stream",
     "text": [
      "\u001b[32mProgress:  95%|███████████████████████████████████████  |  ETA: 0:00:07\u001b[39m\u001b[K"
     ]
    },
    {
     "name": "stdout",
     "output_type": "stream",
     "text": [
      "Epoch: 19\n",
      "Average loss: 0.0336300030068635\n",
      "Epoch: 20\n"
     ]
    },
    {
     "name": "stderr",
     "output_type": "stream",
     "text": [
      "\u001b[32mProgress: 100%|█████████████████████████████████████████| Time: 0:02:24\u001b[39m\u001b[K\n"
     ]
    },
    {
     "name": "stdout",
     "output_type": "stream",
     "text": [
      "Average loss: 0.03165700148284765\n"
     ]
    },
    {
     "data": {
      "text/plain": [
       "20-element Vector{Any}:\n",
       " 0.6616013310869535\n",
       " 0.30470944404204686\n",
       " 0.2169293404345711\n",
       " 0.17630164924065272\n",
       " 0.1470994167027374\n",
       " 0.12627153066582977\n",
       " 0.10835899102594704\n",
       " 0.09596296190644305\n",
       " 0.08414224446446945\n",
       " 0.07378452579360455\n",
       " 0.06658472979029174\n",
       " 0.0603482985429427\n",
       " 0.055758422173916675\n",
       " 0.0502443035332486\n",
       " 0.044365901503556716\n",
       " 0.040785148941158936\n",
       " 0.039063792017727\n",
       " 0.037283637624491044\n",
       " 0.0336300030068635\n",
       " 0.03165700148284765"
      ]
     },
     "metadata": {},
     "output_type": "display_data"
    }
   ],
   "source": [
    "adversarial_losses_weak = adversarial_train(adv_pgd_weak, loss, opt, x_train, y_train, epochs, batch_size, PGD, 0, 9, 0.05; attack_method=:PGD, iterations=7, step_size=0.01, clamp_range=clamp_range)"
   ]
  },
  {
   "cell_type": "markdown",
   "metadata": {},
   "source": [
    "### Plotting random image (adversarial example and clean)"
   ]
  },
  {
   "cell_type": "markdown",
   "metadata": {},
   "source": [
    "#### Clean trained model"
   ]
  },
  {
   "cell_type": "code",
   "execution_count": 195,
   "metadata": {},
   "outputs": [
    {
     "name": "stdout",
     "output_type": "stream",
     "text": [
      "Digit predicted by the model for the clean image: 3\n",
      "Digit predicted by the model for the \n",
      "    adversarial image: 5\n",
      "True label: 3\n"
     ]
    },
    {
     "data": {
      "image/png": "[encoded data removed]",
      "image/svg+xml": [
       "<?xml version=\"1.0\" encoding=\"utf-8\"?>\n",
       "<svg xmlns=\"http://www.w3.org/2000/svg\" xmlns:xlink=\"http://www.w3.org/1999/xlink\" width=\"600\" height=\"400\" viewBox=\"0 0 2400 1600\">\n",
       "<defs>\n",
       "  <clipPath id=\"clip580\">\n",
       "    <rect x=\"0\" y=\"0\" width=\"2400\" height=\"1600\"/>\n",
       "  </clipPath>\n",
       "</defs>\n",
       "<path clip-path=\"url(#clip580)\" d=\"M0 1600 L2400 1600 L2400 0 L0 0  Z\" fill=\"#ffffff\" fill-rule=\"evenodd\" fill-opacity=\"1\"/>\n",
       "<defs>\n",
       "  <clipPath id=\"clip581\">\n",
       "    <rect x=\"480\" y=\"0\" width=\"1681\" height=\"1600\"/>\n",
       "  </clipPath>\n",
       "</defs>\n",
       "<path clip-path=\"url(#clip580)\" d=\"M140.696 1486.45 L1152.76 1486.45 L1152.76 123.472 L140.696 123.472  Z\" fill=\"#ffffff\" fill-rule=\"evenodd\" fill-opacity=\"1\"/>\n",
       "<defs>\n",
       "  <clipPath id=\"clip582\">\n",
       "    <rect x=\"140\" y=\"123\" width=\"1013\" height=\"1364\"/>\n",
       "  </clipPath>\n",
       "</defs>\n",
       "<polyline clip-path=\"url(#clip582)\" style=\"stroke:#000000; stroke-linecap:round; stroke-linejoin:round; stroke-width:2; stroke-opacity:0.1; fill:none\" points=\"303.348,1486.45 303.348,123.472 \"/>\n",
       "<polyline clip-path=\"url(#clip582)\" style=\"stroke:#000000; stroke-linecap:round; stroke-linejoin:round; stroke-width:2; stroke-opacity:0.1; fill:none\" points=\"484.073,1486.45 484.073,123.472 \"/>\n",
       "<polyline clip-path=\"url(#clip582)\" style=\"stroke:#000000; stroke-linecap:round; stroke-linejoin:round; stroke-width:2; stroke-opacity:0.1; fill:none\" points=\"664.798,1486.45 664.798,123.472 \"/>\n",
       "<polyline clip-path=\"url(#clip582)\" style=\"stroke:#000000; stroke-linecap:round; stroke-linejoin:round; stroke-width:2; stroke-opacity:0.1; fill:none\" points=\"845.523,1486.45 845.523,123.472 \"/>\n",
       "<polyline clip-path=\"url(#clip582)\" style=\"stroke:#000000; stroke-linecap:round; stroke-linejoin:round; stroke-width:2; stroke-opacity:0.1; fill:none\" points=\"1026.25,1486.45 1026.25,123.472 \"/>\n",
       "<polyline clip-path=\"url(#clip582)\" style=\"stroke:#000000; stroke-linecap:round; stroke-linejoin:round; stroke-width:2; stroke-opacity:0.1; fill:none\" points=\"140.696,1267.4 1152.76,1267.4 \"/>\n",
       "<polyline clip-path=\"url(#clip582)\" style=\"stroke:#000000; stroke-linecap:round; stroke-linejoin:round; stroke-width:2; stroke-opacity:0.1; fill:none\" points=\"140.696,1024.01 1152.76,1024.01 \"/>\n",
       "<polyline clip-path=\"url(#clip582)\" style=\"stroke:#000000; stroke-linecap:round; stroke-linejoin:round; stroke-width:2; stroke-opacity:0.1; fill:none\" points=\"140.696,780.621 1152.76,780.621 \"/>\n",
       "<polyline clip-path=\"url(#clip582)\" style=\"stroke:#000000; stroke-linecap:round; stroke-linejoin:round; stroke-width:2; stroke-opacity:0.1; fill:none\" points=\"140.696,537.233 1152.76,537.233 \"/>\n",
       "<polyline clip-path=\"url(#clip582)\" style=\"stroke:#000000; stroke-linecap:round; stroke-linejoin:round; stroke-width:2; stroke-opacity:0.1; fill:none\" points=\"140.696,293.844 1152.76,293.844 \"/>\n",
       "<path clip-path=\"url(#clip580)\" d=\"M96.9573 20.1573 L85.8578 50.2555 L108.097 50.2555 L96.9573 20.1573 M92.3392 12.096 L101.616 12.096 L124.665 72.576 L116.159 72.576 L110.649 57.061 L83.3867 57.061 L77.8775 72.576 L69.2491 72.576 L92.3392 12.096 Z\" fill=\"#000000\" fill-rule=\"nonzero\" fill-opacity=\"1\" /><path clip-path=\"url(#clip580)\" d=\"M161.569 34.0924 L161.569 9.54393 L169.023 9.54393 L169.023 72.576 L161.569 72.576 L161.569 65.7705 Q159.22 69.8214 155.614 71.8063 Q152.05 73.7508 147.026 73.7508 Q138.803 73.7508 133.618 67.1883 Q128.473 60.6258 128.473 49.9314 Q128.473 39.2371 133.618 32.6746 Q138.803 26.1121 147.026 26.1121 Q152.05 26.1121 155.614 28.0971 Q159.22 30.0415 161.569 34.0924 M136.17 49.9314 Q136.17 58.1548 139.532 62.8538 Q142.935 67.5124 148.849 67.5124 Q154.764 67.5124 158.166 62.8538 Q161.569 58.1548 161.569 49.9314 Q161.569 41.7081 158.166 37.0496 Q154.764 32.3505 148.849 32.3505 Q142.935 32.3505 139.532 37.0496 Q136.17 41.7081 136.17 49.9314 Z\" fill=\"#000000\" fill-rule=\"nonzero\" fill-opacity=\"1\" /><path clip-path=\"url(#clip580)\" d=\"M179.029 27.2059 L186.928 27.2059 L201.106 65.2844 L215.284 27.2059 L223.183 27.2059 L206.17 72.576 L196.042 72.576 L179.029 27.2059 Z\" fill=\"#000000\" fill-rule=\"nonzero\" fill-opacity=\"1\" /><path clip-path=\"url(#clip580)\" d=\"M272.28 48.0275 L272.28 51.6733 L238.01 51.6733 Q238.496 59.3701 242.628 63.421 Q246.8 67.4314 254.213 67.4314 Q258.507 67.4314 262.518 66.3781 Q266.569 65.3249 270.539 63.2184 L270.539 70.267 Q266.528 71.9684 262.315 72.8596 Q258.102 73.7508 253.768 73.7508 Q242.911 73.7508 236.551 67.4314 Q230.232 61.1119 230.232 50.3365 Q230.232 39.1965 236.227 32.6746 Q242.263 26.1121 252.471 26.1121 Q261.627 26.1121 266.933 32.0264 Q272.28 37.9003 272.28 48.0275 M264.827 45.84 Q264.746 39.7232 261.383 36.0774 Q258.062 32.4315 252.552 32.4315 Q246.314 32.4315 242.547 35.9558 Q238.82 39.4801 238.253 45.8805 L264.827 45.84 Z\" fill=\"#000000\" fill-rule=\"nonzero\" fill-opacity=\"1\" /><path clip-path=\"url(#clip580)\" d=\"M310.804 34.1734 Q309.549 33.4443 308.05 33.1202 Q306.592 32.7556 304.809 32.7556 Q298.49 32.7556 295.087 36.8875 Q291.725 40.9789 291.725 48.6757 L291.725 72.576 L284.231 72.576 L284.231 27.2059 L291.725 27.2059 L291.725 34.2544 Q294.074 30.1225 297.842 28.1376 Q301.609 26.1121 306.997 26.1121 Q307.766 26.1121 308.698 26.2337 Q309.63 26.3147 310.764 26.5172 L310.804 34.1734 Z\" fill=\"#000000\" fill-rule=\"nonzero\" fill-opacity=\"1\" /><path clip-path=\"url(#clip580)\" d=\"M347.546 28.5427 L347.546 35.5912 Q344.386 33.9709 340.984 33.1607 Q337.581 32.3505 333.935 32.3505 Q328.385 32.3505 325.59 34.0519 Q322.836 35.7533 322.836 39.156 Q322.836 41.7486 324.821 43.2475 Q326.806 44.7058 332.801 46.0426 L335.353 46.6097 Q343.293 48.3111 346.614 51.4303 Q349.977 54.509 349.977 60.0587 Q349.977 66.3781 344.954 70.0644 Q339.971 73.7508 331.221 73.7508 Q327.575 73.7508 323.605 73.0216 Q319.676 72.3329 315.301 70.9151 L315.301 63.2184 Q319.433 65.3654 323.443 66.4591 Q327.454 67.5124 331.383 67.5124 Q336.649 67.5124 339.485 65.73 Q342.321 63.9071 342.321 60.6258 Q342.321 57.5877 340.255 55.9673 Q338.229 54.3469 331.302 52.8481 L328.709 52.2405 Q321.782 50.7821 318.704 47.7845 Q315.625 44.7463 315.625 39.4801 Q315.625 33.0797 320.162 29.5959 Q324.699 26.1121 333.044 26.1121 Q337.176 26.1121 340.822 26.7198 Q344.468 27.3274 347.546 28.5427 Z\" fill=\"#000000\" fill-rule=\"nonzero\" fill-opacity=\"1\" /><path clip-path=\"url(#clip580)\" d=\"M382.465 49.7694 Q373.431 49.7694 369.948 51.8354 Q366.464 53.9013 366.464 58.8839 Q366.464 62.8538 369.056 65.2034 Q371.69 67.5124 376.186 67.5124 Q382.384 67.5124 386.111 63.1374 Q389.878 58.7219 389.878 51.4303 L389.878 49.7694 L382.465 49.7694 M397.332 46.6907 L397.332 72.576 L389.878 72.576 L389.878 65.6895 Q387.326 69.8214 383.518 71.8063 Q379.71 73.7508 374.201 73.7508 Q367.234 73.7508 363.102 69.8619 Q359.01 65.9325 359.01 59.3701 Q359.01 51.7138 364.114 47.825 Q369.259 43.9361 379.427 43.9361 L389.878 43.9361 L389.878 43.2069 Q389.878 38.0623 386.475 35.2672 Q383.113 32.4315 376.996 32.4315 Q373.107 32.4315 369.421 33.3632 Q365.735 34.295 362.332 36.1584 L362.332 29.2718 Q366.423 27.692 370.272 26.9223 Q374.12 26.1121 377.766 26.1121 Q387.61 26.1121 392.471 31.2163 Q397.332 36.3204 397.332 46.6907 Z\" fill=\"#000000\" fill-rule=\"nonzero\" fill-opacity=\"1\" /><path clip-path=\"url(#clip580)\" d=\"M438.975 34.1734 Q437.719 33.4443 436.22 33.1202 Q434.762 32.7556 432.98 32.7556 Q426.66 32.7556 423.258 36.8875 Q419.895 40.9789 419.895 48.6757 L419.895 72.576 L412.401 72.576 L412.401 27.2059 L419.895 27.2059 L419.895 34.2544 Q422.245 30.1225 426.012 28.1376 Q429.78 26.1121 435.167 26.1121 Q435.937 26.1121 436.869 26.2337 Q437.8 26.3147 438.935 26.5172 L438.975 34.1734 Z\" fill=\"#000000\" fill-rule=\"nonzero\" fill-opacity=\"1\" /><path clip-path=\"url(#clip580)\" d=\"M446.793 27.2059 L454.247 27.2059 L454.247 72.576 L446.793 72.576 L446.793 27.2059 M446.793 9.54393 L454.247 9.54393 L454.247 18.9825 L446.793 18.9825 L446.793 9.54393 Z\" fill=\"#000000\" fill-rule=\"nonzero\" fill-opacity=\"1\" /><path clip-path=\"url(#clip580)\" d=\"M490.462 49.7694 Q481.429 49.7694 477.945 51.8354 Q474.461 53.9013 474.461 58.8839 Q474.461 62.8538 477.054 65.2034 Q479.687 67.5124 484.183 67.5124 Q490.381 67.5124 494.108 63.1374 Q497.875 58.7219 497.875 51.4303 L497.875 49.7694 L490.462 49.7694 M505.329 46.6907 L505.329 72.576 L497.875 72.576 L497.875 65.6895 Q495.323 69.8214 491.515 71.8063 Q487.707 73.7508 482.198 73.7508 Q475.231 73.7508 471.099 69.8619 Q467.007 65.9325 467.007 59.3701 Q467.007 51.7138 472.111 47.825 Q477.256 43.9361 487.424 43.9361 L497.875 43.9361 L497.875 43.2069 Q497.875 38.0623 494.472 35.2672 Q491.11 32.4315 484.993 32.4315 Q481.105 32.4315 477.418 33.3632 Q473.732 34.295 470.329 36.1584 L470.329 29.2718 Q474.421 27.692 478.269 26.9223 Q482.117 26.1121 485.763 26.1121 Q495.607 26.1121 500.468 31.2163 Q505.329 36.3204 505.329 46.6907 Z\" fill=\"#000000\" fill-rule=\"nonzero\" fill-opacity=\"1\" /><path clip-path=\"url(#clip580)\" d=\"M520.682 9.54393 L528.136 9.54393 L528.136 72.576 L520.682 72.576 L520.682 9.54393 Z\" fill=\"#000000\" fill-rule=\"nonzero\" fill-opacity=\"1\" /><path clip-path=\"url(#clip580)\" d=\"M608.911 48.0275 L608.911 51.6733 L574.64 51.6733 Q575.126 59.3701 579.258 63.421 Q583.43 67.4314 590.844 67.4314 Q595.137 67.4314 599.148 66.3781 Q603.199 65.3249 607.169 63.2184 L607.169 70.267 Q603.158 71.9684 598.945 72.8596 Q594.732 73.7508 590.398 73.7508 Q579.541 73.7508 573.182 67.4314 Q566.862 61.1119 566.862 50.3365 Q566.862 39.1965 572.857 32.6746 Q578.893 26.1121 589.102 26.1121 Q598.257 26.1121 603.563 32.0264 Q608.911 37.9003 608.911 48.0275 M601.457 45.84 Q601.376 39.7232 598.014 36.0774 Q594.692 32.4315 589.183 32.4315 Q582.944 32.4315 579.177 35.9558 Q575.45 39.4801 574.883 45.8805 L601.457 45.84 Z\" fill=\"#000000\" fill-rule=\"nonzero\" fill-opacity=\"1\" /><path clip-path=\"url(#clip580)\" d=\"M657.4 27.2059 L640.994 49.2833 L658.251 72.576 L649.46 72.576 L636.254 54.752 L623.048 72.576 L614.258 72.576 L631.879 48.8377 L615.757 27.2059 L624.547 27.2059 L636.578 43.369 L648.609 27.2059 L657.4 27.2059 Z\" fill=\"#000000\" fill-rule=\"nonzero\" fill-opacity=\"1\" /><path clip-path=\"url(#clip580)\" d=\"M689.402 49.7694 Q680.368 49.7694 676.885 51.8354 Q673.401 53.9013 673.401 58.8839 Q673.401 62.8538 675.994 65.2034 Q678.627 67.5124 683.123 67.5124 Q689.321 67.5124 693.048 63.1374 Q696.815 58.7219 696.815 51.4303 L696.815 49.7694 L689.402 49.7694 M704.269 46.6907 L704.269 72.576 L696.815 72.576 L696.815 65.6895 Q694.263 69.8214 690.455 71.8063 Q686.647 73.7508 681.138 73.7508 Q674.171 73.7508 670.039 69.8619 Q665.947 65.9325 665.947 59.3701 Q665.947 51.7138 671.051 47.825 Q676.196 43.9361 686.364 43.9361 L696.815 43.9361 L696.815 43.2069 Q696.815 38.0623 693.412 35.2672 Q690.05 32.4315 683.933 32.4315 Q680.044 32.4315 676.358 33.3632 Q672.672 34.295 669.269 36.1584 L669.269 29.2718 Q673.36 27.692 677.209 26.9223 Q681.057 26.1121 684.703 26.1121 Q694.547 26.1121 699.408 31.2163 Q704.269 36.3204 704.269 46.6907 Z\" fill=\"#000000\" fill-rule=\"nonzero\" fill-opacity=\"1\" /><path clip-path=\"url(#clip580)\" d=\"M754.946 35.9153 Q757.741 30.8922 761.63 28.5022 Q765.518 26.1121 770.785 26.1121 Q777.874 26.1121 781.722 31.0947 Q785.57 36.0368 785.57 45.1919 L785.57 72.576 L778.076 72.576 L778.076 45.4349 Q778.076 38.913 775.767 35.7533 Q773.458 32.5936 768.719 32.5936 Q762.926 32.5936 759.564 36.4419 Q756.201 40.2903 756.201 46.9338 L756.201 72.576 L748.707 72.576 L748.707 45.4349 Q748.707 38.8725 746.398 35.7533 Q744.089 32.5936 739.269 32.5936 Q733.557 32.5936 730.195 36.4824 Q726.832 40.3308 726.832 46.9338 L726.832 72.576 L719.338 72.576 L719.338 27.2059 L726.832 27.2059 L726.832 34.2544 Q729.384 30.082 732.949 28.0971 Q736.514 26.1121 741.416 26.1121 Q746.358 26.1121 749.801 28.6237 Q753.285 31.1352 754.946 35.9153 Z\" fill=\"#000000\" fill-rule=\"nonzero\" fill-opacity=\"1\" /><path clip-path=\"url(#clip580)\" d=\"M807.648 65.7705 L807.648 89.8329 L800.154 89.8329 L800.154 27.2059 L807.648 27.2059 L807.648 34.0924 Q809.997 30.0415 813.562 28.0971 Q817.168 26.1121 822.15 26.1121 Q830.414 26.1121 835.559 32.6746 Q840.744 39.2371 840.744 49.9314 Q840.744 60.6258 835.559 67.1883 Q830.414 73.7508 822.15 73.7508 Q817.168 73.7508 813.562 71.8063 Q809.997 69.8214 807.648 65.7705 M833.007 49.9314 Q833.007 41.7081 829.604 37.0496 Q826.242 32.3505 820.327 32.3505 Q814.413 32.3505 811.01 37.0496 Q807.648 41.7081 807.648 49.9314 Q807.648 58.1548 811.01 62.8538 Q814.413 67.5124 820.327 67.5124 Q826.242 67.5124 829.604 62.8538 Q833.007 58.1548 833.007 49.9314 Z\" fill=\"#000000\" fill-rule=\"nonzero\" fill-opacity=\"1\" /><path clip-path=\"url(#clip580)\" d=\"M853.099 9.54393 L860.553 9.54393 L860.553 72.576 L853.099 72.576 L853.099 9.54393 Z\" fill=\"#000000\" fill-rule=\"nonzero\" fill-opacity=\"1\" /><path clip-path=\"url(#clip580)\" d=\"M914.956 48.0275 L914.956 51.6733 L880.686 51.6733 Q881.172 59.3701 885.304 63.421 Q889.476 67.4314 896.889 67.4314 Q901.183 67.4314 905.194 66.3781 Q909.245 65.3249 913.214 63.2184 L913.214 70.267 Q909.204 71.9684 904.991 72.8596 Q900.778 73.7508 896.444 73.7508 Q885.587 73.7508 879.227 67.4314 Q872.908 61.1119 872.908 50.3365 Q872.908 39.1965 878.903 32.6746 Q884.939 26.1121 895.147 26.1121 Q904.302 26.1121 909.609 32.0264 Q914.956 37.9003 914.956 48.0275 M907.503 45.84 Q907.422 39.7232 904.059 36.0774 Q900.738 32.4315 895.228 32.4315 Q888.99 32.4315 885.223 35.9558 Q881.496 39.4801 880.929 45.8805 L907.503 45.84 Z\" fill=\"#000000\" fill-rule=\"nonzero\" fill-opacity=\"1\" /><path clip-path=\"url(#clip580)\" d=\"M929.094 62.2867 L937.641 62.2867 L937.641 72.576 L929.094 72.576 L929.094 62.2867 M929.094 29.6769 L937.641 29.6769 L937.641 39.9662 L929.094 39.9662 L929.094 29.6769 Z\" fill=\"#000000\" fill-rule=\"nonzero\" fill-opacity=\"1\" /><path clip-path=\"url(#clip580)\" d=\"M1007.36 39.9662 Q1013.23 41.222 1016.51 45.1919 Q1019.83 49.1618 1019.83 54.9951 Q1019.83 63.9476 1013.68 68.8492 Q1007.52 73.7508 996.177 73.7508 Q992.369 73.7508 988.318 72.9811 Q984.308 72.2519 980.014 70.7531 L980.014 62.8538 Q983.417 64.8388 987.468 65.8515 Q991.518 66.8642 995.934 66.8642 Q1003.63 66.8642 1007.64 63.826 Q1011.69 60.7879 1011.69 54.9951 Q1011.69 49.6479 1007.92 46.6502 Q1004.2 43.612 997.514 43.612 L990.465 43.612 L990.465 36.8875 L997.838 36.8875 Q1003.87 36.8875 1007.07 34.4975 Q1010.27 32.067 1010.27 27.5299 Q1010.27 22.8714 1006.95 20.4004 Q1003.67 17.8888 997.514 17.8888 Q994.152 17.8888 990.303 18.618 Q986.455 19.3471 981.837 20.8865 L981.837 13.5948 Q986.495 12.2985 990.546 11.6504 Q994.638 11.0023 998.243 11.0023 Q1007.56 11.0023 1012.99 15.2557 Q1018.42 19.4686 1018.42 26.6793 Q1018.42 31.7024 1015.54 35.1862 Q1012.66 38.6294 1007.36 39.9662 Z\" fill=\"#000000\" fill-rule=\"nonzero\" fill-opacity=\"1\" /><path clip-path=\"url(#clip580)\" d=\"M1056.9 46.5287 L1078.73 46.5287 L1078.73 53.1722 L1056.9 53.1722 L1056.9 46.5287 Z\" fill=\"#000000\" fill-rule=\"nonzero\" fill-opacity=\"1\" /><path clip-path=\"url(#clip580)\" d=\"M1091.58 31.7429 L1091.58 24.3702 L1143.51 43.2069 L1143.51 49.9314 L1091.58 68.7682 L1091.58 61.3955 L1133.3 46.6097 L1091.58 31.7429 Z\" fill=\"#000000\" fill-rule=\"nonzero\" fill-opacity=\"1\" /><path clip-path=\"url(#clip580)\" d=\"M1187.62 12.096 L1219.75 12.096 L1219.75 18.9825 L1195.12 18.9825 L1195.12 33.8088 Q1196.9 33.2012 1198.68 32.9176 Q1200.46 32.5936 1202.25 32.5936 Q1212.37 32.5936 1218.29 38.1433 Q1224.2 43.6931 1224.2 53.1722 Q1224.2 62.9348 1218.13 68.3631 Q1212.05 73.7508 1200.99 73.7508 Q1197.18 73.7508 1193.21 73.1026 Q1189.28 72.4545 1185.07 71.1582 L1185.07 62.9348 Q1188.72 64.9198 1192.61 65.892 Q1196.49 66.8642 1200.83 66.8642 Q1207.84 66.8642 1211.93 63.1779 Q1216.02 59.4916 1216.02 53.1722 Q1216.02 46.8528 1211.93 43.1664 Q1207.84 39.4801 1200.83 39.4801 Q1197.55 39.4801 1194.27 40.2093 Q1191.03 40.9384 1187.62 42.4778 L1187.62 12.096 Z\" fill=\"#000000\" fill-rule=\"nonzero\" fill-opacity=\"1\" /><g clip-path=\"url(#clip582)\">\n",
       "<image width=\"1012\" height=\"1363\" xlink:href=\"data:image/png;base64,\n",
       "iVBORw0KGgoAAAANSUhEUgAAA/QAAAVTCAYAAABj7GMOAAAgAElEQVR4nOzZvYslZYOH4e2dNnE4\n",
       "4oCgIAYaiBjUwXjMRTAw0NREAz9CU0MjUQwdEMREo0ET7QkM/M40ODUgIoiREygGCq3BIP2GS22/\n",
       "9NI74/vUPX1df8GPqjqn6ubZ22w2R/+1MtM0jZ4AN808z6MnrJ7ffItn+mRre57XeL9co5O5Pi1r\n",
       "u1/83zzTJ/NMn2xtz89/jx4AAAAAnJ6gBwAAgCBBDwAAAEGCHgAAAIIEPQAAAAQJegAAAAgS9AAA\n",
       "ABAk6AEAACBI0AMAAECQoAcAAIAgQQ8AAABBgh4AAACCBD0AAAAECXoAAAAIEvQAAAAQJOgBAAAg\n",
       "SNADAABAkKAHAACAIEEPAAAAQYIeAAAAggQ9AAAABAl6AAAACBL0AAAAECToAQAAIEjQAwAAQJCg\n",
       "BwAAgCBBDwAAAEGCHgAAAIIEPQAAAAQJegAAAAgS9AAAABAk6AEAACBI0AMAAECQoAcAAIAgQQ8A\n",
       "AABBgh4AAACCBD0AAAAECXoAAAAIEvQAAAAQJOgBAAAgSNADAABAkKAHAACAIEEPAAAAQYIeAAAA\n",
       "ggQ9AAAABAl6AAAACBL0AAAAECToAQAAIGh/mqbRG46Z53n0hIW1XSPX52SuD8C6+Z9ucX1a1vb7\n",
       "osczdLK1/Sc6oQcAAIAgQQ8AAABBgh4AAACCBD0AAAAECXoAAAAIEvQAAAAQJOgBAAAgSNADAABA\n",
       "kKAHAACAIEEPAAAAQYIeAAAAggQ9AAAABAl6AAAACBL0AAAAECToAQAAIEjQAwAAQJCgBwAAgCBB\n",
       "DwAAAEGCHgAAAIIEPQAAAAQJegAAAAgS9AAAABAk6AEAACBI0AMAAECQoAcAAIAgQQ8AAABBgh4A\n",
       "AACCBD0AAAAECXoAAAAIEvQAAAAQJOgBAAAgSNADAABAkKAHAACAIEEPAAAAQYIeAAAAggQ9AAAA\n",
       "BAl6AAAACBL0AAAAECToAQAAIEjQAwAAQJCgBwAAgCBBDwAAAEGCHgAAAIIEPQAAAAQJegAAAAgS\n",
       "9AAAABAk6AEAACBI0AMAAEDQ3mazORo9Am6maZpGT+CU5nkePQE4w7w34Gzx3cGtxAk9AAAABAl6\n",
       "AAAACBL0AAAAECToAQAAIEjQAwAAQJCgBwAAgCBBDwAAAEGCHgAAAIIEPQAAAAQJegAAAAgS9AAA\n",
       "ABAk6AEAACBI0AMAAECQoAcAAIAgQQ8AAABBgh4AAACCBD0AAAAECXoAAAAIEvQAAAAQJOgBAAAg\n",
       "SNADAABAkKAHAACAIEEPAAAAQYIeAAAAggQ9AAAABAl6AAAACBL0AAAAECToAQAAIEjQAwAAQJCg\n",
       "BwAAgCBBDwAAAEGCHgAAAIIEPQAAAAQJegAAAAgS9AAAABAk6AEAACBI0AMAAECQoAcAAIAgQQ8A\n",
       "AABBgh4AAACCBD0AAAAECXoAAAAIEvQAAAAQJOgBAAAgSNADAABAkKAHAACAIEEPAAAAQYIeAAAA\n",
       "gvZHD+D0pmkaPWHV5nkePQE4w/xH93hvnMwzfbK1PT9rvF9ru0Zrs7Z7trb75fqczAk9AAAABAl6\n",
       "AAAACBL0AAAAECToAQAAIEjQAwAAQJCgBwAAgCBBDwAAAEGCHgAAAIIEPQAAAAQJegAAAAgS9AAA\n",
       "ABAk6AEAACBI0AMAAECQoAcAAIAgQQ8AAABBgh4AAACCBD0AAAAECXoAAAAIEvQAAAAQJOgBAAAg\n",
       "SNADAABAkKAHAACAIEEPAAAAQYIeAAAAggQ9AAAABAl6AAAACBL0AAAAECToAQAAIEjQAwAAQJCg\n",
       "BwAAgCBBDwAAAEGCHgAAAIIEPQAAAAQJegAAAAgS9AAAABAk6AEAACBI0AMAAECQoAcAAIAgQQ8A\n",
       "AABBgh4AAACCBD0AAAAECXoAAAAIEvQAAAAQJOgBAAAgSNADAABAkKAHAACAIEEPAAAAQXubzeZo\n",
       "9AhOZ5qm0RMW5nkePQFuqrX9xs6fPz96wsLly5dHT1jY7XajJ6za3t7e6AnHHB2t69Pjq6++Gj1h\n",
       "4Ysvvhg9YdX++OOP0RMAVsMJPQAAAAQJegAAAAgS9AAAABAk6AEAACBI0AMAAECQoAcAAIAgQQ8A\n",
       "AABBgh4AAACCBD0AAAAECXoAAAAIEvQAAAAQJOgBAAAgSNADAABAkKAHAACAIEEPAAAAQYIeAAAA\n",
       "ggQ9AAAABAl6AAAACBL0AAAAECToAQAAIEjQAwAAQJCgBwAAgCBBDwAAAEGCHgAAAIIEPQAAAAQJ\n",
       "egAAAAgS9AAAABAk6AEAACBI0AMAAECQoAcAAIAgQQ8AAABBgh4AAACCBD0AAAAECXoAAAAIEvQA\n",
       "AAAQJOgBAAAgSNADAABAkKAHAACAIEEPAAAAQYIeAAAAggQ9AAAABAl6AAAACBL0AAAAECToAQAA\n",
       "IEjQAwAAQJCgBwAAgCBBDwAAAEGCHgAAAIL2Rw8A4GSXL18ePYGwo6Oj0RNW79FHHx09YeGll14a\n",
       "PWHh888/Hz1h4eOPPx49YeHq1aujJwBnmBN6AAAACBL0AAAAECToAQAAIEjQAwAAQJCgBwAAgCBB\n",
       "DwAAAEGCHgAAAIIEPQAAAAQJegAAAAgS9AAAABAk6AEAACBI0AMAAECQoAcAAIAgQQ8AAABBgh4A\n",
       "AACCBD0AAAAECXoAAAAIEvQAAAAQJOgBAAAgSNADAABAkKAHAACAIEEPAAAAQYIeAAAAggQ9AAAA\n",
       "BAl6AAAACBL0AAAAECToAQAAIEjQAwAAQJCgBwAAgCBBDwAAAEGCHgAAAIIEPQAAAAQJegAAAAgS\n",
       "9AAAABAk6AEAACBI0AMAAECQoAcAAIAgQQ8AAABBgh4AAACCBD0AAAAECXoAAAAIEvQAAAAQJOgB\n",
       "AAAgSNADAABAkKAHAACAIEEPAAAAQYIeAAAAggQ9AAAABO1tNpuj0SPWbpqm0RMW5nkePQFuqrX9\n",
       "xtbmypUroyes2uHh4egJC2+99dboCav30EMPjZ6wcN99942ewCnceeedoycsPP/886MnAGeYE3oA\n",
       "AAAIEvQAAAAQJOgBAAAgSNADAABAkKAHAACAIEEPAAAAQYIeAAAAggQ9AAAABAl6AAAACBL0AAAA\n",
       "ECToAQAAIEjQAwAAQJCgBwAAgCBBDwAAAEGCHgAAAIIEPQAAAAQJegAAAAgS9AAAABAk6AEAACBI\n",
       "0AMAAECQoAcAAIAgQQ8AAABBgh4AAACCBD0AAAAECXoAAAAIEvQAAAAQJOgBAAAgSNADAABAkKAH\n",
       "AACAIEEPAAAAQYIeAAAAggQ9AAAABAl6AAAACBL0AAAAECToAQAAIEjQAwAAQJCgBwAAgCBBDwAA\n",
       "AEGCHgAAAIIEPQAAAAQJegAAAAgS9AAAABAk6AEAACBI0AMAAECQoAcAAIAgQQ8AAABBgh4AAACC\n",
       "9qdpGr3hmHmeR08AzrC1/Qf99ddfoycsfP/996MnLLz66qujJyz8+eefoycs3HbbbaMnHPPUU0+N\n",
       "nrDw+++/j56watvtdvSEhR9++GH0BLilre07aI29uiZO6AEAACBI0AMAAECQoAcAAIAgQQ8AAABB\n",
       "gh4AAACCBD0AAAAECXoAAAAIEvQAAAAQJOgBAAAgSNADAABAkKAHAACAIEEPAAAAQYIeAAAAggQ9\n",
       "AAAABAl6AAAACBL0AAAAECToAQAAIEjQAwAAQJCgBwAAgCBBDwAAAEGCHgAAAIIEPQAAAAQJegAA\n",
       "AAgS9AAAABAk6AEAACBI0AMAAECQoAcAAIAgQQ8AAABBgh4AAACCBD0AAAAECXoAAAAIEvQAAAAQ\n",
       "JOgBAAAgSNADAABAkKAHAACAIEEPAAAAQYIeAAAAggQ9AAAABAl6AAAACBL0AAAAECToAQAAIEjQ\n",
       "AwAAQJCgBwAAgCBBDwAAAEGCHgAAAIIEPQAAAAQJegAAAAgS9AAAABC0t9lsjkaPgFvZNE2jJyzM\n",
       "8zx6AnFre6Y52Rp/8wcHB6MncArb7Xb0hIWXX3559ISF7777bvQE4AxzQg8AAABBgh4AAACCBD0A\n",
       "AAAECXoAAAAIEvQAAAAQJOgBAAAgSNADAABAkKAHAACAIEEPAAAAQYIeAAAAggQ9AAAABAl6AAAA\n",
       "CBL0AAAAECToAQAAIEjQAwAAQJCgBwAAgCBBDwAAAEGCHgAAAIIEPQAAAAQJegAAAAgS9AAAABAk\n",
       "6AEAACBI0AMAAECQoAcAAIAgQQ8AAABBgh4AAACCBD0AAAAECXoAAAAIEvQAAAAQJOgBAAAgSNAD\n",
       "AABAkKAHAACAIEEPAAAAQYIeAAAAggQ9AAAABAl6AAAACBL0AAAAECToAQAAIEjQAwAAQJCgBwAA\n",
       "gCBBDwAAAEGCHgAAAIIEPQAAAAQJegAAAAgS9AAAABAk6AEAACBI0AMAAECQoAcAAICg/dEDOL1p\n",
       "mkZPWJjnefQE4tb2TNNy7ty50RMWnnvuudETFvb29kZP4JSuX78+esLCxYsXR09YuOOOO0ZPIG5t\n",
       "366+g7gRTugBAAAgSNADAABAkKAHAACAIEEPAAAAQYIeAAAAggQ9AAAABAl6AAAACBL0AAAAECTo\n",
       "AQAAIEjQAwAAQJCgBwAAgCBBDwAAAEGCHgAAAIIEPQAAAAQJegAAAAgS9AAAABAk6AEAACBI0AMA\n",
       "AECQoAcAAIAgQQ8AAABBgh4AAACCBD0AAAAECXoAAAAIEvQAAAAQJOgBAAAgSNADAABAkKAHAACA\n",
       "IEEPAAAAQYIeAAAAggQ9AAAABAl6AAAACBL0AAAAECToAQAAIEjQAwAAQJCgBwAAgCBBDwAAAEGC\n",
       "HgAAAIIEPQAAAAQJegAAAAgS9AAAABAk6AEAACBI0AMAAECQoAcAAIAgQQ8AAABBgh4AAACCBD0A\n",
       "AAAECXoAAAAI2h89gL5pmkZPWJjnefSEVVvb/aLn4YcfHj1h4YUXXhg9YeHw8HD0BOLW9kxfu3Zt\n",
       "9IQF77Ee32bcStb2PDuhBwAAgCBBDwAAAEGCHgAAAIIEPQAAAAQJegAAAAgS9AAAABAk6AEAACBI\n",
       "0AMAAECQoAcAAIAgQQ8AAABBgh4AAACCBD0AAAAECXoAAAAIEvQAAAAQJOgBAAAgSNADAABAkKAH\n",
       "AACAIEEPAAAAQYIeAAAAggQ9AAAABAl6AAAACBL0AAAAECToAQAAIEjQAwAAQJCgBwAAgCBBDwAA\n",
       "AEGCHgAAAIIEPQAAAAQJegAAAAgS9AAAABAk6AEAACBI0AMAAECQoAcAAIAgQQ8AAABBgh4AAACC\n",
       "BD0AAAAECXoAAAAIEvQAAAAQJOgBAAAgSNADAABAkKAHAACAIEEPAAAAQYIeAAAAggQ9AAAABAl6\n",
       "AAAACBL0AAAAECToAQAAIEjQAwAAQND+6AEF0zSNnrAwz/PoCau2tvsFN+rKlSujJ3AKu91u9ITV\n",
       "+/vvv0dPWHj22WdHT1j45ZdfRk9YNd9BAP/DCT0AAAAECXoAAAAIEvQAAAAQJOgBAAAgSNADAABA\n",
       "kKAHAACAIEEPAAAAQYIeAAAAggQ9AAAABAl6AAAACBL0AAAAECToAQAAIEjQAwAAQJCgBwAAgCBB\n",
       "DwAAAEGCHgAAAIIEPQAAAAQJegAAAAgS9AAAABAk6AEAACBI0AMAAECQoAcAAIAgQQ8AAABBgh4A\n",
       "AACCBD0AAAAECXoAAAAIEvQAAAAQJOgBAAAgSNADAABAkKAHAACAIEEPAAAAQYIeAAAAggQ9AAAA\n",
       "BAl6AAAACBL0AAAAECToAQAAIEjQAwAAQJCgBwAAgCBBDwAAAEGCHgAAAIIEPQAAAAQJegAAAAgS\n",
       "9AAAABAk6AEAACBI0AMAAECQoAcAAIAgQQ8AAABBgh4AAACC9kcP+HemaRo9AW5Z8zyPnnDM2n7z\n",
       "L7744ugJhG2329ETFt58883RE455/fXXR09YtbX9J67NGt9jcCM80yfzn3gyJ/QAAAAQJOgBAAAg\n",
       "SNADAABAkKAHAACAIEEPAAAAQYIeAAAAggQ9AAAABAl6AAAACBL0AAAAECToAQAAIEjQAwAAQJCg\n",
       "BwAAgCBBDwAAAEGCHgAAAIIEPQAAAAQJegAAAAgS9AAAABAk6AEAACBI0AMAAECQoAcAAIAgQQ8A\n",
       "AABBgh4AAACCBD0AAAAECXoAAAAIEvQAAAAQJOgBAAAgSNADAABAkKAHAACAIEEPAAAAQYIeAAAA\n",
       "ggQ9AAAABAl6AAAACBL0AAAAECToAQAAIEjQAwAAQJCgBwAAgCBBDwAAAEGCHgAAAIIEPQAAAAQJ\n",
       "egAAAAgS9AAAABAk6AEAACBI0AMAAECQoAcAAIAgQQ8AAABBgh4AAACCBD0AAAAE7Y8e8O/M8zx6\n",
       "Atw0a3uep2kaPeGYtV2j8+fPj56warvdbvSEhe12O3rCqj3yyCOjJ3BKa/tPXJs1vsfWxPPDrcYz\n",
       "fTIn9AAAABAk6AEAACBI0AMAAECQoAcAAIAgQQ8AAABBgh4AAACCBD0AAAAECXoAAAAIEvQAAAAQ\n",
       "JOgBAAAgSNADAABAkKAHAACAIEEPAAAAQYIeAAAAggQ9AAAABAl6AAAACBL0AAAAECToAQAAIEjQ\n",
       "AwAAQJCgBwAAgCBBDwAAAEGCHgAAAIIEPQAAAAQJegAAAAgS9AAAABAk6AEAACBI0AMAAECQoAcA\n",
       "AIAgQQ8AAABBgh4AAACCBD0AAAAECXoAAAAIEvQAAAAQJOgBAAAgSNADAABAkKAHAACAIEEPAAAA\n",
       "QYIeAAAAggQ9AAAABAl6AAAACBL0AAAAECToAQAAIEjQAwAAQJCgBwAAgCBBDwAAAEGCHgAAAIIE\n",
       "PQAAAAQJegAAAAjau3jx4tHoEf/bPM+jJ8BNM03T6AkLfl89P//88+gJhO12u9ETjtlut6MnLHz0\n",
       "0UejJyx8+OGHoycsXLt2bfQETsF7vse3IjfCCT0AAAAECXoAAAAIEvQAAAAQJOgBAAAgSNADAABA\n",
       "kKAHAACAIEEPAAAAQYIeAAAAggQ9AAAABAl6AAAACBL0AAAAECToAQAAIEjQAwAAQJCgBwAAgCBB\n",
       "DwAAAEGCHgAAAIIEPQAAAAQJegAAAAgS9AAAABAk6AEAACBI0AMAAECQoAcAAIAgQQ8AAABBgh4A\n",
       "AACCBD0AAAAECXoAAAAIEvQAAAAQJOgBAAAgSNADAABAkKAHAACAIEEPAAAAQYIeAAAAggQ9AAAA\n",
       "BAl6AAAACBL0AAAAECToAQAAIEjQAwAAQJCgBwAAgCBBDwAAAEGCHgAAAIIEPQAAAAQJegAAAAgS\n",
       "9AAAABAk6AEAACBI0AMAAECQoAcAAIAgQQ8AAABBgh4AAACC9i5evHg0esTazfM8egJwhr3yyiuj\n",
       "JyzcddddoycsPP3006MnLOx2u9ETiNtut6MnLBwcHIyesHDp0qXRExauX78+esKC71Y4W5zQAwAA\n",
       "QJCgBwAAgCBBDwAAAEGCHgAAAIIEPQAAAAQJegAAAAgS9AAAABAk6AEAACBI0AMAAECQoAcAAIAg\n",
       "QQ8AAABBgh4AAACCBD0AAAAECXoAAAAIEvQAAAAQJOgBAAAgSNADAABAkKAHAACAIEEPAAAAQYIe\n",
       "AAAAggQ9AAAABAl6AAAACBL0AAAAECToAQAAIEjQAwAAQJCgBwAAgCBBDwAAAEGCHgAAAIIEPQAA\n",
       "AAQJegAAAAgS9AAAABAk6AEAACBI0AMAAECQoAcAAIAgQQ8AAABBgh4AAACCBD0AAAAECXoAAAAI\n",
       "EvQAAAAQJOgBAAAgSNADAABAkKAHAACAIEEPAAAAQYIeAAAAggQ9AAAABAl6AAAACBL0AAAAELS3\n",
       "2WyORo8AgP+vxx9/fPSEhV9//XX0hIUnn3xy9IRjttvt6AkL586dGz1hYW3XZ20+/fTT0RMWXnvt\n",
       "tdETFuZ5Hj0B+A9yQg8AAABBgh4AAACCBD0AAAAECXoAAAAIEvQAAAAQJOgBAAAgSNADAABAkKAH\n",
       "AACAIEEPAAAAQYIeAAAAggQ9AAAABAl6AAAACBL0AAAAECToAQAAIEjQAwAAQJCgBwAAgCBBDwAA\n",
       "AEGCHgAAAIIEPQAAAAQJegAAAAgS9AAAABAk6AEAACBI0AMAAECQoAcAAIAgQQ8AAABBgh4AAACC\n",
       "BD0AAAAECXoAAAAIEvQAAAAQJOgBAAAgSNADAABAkKAHAACAIEEPAAAAQYIeAAAAggQ9AAAABAl6\n",
       "AAAACBL0AAAAECToAQAAIEjQAwAAQJCgBwAAgCBBDwAAAEGCHgAAAIIEPQAAAAQJegAAAAgS9AAA\n",
       "ABAk6AEAACBI0AMAAECQoAcAAICg/WmaRm9YvXmeR09YcM9Otrb7Bfyzrly5MnrCqn3zzTejJxxz\n",
       "zz33jJ6w8M4774yewCkcHh6OnrBw//33j56w4DsIzhYn9AAAABAk6AEAACBI0AMAAECQoAcAAIAg\n",
       "QQ8AAABBgh4AAACCBD0AAAAECXoAAAAIEvQAAAAQJOgBAAAgSNADAABAkKAHAACAIEEPAAAAQYIe\n",
       "AAAAggQ9AAAABAl6AAAACBL0AAAAECToAQAAIEjQAwAAQJCgBwAAgCBBDwAAAEGCHgAAAIIEPQAA\n",
       "AAQJegAAAAgS9AAAABAk6AEAACBI0AMAAECQoAcAAIAgQQ8AAABBgh4AAACCBD0AAAAECXoAAAAI\n",
       "EvQAAAAQJOgBAAAgSNADAABAkKAHAACAIEEPAAAAQYIeAAAAggQ9AAAABAl6AAAACBL0AAAAECTo\n",
       "AQAAIEjQAwAAQJCgBwAAgCBBDwAAAEGCHgAAAIIEPQAAAAQJegAAAAjan+d59Aa4qaZpGj1h4bHH\n",
       "Hhs9YeGDDz4YPeGYH3/8cfQE4D/o7rvvHj1h4bfffhs9YdV2u93oCQtPPPHE6AkLt99+++gJCz/9\n",
       "9NPoCcfoDfjnOKEHAACAIEEPAAAAQYIeAAAAggQ9AAAABAl6AAAACBL0AAAAECToAQAAIEjQAwAA\n",
       "QJCgBwAAgCBBDwAAAEGCHgAAAIIEPQAAAAQJegAAAAgS9AAAABAk6AEAACBI0AMAAECQoAcAAIAg\n",
       "QQ8AAABBgh4AAACCBD0AAAAECXoAAAAIEvQAAAAQJOgBAAAgSNADAABAkKAHAACAIEEPAAAAQYIe\n",
       "AAAAggQ9AAAABAl6AAAACBL0AAAAECToAQAAIEjQAwAAQJCgBwAAgCBBDwAAAEGCHgAAAIIEPQAA\n",
       "AAQJegAAAAgS9AAAABAk6AEAACBI0AMAAECQoAcAAIAgQQ8AAABBgh4AAACCBD0AAAAECXoAAAAI\n",
       "EvQAAAAQJOgBAAAgaG+z2RyNHrF20zSNnsApvP/++6MnLFy4cGH0hIVvv/129IRjLl26NHrCwsHB\n",
       "wegJq+Y/8WTzPI+ewCl9+eWXoycsPPDAA6MnLOx2u9ETFrbb7egJq3bvvfeOnrB6a3uPeW9wI5zQ\n",
       "AwAAQJCgBwAAgCBBDwAAAEGCHgAAAIIEPQAAAAQJegAAAAgS9AAAABAk6AEAACBI0AMAAECQoAcA\n",
       "AIAgQQ8AAABBgh4AAACCBD0AAAAECXoAAAAIEvQAAAAQJOgBAAAgSNADAABAkKAHAACAIEEPAAAA\n",
       "QYIeAAAAggQ9AAAABAl6AAAACBL0AAAAECToAQAAIEjQAwAAQJCgBwAAgCBBDwAAAEGCHgAAAIIE\n",
       "PQAAAAQJegAAAAgS9AAAABAk6AEAACBI0AMAAECQoAcAAIAgQQ8AAABBgh4AAACCBD0AAAAECXoA\n",
       "AAAIEvQAAAAQJOgBAAAgSNADAABAkKAHAACAIEEPAAAAQYIeAAAAggQ9AAAABAl6AAAACBL0AAAA\n",
       "ECToAQAAIGh/9ABOb57n0RNW7cKFC6MnrNr+/vp+9m+//fboCQvvvvvu6AkLDz744OgJC5988sno\n",
       "CQvvvffe6AkLn3322egJC19//fXoCcc888wzoycsXL16dfQEwt54443RExamaRo94RjfrvDPcUIP\n",
       "AAAAQYKef7Vn9zaVJAEYRYU0Bk4b2ESA088lDzwk0iAToiAQEAYSbeAQAx4+a/cwy+xKu1Rd5pwI\n",
       "PvXrn3dVAAAABAl6AAAACBL0AAAAECToAQAAIEjQAwAAQJCgBwAAgCBBDwAAAEGCHgAAAIIEPQAA\n",
       "AAQJegAAAAgS9AAAABAk6AEAACBI0AMAAECQoAcAAIAgQQ8AAABBgh4AAACCBD0AAAAECXoAAAAI\n",
       "EvQAAAAQJOgBAAAgSNADAABAkKAHAACAIEEPAAAAQYIeAAAAggQ9AAAABAl6AAAACBL0AAAAECTo\n",
       "AQAAIEjQAwAAQJCgBwAAgCBBDwAAAEGCHgAAAIIEPQAAAAQJegAAAAgS9AAAABAk6AEAACBI0AMA\n",
       "AECQoAcAAIAgQQ8AAABBgh4AAACCBD0AAAAECXoAAAAIEvQAAAAQJOgBAAAgSNADAABAkKAHAACA\n",
       "IEEPAAAAQUfLsryPHkHbuq6jJ+xcXV2NnrBzeXk5esL0np6eRk/YORwOoycA8Ddubm5GT9i5u7sb\n",
       "PWHn9fV19IQPtm0bPWFntv+us10fWpzQAwAAQJCgBwAAgCBBDwAAAEGCHgAAAIIEPQAAAAQJegAA\n",
       "AAgS9AAAABAk6AEAACBI0AMAAECQoAcAAIAgQQ8AAABBgh4AAACCBD0AAAAECXoAAAAIEvQAAAAQ\n",
       "JOgBAAAgSNADAABAkKAHAACAIEEPAAAAQYIeAAAAggQ9AAAABAl6AAAACBL0AAAAECToAQAAIEjQ\n",
       "AwAAQJCgBwAAgCBBDwAAAEGCHgAAAIIEPQAAAAQJegAAAAgS9AAAABAk6AEAACBI0AMAAECQoAcA\n",
       "AIAgQQ8AAABBgh4AAACCBD0AAAAECXoAAAAIEvQAAAAQJOgBAAAgSNADAABAkKAHAACAIEEPAAAA\n",
       "QYIeAAAAggQ9AAAABAl6AAAACBL0AAAAEHS0LMv76BHA1zk/Px894YPr6+vRE3aOj49HT5ja4XAY\n",
       "PQH4QhcXF6Mn7Nzf34+eQNy6rqMnTG3bttETpjbb/eOEHgAAAIIEPQAAAAQJegAAAAgS9AAAABAk\n",
       "6AEAACBI0AMAAECQoAcAAIAgQQ8AAABBglByJxwAAAesSURBVB4AAACCBD0AAAAECXoAAAAIEvQA\n",
       "AAAQJOgBAAAgSNADAABAkKAHAACAIEEPAAAAQYIeAAAAggQ9AAAABAl6AAAACBL0AAAAECToAQAA\n",
       "IEjQAwAAQJCgBwAAgCBBDwAAAEGCHgAAAIIEPQAAAAQJegAAAAgS9AAAABAk6AEAACBI0AMAAECQ\n",
       "oAcAAIAgQQ8AAABBgh4AAACCBD0AAAAECXoAAAAIEvQAAAAQJOgBAAAgSNADAABAkKAHAACAIEEP\n",
       "AAAAQYIeAAAAggQ9AAAABAl6AAAACBL0AAAAECToAQAAIEjQAwAAQJCgBwAAgCBBDwAAAEFHy7K8\n",
       "jx7xs3VdR0/Y2bZt9ISd2a4Pn5vt/pnRycnJ6Ak7Z2dnoyfs3N7ejp5A2MvLy+gJHzw/P4+esPP4\n",
       "+Dh6ws7Dw8PoCTu+Yy3+J/LdzPYOmu0Zc0IPAAAAQYIeAAAAggQ9AAAABAl6AAAACBL0AAAAECTo\n",
       "AQAAIEjQAwAAQJCgBwAAgCBBDwAAAEGCHgAAAIIEPQAAAAQJegAAAAgS9AAAABAk6AEAACBI0AMA\n",
       "AECQoAcAAIAgQQ8AAABBgh4AAACCBD0AAAAECXoAAAAIEvQAAAAQJOgBAAAgSNADAABAkKAHAACA\n",
       "IEEPAAAAQYIeAAAAggQ9AAAABAl6AAAACBL0AAAAECToAQAAIEjQAwAAQJCgBwAAgCBBDwAAAEGC\n",
       "HgAAAIIEPQAAAAQJegAAAAgS9AAAABAk6AEAACBI0AMAAECQoAcAAIAgQQ8AAABBgh4AAACCBD0A\n",
       "AAAECXoAAAAIEvQAAAAQJOgBAAAgSNADAABAkKAHAACAoB/ruo7eQNy2baMnTM0z9nuz3UNvb2+j\n",
       "J+ycnp6OnjA1zxj8v2Z7xmb7ZsB34xn73GzXxwk9AAAABAl6AAAACBL0AAAAECToAQAAIEjQAwAA\n",
       "QJCgBwAAgCBBDwAAAEGCHgAAAIIEPQAAAAQJegAAAAgS9AAAABAk6AEAACBI0AMAAECQoAcAAIAg\n",
       "QQ8AAABBgh4AAACCBD0AAAAECXoAAAAIEvQAAAAQJOgBAAAgSNADAABAkKAHAACAIEEPAAAAQYIe\n",
       "AAAAggQ9AAAABAl6AAAACBL0AAAAECToAQAAIEjQAwAAQJCgBwAAgCBBDwAAAEGCHgAAAIIEPQAA\n",
       "AAQJegAAAAgS9AAAABAk6AEAACBI0AMAAECQoAcAAIAgQQ8AAABBgh4AAACCBD0AAAAECXoAAAAI\n",
       "EvQAAAAQJOgBAAAgSNADAABAkKAHAACAIEEPAAAAQUfLsryPHjG7dV1HT5jatm2jJwB/MO/oz834\n",
       "jvabAcxrxu/GTGb7hjmhBwAAgCBBDwAAAEGCHgAAAIIEPQAAAAQJegAAAAgS9AAAABAk6AEAACBI\n",
       "0AMAAECQoAcAAIAgQQ8AAABBgh4AAACCBD0AAAAECXoAAAAIEvQAAAAQJOgBAAAgSNADAABAkKAH\n",
       "AACAIEEPAAAAQYIeAAAAggQ9AAAABAl6AAAACBL0AAAAECToAQAAIEjQAwAAQJCgBwAAgCBBDwAA\n",
       "AEGCHgAAAIIEPQAAAAQJegAAAAgS9AAAABAk6AEAACBI0AMAAECQoAcAAIAgQQ8AAABBgh4AAACC\n",
       "BD0AAAAECXoAAAAIEvQAAAAQJOgBAAAgSNADAABAkKAHAACAIEEPAAAAQYIeAAAAggQ9AAAABAl6\n",
       "AAAACBL0AAAAECToAQAAIEjQAwAAQNCP0QN+ZV3X0RN2tm0bPYF/Ybb7h9+b7Rmb7R5yffhu3NMA\n",
       "/FPe0Z9zQg8AAABBgh4AAACCBD0AAAAECXoAAAAIEvQAAAAQJOgBAAAgSNADAABAkKAHAACAIEEP\n",
       "AAAAQYIeAAAAggQ9AAAABAl6AAAACBL0AAAAECToAQAAIEjQAwAAQJCgBwAAgCBBDwAAAEGCHgAA\n",
       "AIIEPQAAAAQJegAAAAgS9AAAABAk6AEAACBI0AMAAECQoAcAAIAgQQ8AAABBgh4AAACCBD0AAAAE\n",
       "CXoAAAAIEvQAAAAQJOgBAAAgSNADAABAkKAHAACAIEEPAAAAQYIeAAAAggQ9AAAABAl6AAAACBL0\n",
       "AAAAECToAQAAIEjQAwAAQJCgBwAAgCBBDwAAAEGCHgAAAIIEPQAAAAQJegAAAAgS9AAAABAk6AEA\n",
       "ACBI0AMAAECQoAcAAICgo2VZ3keP+Nm6rqMnwH9m27bRE4Av5BvW4z0Nfxbv6c/N9k70e33OCT0A\n",
       "AAAECXoAAAAIEvQAAAAQJOgBAAAgSNADAABAkKAHAACAIEEPAAAAQYIeAAAAggQ9AAAABAl6AAAA\n",
       "CBL0AAAAECToAQAAIEjQAwAAQJCgBwAAgCBBDwAAAEGCHgAAAIIEPQAAAAQJegAAAAgS9AAAABAk\n",
       "6AEAACBI0AMAAECQoAcAAIAgQQ8AAABBgh4AAACCBD0AAAAECXoAAAAIEvQAAAAQJOgBAAAgSNAD\n",
       "AABAkKAHAACAIEEPAAAAQYIeAAAAggQ9AAAABAl6AAAACBL0AAAAECToAQAAIEjQAwAAQJCgBwAA\n",
       "gCBBDwAAAEGCHgAAAIIEPQAAAAQJegAAAAgS9AAAABAk6AEAACBI0AMAAECQoAcAAIAgQQ8AAABB\n",
       "fwEJKuzjAR5h8gAAAABJRU5ErkJggg==\n",
       "\" transform=\"translate(141, 123)\"/>\n",
       "</g>\n",
       "<path clip-path=\"url(#clip580)\" d=\"M1340.7 1486.45 L2352.76 1486.45 L2352.76 123.472 L1340.7 123.472  Z\" fill=\"#ffffff\" fill-rule=\"evenodd\" fill-opacity=\"1\"/>\n",
       "<defs>\n",
       "  <clipPath id=\"clip583\">\n",
       "    <rect x=\"1340\" y=\"123\" width=\"1013\" height=\"1364\"/>\n",
       "  </clipPath>\n",
       "</defs>\n",
       "<polyline clip-path=\"url(#clip583)\" style=\"stroke:#000000; stroke-linecap:round; stroke-linejoin:round; stroke-width:2; stroke-opacity:0.1; fill:none\" points=\"1503.35,1486.45 1503.35,123.472 \"/>\n",
       "<polyline clip-path=\"url(#clip583)\" style=\"stroke:#000000; stroke-linecap:round; stroke-linejoin:round; stroke-width:2; stroke-opacity:0.1; fill:none\" points=\"1684.07,1486.45 1684.07,123.472 \"/>\n",
       "<polyline clip-path=\"url(#clip583)\" style=\"stroke:#000000; stroke-linecap:round; stroke-linejoin:round; stroke-width:2; stroke-opacity:0.1; fill:none\" points=\"1864.8,1486.45 1864.8,123.472 \"/>\n",
       "<polyline clip-path=\"url(#clip583)\" style=\"stroke:#000000; stroke-linecap:round; stroke-linejoin:round; stroke-width:2; stroke-opacity:0.1; fill:none\" points=\"2045.52,1486.45 2045.52,123.472 \"/>\n",
       "<polyline clip-path=\"url(#clip583)\" style=\"stroke:#000000; stroke-linecap:round; stroke-linejoin:round; stroke-width:2; stroke-opacity:0.1; fill:none\" points=\"2226.25,1486.45 2226.25,123.472 \"/>\n",
       "<polyline clip-path=\"url(#clip583)\" style=\"stroke:#000000; stroke-linecap:round; stroke-linejoin:round; stroke-width:2; stroke-opacity:0.1; fill:none\" points=\"1340.7,1267.4 2352.76,1267.4 \"/>\n",
       "<polyline clip-path=\"url(#clip583)\" style=\"stroke:#000000; stroke-linecap:round; stroke-linejoin:round; stroke-width:2; stroke-opacity:0.1; fill:none\" points=\"1340.7,1024.01 2352.76,1024.01 \"/>\n",
       "<polyline clip-path=\"url(#clip583)\" style=\"stroke:#000000; stroke-linecap:round; stroke-linejoin:round; stroke-width:2; stroke-opacity:0.1; fill:none\" points=\"1340.7,780.621 2352.76,780.621 \"/>\n",
       "<polyline clip-path=\"url(#clip583)\" style=\"stroke:#000000; stroke-linecap:round; stroke-linejoin:round; stroke-width:2; stroke-opacity:0.1; fill:none\" points=\"1340.7,537.233 2352.76,537.233 \"/>\n",
       "<polyline clip-path=\"url(#clip583)\" style=\"stroke:#000000; stroke-linecap:round; stroke-linejoin:round; stroke-width:2; stroke-opacity:0.1; fill:none\" points=\"1340.7,293.844 2352.76,293.844 \"/>\n",
       "<path clip-path=\"url(#clip580)\" d=\"M1435.66 16.7545 L1435.66 25.383 Q1431.53 21.5346 1426.83 19.6307 Q1422.17 17.7268 1416.9 17.7268 Q1406.53 17.7268 1401.02 24.0867 Q1395.52 30.4061 1395.52 42.3968 Q1395.52 54.3469 1401.02 60.7069 Q1406.53 67.0263 1416.9 67.0263 Q1422.17 67.0263 1426.83 65.1223 Q1431.53 63.2184 1435.66 59.3701 L1435.66 67.9175 Q1431.37 70.8341 1426.55 72.2924 Q1421.77 73.7508 1416.42 73.7508 Q1402.69 73.7508 1394.79 65.3654 Q1386.89 56.9395 1386.89 42.3968 Q1386.89 27.8135 1394.79 19.4281 Q1402.69 11.0023 1416.42 11.0023 Q1421.85 11.0023 1426.63 12.4606 Q1431.45 13.8784 1435.66 16.7545 Z\" fill=\"#000000\" fill-rule=\"nonzero\" fill-opacity=\"1\" /><path clip-path=\"url(#clip580)\" d=\"M1447.97 9.54393 L1455.43 9.54393 L1455.43 72.576 L1447.97 72.576 L1447.97 9.54393 Z\" fill=\"#000000\" fill-rule=\"nonzero\" fill-opacity=\"1\" /><path clip-path=\"url(#clip580)\" d=\"M1509.83 48.0275 L1509.83 51.6733 L1475.56 51.6733 Q1476.05 59.3701 1480.18 63.421 Q1484.35 67.4314 1491.77 67.4314 Q1496.06 67.4314 1500.07 66.3781 Q1504.12 65.3249 1508.09 63.2184 L1508.09 70.267 Q1504.08 71.9684 1499.87 72.8596 Q1495.65 73.7508 1491.32 73.7508 Q1480.46 73.7508 1474.1 67.4314 Q1467.78 61.1119 1467.78 50.3365 Q1467.78 39.1965 1473.78 32.6746 Q1479.82 26.1121 1490.02 26.1121 Q1499.18 26.1121 1504.49 32.0264 Q1509.83 37.9003 1509.83 48.0275 M1502.38 45.84 Q1502.3 39.7232 1498.94 36.0774 Q1495.61 32.4315 1490.1 32.4315 Q1483.87 32.4315 1480.1 35.9558 Q1476.37 39.4801 1475.8 45.8805 L1502.38 45.84 Z\" fill=\"#000000\" fill-rule=\"nonzero\" fill-opacity=\"1\" /><path clip-path=\"url(#clip580)\" d=\"M1542.69 49.7694 Q1533.65 49.7694 1530.17 51.8354 Q1526.68 53.9013 1526.68 58.8839 Q1526.68 62.8538 1529.28 65.2034 Q1531.91 67.5124 1536.41 67.5124 Q1542.6 67.5124 1546.33 63.1374 Q1550.1 58.7219 1550.1 51.4303 L1550.1 49.7694 L1542.69 49.7694 M1557.55 46.6907 L1557.55 72.576 L1550.1 72.576 L1550.1 65.6895 Q1547.55 69.8214 1543.74 71.8063 Q1539.93 73.7508 1534.42 73.7508 Q1527.45 73.7508 1523.32 69.8619 Q1519.23 65.9325 1519.23 59.3701 Q1519.23 51.7138 1524.33 47.825 Q1529.48 43.9361 1539.65 43.9361 L1550.1 43.9361 L1550.1 43.2069 Q1550.1 38.0623 1546.7 35.2672 Q1543.33 32.4315 1537.22 32.4315 Q1533.33 32.4315 1529.64 33.3632 Q1525.95 34.295 1522.55 36.1584 L1522.55 29.2718 Q1526.64 27.692 1530.49 26.9223 Q1534.34 26.1121 1537.99 26.1121 Q1547.83 26.1121 1552.69 31.2163 Q1557.55 36.3204 1557.55 46.6907 Z\" fill=\"#000000\" fill-rule=\"nonzero\" fill-opacity=\"1\" /><path clip-path=\"url(#clip580)\" d=\"M1610.62 45.1919 L1610.62 72.576 L1603.17 72.576 L1603.17 45.4349 Q1603.17 38.994 1600.65 35.7938 Q1598.14 32.5936 1593.12 32.5936 Q1587.08 32.5936 1583.6 36.4419 Q1580.12 40.2903 1580.12 46.9338 L1580.12 72.576 L1572.62 72.576 L1572.62 27.2059 L1580.12 27.2059 L1580.12 34.2544 Q1582.79 30.163 1586.39 28.1376 Q1590.04 26.1121 1594.78 26.1121 Q1602.6 26.1121 1606.61 30.9732 Q1610.62 35.7938 1610.62 45.1919 Z\" fill=\"#000000\" fill-rule=\"nonzero\" fill-opacity=\"1\" /><path clip-path=\"url(#clip580)\" d=\"M1690.66 48.0275 L1690.66 51.6733 L1656.39 51.6733 Q1656.88 59.3701 1661.01 63.421 Q1665.18 67.4314 1672.6 67.4314 Q1676.89 67.4314 1680.9 66.3781 Q1684.95 65.3249 1688.92 63.2184 L1688.92 70.267 Q1684.91 71.9684 1680.7 72.8596 Q1676.49 73.7508 1672.15 73.7508 Q1661.3 73.7508 1654.94 67.4314 Q1648.62 61.1119 1648.62 50.3365 Q1648.62 39.1965 1654.61 32.6746 Q1660.65 26.1121 1670.86 26.1121 Q1680.01 26.1121 1685.32 32.0264 Q1690.66 37.9003 1690.66 48.0275 M1683.21 45.84 Q1683.13 39.7232 1679.77 36.0774 Q1676.45 32.4315 1670.94 32.4315 Q1664.7 32.4315 1660.93 35.9558 Q1657.2 39.4801 1656.64 45.8805 L1683.21 45.84 Z\" fill=\"#000000\" fill-rule=\"nonzero\" fill-opacity=\"1\" /><path clip-path=\"url(#clip580)\" d=\"M1739.15 27.2059 L1722.75 49.2833 L1740 72.576 L1731.21 72.576 L1718.01 54.752 L1704.8 72.576 L1696.01 72.576 L1713.63 48.8377 L1697.51 27.2059 L1706.3 27.2059 L1718.33 43.369 L1730.36 27.2059 L1739.15 27.2059 Z\" fill=\"#000000\" fill-rule=\"nonzero\" fill-opacity=\"1\" /><path clip-path=\"url(#clip580)\" d=\"M1771.16 49.7694 Q1762.12 49.7694 1758.64 51.8354 Q1755.16 53.9013 1755.16 58.8839 Q1755.16 62.8538 1757.75 65.2034 Q1760.38 67.5124 1764.88 67.5124 Q1771.08 67.5124 1774.8 63.1374 Q1778.57 58.7219 1778.57 51.4303 L1778.57 49.7694 L1771.16 49.7694 M1786.02 46.6907 L1786.02 72.576 L1778.57 72.576 L1778.57 65.6895 Q1776.02 69.8214 1772.21 71.8063 Q1768.4 73.7508 1762.89 73.7508 Q1755.92 73.7508 1751.79 69.8619 Q1747.7 65.9325 1747.7 59.3701 Q1747.7 51.7138 1752.81 47.825 Q1757.95 43.9361 1768.12 43.9361 L1778.57 43.9361 L1778.57 43.2069 Q1778.57 38.0623 1775.17 35.2672 Q1771.8 32.4315 1765.69 32.4315 Q1761.8 32.4315 1758.11 33.3632 Q1754.43 34.295 1751.02 36.1584 L1751.02 29.2718 Q1755.11 27.692 1758.96 26.9223 Q1762.81 26.1121 1766.46 26.1121 Q1776.3 26.1121 1781.16 31.2163 Q1786.02 36.3204 1786.02 46.6907 Z\" fill=\"#000000\" fill-rule=\"nonzero\" fill-opacity=\"1\" /><path clip-path=\"url(#clip580)\" d=\"M1836.7 35.9153 Q1839.49 30.8922 1843.38 28.5022 Q1847.27 26.1121 1852.54 26.1121 Q1859.63 26.1121 1863.48 31.0947 Q1867.32 36.0368 1867.32 45.1919 L1867.32 72.576 L1859.83 72.576 L1859.83 45.4349 Q1859.83 38.913 1857.52 35.7533 Q1855.21 32.5936 1850.47 32.5936 Q1844.68 32.5936 1841.32 36.4419 Q1837.96 40.2903 1837.96 46.9338 L1837.96 72.576 L1830.46 72.576 L1830.46 45.4349 Q1830.46 38.8725 1828.15 35.7533 Q1825.84 32.5936 1821.02 32.5936 Q1815.31 32.5936 1811.95 36.4824 Q1808.59 40.3308 1808.59 46.9338 L1808.59 72.576 L1801.09 72.576 L1801.09 27.2059 L1808.59 27.2059 L1808.59 34.2544 Q1811.14 30.082 1814.7 28.0971 Q1818.27 26.1121 1823.17 26.1121 Q1828.11 26.1121 1831.56 28.6237 Q1835.04 31.1352 1836.7 35.9153 Z\" fill=\"#000000\" fill-rule=\"nonzero\" fill-opacity=\"1\" /><path clip-path=\"url(#clip580)\" d=\"M1889.4 65.7705 L1889.4 89.8329 L1881.91 89.8329 L1881.91 27.2059 L1889.4 27.2059 L1889.4 34.0924 Q1891.75 30.0415 1895.32 28.0971 Q1898.92 26.1121 1903.9 26.1121 Q1912.17 26.1121 1917.31 32.6746 Q1922.5 39.2371 1922.5 49.9314 Q1922.5 60.6258 1917.31 67.1883 Q1912.17 73.7508 1903.9 73.7508 Q1898.92 73.7508 1895.32 71.8063 Q1891.75 69.8214 1889.4 65.7705 M1914.76 49.9314 Q1914.76 41.7081 1911.36 37.0496 Q1908 32.3505 1902.08 32.3505 Q1896.17 32.3505 1892.76 37.0496 Q1889.4 41.7081 1889.4 49.9314 Q1889.4 58.1548 1892.76 62.8538 Q1896.17 67.5124 1902.08 67.5124 Q1908 67.5124 1911.36 62.8538 Q1914.76 58.1548 1914.76 49.9314 Z\" fill=\"#000000\" fill-rule=\"nonzero\" fill-opacity=\"1\" /><path clip-path=\"url(#clip580)\" d=\"M1934.85 9.54393 L1942.31 9.54393 L1942.31 72.576 L1934.85 72.576 L1934.85 9.54393 Z\" fill=\"#000000\" fill-rule=\"nonzero\" fill-opacity=\"1\" /><path clip-path=\"url(#clip580)\" d=\"M1996.71 48.0275 L1996.71 51.6733 L1962.44 51.6733 Q1962.93 59.3701 1967.06 63.421 Q1971.23 67.4314 1978.64 67.4314 Q1982.94 67.4314 1986.95 66.3781 Q1991 65.3249 1994.97 63.2184 L1994.97 70.267 Q1990.96 71.9684 1986.75 72.8596 Q1982.53 73.7508 1978.2 73.7508 Q1967.34 73.7508 1960.98 67.4314 Q1954.66 61.1119 1954.66 50.3365 Q1954.66 39.1965 1960.66 32.6746 Q1966.69 26.1121 1976.9 26.1121 Q1986.06 26.1121 1991.36 32.0264 Q1996.71 37.9003 1996.71 48.0275 M1989.26 45.84 Q1989.18 39.7232 1985.81 36.0774 Q1982.49 32.4315 1976.98 32.4315 Q1970.74 32.4315 1966.98 35.9558 Q1963.25 39.4801 1962.68 45.8805 L1989.26 45.84 Z\" fill=\"#000000\" fill-rule=\"nonzero\" fill-opacity=\"1\" /><path clip-path=\"url(#clip580)\" d=\"M2010.85 62.2867 L2019.4 62.2867 L2019.4 72.576 L2010.85 72.576 L2010.85 62.2867 M2010.85 29.6769 L2019.4 29.6769 L2019.4 39.9662 L2010.85 39.9662 L2010.85 29.6769 Z\" fill=\"#000000\" fill-rule=\"nonzero\" fill-opacity=\"1\" /><path clip-path=\"url(#clip580)\" d=\"M2089.11 39.9662 Q2094.99 41.222 2098.27 45.1919 Q2101.59 49.1618 2101.59 54.9951 Q2101.59 63.9476 2095.43 68.8492 Q2089.27 73.7508 2077.93 73.7508 Q2074.12 73.7508 2070.07 72.9811 Q2066.06 72.2519 2061.77 70.7531 L2061.77 62.8538 Q2065.17 64.8388 2069.22 65.8515 Q2073.27 66.8642 2077.69 66.8642 Q2085.38 66.8642 2089.4 63.826 Q2093.45 60.7879 2093.45 54.9951 Q2093.45 49.6479 2089.68 46.6502 Q2085.95 43.612 2079.27 43.612 L2072.22 43.612 L2072.22 36.8875 L2079.59 36.8875 Q2085.63 36.8875 2088.83 34.4975 Q2092.03 32.067 2092.03 27.5299 Q2092.03 22.8714 2088.71 20.4004 Q2085.43 17.8888 2079.27 17.8888 Q2075.91 17.8888 2072.06 18.618 Q2068.21 19.3471 2063.59 20.8865 L2063.59 13.5948 Q2068.25 12.2985 2072.3 11.6504 Q2076.39 11.0023 2080 11.0023 Q2089.31 11.0023 2094.74 15.2557 Q2100.17 19.4686 2100.17 26.6793 Q2100.17 31.7024 2097.29 35.1862 Q2094.42 38.6294 2089.11 39.9662 Z\" fill=\"#000000\" fill-rule=\"nonzero\" fill-opacity=\"1\" /><path clip-path=\"url(#clip580)\" d=\"M2138.65 46.5287 L2160.49 46.5287 L2160.49 53.1722 L2138.65 53.1722 L2138.65 46.5287 Z\" fill=\"#000000\" fill-rule=\"nonzero\" fill-opacity=\"1\" /><path clip-path=\"url(#clip580)\" d=\"M2173.33 31.7429 L2173.33 24.3702 L2225.26 43.2069 L2225.26 49.9314 L2173.33 68.7682 L2173.33 61.3955 L2215.05 46.6097 L2173.33 31.7429 Z\" fill=\"#000000\" fill-rule=\"nonzero\" fill-opacity=\"1\" /><path clip-path=\"url(#clip580)\" d=\"M2294.09 39.9662 Q2299.96 41.222 2303.24 45.1919 Q2306.56 49.1618 2306.56 54.9951 Q2306.56 63.9476 2300.41 68.8492 Q2294.25 73.7508 2282.91 73.7508 Q2279.1 73.7508 2275.05 72.9811 Q2271.04 72.2519 2266.74 70.7531 L2266.74 62.8538 Q2270.15 64.8388 2274.2 65.8515 Q2278.25 66.8642 2282.66 66.8642 Q2290.36 66.8642 2294.37 63.826 Q2298.42 60.7879 2298.42 54.9951 Q2298.42 49.6479 2294.65 46.6502 Q2290.93 43.612 2284.24 43.612 L2277.2 43.612 L2277.2 36.8875 L2284.57 36.8875 Q2290.6 36.8875 2293.8 34.4975 Q2297 32.067 2297 27.5299 Q2297 22.8714 2293.68 20.4004 Q2290.4 17.8888 2284.24 17.8888 Q2280.88 17.8888 2277.03 18.618 Q2273.18 19.3471 2268.57 20.8865 L2268.57 13.5948 Q2273.23 12.2985 2277.28 11.6504 Q2281.37 11.0023 2284.97 11.0023 Q2294.29 11.0023 2299.72 15.2557 Q2305.15 19.4686 2305.15 26.6793 Q2305.15 31.7024 2302.27 35.1862 Q2299.39 38.6294 2294.09 39.9662 Z\" fill=\"#000000\" fill-rule=\"nonzero\" fill-opacity=\"1\" /><g clip-path=\"url(#clip583)\">\n",
       "<image width=\"1012\" height=\"1363\" xlink:href=\"data:image/png;base64,\n",
       "iVBORw0KGgoAAAANSUhEUgAAA/QAAAVTCAYAAABj7GMOAAAgAElEQVR4nOzZP6tc9RqG4TPJSPDP\n",
       "IGglBtRGJIV2VtYGLGS3BqwU1AiiED+CRUgXLGzsxCJNWkVEFBttLMQgFkZBBEsVEVHcp/6xiZxo\n",
       "Tt59u6/rEzzFDGvd693sdrv9/wAAAAApx6YHAAAAANdP0AMAAECQoAcAAIAgQQ8AAABBgh4AAACC\n",
       "BD0AAAAECXoAAAAIEvQAAAAQJOgBAAAgSNADAABAkKAHAACAIEEPAAAAQYIeAAAAggQ9AAAABAl6\n",
       "AAAACBL0AAAAECToAQAAIEjQAwAAQJCgBwAAgCBBDwAAAEGCHgAAAIIEPQAAAAQJegAAAAgS9AAA\n",
       "ABAk6AEAACBI0AMAAECQoAcAAIAgQQ8AAABBgh4AAACCBD0AAAAECXoAAAAIEvQAAAAQJOgBAAAg\n",
       "SNADAABAkKAHAACAIEEPAAAAQYIeAAAAggQ9AAAABAl6AAAACBL0AAAAECToAQAAIEjQAwAAQJCg\n",
       "BwAAgCBBDwAAAEGCHgAAAIIEPQAAAAQJegAAAAgS9AAAABAk6AEAACBI0AMAAECQoAcAAIAgQQ8A\n",
       "AABBgh4AAACCBD0AAAAECXoAAAAIEvQAAAAQJOgBAAAgSNADAABAkKAHAACAIEEPAAAAQYIeAAAA\n",
       "ggQ9AAAABAl6AAAACBL0AAAAECToAQAAIEjQAwAAQJCgBwAAgCBBDwAAAEGCHgAAAIIEPQAAAAQJ\n",
       "egAAAAgS9AAAABAk6AEAACBI0AMAAECQoAcAAIAgQQ8AAABBgh4AAACCBD0AAAAECXoAAAAIEvQA\n",
       "AAAQJOgBAAAgSNADAABAkKAHAACAIEEPAAAAQYIeAAAAggQ9AAAABAl6AAAACBL0AAAAECToAQAA\n",
       "IEjQAwAAQJCgBwAAgCBBDwAAAEGCHgAAAIIEPQAAAAQJegAAAAgS9AAAABAk6AEAACBI0AMAAECQ\n",
       "oAcAAIAgQQ8AAABBgh4AAACCBD0AAAAECXoAAAAIEvQAAAAQJOgBAAAgSNADAABAkKAHAACAIEEP\n",
       "AAAAQYIeAAAAggQ9AAAABAl6AAAACBL0AAAAECToAQAAIEjQAwAAQJCgBwAAgCBBDwAAAEGCHgAA\n",
       "AIIEPQAAAAQJegAAAAgS9AAAABAk6AEAACBI0AMAAECQoAcAAIAgQQ8AAABBgh4AAACCBD0AAAAE\n",
       "CXoAAAAIEvQAAAAQJOgBAAAgSNADAABAkKAHAACAIEEPAAAAQYIeAAAAggQ9AAAABAl6AAAACBL0\n",
       "AAAAECToAQAAIEjQAwAAQJCgBwAAgCBBDwAAAEGCHgAAAIIEPQAAAAQJegAAAAgS9AAAABAk6AEA\n",
       "ACBI0AMAAECQoAcAAIAgQQ8AAABBgh4AAACCBD0AAAAECXoAAAAIEvQAAAAQJOgBAAAgSNADAABA\n",
       "kKAHAACAIEEPAAAAQYIeAAAAggQ9AAAABAl6AAAACBL0AAAAECToAQAAIEjQAwAAQJCgBwAAgCBB\n",
       "DwAAAEGCHgAAAIIEPQAAAAQJegAAAAgS9AAAABAk6AEAACBI0AMAAECQoAcAAIAgQQ8AAABBgh4A\n",
       "AACCBD0AAAAECXoAAAAIEvQAAAAQJOgBAAAgSNADAABAkKAHAACAIEEPAAAAQYIeAAAAggQ9AAAA\n",
       "BAl6AAAACBL0AAAAECToAQAAIEjQAwAAQJCgBwAAgCBBDwAAAEGCHgAAAIIEPQAAAAQJegAAAAgS\n",
       "9AAAABAk6AEAACBI0AMAAEDQdnoAAH/tueeem56weOWVV6YnLO64447pCYfaZrOZnnDA/v7+9ITF\n",
       "xx9/PD1h8dFHH01PWLz11lvTExY//fTT9ASAQ8OFHgAAAIIEPQAAAAQJegAAAAgS9AAAABAk6AEA\n",
       "ACBI0AMAAECQoAcAAIAgQQ8AAABBgh4AAACCBD0AAAAECXoAAAAIEvQAAAAQJOgBAAAgSNADAABA\n",
       "kKAHAACAIEEPAAAAQYIeAAAAggQ9AAAABAl6AAAACBL0AAAAECToAQAAIEjQAwAAQJCgBwAAgCBB\n",
       "DwAAAEGCHgAAAIIEPQAAAAQJegAAAAgS9AAAABAk6AEAACBI0AMAAECQoAcAAIAgQQ8AAABBgh4A\n",
       "AACCBD0AAAAECXoAAAAIEvQAAAAQJOgBAAAgSNADAABAkKAHAACAIEEPAAAAQYIeAAAAggQ9AAAA\n",
       "BAl6AAAACBL0AAAAECToAQAAIEjQAwAAQJCgBwAAgCBBDwAAAEGb3W63Pz0CgGu7evXq9ITFdrud\n",
       "ngDcRD/++OP0hMVTTz01PWHx+eefT08AjjAXegAAAAgS9AAAABAk6AEAACBI0AMAAECQoAcAAIAg\n",
       "QQ8AAABBgh4AAACCBD0AAAAECXoAAAAIEvQAAAAQJOgBAAAgSNADAABAkKAHAACAIEEPAAAAQYIe\n",
       "AAAAggQ9AAAABAl6AAAACBL0AAAAECToAQAAIEjQAwAAQJCgBwAAgCBBDwAAAEGCHgAAAIIEPQAA\n",
       "AAQJegAAAAgS9AAAABAk6AEAACBI0AMAAECQoAcAAIAgQQ8AAABBgh4AAACCBD0AAAAECXoAAAAI\n",
       "EvQAAAAQJOgBAAAgSNADAABAkKAHAACAIEEPAAAAQYIeAAAAggQ9AAAABAl6AAAACBL0AAAAECTo\n",
       "AQAAIEjQAwAAQJCgBwAAgCBBDwAAAEGCHgAAAIIEPQAAAARtpwcAwD/xySefTE9Y/Pzzz9MTDr2H\n",
       "HnpoesLi5MmT0xMOtTvvvHN6wuLFF1+cnrB4/vnnpycAR5gLPQAAAAQJegAAAAgS9AAAABAk6AEA\n",
       "ACBI0AMAAECQoAcAAIAgQQ8AAABBgh4AAACCBD0AAAAECXoAAAAIEvQAAAAQJOgBAAAgSNADAABA\n",
       "kKAHAACAIEEPAAAAQYIeAAAAggQ9AAAABAl6AAAACBL0AAAAECToAQAAIEjQAwAAQJCgBwAAgCBB\n",
       "DwAAAEGCHgAAAIIEPQAAAAQJegAAAAgS9AAAABAk6AEAACBI0AMAAECQoAcAAIAgQQ8AAABBgh4A\n",
       "AACCBD0AAAAECXoAAAAIEvQAAAAQJOgBAAAgSNADAABAkKAHAACAIEEPAAAAQYIeAAAAggQ9AAAA\n",
       "BAl6AAAACBL0AAAAECToAQAAIEjQAwAAQJCgBwAAgCBBDwAAAEHb6QEA/LXPPvtsesLiyy+/nJ6w\n",
       "eO2116YnLH755ZfpCYtbbrllesIBFy9enJ6wOHny5PQErsNvv/02PQHg0HChBwAAgCBBDwAAAEGC\n",
       "HgAAAIIEPQAAAAQJegAAAAgS9AAAABAk6AEAACBI0AMAAECQoAcAAIAgQQ8AAABBgh4AAACCBD0A\n",
       "AAAECXoAAAAIEvQAAAAQJOgBAAAgSNADAABAkKAHAACAIEEPAAAAQYIeAAAAggQ9AAAABAl6AAAA\n",
       "CBL0AAAAECToAQAAIEjQAwAAQJCgBwAAgCBBDwAAAEGCHgAAAIIEPQAAAAQJegAAAAgS9AAAABAk\n",
       "6AEAACBI0AMAAECQoAcAAIAgQQ8AAABBgh4AAACCBD0AAAAECXoAAAAIEvQAAAAQJOgBAAAgSNAD\n",
       "AABAkKAHAACAIEEPAAAAQYIeAAAAggQ9AAAABAl6AAAACBL0AAAAECToAQAAIEjQAwAAQNBmt9vt\n",
       "T48AAP4/Tp06NT3hgHfffXd6Atfh119/nZ6w2Nvbm56wuHLlyvQE4AhzoQcAAIAgQQ8AAABBgh4A\n",
       "AACCBD0AAAAECXoAAAAIEvQAAAAQJOgBAAAgSNADAABAkKAHAACAIEEPAAAAQYIeAAAAggQ9AAAA\n",
       "BAl6AAAACBL0AAAAECToAQAAIEjQAwAAQJCgBwAAgCBBDwAAAEGCHgAAAIIEPQAAAAQJegAAAAgS\n",
       "9AAAABAk6AEAACBI0AMAAECQoAcAAIAgQQ8AAABBgh4AAACCBD0AAAAECXoAAAAIEvQAAAAQJOgB\n",
       "AAAgSNADAABAkKAHAACAIEEPAAAAQYIeAAAAggQ9AAAABAl6AAAACBL0AAAAECToAQAAIEjQAwAA\n",
       "QJCgBwAAgCBBDwAAAEGCHgAAAIIEPQAAAAQJegAAAAgS9AAAABAk6AEAACBI0AMAAEDQdnoAAPwT\n",
       "x48fn56wePbZZ6cnLJ5++unpCVynP/74Y3rC4ty5c9MTFleuXJmeAHBouNADAABAkKAHAACAIEEP\n",
       "AAAAQYIeAAAAggQ9AAAABAl6AAAACBL0AAAAECToAQAAIEjQAwAAQJCgBwAAgCBBDwAAAEGCHgAA\n",
       "AIIEPQAAAAQJegAAAAgS9AAAABAk6AEAACBI0AMAAECQoAcAAIAgQQ8AAABBgh4AAACCBD0AAAAE\n",
       "CXoAAAAIEvQAAAAQJOgBAAAgSNADAABAkKAHAACAIEEPAAAAQYIeAAAAggQ9AAAABAl6AAAACBL0\n",
       "AAAAECToAQAAIEjQAwAAQJCgBwAAgCBBDwAAAEGCHgAAAIIEPQAAAAQJegAAAAgS9AAAABAk6AEA\n",
       "ACBI0AMAAECQoAcAAIAgQQ8AAABBgh4AAACCBD0AAAAECXoAAAAIEvQAAAAQtJ0eAEDLqVOnpics\n",
       "XnjhhekJi729vekJxB223/Q777wzPQGAa3ChBwAAgCBBDwAAAEGCHgAAAIIEPQAAAAQJegAAAAgS\n",
       "9AAAABAk6AEAACBI0AMAAECQoAcAAIAgQQ8AAABBgh4AAACCBD0AAAAECXoAAAAIEvQAAAAQJOgB\n",
       "AAAgSNADAABAkKAHAACAIEEPAAAAQYIeAAAAggQ9AAAABAl6AAAACBL0AAAAECToAQAAIEjQAwAA\n",
       "QJCgBwAAgCBBDwAAAEGCHgAAAIIEPQAAAAQJegAAAAgS9AAAABAk6AEAACBI0AMAAECQoAcAAIAg\n",
       "QQ8AAABBgh4AAACCBD0AAAAECXoAAAAIEvQAAAAQJOgBAAAgSNADAABAkKAHAACAIEEPAAAAQYIe\n",
       "AAAAggQ9AAAABAl6AAAACBL0AAAAECToAQAAIEjQAwAAQNB2egAAf+2rr76anrA4ceLE9ITFsWO+\n",
       "Tdf8+eef0xMWzzzzzPSExfvvvz89AYAIb0EAAAAQJOgBAAAgSNADAABAkKAHAACAIEEPAAAAQYIe\n",
       "AAAAggQ9AAAABAl6AAAACBL0AAAAECToAQAAIEjQAwAAQJCgBwAAgCBBDwAAAEGCHgAAAIIEPQAA\n",
       "AAQJegAAAAgS9AAAABAk6AEAACBI0AMAAECQoAcAAIAgQQ8AAABBgh4AAACCBD0AAAAECXoAAAAI\n",
       "EvQAAAAQJOgBAAAgSNADAABAkKAHAACAIEEPAAAAQYIeAAAAggQ9AAAABAl6AAAACBL0AAAAECTo\n",
       "AQAAIEjQAwAAQJCgBwAAgCBBDwAAAEGCHgAAAIIEPQAAAAQJegAAAAgS9AAAABAk6AEAACBI0AMA\n",
       "AECQoAcAAIAgQQ8AAABBgh4AAACCBD0AAAAECXoAAAAI2k4PADhszp49Oz1hceutt05PIOyDDz6Y\n",
       "nnDAq6++Oj1h8cMPP0xPAIC/xYUeAAAAggQ9AAAABAl6AAAACBL0AAAAECToAQAAIEjQAwAAQJCg\n",
       "BwAAgCBBDwAAAEGCHgAAAIIEPQAAAAQJegAAAAgS9AAAABAk6AEAACBI0AMAAECQoAcAAIAgQQ8A\n",
       "AABBgh4AAACCBD0AAAAECXoAAAAIEvQAAAAQJOgBAAAgSNADAABAkKAHAACAIEEPAAAAQYIeAAAA\n",
       "ggQ9AAAABAl6AAAACBL0AAAAECToAQAAIEjQAwAAQJCgBwAAgCBBDwAAAEGCHgAAAIIEPQAAAAQJ\n",
       "egAAAAgS9AAAABAk6AEAACBI0AMAAECQoAcAAIAgQQ8AAABBgh4AAACCBD0AAAAECXoAAAAIEvQA\n",
       "AAAQJOgBAAAgSNADAABAkKAHAACAoO30AIDD5vbbb5+eADfMF198MT3hgO3W6wcA3Agu9AAAABAk\n",
       "6AEAACBI0AMAAECQoAcAAIAgQQ8AAABBgh4AAACCBD0AAAAECXoAAAAIEvQAAAAQJOgBAAAgSNAD\n",
       "AABAkKAHAACAIEEPAAAAQYIeAAAAggQ9AAAABAl6AAAACBL0AAAAECToAQAAIEjQAwAAQJCgBwAA\n",
       "gCBBDwAAAEGCHgAAAIIEPQAAAAQJegAAAAgS9AAAABAk6AEAACBI0AMAAECQoAcAAIAgQQ8AAABB\n",
       "gh4AAACCBD0AAAAECXoAAAAIEvQAAAAQJOgBAAAgSNADAABAkKAHAACAIEEPAAAAQYIeAAAAggQ9\n",
       "AAAABAl6AAAACBL0AAAAECToAQAAIEjQAwAAQJCgBwAAgCBBDwAAAEGCHgAAAIIEPQAAAAQJegAA\n",
       "AAja7Ha7/ekRAIfJfffdNz1h8eGHH05PWBw/fnx6AnFff/319ITFpUuXpicsLl++PD1h8f33309P\n",
       "AOAaXOgBAAAgSNADAABAkKAHAACAIEEPAAAAQYIeAAAAggQ9AAAABAl6AAAACBL0AAAAECToAQAA\n",
       "IEjQAwAAQJCgBwAAgCBBDwAAAEGCHgAAAIIEPQAAAAQJegAAAAgS9AAAABAk6AEAACBI0AMAAECQ\n",
       "oAcAAIAgQQ8AAABBgh4AAACCBD0AAAAECXoAAAAIEvQAAAAQJOgBAAAgSNADAABAkKAHAACAIEEP\n",
       "AAAAQYIeAAAAggQ9AAAABAl6AAAACBL0AAAAECToAQAAIEjQAwAAQJCgBwAAgCBBDwAAAEGCHgAA\n",
       "AIIEPQAAAAQJegAAAAgS9AAAABAk6AEAACBI0AMAAECQoAcAAIAgQQ8AAABBgh4AAACCBD0AAAAE\n",
       "CXoAAAAIEvQAAAAQtNntdvvTIwC4tieffHJ6wuLll1+enrC4++67pycs7rrrrukJxH3zzTfTExaX\n",
       "Ll2anrB44403picsfv/99+kJwBHmQg8AAABBgh4AAACCBD0AAAAECXoAAAAIEvQAAAAQJOgBAAAg\n",
       "SNADAABAkKAHAACAIEEPAAAAQYIeAAAAggQ9AAAABAl6AAAACBL0AAAAECToAQAAIEjQAwAAQJCg\n",
       "BwAAgCBBDwAAAEGCHgAAAIIEPQAAAAQJegAAAAgS9AAAABAk6AEAACBI0AMAAECQoAcAAIAgQQ8A\n",
       "AABBgh4AAACCBD0AAAAECXoAAAAIEvQAAAAQJOgBAAAgSNADAABAkKAHAACAIEEPAAAAQYIeAAAA\n",
       "ggQ9AAAABAl6AAAACBL0AAAAECToAQAAIEjQAwAAQJCgBwAAgCBBDwAAAEGCHgAAAIIEPQAAAAQJ\n",
       "egAAAAgS9AAAABAk6AEAACBI0AMAAEDQZrfb7U+PAIC/6957752esDh9+vT0hMXe3t70hAMeeeSR\n",
       "6QmLY8fcN0pef/316QmL8+fPT08AjjBPMAAAAAgS9AAAABAk6AEAACBI0AMAAECQoAcAAIAgQQ8A\n",
       "AABBgh4AAACCBD0AAAAECXoAAAAIEvQAAAAQJOgBAAAgSNADAABAkKAHAACAIEEPAAAAQYIeAAAA\n",
       "ggQ9AAAABAl6AAAACBL0AAAAECToAQAAIEjQAwAAQJCgBwAAgCBBDwAAAEGCHgAAAIIEPQAAAAQJ\n",
       "egAAAAgS9AAAABAk6AEAACBI0AMAAECQoAcAAIAgQQ8AAABBgh4AAACCBD0AAAAECXoAAAAIEvQA\n",
       "AAAQJOgBAAAgSNADAABAkKAHAACAIEEPAAAAQYIeAAAAggQ9AAAABAl6AAAACBL0AAAAECToAQAA\n",
       "IEjQAwAAQJCgBwAAgCBBDwAAAEGCHgAAAIIEPQAAAARtdrvd/vQIAODoePzxx6cnLN58883pCVyH\n",
       "7777bnrC4syZM9MTFlevXp2eANxELvQAAAAQJOgBAAAgSNADAABAkKAHAACAIEEPAAAAQYIeAAAA\n",
       "ggQ9AAAABAl6AAAACBL0AAAAECToAQAAIEjQAwAAQJCgBwAAgCBBDwAAAEGCHgAAAIIEPQAAAAQJ\n",
       "egAAAAgS9AAAABAk6AEAACBI0AMAAECQoAcAAIAgQQ8AAABBgh4AAACCBD0AAAAECXoAAAAIEvQA\n",
       "AAAQJOgBAAAgSNADAABAkKAHAACAIEEPAAAAQYIeAAAAggQ9AAAABAl6AAAACBL0AAAAECToAQAA\n",
       "IEjQAwAAQJCgBwAAgCBBDwAAAEGCHgAAAIIEPQAAAAQJegAAAAgS9AAAABAk6AEAACBI0AMAAECQ\n",
       "oAcAAIAgQQ8AAABBgh4AAACCBD0AAAAECXoAAAAI2ux2u/3pEfBvdvr06ekJi9tuu216wgGXL1+e\n",
       "ngDcRJvNZnrC4ty5c9MTFi+99NL0BK7DxYsXpycsLly4MD0BuIlc6AEAACBI0AMAAECQoAcAAIAg\n",
       "QQ8AAABBgh4AAACCBD0AAAAECXoAAAAIEvQAAAAQJOgBAAAgSNADAABAkKAHAACAIEEPAAAAQYIe\n",
       "AAAAggQ9AAAABAl6AAAACBL0AAAAECToAQAAIEjQAwAAQJCgBwAAgCBBDwAAAEGCHgAAAIIEPQAA\n",
       "AAQJegAAAAgS9AAAABAk6AEAACBI0AMAAECQoAcAAIAgQQ8AAABBgh4AAACCBD0AAAAECXoAAAAI\n",
       "EvQAAAAQJOgBAAAgSNADAABAkKAHAACAIEEPAAAAQYIeAAAAggQ9AAAABAl6AAAACBL0AAAAECTo\n",
       "AQAAIEjQAwAAQJCgBwAAgCBBDwAAAEGCHgAAAIIEPQAAAAQJegAAAAjaTg+AG+3tt9+enrB49NFH\n",
       "pycsttvD97d/8MEHpycszp8/Pz0B/tU2m830hMX9998/PYGwJ554YnrC4sKFC9MTgJvIhR4AAACC\n",
       "BD0AAAAECXoAAAAIEvQAAAAQJOgBAAAgSNADAABAkKAHAACAIEEPAAAAQYIeAAAAggQ9AAAABAl6\n",
       "AAAACBL0AAAAECToAQAAIEjQAwAAQJCgBwAAgCBBDwAAAEGCHgAAAIIEPQAAAAQJegAAAAgS9AAA\n",
       "ABAk6AEAACBI0AMAAECQoAcAAIAgQQ8AAABBgh4AAACCBD0AAAAECXoAAAAIEvQAAAAQJOgBAAAg\n",
       "SNADAABAkKAHAACAIEEPAAAAQYIeAAAAggQ9AAAABAl6AAAACBL0AAAAECToAQAAIEjQAwAAQJCg\n",
       "BwAAgCBBDwAAAEGCHgAAAIIEPQAAAAQJegAAAAgS9AAAABAk6AEAACBI0AMAAECQoAcAAIAgQQ8A\n",
       "AABB2+kBcKPdc8890xMWJ06cmJ5w6J09e3Z6wuKxxx6bnrD49NNPpycs3nvvvekJh9qZM2emJywe\n",
       "eOCB6QkHHDt2uO4JDz/88PQEwr799tvpCcARdrieqAAAAMD/RNADAABAkKAHAACAIEEPAAAAQYIe\n",
       "AAAAggQ9AAAABAl6AAAACBL0AAAAECToAQAAIEjQAwAAQJCgBwAAgCBBDwAAAEGCHgAAAIIEPQAA\n",
       "AAQJegAAAAgS9P9tzw5tIo3CMIxmMKhfYWmAKigCTQNkNAmFUAahCsyIkVQBeuSsvkHtZsO3z3JO\n",
       "Ba+8z/0AAAAgSNADAABAkKAHAACAIEEPAAAAQYIeAAAAggQ9AAAABAl6AAAACBL0AAAAECToAQAA\n",
       "IEjQAwAAQJCgBwAAgCBBDwAAAEGCHgAAAIIEPQAAAAQJegAAAAgS9AAAABAk6AEAACBI0AMAAECQ\n",
       "oAcAAIAgQQ8AAABBgh4AAACCBD0AAAAECXoAAAAIEvQAAAAQJOgBAAAgSNADAABAkKAHAACAIEEP\n",
       "AAAAQYIeAAAAggQ9AAAABAl6AAAACBL0AAAAECToAQAAIGi3bdt5egT8Tff399MTFg8PD9MTFtfX\n",
       "19MTAOCPvb29TU9Y7Pf76QmLj4+P6QnAN3KhBwAAgCBBDwAAAEGCHgAAAIIEPQAAAAQJegAAAAgS\n",
       "9AAAABAk6AEAACBI0AMAAECQoAcAAIAgQQ8AAABBgh4AAACCBD0AAAAECXoAAAAIEvQAAAAQJOgB\n",
       "AAAgSNADAABAkKAHAACAIEEPAAAAQYIeAAAAggQ9AAAABAl6AAAACBL0AAAAECToAQAAIEjQAwAA\n",
       "QJCgBwAAgCBBDwAAAEGCHgAAAIIEPQAAAAQJegAAAAgS9AAAABAk6AEAACBI0AMAAECQoAcAAIAg\n",
       "QQ8AAABBgh4AAACCBD0AAAAECXoAAAAIEvQAAAAQJOgBAAAgSNADAABAkKAHAACAIEEPAAAAQYIe\n",
       "AAAAggQ9AAAABAl6AAAACBL0AAAAECToAQAAIGi3bdt5egT8z66urqYnLO7u7qYnfPH4+Dg9YXF5\n",
       "eTk9AfhGp9NpesLiX9vz/Pw8PWHx8vIyPWHx+fk5PQH4wVzoAQAAIEjQAwAAQJCgBwAAgCBBDwAA\n",
       "AEGCHgAAAIIEPQAAAAQJegAAAAgS9AAAABAk6AEAACBI0AMAAECQoAcAAIAgQQ8AAABBgh4AAACC\n",
       "BD0AAAAECXoAAAAIEvQAAAAQJOgBAAAgSNADAABAkKAHAACAIEEPAAAAQYIeAAAAggQ9AAAABAl6\n",
       "AAAACBL0AAAAECToAQAAIEjQAwAAQJCgBwAAgCBBDwAAAEGCHgAAAIIEPQAAAAQJegAAAAgS9AAA\n",
       "ABAk6AEAACBI0AMAAECQoAcAAIAgQQ8AAABBgh4AAACCBD0AAAAECXoAAAAIEvQAAAAQJOgBAAAg\n",
       "SNADAABAkKAHAACAIEEPAAAAQYIeAAAAggQ9AAAABAl6AAAACBL0AAAAELTbtu08PQL42W5vb6cn\n",
       "LG5ubqYnLJ6enqYnLC4u/AWXvL6+Tk/44v39fXrC4ng8Tk9YHA6H6QkARHiVAQAAQJCgBwAAgCBB\n",
       "DwAAAEGCHgAAAIIEPQAAAAQJegAAAAgS9AAAABAk6AEAACBI0AMAAECQoAcAAIAgQQ8AAABBgh4A\n",
       "AACCBD0AAAAECXoAAAAIEvQAAAAQJOgBAAAgSNADAABAkKAHAACAIEEPAAAAQYIeAAAAggQ9AAAA\n",
       "BAl6AAAACBL0AAAAECToAQAAIEjQAwAAQJCgBwAAgCBBDwAAAEGCHgAAAIIEPQAAAAQJegAAAAgS\n",
       "9AAAABAk6AEAACBI0AMAAECQoAcAAIAgQQv72SYAAAUESURBVA8AAABBgh4AAACCBD0AAAAECXoA\n",
       "AAAIEvQAAAAQJOgBAAAgSNADAABAkKAHAACAIEEPAAAAQYIeAAAAggQ9AAAABAl6AAAACBL0AAAA\n",
       "ECToAQAAIGi3bdt5egQAAADwe1zoAQAAIEjQAwAAQJCgBwAAgCBBDwAAAEGCHgAAAIIEPQAAAAQJ\n",
       "egAAAAgS9AAAABAk6AEAACBI0AMAAECQoAcAAIAgQQ8AAABBgh4AAACCBD0AAAAECXoAAAAIEvQA\n",
       "AAAQJOgBAAAgSNADAABAkKAHAACAIEEPAAAAQYIeAAAAggQ9AAAABAl6AAAACBL0AAAAECToAQAA\n",
       "IEjQAwAAQJCgBwAAgCBBDwAAAEGCHgAAAIIEPQAAAAQJegAAAAgS9AAAABAk6AEAACBI0AMAAECQ\n",
       "oAcAAIAgQQ8AAABBgh4AAACCBD0AAAAECXoAAAAIEvQAAAAQJOgBAAAgSNADAABAkKAHAACAIEEP\n",
       "AAAAQYIeAAAAggQ9AAAABAl6AAAACBL0AAAAECToAQAAIEjQAwAAQJCgBwAAgCBBDwAAAEGCHgAA\n",
       "AIIEPQAAAAQJegAAAAgS9AAAABAk6AEAACBI0AMAAECQoAcAAIAgQQ8AAABBgh4AAACCBD0AAAAE\n",
       "CXoAAAAIEvQAAAAQJOgBAAAgSNADAABAkKAHAACAIEEPAAAAQYIeAAAAggQ9AAAABAl6AAAACBL0\n",
       "AAAAECToAQAAIEjQAwAAQJCgBwAAgCBBDwAAAEGCHgAAAIIEPQAAAAQJegAAAAgS9AAAABAk6AEA\n",
       "ACBI0AMAAECQoAcAAIAgQQ8AAABBgh4AAACCBD0AAAAECXoAAAAIEvQAAAAQJOgBAAAgSNADAABA\n",
       "kKAHAACAIEEPAAAAQYIeAAAAggQ9AAAABAl6AAAACBL0AAAAECToAQAAIEjQAwAAQJCgBwAAgCBB\n",
       "DwAAAEGCHgAAAIIEPQAAAAQJegAAAAgS9AAAABAk6AEAACBI0AMAAECQoAcAAIAgQQ8AAABBgh4A\n",
       "AACCBD0AAAAECXoAAAAIEvQAAAAQJOgBAAAgSNADAABAkKAHAACAIEEPAAAAQYIeAAAAggQ9AAAA\n",
       "BAl6AAAACBL0AAAAECToAQAAIEjQAwAAQJCgBwAAgCBBDwAAAEGCHgAAAIIEPQAAAAQJegAAAAgS\n",
       "9AAAABAk6AEAACBI0AMAAECQoAcAAIAgQQ8AAABBgh4AAACCBD0AAAAECXoAAAAIEvQAAAAQJOgB\n",
       "AAAgSNADAABAkKAHAACAIEEPAAAAQYIeAAAAggQ9AAAABAl6AAAACBL0AAAAECToAQAAIEjQAwAA\n",
       "QJCgBwAAgCBBDwAAAEGCHgAAAIIEPQAAAAQJegAAAAgS9AAAABAk6AEAACBI0AMAAECQoAcAAIAg\n",
       "QQ8AAABBgh4AAACCBD0AAAAECXoAAAAIEvQAAAAQJOgBAAAgSNADAABAkKAHAACAIEEPAAAAQYIe\n",
       "AAAAggQ9AAAABAl6AAAACBL0AAAAECToAQAAIEjQAwAAQJCgBwAAgCBBDwAAAEGCHgAAAIIEPQAA\n",
       "AAQJegAAAAgS9AAAABAk6AEAACBI0AMAAECQoAcAAIAgQQ8AAABBgh4AAACCBD0AAAAECXoAAAAI\n",
       "EvQAAAAQJOgBAAAgSNADAABAkKAHAACAIEEPAAAAQYIeAAAAggQ9AAAABAl6AAAACBL0AAAAECTo\n",
       "AQAAIOgX3xjaISxz9uYAAAAASUVORK5CYII=\n",
       "\" transform=\"translate(1341, 123)\"/>\n",
       "</g>\n",
       "</svg>\n"
      ],
      "text/html": [
       "<?xml version=\"1.0\" encoding=\"utf-8\"?>\n",
       "<svg xmlns=\"http://www.w3.org/2000/svg\" xmlns:xlink=\"http://www.w3.org/1999/xlink\" width=\"600\" height=\"400\" viewBox=\"0 0 2400 1600\">\n",
       "<defs>\n",
       "  <clipPath id=\"clip630\">\n",
       "    <rect x=\"0\" y=\"0\" width=\"2400\" height=\"1600\"/>\n",
       "  </clipPath>\n",
       "</defs>\n",
       "<path clip-path=\"url(#clip630)\" d=\"M0 1600 L2400 1600 L2400 0 L0 0  Z\" fill=\"#ffffff\" fill-rule=\"evenodd\" fill-opacity=\"1\"/>\n",
       "<defs>\n",
       "  <clipPath id=\"clip631\">\n",
       "    <rect x=\"480\" y=\"0\" width=\"1681\" height=\"1600\"/>\n",
       "  </clipPath>\n",
       "</defs>\n",
       "<path clip-path=\"url(#clip630)\" d=\"M140.696 1486.45 L1152.76 1486.45 L1152.76 123.472 L140.696 123.472  Z\" fill=\"#ffffff\" fill-rule=\"evenodd\" fill-opacity=\"1\"/>\n",
       "<defs>\n",
       "  <clipPath id=\"clip632\">\n",
       "    <rect x=\"140\" y=\"123\" width=\"1013\" height=\"1364\"/>\n",
       "  </clipPath>\n",
       "</defs>\n",
       "<polyline clip-path=\"url(#clip632)\" style=\"stroke:#000000; stroke-linecap:round; stroke-linejoin:round; stroke-width:2; stroke-opacity:0.1; fill:none\" points=\"303.348,1486.45 303.348,123.472 \"/>\n",
       "<polyline clip-path=\"url(#clip632)\" style=\"stroke:#000000; stroke-linecap:round; stroke-linejoin:round; stroke-width:2; stroke-opacity:0.1; fill:none\" points=\"484.073,1486.45 484.073,123.472 \"/>\n",
       "<polyline clip-path=\"url(#clip632)\" style=\"stroke:#000000; stroke-linecap:round; stroke-linejoin:round; stroke-width:2; stroke-opacity:0.1; fill:none\" points=\"664.798,1486.45 664.798,123.472 \"/>\n",
       "<polyline clip-path=\"url(#clip632)\" style=\"stroke:#000000; stroke-linecap:round; stroke-linejoin:round; stroke-width:2; stroke-opacity:0.1; fill:none\" points=\"845.523,1486.45 845.523,123.472 \"/>\n",
       "<polyline clip-path=\"url(#clip632)\" style=\"stroke:#000000; stroke-linecap:round; stroke-linejoin:round; stroke-width:2; stroke-opacity:0.1; fill:none\" points=\"1026.25,1486.45 1026.25,123.472 \"/>\n",
       "<polyline clip-path=\"url(#clip632)\" style=\"stroke:#000000; stroke-linecap:round; stroke-linejoin:round; stroke-width:2; stroke-opacity:0.1; fill:none\" points=\"140.696,1267.4 1152.76,1267.4 \"/>\n",
       "<polyline clip-path=\"url(#clip632)\" style=\"stroke:#000000; stroke-linecap:round; stroke-linejoin:round; stroke-width:2; stroke-opacity:0.1; fill:none\" points=\"140.696,1024.01 1152.76,1024.01 \"/>\n",
       "<polyline clip-path=\"url(#clip632)\" style=\"stroke:#000000; stroke-linecap:round; stroke-linejoin:round; stroke-width:2; stroke-opacity:0.1; fill:none\" points=\"140.696,780.621 1152.76,780.621 \"/>\n",
       "<polyline clip-path=\"url(#clip632)\" style=\"stroke:#000000; stroke-linecap:round; stroke-linejoin:round; stroke-width:2; stroke-opacity:0.1; fill:none\" points=\"140.696,537.233 1152.76,537.233 \"/>\n",
       "<polyline clip-path=\"url(#clip632)\" style=\"stroke:#000000; stroke-linecap:round; stroke-linejoin:round; stroke-width:2; stroke-opacity:0.1; fill:none\" points=\"140.696,293.844 1152.76,293.844 \"/>\n",
       "<path clip-path=\"url(#clip630)\" d=\"M96.9573 20.1573 L85.8578 50.2555 L108.097 50.2555 L96.9573 20.1573 M92.3392 12.096 L101.616 12.096 L124.665 72.576 L116.159 72.576 L110.649 57.061 L83.3867 57.061 L77.8775 72.576 L69.2491 72.576 L92.3392 12.096 Z\" fill=\"#000000\" fill-rule=\"nonzero\" fill-opacity=\"1\" /><path clip-path=\"url(#clip630)\" d=\"M161.569 34.0924 L161.569 9.54393 L169.023 9.54393 L169.023 72.576 L161.569 72.576 L161.569 65.7705 Q159.22 69.8214 155.614 71.8063 Q152.05 73.7508 147.026 73.7508 Q138.803 73.7508 133.618 67.1883 Q128.473 60.6258 128.473 49.9314 Q128.473 39.2371 133.618 32.6746 Q138.803 26.1121 147.026 26.1121 Q152.05 26.1121 155.614 28.0971 Q159.22 30.0415 161.569 34.0924 M136.17 49.9314 Q136.17 58.1548 139.532 62.8538 Q142.935 67.5124 148.849 67.5124 Q154.764 67.5124 158.166 62.8538 Q161.569 58.1548 161.569 49.9314 Q161.569 41.7081 158.166 37.0496 Q154.764 32.3505 148.849 32.3505 Q142.935 32.3505 139.532 37.0496 Q136.17 41.7081 136.17 49.9314 Z\" fill=\"#000000\" fill-rule=\"nonzero\" fill-opacity=\"1\" /><path clip-path=\"url(#clip630)\" d=\"M179.029 27.2059 L186.928 27.2059 L201.106 65.2844 L215.284 27.2059 L223.183 27.2059 L206.17 72.576 L196.042 72.576 L179.029 27.2059 Z\" fill=\"#000000\" fill-rule=\"nonzero\" fill-opacity=\"1\" /><path clip-path=\"url(#clip630)\" d=\"M272.28 48.0275 L272.28 51.6733 L238.01 51.6733 Q238.496 59.3701 242.628 63.421 Q246.8 67.4314 254.213 67.4314 Q258.507 67.4314 262.518 66.3781 Q266.569 65.3249 270.539 63.2184 L270.539 70.267 Q266.528 71.9684 262.315 72.8596 Q258.102 73.7508 253.768 73.7508 Q242.911 73.7508 236.551 67.4314 Q230.232 61.1119 230.232 50.3365 Q230.232 39.1965 236.227 32.6746 Q242.263 26.1121 252.471 26.1121 Q261.627 26.1121 266.933 32.0264 Q272.28 37.9003 272.28 48.0275 M264.827 45.84 Q264.746 39.7232 261.383 36.0774 Q258.062 32.4315 252.552 32.4315 Q246.314 32.4315 242.547 35.9558 Q238.82 39.4801 238.253 45.8805 L264.827 45.84 Z\" fill=\"#000000\" fill-rule=\"nonzero\" fill-opacity=\"1\" /><path clip-path=\"url(#clip630)\" d=\"M310.804 34.1734 Q309.549 33.4443 308.05 33.1202 Q306.592 32.7556 304.809 32.7556 Q298.49 32.7556 295.087 36.8875 Q291.725 40.9789 291.725 48.6757 L291.725 72.576 L284.231 72.576 L284.231 27.2059 L291.725 27.2059 L291.725 34.2544 Q294.074 30.1225 297.842 28.1376 Q301.609 26.1121 306.997 26.1121 Q307.766 26.1121 308.698 26.2337 Q309.63 26.3147 310.764 26.5172 L310.804 34.1734 Z\" fill=\"#000000\" fill-rule=\"nonzero\" fill-opacity=\"1\" /><path clip-path=\"url(#clip630)\" d=\"M347.546 28.5427 L347.546 35.5912 Q344.386 33.9709 340.984 33.1607 Q337.581 32.3505 333.935 32.3505 Q328.385 32.3505 325.59 34.0519 Q322.836 35.7533 322.836 39.156 Q322.836 41.7486 324.821 43.2475 Q326.806 44.7058 332.801 46.0426 L335.353 46.6097 Q343.293 48.3111 346.614 51.4303 Q349.977 54.509 349.977 60.0587 Q349.977 66.3781 344.954 70.0644 Q339.971 73.7508 331.221 73.7508 Q327.575 73.7508 323.605 73.0216 Q319.676 72.3329 315.301 70.9151 L315.301 63.2184 Q319.433 65.3654 323.443 66.4591 Q327.454 67.5124 331.383 67.5124 Q336.649 67.5124 339.485 65.73 Q342.321 63.9071 342.321 60.6258 Q342.321 57.5877 340.255 55.9673 Q338.229 54.3469 331.302 52.8481 L328.709 52.2405 Q321.782 50.7821 318.704 47.7845 Q315.625 44.7463 315.625 39.4801 Q315.625 33.0797 320.162 29.5959 Q324.699 26.1121 333.044 26.1121 Q337.176 26.1121 340.822 26.7198 Q344.468 27.3274 347.546 28.5427 Z\" fill=\"#000000\" fill-rule=\"nonzero\" fill-opacity=\"1\" /><path clip-path=\"url(#clip630)\" d=\"M382.465 49.7694 Q373.431 49.7694 369.948 51.8354 Q366.464 53.9013 366.464 58.8839 Q366.464 62.8538 369.056 65.2034 Q371.69 67.5124 376.186 67.5124 Q382.384 67.5124 386.111 63.1374 Q389.878 58.7219 389.878 51.4303 L389.878 49.7694 L382.465 49.7694 M397.332 46.6907 L397.332 72.576 L389.878 72.576 L389.878 65.6895 Q387.326 69.8214 383.518 71.8063 Q379.71 73.7508 374.201 73.7508 Q367.234 73.7508 363.102 69.8619 Q359.01 65.9325 359.01 59.3701 Q359.01 51.7138 364.114 47.825 Q369.259 43.9361 379.427 43.9361 L389.878 43.9361 L389.878 43.2069 Q389.878 38.0623 386.475 35.2672 Q383.113 32.4315 376.996 32.4315 Q373.107 32.4315 369.421 33.3632 Q365.735 34.295 362.332 36.1584 L362.332 29.2718 Q366.423 27.692 370.272 26.9223 Q374.12 26.1121 377.766 26.1121 Q387.61 26.1121 392.471 31.2163 Q397.332 36.3204 397.332 46.6907 Z\" fill=\"#000000\" fill-rule=\"nonzero\" fill-opacity=\"1\" /><path clip-path=\"url(#clip630)\" d=\"M438.975 34.1734 Q437.719 33.4443 436.22 33.1202 Q434.762 32.7556 432.98 32.7556 Q426.66 32.7556 423.258 36.8875 Q419.895 40.9789 419.895 48.6757 L419.895 72.576 L412.401 72.576 L412.401 27.2059 L419.895 27.2059 L419.895 34.2544 Q422.245 30.1225 426.012 28.1376 Q429.78 26.1121 435.167 26.1121 Q435.937 26.1121 436.869 26.2337 Q437.8 26.3147 438.935 26.5172 L438.975 34.1734 Z\" fill=\"#000000\" fill-rule=\"nonzero\" fill-opacity=\"1\" /><path clip-path=\"url(#clip630)\" d=\"M446.793 27.2059 L454.247 27.2059 L454.247 72.576 L446.793 72.576 L446.793 27.2059 M446.793 9.54393 L454.247 9.54393 L454.247 18.9825 L446.793 18.9825 L446.793 9.54393 Z\" fill=\"#000000\" fill-rule=\"nonzero\" fill-opacity=\"1\" /><path clip-path=\"url(#clip630)\" d=\"M490.462 49.7694 Q481.429 49.7694 477.945 51.8354 Q474.461 53.9013 474.461 58.8839 Q474.461 62.8538 477.054 65.2034 Q479.687 67.5124 484.183 67.5124 Q490.381 67.5124 494.108 63.1374 Q497.875 58.7219 497.875 51.4303 L497.875 49.7694 L490.462 49.7694 M505.329 46.6907 L505.329 72.576 L497.875 72.576 L497.875 65.6895 Q495.323 69.8214 491.515 71.8063 Q487.707 73.7508 482.198 73.7508 Q475.231 73.7508 471.099 69.8619 Q467.007 65.9325 467.007 59.3701 Q467.007 51.7138 472.111 47.825 Q477.256 43.9361 487.424 43.9361 L497.875 43.9361 L497.875 43.2069 Q497.875 38.0623 494.472 35.2672 Q491.11 32.4315 484.993 32.4315 Q481.105 32.4315 477.418 33.3632 Q473.732 34.295 470.329 36.1584 L470.329 29.2718 Q474.421 27.692 478.269 26.9223 Q482.117 26.1121 485.763 26.1121 Q495.607 26.1121 500.468 31.2163 Q505.329 36.3204 505.329 46.6907 Z\" fill=\"#000000\" fill-rule=\"nonzero\" fill-opacity=\"1\" /><path clip-path=\"url(#clip630)\" d=\"M520.682 9.54393 L528.136 9.54393 L528.136 72.576 L520.682 72.576 L520.682 9.54393 Z\" fill=\"#000000\" fill-rule=\"nonzero\" fill-opacity=\"1\" /><path clip-path=\"url(#clip630)\" d=\"M608.911 48.0275 L608.911 51.6733 L574.64 51.6733 Q575.126 59.3701 579.258 63.421 Q583.43 67.4314 590.844 67.4314 Q595.137 67.4314 599.148 66.3781 Q603.199 65.3249 607.169 63.2184 L607.169 70.267 Q603.158 71.9684 598.945 72.8596 Q594.732 73.7508 590.398 73.7508 Q579.541 73.7508 573.182 67.4314 Q566.862 61.1119 566.862 50.3365 Q566.862 39.1965 572.857 32.6746 Q578.893 26.1121 589.102 26.1121 Q598.257 26.1121 603.563 32.0264 Q608.911 37.9003 608.911 48.0275 M601.457 45.84 Q601.376 39.7232 598.014 36.0774 Q594.692 32.4315 589.183 32.4315 Q582.944 32.4315 579.177 35.9558 Q575.45 39.4801 574.883 45.8805 L601.457 45.84 Z\" fill=\"#000000\" fill-rule=\"nonzero\" fill-opacity=\"1\" /><path clip-path=\"url(#clip630)\" d=\"M657.4 27.2059 L640.994 49.2833 L658.251 72.576 L649.46 72.576 L636.254 54.752 L623.048 72.576 L614.258 72.576 L631.879 48.8377 L615.757 27.2059 L624.547 27.2059 L636.578 43.369 L648.609 27.2059 L657.4 27.2059 Z\" fill=\"#000000\" fill-rule=\"nonzero\" fill-opacity=\"1\" /><path clip-path=\"url(#clip630)\" d=\"M689.402 49.7694 Q680.368 49.7694 676.885 51.8354 Q673.401 53.9013 673.401 58.8839 Q673.401 62.8538 675.994 65.2034 Q678.627 67.5124 683.123 67.5124 Q689.321 67.5124 693.048 63.1374 Q696.815 58.7219 696.815 51.4303 L696.815 49.7694 L689.402 49.7694 M704.269 46.6907 L704.269 72.576 L696.815 72.576 L696.815 65.6895 Q694.263 69.8214 690.455 71.8063 Q686.647 73.7508 681.138 73.7508 Q674.171 73.7508 670.039 69.8619 Q665.947 65.9325 665.947 59.3701 Q665.947 51.7138 671.051 47.825 Q676.196 43.9361 686.364 43.9361 L696.815 43.9361 L696.815 43.2069 Q696.815 38.0623 693.412 35.2672 Q690.05 32.4315 683.933 32.4315 Q680.044 32.4315 676.358 33.3632 Q672.672 34.295 669.269 36.1584 L669.269 29.2718 Q673.36 27.692 677.209 26.9223 Q681.057 26.1121 684.703 26.1121 Q694.547 26.1121 699.408 31.2163 Q704.269 36.3204 704.269 46.6907 Z\" fill=\"#000000\" fill-rule=\"nonzero\" fill-opacity=\"1\" /><path clip-path=\"url(#clip630)\" d=\"M754.946 35.9153 Q757.741 30.8922 761.63 28.5022 Q765.518 26.1121 770.785 26.1121 Q777.874 26.1121 781.722 31.0947 Q785.57 36.0368 785.57 45.1919 L785.57 72.576 L778.076 72.576 L778.076 45.4349 Q778.076 38.913 775.767 35.7533 Q773.458 32.5936 768.719 32.5936 Q762.926 32.5936 759.564 36.4419 Q756.201 40.2903 756.201 46.9338 L756.201 72.576 L748.707 72.576 L748.707 45.4349 Q748.707 38.8725 746.398 35.7533 Q744.089 32.5936 739.269 32.5936 Q733.557 32.5936 730.195 36.4824 Q726.832 40.3308 726.832 46.9338 L726.832 72.576 L719.338 72.576 L719.338 27.2059 L726.832 27.2059 L726.832 34.2544 Q729.384 30.082 732.949 28.0971 Q736.514 26.1121 741.416 26.1121 Q746.358 26.1121 749.801 28.6237 Q753.285 31.1352 754.946 35.9153 Z\" fill=\"#000000\" fill-rule=\"nonzero\" fill-opacity=\"1\" /><path clip-path=\"url(#clip630)\" d=\"M807.648 65.7705 L807.648 89.8329 L800.154 89.8329 L800.154 27.2059 L807.648 27.2059 L807.648 34.0924 Q809.997 30.0415 813.562 28.0971 Q817.168 26.1121 822.15 26.1121 Q830.414 26.1121 835.559 32.6746 Q840.744 39.2371 840.744 49.9314 Q840.744 60.6258 835.559 67.1883 Q830.414 73.7508 822.15 73.7508 Q817.168 73.7508 813.562 71.8063 Q809.997 69.8214 807.648 65.7705 M833.007 49.9314 Q833.007 41.7081 829.604 37.0496 Q826.242 32.3505 820.327 32.3505 Q814.413 32.3505 811.01 37.0496 Q807.648 41.7081 807.648 49.9314 Q807.648 58.1548 811.01 62.8538 Q814.413 67.5124 820.327 67.5124 Q826.242 67.5124 829.604 62.8538 Q833.007 58.1548 833.007 49.9314 Z\" fill=\"#000000\" fill-rule=\"nonzero\" fill-opacity=\"1\" /><path clip-path=\"url(#clip630)\" d=\"M853.099 9.54393 L860.553 9.54393 L860.553 72.576 L853.099 72.576 L853.099 9.54393 Z\" fill=\"#000000\" fill-rule=\"nonzero\" fill-opacity=\"1\" /><path clip-path=\"url(#clip630)\" d=\"M914.956 48.0275 L914.956 51.6733 L880.686 51.6733 Q881.172 59.3701 885.304 63.421 Q889.476 67.4314 896.889 67.4314 Q901.183 67.4314 905.194 66.3781 Q909.245 65.3249 913.214 63.2184 L913.214 70.267 Q909.204 71.9684 904.991 72.8596 Q900.778 73.7508 896.444 73.7508 Q885.587 73.7508 879.227 67.4314 Q872.908 61.1119 872.908 50.3365 Q872.908 39.1965 878.903 32.6746 Q884.939 26.1121 895.147 26.1121 Q904.302 26.1121 909.609 32.0264 Q914.956 37.9003 914.956 48.0275 M907.503 45.84 Q907.422 39.7232 904.059 36.0774 Q900.738 32.4315 895.228 32.4315 Q888.99 32.4315 885.223 35.9558 Q881.496 39.4801 880.929 45.8805 L907.503 45.84 Z\" fill=\"#000000\" fill-rule=\"nonzero\" fill-opacity=\"1\" /><path clip-path=\"url(#clip630)\" d=\"M929.094 62.2867 L937.641 62.2867 L937.641 72.576 L929.094 72.576 L929.094 62.2867 M929.094 29.6769 L937.641 29.6769 L937.641 39.9662 L929.094 39.9662 L929.094 29.6769 Z\" fill=\"#000000\" fill-rule=\"nonzero\" fill-opacity=\"1\" /><path clip-path=\"url(#clip630)\" d=\"M1007.36 39.9662 Q1013.23 41.222 1016.51 45.1919 Q1019.83 49.1618 1019.83 54.9951 Q1019.83 63.9476 1013.68 68.8492 Q1007.52 73.7508 996.177 73.7508 Q992.369 73.7508 988.318 72.9811 Q984.308 72.2519 980.014 70.7531 L980.014 62.8538 Q983.417 64.8388 987.468 65.8515 Q991.518 66.8642 995.934 66.8642 Q1003.63 66.8642 1007.64 63.826 Q1011.69 60.7879 1011.69 54.9951 Q1011.69 49.6479 1007.92 46.6502 Q1004.2 43.612 997.514 43.612 L990.465 43.612 L990.465 36.8875 L997.838 36.8875 Q1003.87 36.8875 1007.07 34.4975 Q1010.27 32.067 1010.27 27.5299 Q1010.27 22.8714 1006.95 20.4004 Q1003.67 17.8888 997.514 17.8888 Q994.152 17.8888 990.303 18.618 Q986.455 19.3471 981.837 20.8865 L981.837 13.5948 Q986.495 12.2985 990.546 11.6504 Q994.638 11.0023 998.243 11.0023 Q1007.56 11.0023 1012.99 15.2557 Q1018.42 19.4686 1018.42 26.6793 Q1018.42 31.7024 1015.54 35.1862 Q1012.66 38.6294 1007.36 39.9662 Z\" fill=\"#000000\" fill-rule=\"nonzero\" fill-opacity=\"1\" /><path clip-path=\"url(#clip630)\" d=\"M1056.9 46.5287 L1078.73 46.5287 L1078.73 53.1722 L1056.9 53.1722 L1056.9 46.5287 Z\" fill=\"#000000\" fill-rule=\"nonzero\" fill-opacity=\"1\" /><path clip-path=\"url(#clip630)\" d=\"M1091.58 31.7429 L1091.58 24.3702 L1143.51 43.2069 L1143.51 49.9314 L1091.58 68.7682 L1091.58 61.3955 L1133.3 46.6097 L1091.58 31.7429 Z\" fill=\"#000000\" fill-rule=\"nonzero\" fill-opacity=\"1\" /><path clip-path=\"url(#clip630)\" d=\"M1187.62 12.096 L1219.75 12.096 L1219.75 18.9825 L1195.12 18.9825 L1195.12 33.8088 Q1196.9 33.2012 1198.68 32.9176 Q1200.46 32.5936 1202.25 32.5936 Q1212.37 32.5936 1218.29 38.1433 Q1224.2 43.6931 1224.2 53.1722 Q1224.2 62.9348 1218.13 68.3631 Q1212.05 73.7508 1200.99 73.7508 Q1197.18 73.7508 1193.21 73.1026 Q1189.28 72.4545 1185.07 71.1582 L1185.07 62.9348 Q1188.72 64.9198 1192.61 65.892 Q1196.49 66.8642 1200.83 66.8642 Q1207.84 66.8642 1211.93 63.1779 Q1216.02 59.4916 1216.02 53.1722 Q1216.02 46.8528 1211.93 43.1664 Q1207.84 39.4801 1200.83 39.4801 Q1197.55 39.4801 1194.27 40.2093 Q1191.03 40.9384 1187.62 42.4778 L1187.62 12.096 Z\" fill=\"#000000\" fill-rule=\"nonzero\" fill-opacity=\"1\" /><g clip-path=\"url(#clip632)\">\n",
       "<image width=\"1012\" height=\"1363\" xlink:href=\"data:image/png;base64,\n",
       "iVBORw0KGgoAAAANSUhEUgAAA/QAAAVTCAYAAABj7GMOAAAgAElEQVR4nOzZvYslZYOH4e2dNnE4\n",
       "4oCgIAYaiBjUwXjMRTAw0NREAz9CU0MjUQwdEMREo0ET7QkM/M40ODUgIoiREygGCq3BIP2GS22/\n",
       "9NI74/vUPX1df8GPqjqn6ubZ22w2R/+1MtM0jZ4AN808z6MnrJ7ffItn+mRre57XeL9co5O5Pi1r\n",
       "u1/83zzTJ/NMn2xtz89/jx4AAAAAnJ6gBwAAgCBBDwAAAEGCHgAAAIIEPQAAAAQJegAAAAgS9AAA\n",
       "ABAk6AEAACBI0AMAAECQoAcAAIAgQQ8AAABBgh4AAACCBD0AAAAECXoAAAAIEvQAAAAQJOgBAAAg\n",
       "SNADAABAkKAHAACAIEEPAAAAQYIeAAAAggQ9AAAABAl6AAAACBL0AAAAECToAQAAIEjQAwAAQJCg\n",
       "BwAAgCBBDwAAAEGCHgAAAIIEPQAAAAQJegAAAAgS9AAAABAk6AEAACBI0AMAAECQoAcAAIAgQQ8A\n",
       "AABBgh4AAACCBD0AAAAECXoAAAAIEvQAAAAQJOgBAAAgSNADAABAkKAHAACAIEEPAAAAQYIeAAAA\n",
       "ggQ9AAAABAl6AAAACBL0AAAAECToAQAAIGh/mqbRG46Z53n0hIW1XSPX52SuD8C6+Z9ucX1a1vb7\n",
       "osczdLK1/Sc6oQcAAIAgQQ8AAABBgh4AAACCBD0AAAAECXoAAAAIEvQAAAAQJOgBAAAgSNADAABA\n",
       "kKAHAACAIEEPAAAAQYIeAAAAggQ9AAAABAl6AAAACBL0AAAAECToAQAAIEjQAwAAQJCgBwAAgCBB\n",
       "DwAAAEGCHgAAAIIEPQAAAAQJegAAAAgS9AAAABAk6AEAACBI0AMAAECQoAcAAIAgQQ8AAABBgh4A\n",
       "AACCBD0AAAAECXoAAAAIEvQAAAAQJOgBAAAgSNADAABAkKAHAACAIEEPAAAAQYIeAAAAggQ9AAAA\n",
       "BAl6AAAACBL0AAAAECToAQAAIEjQAwAAQJCgBwAAgCBBDwAAAEGCHgAAAIIEPQAAAAQJegAAAAgS\n",
       "9AAAABAk6AEAACBI0AMAAEDQ3mazORo9Am6maZpGT+CU5nkePQE4w7w34Gzx3cGtxAk9AAAABAl6\n",
       "AAAACBL0AAAAECToAQAAIEjQAwAAQJCgBwAAgCBBDwAAAEGCHgAAAIIEPQAAAAQJegAAAAgS9AAA\n",
       "ABAk6AEAACBI0AMAAECQoAcAAIAgQQ8AAABBgh4AAACCBD0AAAAECXoAAAAIEvQAAAAQJOgBAAAg\n",
       "SNADAABAkKAHAACAIEEPAAAAQYIeAAAAggQ9AAAABAl6AAAACBL0AAAAECToAQAAIEjQAwAAQJCg\n",
       "BwAAgCBBDwAAAEGCHgAAAIIEPQAAAAQJegAAAAgS9AAAABAk6AEAACBI0AMAAECQoAcAAIAgQQ8A\n",
       "AABBgh4AAACCBD0AAAAECXoAAAAIEvQAAAAQJOgBAAAgSNADAABAkKAHAACAIEEPAAAAQYIeAAAA\n",
       "gvZHD+D0pmkaPWHV5nkePQE4w/xH93hvnMwzfbK1PT9rvF9ru0Zrs7Z7trb75fqczAk9AAAABAl6\n",
       "AAAACBL0AAAAECToAQAAIEjQAwAAQJCgBwAAgCBBDwAAAEGCHgAAAIIEPQAAAAQJegAAAAgS9AAA\n",
       "ABAk6AEAACBI0AMAAECQoAcAAIAgQQ8AAABBgh4AAACCBD0AAAAECXoAAAAIEvQAAAAQJOgBAAAg\n",
       "SNADAABAkKAHAACAIEEPAAAAQYIeAAAAggQ9AAAABAl6AAAACBL0AAAAECToAQAAIEjQAwAAQJCg\n",
       "BwAAgCBBDwAAAEGCHgAAAIIEPQAAAAQJegAAAAgS9AAAABAk6AEAACBI0AMAAECQoAcAAIAgQQ8A\n",
       "AABBgh4AAACCBD0AAAAECXoAAAAIEvQAAAAQJOgBAAAgSNADAABAkKAHAACAIEEPAAAAQXubzeZo\n",
       "9AhOZ5qm0RMW5nkePQFuqrX9xs6fPz96wsLly5dHT1jY7XajJ6za3t7e6AnHHB2t69Pjq6++Gj1h\n",
       "4Ysvvhg9YdX++OOP0RMAVsMJPQAAAAQJegAAAAgS9AAAABAk6AEAACBI0AMAAECQoAcAAIAgQQ8A\n",
       "AABBgh4AAACCBD0AAAAECXoAAAAIEvQAAAAQJOgBAAAgSNADAABAkKAHAACAIEEPAAAAQYIeAAAA\n",
       "ggQ9AAAABAl6AAAACBL0AAAAECToAQAAIEjQAwAAQJCgBwAAgCBBDwAAAEGCHgAAAIIEPQAAAAQJ\n",
       "egAAAAgS9AAAABAk6AEAACBI0AMAAECQoAcAAIAgQQ8AAABBgh4AAACCBD0AAAAECXoAAAAIEvQA\n",
       "AAAQJOgBAAAgSNADAABAkKAHAACAIEEPAAAAQYIeAAAAggQ9AAAABAl6AAAACBL0AAAAECToAQAA\n",
       "IEjQAwAAQJCgBwAAgCBBDwAAAEGCHgAAAIL2Rw8A4GSXL18ePYGwo6Oj0RNW79FHHx09YeGll14a\n",
       "PWHh888/Hz1h4eOPPx49YeHq1aujJwBnmBN6AAAACBL0AAAAECToAQAAIEjQAwAAQJCgBwAAgCBB\n",
       "DwAAAEGCHgAAAIIEPQAAAAQJegAAAAgS9AAAABAk6AEAACBI0AMAAECQoAcAAIAgQQ8AAABBgh4A\n",
       "AACCBD0AAAAECXoAAAAIEvQAAAAQJOgBAAAgSNADAABAkKAHAACAIEEPAAAAQYIeAAAAggQ9AAAA\n",
       "BAl6AAAACBL0AAAAECToAQAAIEjQAwAAQJCgBwAAgCBBDwAAAEGCHgAAAIIEPQAAAAQJegAAAAgS\n",
       "9AAAABAk6AEAACBI0AMAAECQoAcAAIAgQQ8AAABBgh4AAACCBD0AAAAECXoAAAAIEvQAAAAQJOgB\n",
       "AAAgSNADAABAkKAHAACAIEEPAAAAQYIeAAAAggQ9AAAABO1tNpuj0SPWbpqm0RMW5nkePQFuqrX9\n",
       "xtbmypUroyes2uHh4egJC2+99dboCav30EMPjZ6wcN99942ewCnceeedoycsPP/886MnAGeYE3oA\n",
       "AAAIEvQAAAAQJOgBAAAgSNADAABAkKAHAACAIEEPAAAAQYIeAAAAggQ9AAAABAl6AAAACBL0AAAA\n",
       "ECToAQAAIEjQAwAAQJCgBwAAgCBBDwAAAEGCHgAAAIIEPQAAAAQJegAAAAgS9AAAABAk6AEAACBI\n",
       "0AMAAECQoAcAAIAgQQ8AAABBgh4AAACCBD0AAAAECXoAAAAIEvQAAAAQJOgBAAAgSNADAABAkKAH\n",
       "AACAIEEPAAAAQYIeAAAAggQ9AAAABAl6AAAACBL0AAAAECToAQAAIEjQAwAAQJCgBwAAgCBBDwAA\n",
       "AEGCHgAAAIIEPQAAAAQJegAAAAgS9AAAABAk6AEAACBI0AMAAECQoAcAAIAgQQ8AAABBgh4AAACC\n",
       "9qdpGr3hmHmeR08AzrC1/Qf99ddfoycsfP/996MnLLz66qujJyz8+eefoycs3HbbbaMnHPPUU0+N\n",
       "nrDw+++/j56watvtdvSEhR9++GH0BLilre07aI29uiZO6AEAACBI0AMAAECQoAcAAIAgQQ8AAABB\n",
       "gh4AAACCBD0AAAAECXoAAAAIEvQAAAAQJOgBAAAgSNADAABAkKAHAACAIEEPAAAAQYIeAAAAggQ9\n",
       "AAAABAl6AAAACBL0AAAAECToAQAAIEjQAwAAQJCgBwAAgCBBDwAAAEGCHgAAAIIEPQAAAAQJegAA\n",
       "AAgS9AAAABAk6AEAACBI0AMAAECQoAcAAIAgQQ8AAABBgh4AAACCBD0AAAAECXoAAAAIEvQAAAAQ\n",
       "JOgBAAAgSNADAABAkKAHAACAIEEPAAAAQYIeAAAAggQ9AAAABAl6AAAACBL0AAAAECToAQAAIEjQ\n",
       "AwAAQJCgBwAAgCBBDwAAAEGCHgAAAIIEPQAAAAQJegAAAAgS9AAAABC0t9lsjkaPgFvZNE2jJyzM\n",
       "8zx6AnFre6Y52Rp/8wcHB6MncArb7Xb0hIWXX3559ISF7777bvQE4AxzQg8AAABBgh4AAACCBD0A\n",
       "AAAECXoAAAAIEvQAAAAQJOgBAAAgSNADAABAkKAHAACAIEEPAAAAQYIeAAAAggQ9AAAABAl6AAAA\n",
       "CBL0AAAAECToAQAAIEjQAwAAQJCgBwAAgCBBDwAAAEGCHgAAAIIEPQAAAAQJegAAAAgS9AAAABAk\n",
       "6AEAACBI0AMAAECQoAcAAIAgQQ8AAABBgh4AAACCBD0AAAAECXoAAAAIEvQAAAAQJOgBAAAgSNAD\n",
       "AABAkKAHAACAIEEPAAAAQYIeAAAAggQ9AAAABAl6AAAACBL0AAAAECToAQAAIEjQAwAAQJCgBwAA\n",
       "gCBBDwAAAEGCHgAAAIIEPQAAAAQJegAAAAgS9AAAABAk6AEAACBI0AMAAECQoAcAAICg/dEDOL1p\n",
       "mkZPWJjnefQE4tb2TNNy7ty50RMWnnvuudETFvb29kZP4JSuX78+esLCxYsXR09YuOOOO0ZPIG5t\n",
       "366+g7gRTugBAAAgSNADAABAkKAHAACAIEEPAAAAQYIeAAAAggQ9AAAABAl6AAAACBL0AAAAECTo\n",
       "AQAAIEjQAwAAQJCgBwAAgCBBDwAAAEGCHgAAAIIEPQAAAAQJegAAAAgS9AAAABAk6AEAACBI0AMA\n",
       "AECQoAcAAIAgQQ8AAABBgh4AAACCBD0AAAAECXoAAAAIEvQAAAAQJOgBAAAgSNADAABAkKAHAACA\n",
       "IEEPAAAAQYIeAAAAggQ9AAAABAl6AAAACBL0AAAAECToAQAAIEjQAwAAQJCgBwAAgCBBDwAAAEGC\n",
       "HgAAAIIEPQAAAAQJegAAAAgS9AAAABAk6AEAACBI0AMAAECQoAcAAIAgQQ8AAABBgh4AAACCBD0A\n",
       "AAAECXoAAAAI2h89gL5pmkZPWJjnefSEVVvb/aLn4YcfHj1h4YUXXhg9YeHw8HD0BOLW9kxfu3Zt\n",
       "9IQF77Ee32bcStb2PDuhBwAAgCBBDwAAAEGCHgAAAIIEPQAAAAQJegAAAAgS9AAAABAk6AEAACBI\n",
       "0AMAAECQoAcAAIAgQQ8AAABBgh4AAACCBD0AAAAECXoAAAAIEvQAAAAQJOgBAAAgSNADAABAkKAH\n",
       "AACAIEEPAAAAQYIeAAAAggQ9AAAABAl6AAAACBL0AAAAECToAQAAIEjQAwAAQJCgBwAAgCBBDwAA\n",
       "AEGCHgAAAIIEPQAAAAQJegAAAAgS9AAAABAk6AEAACBI0AMAAECQoAcAAIAgQQ8AAABBgh4AAACC\n",
       "BD0AAAAECXoAAAAIEvQAAAAQJOgBAAAgSNADAABAkKAHAACAIEEPAAAAQYIeAAAAggQ9AAAABAl6\n",
       "AAAACBL0AAAAECToAQAAIEjQAwAAQND+6AEF0zSNnrAwz/PoCau2tvsFN+rKlSujJ3AKu91u9ITV\n",
       "+/vvv0dPWHj22WdHT1j45ZdfRk9YNd9BAP/DCT0AAAAECXoAAAAIEvQAAAAQJOgBAAAgSNADAABA\n",
       "kKAHAACAIEEPAAAAQYIeAAAAggQ9AAAABAl6AAAACBL0AAAAECToAQAAIEjQAwAAQJCgBwAAgCBB\n",
       "DwAAAEGCHgAAAIIEPQAAAAQJegAAAAgS9AAAABAk6AEAACBI0AMAAECQoAcAAIAgQQ8AAABBgh4A\n",
       "AACCBD0AAAAECXoAAAAIEvQAAAAQJOgBAAAgSNADAABAkKAHAACAIEEPAAAAQYIeAAAAggQ9AAAA\n",
       "BAl6AAAACBL0AAAAECToAQAAIEjQAwAAQJCgBwAAgCBBDwAAAEGCHgAAAIIEPQAAAAQJegAAAAgS\n",
       "9AAAABAk6AEAACBI0AMAAECQoAcAAIAgQQ8AAABBgh4AAACC9kcP+HemaRo9AW5Z8zyPnnDM2n7z\n",
       "L7744ugJhG2329ETFt58883RE455/fXXR09YtbX9J67NGt9jcCM80yfzn3gyJ/QAAAAQJOgBAAAg\n",
       "SNADAABAkKAHAACAIEEPAAAAQYIeAAAAggQ9AAAABAl6AAAACBL0AAAAECToAQAAIEjQAwAAQJCg\n",
       "BwAAgCBBDwAAAEGCHgAAAIIEPQAAAAQJegAAAAgS9AAAABAk6AEAACBI0AMAAECQoAcAAIAgQQ8A\n",
       "AABBgh4AAACCBD0AAAAECXoAAAAIEvQAAAAQJOgBAAAgSNADAABAkKAHAACAIEEPAAAAQYIeAAAA\n",
       "ggQ9AAAABAl6AAAACBL0AAAAECToAQAAIEjQAwAAQJCgBwAAgCBBDwAAAEGCHgAAAIIEPQAAAAQJ\n",
       "egAAAAgS9AAAABAk6AEAACBI0AMAAECQoAcAAIAgQQ8AAABBgh4AAACCBD0AAAAE7Y8e8O/M8zx6\n",
       "Atw0a3uep2kaPeGYtV2j8+fPj56warvdbvSEhe12O3rCqj3yyCOjJ3BKa/tPXJs1vsfWxPPDrcYz\n",
       "fTIn9AAAABAk6AEAACBI0AMAAECQoAcAAIAgQQ8AAABBgh4AAACCBD0AAAAECXoAAAAIEvQAAAAQ\n",
       "JOgBAAAgSNADAABAkKAHAACAIEEPAAAAQYIeAAAAggQ9AAAABAl6AAAACBL0AAAAECToAQAAIEjQ\n",
       "AwAAQJCgBwAAgCBBDwAAAEGCHgAAAIIEPQAAAAQJegAAAAgS9AAAABAk6AEAACBI0AMAAECQoAcA\n",
       "AIAgQQ8AAABBgh4AAACCBD0AAAAECXoAAAAIEvQAAAAQJOgBAAAgSNADAABAkKAHAACAIEEPAAAA\n",
       "QYIeAAAAggQ9AAAABAl6AAAACBL0AAAAECToAQAAIEjQAwAAQJCgBwAAgCBBDwAAAEGCHgAAAIIE\n",
       "PQAAAAQJegAAAAjau3jx4tHoEf/bPM+jJ8BNM03T6AkLfl89P//88+gJhO12u9ETjtlut6MnLHz0\n",
       "0UejJyx8+OGHoycsXLt2bfQETsF7vse3IjfCCT0AAAAECXoAAAAIEvQAAAAQJOgBAAAgSNADAABA\n",
       "kKAHAACAIEEPAAAAQYIeAAAAggQ9AAAABAl6AAAACBL0AAAAECToAQAAIEjQAwAAQJCgBwAAgCBB\n",
       "DwAAAEGCHgAAAIIEPQAAAAQJegAAAAgS9AAAABAk6AEAACBI0AMAAECQoAcAAIAgQQ8AAABBgh4A\n",
       "AACCBD0AAAAECXoAAAAIEvQAAAAQJOgBAAAgSNADAABAkKAHAACAIEEPAAAAQYIeAAAAggQ9AAAA\n",
       "BAl6AAAACBL0AAAAECToAQAAIEjQAwAAQJCgBwAAgCBBDwAAAEGCHgAAAIIEPQAAAAQJegAAAAgS\n",
       "9AAAABAk6AEAACBI0AMAAECQoAcAAIAgQQ8AAABBgh4AAACC9i5evHg0esTazfM8egJwhr3yyiuj\n",
       "JyzcddddoycsPP3006MnLOx2u9ETiNtut6MnLBwcHIyesHDp0qXRExauX78+esKC71Y4W5zQAwAA\n",
       "QJCgBwAAgCBBDwAAAEGCHgAAAIIEPQAAAAQJegAAAAgS9AAAABAk6AEAACBI0AMAAECQoAcAAIAg\n",
       "QQ8AAABBgh4AAACCBD0AAAAECXoAAAAIEvQAAAAQJOgBAAAgSNADAABAkKAHAACAIEEPAAAAQYIe\n",
       "AAAAggQ9AAAABAl6AAAACBL0AAAAECToAQAAIEjQAwAAQJCgBwAAgCBBDwAAAEGCHgAAAIIEPQAA\n",
       "AAQJegAAAAgS9AAAABAk6AEAACBI0AMAAECQoAcAAIAgQQ8AAABBgh4AAACCBD0AAAAECXoAAAAI\n",
       "EvQAAAAQJOgBAAAgSNADAABAkKAHAACAIEEPAAAAQYIeAAAAggQ9AAAABAl6AAAACBL0AAAAELS3\n",
       "2WyORo8AgP+vxx9/fPSEhV9//XX0hIUnn3xy9IRjttvt6AkL586dGz1hYW3XZ20+/fTT0RMWXnvt\n",
       "tdETFuZ5Hj0B+A9yQg8AAABBgh4AAACCBD0AAAAECXoAAAAIEvQAAAAQJOgBAAAgSNADAABAkKAH\n",
       "AACAIEEPAAAAQYIeAAAAggQ9AAAABAl6AAAACBL0AAAAECToAQAAIEjQAwAAQJCgBwAAgCBBDwAA\n",
       "AEGCHgAAAIIEPQAAAAQJegAAAAgS9AAAABAk6AEAACBI0AMAAECQoAcAAIAgQQ8AAABBgh4AAACC\n",
       "BD0AAAAECXoAAAAIEvQAAAAQJOgBAAAgSNADAABAkKAHAACAIEEPAAAAQYIeAAAAggQ9AAAABAl6\n",
       "AAAACBL0AAAAECToAQAAIEjQAwAAQJCgBwAAgCBBDwAAAEGCHgAAAIIEPQAAAAQJegAAAAgS9AAA\n",
       "ABAk6AEAACBI0AMAAECQoAcAAICg/WmaRm9YvXmeR09YcM9Otrb7Bfyzrly5MnrCqn3zzTejJxxz\n",
       "zz33jJ6w8M4774yewCkcHh6OnrBw//33j56w4DsIzhYn9AAAABAk6AEAACBI0AMAAECQoAcAAIAg\n",
       "QQ8AAABBgh4AAACCBD0AAAAECXoAAAAIEvQAAAAQJOgBAAAgSNADAABAkKAHAACAIEEPAAAAQYIe\n",
       "AAAAggQ9AAAABAl6AAAACBL0AAAAECToAQAAIEjQAwAAQJCgBwAAgCBBDwAAAEGCHgAAAIIEPQAA\n",
       "AAQJegAAAAgS9AAAABAk6AEAACBI0AMAAECQoAcAAIAgQQ8AAABBgh4AAACCBD0AAAAECXoAAAAI\n",
       "EvQAAAAQJOgBAAAgSNADAABAkKAHAACAIEEPAAAAQYIeAAAAggQ9AAAABAl6AAAACBL0AAAAECTo\n",
       "AQAAIEjQAwAAQJCgBwAAgCBBDwAAAEGCHgAAAIIEPQAAAAQJegAAAAjan+d59Aa4qaZpGj1h4bHH\n",
       "Hhs9YeGDDz4YPeGYH3/8cfQE4D/o7rvvHj1h4bfffhs9YdV2u93oCQtPPPHE6AkLt99+++gJCz/9\n",
       "9NPoCcfoDfjnOKEHAACAIEEPAAAAQYIeAAAAggQ9AAAABAl6AAAACBL0AAAAECToAQAAIEjQAwAA\n",
       "QJCgBwAAgCBBDwAAAEGCHgAAAIIEPQAAAAQJegAAAAgS9AAAABAk6AEAACBI0AMAAECQoAcAAIAg\n",
       "QQ8AAABBgh4AAACCBD0AAAAECXoAAAAIEvQAAAAQJOgBAAAgSNADAABAkKAHAACAIEEPAAAAQYIe\n",
       "AAAAggQ9AAAABAl6AAAACBL0AAAAECToAQAAIEjQAwAAQJCgBwAAgCBBDwAAAEGCHgAAAIIEPQAA\n",
       "AAQJegAAAAgS9AAAABAk6AEAACBI0AMAAECQoAcAAIAgQQ8AAABBgh4AAACCBD0AAAAECXoAAAAI\n",
       "EvQAAAAQJOgBAAAgaG+z2RyNHrF20zSNnsApvP/++6MnLFy4cGH0hIVvv/129IRjLl26NHrCwsHB\n",
       "wegJq+Y/8WTzPI+ewCl9+eWXoycsPPDAA6MnLOx2u9ETFrbb7egJq3bvvfeOnrB6a3uPeW9wI5zQ\n",
       "AwAAQJCgBwAAgCBBDwAAAEGCHgAAAIIEPQAAAAQJegAAAAgS9AAAABAk6AEAACBI0AMAAECQoAcA\n",
       "AIAgQQ8AAABBgh4AAACCBD0AAAAECXoAAAAIEvQAAAAQJOgBAAAgSNADAABAkKAHAACAIEEPAAAA\n",
       "QYIeAAAAggQ9AAAABAl6AAAACBL0AAAAECToAQAAIEjQAwAAQJCgBwAAgCBBDwAAAEGCHgAAAIIE\n",
       "PQAAAAQJegAAAAgS9AAAABAk6AEAACBI0AMAAECQoAcAAIAgQQ8AAABBgh4AAACCBD0AAAAECXoA\n",
       "AAAIEvQAAAAQJOgBAAAgSNADAABAkKAHAACAIEEPAAAAQYIeAAAAggQ9AAAABAl6AAAACBL0AAAA\n",
       "ECToAQAAIGh/9ABOb57n0RNW7cKFC6MnrNr+/vp+9m+//fboCQvvvvvu6AkLDz744OgJC5988sno\n",
       "CQvvvffe6AkLn3322egJC19//fXoCcc888wzoycsXL16dfQEwt54443RExamaRo94RjfrvDPcUIP\n",
       "AAAAQYKef7Vn9zaVJAEYRYU0Bk4b2ESA088lDzwk0iAToiAQEAYSbeAQAx4+a/cwy+xKu1Rd5pwI\n",
       "PvXrn3dVAAAABAl6AAAACBL0AAAAECToAQAAIEjQAwAAQJCgBwAAgCBBDwAAAEGCHgAAAIIEPQAA\n",
       "AAQJegAAAAgS9AAAABAk6AEAACBI0AMAAECQoAcAAIAgQQ8AAABBgh4AAACCBD0AAAAECXoAAAAI\n",
       "EvQAAAAQJOgBAAAgSNADAABAkKAHAACAIEEPAAAAQYIeAAAAggQ9AAAABAl6AAAACBL0AAAAECTo\n",
       "AQAAIEjQAwAAQJCgBwAAgCBBDwAAAEGCHgAAAIIEPQAAAAQJegAAAAgS9AAAABAk6AEAACBI0AMA\n",
       "AECQoAcAAIAgQQ8AAABBgh4AAACCBD0AAAAECXoAAAAIEvQAAAAQJOgBAAAgSNADAABAkKAHAACA\n",
       "IEEPAAAAQUfLsryPHkHbuq6jJ+xcXV2NnrBzeXk5esL0np6eRk/YORwOoycA8Ddubm5GT9i5u7sb\n",
       "PWHn9fV19IQPtm0bPWFntv+us10fWpzQAwAAQJCgBwAAgCBBDwAAAEGCHgAAAIIEPQAAAAQJegAA\n",
       "AAgS9AAAABAk6AEAACBI0AMAAECQoAcAAIAgQQ8AAABBgh4AAACCBD0AAAAECXoAAAAIEvQAAAAQ\n",
       "JOgBAAAgSNADAABAkKAHAACAIEEPAAAAQYIeAAAAggQ9AAAABAl6AAAACBL0AAAAECToAQAAIEjQ\n",
       "AwAAQJCgBwAAgCBBDwAAAEGCHgAAAIIEPQAAAAQJegAAAAgS9AAAABAk6AEAACBI0AMAAECQoAcA\n",
       "AIAgQQ8AAABBgh4AAACCBD0AAAAECXoAAAAIEvQAAAAQJOgBAAAgSNADAABAkKAHAACAIEEPAAAA\n",
       "QYIeAAAAggQ9AAAABAl6AAAACBL0AAAAEHS0LMv76BHA1zk/Px894YPr6+vRE3aOj49HT5ja4XAY\n",
       "PQH4QhcXF6Mn7Nzf34+eQNy6rqMnTG3bttETpjbb/eOEHgAAAIIEPQAAAAQJegAAAAgS9AAAABAk\n",
       "6AEAACBI0AMAAECQoAcAAIAgQQ8AAABBglByJxwAAAesSURBVB4AAACCBD0AAAAECXoAAAAIEvQA\n",
       "AAAQJOgBAAAgSNADAABAkKAHAACAIEEPAAAAQYIeAAAAggQ9AAAABAl6AAAACBL0AAAAECToAQAA\n",
       "IEjQAwAAQJCgBwAAgCBBDwAAAEGCHgAAAIIEPQAAAAQJegAAAAgS9AAAABAk6AEAACBI0AMAAECQ\n",
       "oAcAAIAgQQ8AAABBgh4AAACCBD0AAAAECXoAAAAIEvQAAAAQJOgBAAAgSNADAABAkKAHAACAIEEP\n",
       "AAAAQYIeAAAAggQ9AAAABAl6AAAACBL0AAAAECToAQAAIEjQAwAAQJCgBwAAgCBBDwAAAEFHy7K8\n",
       "jx7xs3VdR0/Y2bZt9ISd2a4Pn5vt/pnRycnJ6Ak7Z2dnoyfs3N7ejp5A2MvLy+gJHzw/P4+esPP4\n",
       "+Dh6ws7Dw8PoCTu+Yy3+J/LdzPYOmu0Zc0IPAAAAQYIeAAAAggQ9AAAABAl6AAAACBL0AAAAECTo\n",
       "AQAAIEjQAwAAQJCgBwAAgCBBDwAAAEGCHgAAAIIEPQAAAAQJegAAAAgS9AAAABAk6AEAACBI0AMA\n",
       "AECQoAcAAIAgQQ8AAABBgh4AAACCBD0AAAAECXoAAAAIEvQAAAAQJOgBAAAgSNADAABAkKAHAACA\n",
       "IEEPAAAAQYIeAAAAggQ9AAAABAl6AAAACBL0AAAAECToAQAAIEjQAwAAQJCgBwAAgCBBDwAAAEGC\n",
       "HgAAAIIEPQAAAAQJegAAAAgS9AAAABAk6AEAACBI0AMAAECQoAcAAIAgQQ8AAABBgh4AAACCBD0A\n",
       "AAAECXoAAAAIEvQAAAAQJOgBAAAgSNADAABAkKAHAACAoB/ruo7eQNy2baMnTM0z9nuz3UNvb2+j\n",
       "J+ycnp6OnjA1zxj8v2Z7xmb7ZsB34xn73GzXxwk9AAAABAl6AAAACBL0AAAAECToAQAAIEjQAwAA\n",
       "QJCgBwAAgCBBDwAAAEGCHgAAAIIEPQAAAAQJegAAAAgS9AAAABAk6AEAACBI0AMAAECQoAcAAIAg\n",
       "QQ8AAABBgh4AAACCBD0AAAAECXoAAAAIEvQAAAAQJOgBAAAgSNADAABAkKAHAACAIEEPAAAAQYIe\n",
       "AAAAggQ9AAAABAl6AAAACBL0AAAAECToAQAAIEjQAwAAQJCgBwAAgCBBDwAAAEGCHgAAAIIEPQAA\n",
       "AAQJegAAAAgS9AAAABAk6AEAACBI0AMAAECQoAcAAIAgQQ8AAABBgh4AAACCBD0AAAAECXoAAAAI\n",
       "EvQAAAAQJOgBAAAgSNADAABAkKAHAACAIEEPAAAAQUfLsryPHjG7dV1HT5jatm2jJwB/MO/oz834\n",
       "jvabAcxrxu/GTGb7hjmhBwAAgCBBDwAAAEGCHgAAAIIEPQAAAAQJegAAAAgS9AAAABAk6AEAACBI\n",
       "0AMAAECQoAcAAIAgQQ8AAABBgh4AAACCBD0AAAAECXoAAAAIEvQAAAAQJOgBAAAgSNADAABAkKAH\n",
       "AACAIEEPAAAAQYIeAAAAggQ9AAAABAl6AAAACBL0AAAAECToAQAAIEjQAwAAQJCgBwAAgCBBDwAA\n",
       "AEGCHgAAAIIEPQAAAAQJegAAAAgS9AAAABAk6AEAACBI0AMAAECQoAcAAIAgQQ8AAABBgh4AAACC\n",
       "BD0AAAAECXoAAAAIEvQAAAAQJOgBAAAgSNADAABAkKAHAACAIEEPAAAAQYIeAAAAggQ9AAAABAl6\n",
       "AAAACBL0AAAAECToAQAAIEjQAwAAQNCP0QN+ZV3X0RN2tm0bPYF/Ybb7h9+b7Rmb7R5yffhu3NMA\n",
       "/FPe0Z9zQg8AAABBgh4AAACCBD0AAAAECXoAAAAIEvQAAAAQJOgBAAAgSNADAABAkKAHAACAIEEP\n",
       "AAAAQYIeAAAAggQ9AAAABAl6AAAACBL0AAAAECToAQAAIEjQAwAAQJCgBwAAgCBBDwAAAEGCHgAA\n",
       "AIIEPQAAAAQJegAAAAgS9AAAABAk6AEAACBI0AMAAECQoAcAAIAgQQ8AAABBgh4AAACCBD0AAAAE\n",
       "CXoAAAAIEvQAAAAQJOgBAAAgSNADAABAkKAHAACAIEEPAAAAQYIeAAAAggQ9AAAABAl6AAAACBL0\n",
       "AAAAECToAQAAIEjQAwAAQJCgBwAAgCBBDwAAAEGCHgAAAIIEPQAAAAQJegAAAAgS9AAAABAk6AEA\n",
       "ACBI0AMAAECQoAcAAICgo2VZ3keP+Nm6rqMnwH9m27bRE4Av5BvW4z0Nfxbv6c/N9k70e33OCT0A\n",
       "AAAECXoAAAAIEvQAAAAQJOgBAAAgSNADAABAkKAHAACAIEEPAAAAQYIeAAAAggQ9AAAABAl6AAAA\n",
       "CBL0AAAAECToAQAAIEjQAwAAQJCgBwAAgCBBDwAAAEGCHgAAAIIEPQAAAAQJegAAAAgS9AAAABAk\n",
       "6AEAACBI0AMAAECQoAcAAIAgQQ8AAABBgh4AAACCBD0AAAAECXoAAAAIEvQAAAAQJOgBAAAgSNAD\n",
       "AABAkKAHAACAIEEPAAAAQYIeAAAAggQ9AAAABAl6AAAACBL0AAAAECToAQAAIEjQAwAAQJCgBwAA\n",
       "gCBBDwAAAEGCHgAAAIIEPQAAAAQJegAAAAgS9AAAABAk6AEAACBI0AMAAECQoAcAAIAgQQ8AAABB\n",
       "fwEJKuzjAR5h8gAAAABJRU5ErkJggg==\n",
       "\" transform=\"translate(141, 123)\"/>\n",
       "</g>\n",
       "<path clip-path=\"url(#clip630)\" d=\"M1340.7 1486.45 L2352.76 1486.45 L2352.76 123.472 L1340.7 123.472  Z\" fill=\"#ffffff\" fill-rule=\"evenodd\" fill-opacity=\"1\"/>\n",
       "<defs>\n",
       "  <clipPath id=\"clip633\">\n",
       "    <rect x=\"1340\" y=\"123\" width=\"1013\" height=\"1364\"/>\n",
       "  </clipPath>\n",
       "</defs>\n",
       "<polyline clip-path=\"url(#clip633)\" style=\"stroke:#000000; stroke-linecap:round; stroke-linejoin:round; stroke-width:2; stroke-opacity:0.1; fill:none\" points=\"1503.35,1486.45 1503.35,123.472 \"/>\n",
       "<polyline clip-path=\"url(#clip633)\" style=\"stroke:#000000; stroke-linecap:round; stroke-linejoin:round; stroke-width:2; stroke-opacity:0.1; fill:none\" points=\"1684.07,1486.45 1684.07,123.472 \"/>\n",
       "<polyline clip-path=\"url(#clip633)\" style=\"stroke:#000000; stroke-linecap:round; stroke-linejoin:round; stroke-width:2; stroke-opacity:0.1; fill:none\" points=\"1864.8,1486.45 1864.8,123.472 \"/>\n",
       "<polyline clip-path=\"url(#clip633)\" style=\"stroke:#000000; stroke-linecap:round; stroke-linejoin:round; stroke-width:2; stroke-opacity:0.1; fill:none\" points=\"2045.52,1486.45 2045.52,123.472 \"/>\n",
       "<polyline clip-path=\"url(#clip633)\" style=\"stroke:#000000; stroke-linecap:round; stroke-linejoin:round; stroke-width:2; stroke-opacity:0.1; fill:none\" points=\"2226.25,1486.45 2226.25,123.472 \"/>\n",
       "<polyline clip-path=\"url(#clip633)\" style=\"stroke:#000000; stroke-linecap:round; stroke-linejoin:round; stroke-width:2; stroke-opacity:0.1; fill:none\" points=\"1340.7,1267.4 2352.76,1267.4 \"/>\n",
       "<polyline clip-path=\"url(#clip633)\" style=\"stroke:#000000; stroke-linecap:round; stroke-linejoin:round; stroke-width:2; stroke-opacity:0.1; fill:none\" points=\"1340.7,1024.01 2352.76,1024.01 \"/>\n",
       "<polyline clip-path=\"url(#clip633)\" style=\"stroke:#000000; stroke-linecap:round; stroke-linejoin:round; stroke-width:2; stroke-opacity:0.1; fill:none\" points=\"1340.7,780.621 2352.76,780.621 \"/>\n",
       "<polyline clip-path=\"url(#clip633)\" style=\"stroke:#000000; stroke-linecap:round; stroke-linejoin:round; stroke-width:2; stroke-opacity:0.1; fill:none\" points=\"1340.7,537.233 2352.76,537.233 \"/>\n",
       "<polyline clip-path=\"url(#clip633)\" style=\"stroke:#000000; stroke-linecap:round; stroke-linejoin:round; stroke-width:2; stroke-opacity:0.1; fill:none\" points=\"1340.7,293.844 2352.76,293.844 \"/>\n",
       "<path clip-path=\"url(#clip630)\" d=\"M1435.66 16.7545 L1435.66 25.383 Q1431.53 21.5346 1426.83 19.6307 Q1422.17 17.7268 1416.9 17.7268 Q1406.53 17.7268 1401.02 24.0867 Q1395.52 30.4061 1395.52 42.3968 Q1395.52 54.3469 1401.02 60.7069 Q1406.53 67.0263 1416.9 67.0263 Q1422.17 67.0263 1426.83 65.1223 Q1431.53 63.2184 1435.66 59.3701 L1435.66 67.9175 Q1431.37 70.8341 1426.55 72.2924 Q1421.77 73.7508 1416.42 73.7508 Q1402.69 73.7508 1394.79 65.3654 Q1386.89 56.9395 1386.89 42.3968 Q1386.89 27.8135 1394.79 19.4281 Q1402.69 11.0023 1416.42 11.0023 Q1421.85 11.0023 1426.63 12.4606 Q1431.45 13.8784 1435.66 16.7545 Z\" fill=\"#000000\" fill-rule=\"nonzero\" fill-opacity=\"1\" /><path clip-path=\"url(#clip630)\" d=\"M1447.97 9.54393 L1455.43 9.54393 L1455.43 72.576 L1447.97 72.576 L1447.97 9.54393 Z\" fill=\"#000000\" fill-rule=\"nonzero\" fill-opacity=\"1\" /><path clip-path=\"url(#clip630)\" d=\"M1509.83 48.0275 L1509.83 51.6733 L1475.56 51.6733 Q1476.05 59.3701 1480.18 63.421 Q1484.35 67.4314 1491.77 67.4314 Q1496.06 67.4314 1500.07 66.3781 Q1504.12 65.3249 1508.09 63.2184 L1508.09 70.267 Q1504.08 71.9684 1499.87 72.8596 Q1495.65 73.7508 1491.32 73.7508 Q1480.46 73.7508 1474.1 67.4314 Q1467.78 61.1119 1467.78 50.3365 Q1467.78 39.1965 1473.78 32.6746 Q1479.82 26.1121 1490.02 26.1121 Q1499.18 26.1121 1504.49 32.0264 Q1509.83 37.9003 1509.83 48.0275 M1502.38 45.84 Q1502.3 39.7232 1498.94 36.0774 Q1495.61 32.4315 1490.1 32.4315 Q1483.87 32.4315 1480.1 35.9558 Q1476.37 39.4801 1475.8 45.8805 L1502.38 45.84 Z\" fill=\"#000000\" fill-rule=\"nonzero\" fill-opacity=\"1\" /><path clip-path=\"url(#clip630)\" d=\"M1542.69 49.7694 Q1533.65 49.7694 1530.17 51.8354 Q1526.68 53.9013 1526.68 58.8839 Q1526.68 62.8538 1529.28 65.2034 Q1531.91 67.5124 1536.41 67.5124 Q1542.6 67.5124 1546.33 63.1374 Q1550.1 58.7219 1550.1 51.4303 L1550.1 49.7694 L1542.69 49.7694 M1557.55 46.6907 L1557.55 72.576 L1550.1 72.576 L1550.1 65.6895 Q1547.55 69.8214 1543.74 71.8063 Q1539.93 73.7508 1534.42 73.7508 Q1527.45 73.7508 1523.32 69.8619 Q1519.23 65.9325 1519.23 59.3701 Q1519.23 51.7138 1524.33 47.825 Q1529.48 43.9361 1539.65 43.9361 L1550.1 43.9361 L1550.1 43.2069 Q1550.1 38.0623 1546.7 35.2672 Q1543.33 32.4315 1537.22 32.4315 Q1533.33 32.4315 1529.64 33.3632 Q1525.95 34.295 1522.55 36.1584 L1522.55 29.2718 Q1526.64 27.692 1530.49 26.9223 Q1534.34 26.1121 1537.99 26.1121 Q1547.83 26.1121 1552.69 31.2163 Q1557.55 36.3204 1557.55 46.6907 Z\" fill=\"#000000\" fill-rule=\"nonzero\" fill-opacity=\"1\" /><path clip-path=\"url(#clip630)\" d=\"M1610.62 45.1919 L1610.62 72.576 L1603.17 72.576 L1603.17 45.4349 Q1603.17 38.994 1600.65 35.7938 Q1598.14 32.5936 1593.12 32.5936 Q1587.08 32.5936 1583.6 36.4419 Q1580.12 40.2903 1580.12 46.9338 L1580.12 72.576 L1572.62 72.576 L1572.62 27.2059 L1580.12 27.2059 L1580.12 34.2544 Q1582.79 30.163 1586.39 28.1376 Q1590.04 26.1121 1594.78 26.1121 Q1602.6 26.1121 1606.61 30.9732 Q1610.62 35.7938 1610.62 45.1919 Z\" fill=\"#000000\" fill-rule=\"nonzero\" fill-opacity=\"1\" /><path clip-path=\"url(#clip630)\" d=\"M1690.66 48.0275 L1690.66 51.6733 L1656.39 51.6733 Q1656.88 59.3701 1661.01 63.421 Q1665.18 67.4314 1672.6 67.4314 Q1676.89 67.4314 1680.9 66.3781 Q1684.95 65.3249 1688.92 63.2184 L1688.92 70.267 Q1684.91 71.9684 1680.7 72.8596 Q1676.49 73.7508 1672.15 73.7508 Q1661.3 73.7508 1654.94 67.4314 Q1648.62 61.1119 1648.62 50.3365 Q1648.62 39.1965 1654.61 32.6746 Q1660.65 26.1121 1670.86 26.1121 Q1680.01 26.1121 1685.32 32.0264 Q1690.66 37.9003 1690.66 48.0275 M1683.21 45.84 Q1683.13 39.7232 1679.77 36.0774 Q1676.45 32.4315 1670.94 32.4315 Q1664.7 32.4315 1660.93 35.9558 Q1657.2 39.4801 1656.64 45.8805 L1683.21 45.84 Z\" fill=\"#000000\" fill-rule=\"nonzero\" fill-opacity=\"1\" /><path clip-path=\"url(#clip630)\" d=\"M1739.15 27.2059 L1722.75 49.2833 L1740 72.576 L1731.21 72.576 L1718.01 54.752 L1704.8 72.576 L1696.01 72.576 L1713.63 48.8377 L1697.51 27.2059 L1706.3 27.2059 L1718.33 43.369 L1730.36 27.2059 L1739.15 27.2059 Z\" fill=\"#000000\" fill-rule=\"nonzero\" fill-opacity=\"1\" /><path clip-path=\"url(#clip630)\" d=\"M1771.16 49.7694 Q1762.12 49.7694 1758.64 51.8354 Q1755.16 53.9013 1755.16 58.8839 Q1755.16 62.8538 1757.75 65.2034 Q1760.38 67.5124 1764.88 67.5124 Q1771.08 67.5124 1774.8 63.1374 Q1778.57 58.7219 1778.57 51.4303 L1778.57 49.7694 L1771.16 49.7694 M1786.02 46.6907 L1786.02 72.576 L1778.57 72.576 L1778.57 65.6895 Q1776.02 69.8214 1772.21 71.8063 Q1768.4 73.7508 1762.89 73.7508 Q1755.92 73.7508 1751.79 69.8619 Q1747.7 65.9325 1747.7 59.3701 Q1747.7 51.7138 1752.81 47.825 Q1757.95 43.9361 1768.12 43.9361 L1778.57 43.9361 L1778.57 43.2069 Q1778.57 38.0623 1775.17 35.2672 Q1771.8 32.4315 1765.69 32.4315 Q1761.8 32.4315 1758.11 33.3632 Q1754.43 34.295 1751.02 36.1584 L1751.02 29.2718 Q1755.11 27.692 1758.96 26.9223 Q1762.81 26.1121 1766.46 26.1121 Q1776.3 26.1121 1781.16 31.2163 Q1786.02 36.3204 1786.02 46.6907 Z\" fill=\"#000000\" fill-rule=\"nonzero\" fill-opacity=\"1\" /><path clip-path=\"url(#clip630)\" d=\"M1836.7 35.9153 Q1839.49 30.8922 1843.38 28.5022 Q1847.27 26.1121 1852.54 26.1121 Q1859.63 26.1121 1863.48 31.0947 Q1867.32 36.0368 1867.32 45.1919 L1867.32 72.576 L1859.83 72.576 L1859.83 45.4349 Q1859.83 38.913 1857.52 35.7533 Q1855.21 32.5936 1850.47 32.5936 Q1844.68 32.5936 1841.32 36.4419 Q1837.96 40.2903 1837.96 46.9338 L1837.96 72.576 L1830.46 72.576 L1830.46 45.4349 Q1830.46 38.8725 1828.15 35.7533 Q1825.84 32.5936 1821.02 32.5936 Q1815.31 32.5936 1811.95 36.4824 Q1808.59 40.3308 1808.59 46.9338 L1808.59 72.576 L1801.09 72.576 L1801.09 27.2059 L1808.59 27.2059 L1808.59 34.2544 Q1811.14 30.082 1814.7 28.0971 Q1818.27 26.1121 1823.17 26.1121 Q1828.11 26.1121 1831.56 28.6237 Q1835.04 31.1352 1836.7 35.9153 Z\" fill=\"#000000\" fill-rule=\"nonzero\" fill-opacity=\"1\" /><path clip-path=\"url(#clip630)\" d=\"M1889.4 65.7705 L1889.4 89.8329 L1881.91 89.8329 L1881.91 27.2059 L1889.4 27.2059 L1889.4 34.0924 Q1891.75 30.0415 1895.32 28.0971 Q1898.92 26.1121 1903.9 26.1121 Q1912.17 26.1121 1917.31 32.6746 Q1922.5 39.2371 1922.5 49.9314 Q1922.5 60.6258 1917.31 67.1883 Q1912.17 73.7508 1903.9 73.7508 Q1898.92 73.7508 1895.32 71.8063 Q1891.75 69.8214 1889.4 65.7705 M1914.76 49.9314 Q1914.76 41.7081 1911.36 37.0496 Q1908 32.3505 1902.08 32.3505 Q1896.17 32.3505 1892.76 37.0496 Q1889.4 41.7081 1889.4 49.9314 Q1889.4 58.1548 1892.76 62.8538 Q1896.17 67.5124 1902.08 67.5124 Q1908 67.5124 1911.36 62.8538 Q1914.76 58.1548 1914.76 49.9314 Z\" fill=\"#000000\" fill-rule=\"nonzero\" fill-opacity=\"1\" /><path clip-path=\"url(#clip630)\" d=\"M1934.85 9.54393 L1942.31 9.54393 L1942.31 72.576 L1934.85 72.576 L1934.85 9.54393 Z\" fill=\"#000000\" fill-rule=\"nonzero\" fill-opacity=\"1\" /><path clip-path=\"url(#clip630)\" d=\"M1996.71 48.0275 L1996.71 51.6733 L1962.44 51.6733 Q1962.93 59.3701 1967.06 63.421 Q1971.23 67.4314 1978.64 67.4314 Q1982.94 67.4314 1986.95 66.3781 Q1991 65.3249 1994.97 63.2184 L1994.97 70.267 Q1990.96 71.9684 1986.75 72.8596 Q1982.53 73.7508 1978.2 73.7508 Q1967.34 73.7508 1960.98 67.4314 Q1954.66 61.1119 1954.66 50.3365 Q1954.66 39.1965 1960.66 32.6746 Q1966.69 26.1121 1976.9 26.1121 Q1986.06 26.1121 1991.36 32.0264 Q1996.71 37.9003 1996.71 48.0275 M1989.26 45.84 Q1989.18 39.7232 1985.81 36.0774 Q1982.49 32.4315 1976.98 32.4315 Q1970.74 32.4315 1966.98 35.9558 Q1963.25 39.4801 1962.68 45.8805 L1989.26 45.84 Z\" fill=\"#000000\" fill-rule=\"nonzero\" fill-opacity=\"1\" /><path clip-path=\"url(#clip630)\" d=\"M2010.85 62.2867 L2019.4 62.2867 L2019.4 72.576 L2010.85 72.576 L2010.85 62.2867 M2010.85 29.6769 L2019.4 29.6769 L2019.4 39.9662 L2010.85 39.9662 L2010.85 29.6769 Z\" fill=\"#000000\" fill-rule=\"nonzero\" fill-opacity=\"1\" /><path clip-path=\"url(#clip630)\" d=\"M2089.11 39.9662 Q2094.99 41.222 2098.27 45.1919 Q2101.59 49.1618 2101.59 54.9951 Q2101.59 63.9476 2095.43 68.8492 Q2089.27 73.7508 2077.93 73.7508 Q2074.12 73.7508 2070.07 72.9811 Q2066.06 72.2519 2061.77 70.7531 L2061.77 62.8538 Q2065.17 64.8388 2069.22 65.8515 Q2073.27 66.8642 2077.69 66.8642 Q2085.38 66.8642 2089.4 63.826 Q2093.45 60.7879 2093.45 54.9951 Q2093.45 49.6479 2089.68 46.6502 Q2085.95 43.612 2079.27 43.612 L2072.22 43.612 L2072.22 36.8875 L2079.59 36.8875 Q2085.63 36.8875 2088.83 34.4975 Q2092.03 32.067 2092.03 27.5299 Q2092.03 22.8714 2088.71 20.4004 Q2085.43 17.8888 2079.27 17.8888 Q2075.91 17.8888 2072.06 18.618 Q2068.21 19.3471 2063.59 20.8865 L2063.59 13.5948 Q2068.25 12.2985 2072.3 11.6504 Q2076.39 11.0023 2080 11.0023 Q2089.31 11.0023 2094.74 15.2557 Q2100.17 19.4686 2100.17 26.6793 Q2100.17 31.7024 2097.29 35.1862 Q2094.42 38.6294 2089.11 39.9662 Z\" fill=\"#000000\" fill-rule=\"nonzero\" fill-opacity=\"1\" /><path clip-path=\"url(#clip630)\" d=\"M2138.65 46.5287 L2160.49 46.5287 L2160.49 53.1722 L2138.65 53.1722 L2138.65 46.5287 Z\" fill=\"#000000\" fill-rule=\"nonzero\" fill-opacity=\"1\" /><path clip-path=\"url(#clip630)\" d=\"M2173.33 31.7429 L2173.33 24.3702 L2225.26 43.2069 L2225.26 49.9314 L2173.33 68.7682 L2173.33 61.3955 L2215.05 46.6097 L2173.33 31.7429 Z\" fill=\"#000000\" fill-rule=\"nonzero\" fill-opacity=\"1\" /><path clip-path=\"url(#clip630)\" d=\"M2294.09 39.9662 Q2299.96 41.222 2303.24 45.1919 Q2306.56 49.1618 2306.56 54.9951 Q2306.56 63.9476 2300.41 68.8492 Q2294.25 73.7508 2282.91 73.7508 Q2279.1 73.7508 2275.05 72.9811 Q2271.04 72.2519 2266.74 70.7531 L2266.74 62.8538 Q2270.15 64.8388 2274.2 65.8515 Q2278.25 66.8642 2282.66 66.8642 Q2290.36 66.8642 2294.37 63.826 Q2298.42 60.7879 2298.42 54.9951 Q2298.42 49.6479 2294.65 46.6502 Q2290.93 43.612 2284.24 43.612 L2277.2 43.612 L2277.2 36.8875 L2284.57 36.8875 Q2290.6 36.8875 2293.8 34.4975 Q2297 32.067 2297 27.5299 Q2297 22.8714 2293.68 20.4004 Q2290.4 17.8888 2284.24 17.8888 Q2280.88 17.8888 2277.03 18.618 Q2273.18 19.3471 2268.57 20.8865 L2268.57 13.5948 Q2273.23 12.2985 2277.28 11.6504 Q2281.37 11.0023 2284.97 11.0023 Q2294.29 11.0023 2299.72 15.2557 Q2305.15 19.4686 2305.15 26.6793 Q2305.15 31.7024 2302.27 35.1862 Q2299.39 38.6294 2294.09 39.9662 Z\" fill=\"#000000\" fill-rule=\"nonzero\" fill-opacity=\"1\" /><g clip-path=\"url(#clip633)\">\n",
       "<image width=\"1012\" height=\"1363\" xlink:href=\"data:image/png;base64,\n",
       "iVBORw0KGgoAAAANSUhEUgAAA/QAAAVTCAYAAABj7GMOAAAgAElEQVR4nOzZP6tc9RqG4TPJSPDP\n",
       "IGglBtRGJIV2VtYGLGS3BqwU1AiiED+CRUgXLGzsxCJNWkVEFBttLMQgFkZBBEsVEVHcp/6xiZxo\n",
       "Tt59u6/rEzzFDGvd693sdrv9/wAAAAApx6YHAAAAANdP0AMAAECQoAcAAIAgQQ8AAABBgh4AAACC\n",
       "BD0AAAAECXoAAAAIEvQAAAAQJOgBAAAgSNADAABAkKAHAACAIEEPAAAAQYIeAAAAggQ9AAAABAl6\n",
       "AAAACBL0AAAAECToAQAAIEjQAwAAQJCgBwAAgCBBDwAAAEGCHgAAAIIEPQAAAAQJegAAAAgS9AAA\n",
       "ABAk6AEAACBI0AMAAECQoAcAAIAgQQ8AAABBgh4AAACCBD0AAAAECXoAAAAIEvQAAAAQJOgBAAAg\n",
       "SNADAABAkKAHAACAIEEPAAAAQYIeAAAAggQ9AAAABAl6AAAACBL0AAAAECToAQAAIEjQAwAAQJCg\n",
       "BwAAgCBBDwAAAEGCHgAAAIIEPQAAAAQJegAAAAgS9AAAABAk6AEAACBI0AMAAECQoAcAAIAgQQ8A\n",
       "AABBgh4AAACCBD0AAAAECXoAAAAIEvQAAAAQJOgBAAAgSNADAABAkKAHAACAIEEPAAAAQYIeAAAA\n",
       "ggQ9AAAABAl6AAAACBL0AAAAECToAQAAIEjQAwAAQJCgBwAAgCBBDwAAAEGCHgAAAIIEPQAAAAQJ\n",
       "egAAAAgS9AAAABAk6AEAACBI0AMAAECQoAcAAIAgQQ8AAABBgh4AAACCBD0AAAAECXoAAAAIEvQA\n",
       "AAAQJOgBAAAgSNADAABAkKAHAACAIEEPAAAAQYIeAAAAggQ9AAAABAl6AAAACBL0AAAAECToAQAA\n",
       "IEjQAwAAQJCgBwAAgCBBDwAAAEGCHgAAAIIEPQAAAAQJegAAAAgS9AAAABAk6AEAACBI0AMAAECQ\n",
       "oAcAAIAgQQ8AAABBgh4AAACCBD0AAAAECXoAAAAIEvQAAAAQJOgBAAAgSNADAABAkKAHAACAIEEP\n",
       "AAAAQYIeAAAAggQ9AAAABAl6AAAACBL0AAAAECToAQAAIEjQAwAAQJCgBwAAgCBBDwAAAEGCHgAA\n",
       "AIIEPQAAAAQJegAAAAgS9AAAABAk6AEAACBI0AMAAECQoAcAAIAgQQ8AAABBgh4AAACCBD0AAAAE\n",
       "CXoAAAAIEvQAAAAQJOgBAAAgSNADAABAkKAHAACAIEEPAAAAQYIeAAAAggQ9AAAABAl6AAAACBL0\n",
       "AAAAECToAQAAIEjQAwAAQJCgBwAAgCBBDwAAAEGCHgAAAIIEPQAAAAQJegAAAAgS9AAAABAk6AEA\n",
       "ACBI0AMAAECQoAcAAIAgQQ8AAABBgh4AAACCBD0AAAAECXoAAAAIEvQAAAAQJOgBAAAgSNADAABA\n",
       "kKAHAACAIEEPAAAAQYIeAAAAggQ9AAAABAl6AAAACBL0AAAAECToAQAAIEjQAwAAQJCgBwAAgCBB\n",
       "DwAAAEGCHgAAAIIEPQAAAAQJegAAAAgS9AAAABAk6AEAACBI0AMAAECQoAcAAIAgQQ8AAABBgh4A\n",
       "AACCBD0AAAAECXoAAAAIEvQAAAAQJOgBAAAgSNADAABAkKAHAACAIEEPAAAAQYIeAAAAggQ9AAAA\n",
       "BAl6AAAACBL0AAAAECToAQAAIEjQAwAAQJCgBwAAgCBBDwAAAEGCHgAAAIIEPQAAAAQJegAAAAgS\n",
       "9AAAABAk6AEAACBI0AMAAEDQdnoAAH/tueeem56weOWVV6YnLO64447pCYfaZrOZnnDA/v7+9ITF\n",
       "xx9/PD1h8dFHH01PWLz11lvTExY//fTT9ASAQ8OFHgAAAIIEPQAAAAQJegAAAAgS9AAAABAk6AEA\n",
       "ACBI0AMAAECQoAcAAIAgQQ8AAABBgh4AAACCBD0AAAAECXoAAAAIEvQAAAAQJOgBAAAgSNADAABA\n",
       "kKAHAACAIEEPAAAAQYIeAAAAggQ9AAAABAl6AAAACBL0AAAAECToAQAAIEjQAwAAQJCgBwAAgCBB\n",
       "DwAAAEGCHgAAAIIEPQAAAAQJegAAAAgS9AAAABAk6AEAACBI0AMAAECQoAcAAIAgQQ8AAABBgh4A\n",
       "AACCBD0AAAAECXoAAAAIEvQAAAAQJOgBAAAgSNADAABAkKAHAACAIEEPAAAAQYIeAAAAggQ9AAAA\n",
       "BAl6AAAACBL0AAAAECToAQAAIEjQAwAAQJCgBwAAgCBBDwAAAEGb3W63Pz0CgGu7evXq9ITFdrud\n",
       "ngDcRD/++OP0hMVTTz01PWHx+eefT08AjjAXegAAAAgS9AAAABAk6AEAACBI0AMAAECQoAcAAIAg\n",
       "QQ8AAABBgh4AAACCBD0AAAAECXoAAAAIEvQAAAAQJOgBAAAgSNADAABAkKAHAACAIEEPAAAAQYIe\n",
       "AAAAggQ9AAAABAl6AAAACBL0AAAAECToAQAAIEjQAwAAQJCgBwAAgCBBDwAAAEGCHgAAAIIEPQAA\n",
       "AAQJegAAAAgS9AAAABAk6AEAACBI0AMAAECQoAcAAIAgQQ8AAABBgh4AAACCBD0AAAAECXoAAAAI\n",
       "EvQAAAAQJOgBAAAgSNADAABAkKAHAACAIEEPAAAAQYIeAAAAggQ9AAAABAl6AAAACBL0AAAAECTo\n",
       "AQAAIEjQAwAAQJCgBwAAgCBBDwAAAEGCHgAAAIIEPQAAAARtpwcAwD/xySefTE9Y/Pzzz9MTDr2H\n",
       "HnpoesLi5MmT0xMOtTvvvHN6wuLFF1+cnrB4/vnnpycAR5gLPQAAAAQJegAAAAgS9AAAABAk6AEA\n",
       "ACBI0AMAAECQoAcAAIAgQQ8AAABBgh4AAACCBD0AAAAECXoAAAAIEvQAAAAQJOgBAAAgSNADAABA\n",
       "kKAHAACAIEEPAAAAQYIeAAAAggQ9AAAABAl6AAAACBL0AAAAECToAQAAIEjQAwAAQJCgBwAAgCBB\n",
       "DwAAAEGCHgAAAIIEPQAAAAQJegAAAAgS9AAAABAk6AEAACBI0AMAAECQoAcAAIAgQQ8AAABBgh4A\n",
       "AACCBD0AAAAECXoAAAAIEvQAAAAQJOgBAAAgSNADAABAkKAHAACAIEEPAAAAQYIeAAAAggQ9AAAA\n",
       "BAl6AAAACBL0AAAAECToAQAAIEjQAwAAQJCgBwAAgCBBDwAAAEHb6QEA/LXPPvtsesLiyy+/nJ6w\n",
       "eO2116YnLH755ZfpCYtbbrllesIBFy9enJ6wOHny5PQErsNvv/02PQHg0HChBwAAgCBBDwAAAEGC\n",
       "HgAAAIIEPQAAAAQJegAAAAgS9AAAABAk6AEAACBI0AMAAECQoAcAAIAgQQ8AAABBgh4AAACCBD0A\n",
       "AAAECXoAAAAIEvQAAAAQJOgBAAAgSNADAABAkKAHAACAIEEPAAAAQYIeAAAAggQ9AAAABAl6AAAA\n",
       "CBL0AAAAECToAQAAIEjQAwAAQJCgBwAAgCBBDwAAAEGCHgAAAIIEPQAAAAQJegAAAAgS9AAAABAk\n",
       "6AEAACBI0AMAAECQoAcAAIAgQQ8AAABBgh4AAACCBD0AAAAECXoAAAAIEvQAAAAQJOgBAAAgSNAD\n",
       "AABAkKAHAACAIEEPAAAAQYIeAAAAggQ9AAAABAl6AAAACBL0AAAAECToAQAAIEjQAwAAQNBmt9vt\n",
       "T48AAP4/Tp06NT3hgHfffXd6Atfh119/nZ6w2Nvbm56wuHLlyvQE4AhzoQcAAIAgQQ8AAABBgh4A\n",
       "AACCBD0AAAAECXoAAAAIEvQAAAAQJOgBAAAgSNADAABAkKAHAACAIEEPAAAAQYIeAAAAggQ9AAAA\n",
       "BAl6AAAACBL0AAAAECToAQAAIEjQAwAAQJCgBwAAgCBBDwAAAEGCHgAAAIIEPQAAAAQJegAAAAgS\n",
       "9AAAABAk6AEAACBI0AMAAECQoAcAAIAgQQ8AAABBgh4AAACCBD0AAAAECXoAAAAIEvQAAAAQJOgB\n",
       "AAAgSNADAABAkKAHAACAIEEPAAAAQYIeAAAAggQ9AAAABAl6AAAACBL0AAAAECToAQAAIEjQAwAA\n",
       "QJCgBwAAgCBBDwAAAEGCHgAAAIIEPQAAAAQJegAAAAgS9AAAABAk6AEAACBI0AMAAEDQdnoAAPwT\n",
       "x48fn56wePbZZ6cnLJ5++unpCVynP/74Y3rC4ty5c9MTFleuXJmeAHBouNADAABAkKAHAACAIEEP\n",
       "AAAAQYIeAAAAggQ9AAAABAl6AAAACBL0AAAAECToAQAAIEjQAwAAQJCgBwAAgCBBDwAAAEGCHgAA\n",
       "AIIEPQAAAAQJegAAAAgS9AAAABAk6AEAACBI0AMAAECQoAcAAIAgQQ8AAABBgh4AAACCBD0AAAAE\n",
       "CXoAAAAIEvQAAAAQJOgBAAAgSNADAABAkKAHAACAIEEPAAAAQYIeAAAAggQ9AAAABAl6AAAACBL0\n",
       "AAAAECToAQAAIEjQAwAAQJCgBwAAgCBBDwAAAEGCHgAAAIIEPQAAAAQJegAAAAgS9AAAABAk6AEA\n",
       "ACBI0AMAAECQoAcAAIAgQQ8AAABBgh4AAACCBD0AAAAECXoAAAAIEvQAAAAQtJ0eAEDLqVOnpics\n",
       "XnjhhekJi729vekJxB223/Q777wzPQGAa3ChBwAAgCBBDwAAAEGCHgAAAIIEPQAAAAQJegAAAAgS\n",
       "9AAAABAk6AEAACBI0AMAAECQoAcAAIAgQQ8AAABBgh4AAACCBD0AAAAECXoAAAAIEvQAAAAQJOgB\n",
       "AAAgSNADAABAkKAHAACAIEEPAAAAQYIeAAAAggQ9AAAABAl6AAAACBL0AAAAECToAQAAIEjQAwAA\n",
       "QJCgBwAAgCBBDwAAAEGCHgAAAIIEPQAAAAQJegAAAAgS9AAAABAk6AEAACBI0AMAAECQoAcAAIAg\n",
       "QQ8AAABBgh4AAACCBD0AAAAECXoAAAAIEvQAAAAQJOgBAAAgSNADAABAkKAHAACAIEEPAAAAQYIe\n",
       "AAAAggQ9AAAABAl6AAAACBL0AAAAECToAQAAIEjQAwAAQNB2egAAf+2rr76anrA4ceLE9ITFsWO+\n",
       "Tdf8+eef0xMWzzzzzPSExfvvvz89AYAIb0EAAAAQJOgBAAAgSNADAABAkKAHAACAIEEPAAAAQYIe\n",
       "AAAAggQ9AAAABAl6AAAACBL0AAAAECToAQAAIEjQAwAAQJCgBwAAgCBBDwAAAEGCHgAAAIIEPQAA\n",
       "AAQJegAAAAgS9AAAABAk6AEAACBI0AMAAECQoAcAAIAgQQ8AAABBgh4AAACCBD0AAAAECXoAAAAI\n",
       "EvQAAAAQJOgBAAAgSNADAABAkKAHAACAIEEPAAAAQYIeAAAAggQ9AAAABAl6AAAACBL0AAAAECTo\n",
       "AQAAIEjQAwAAQJCgBwAAgCBBDwAAAEGCHgAAAIIEPQAAAAQJegAAAAgS9AAAABAk6AEAACBI0AMA\n",
       "AECQoAcAAIAgQQ8AAABBgh4AAACCBD0AAAAECXoAAAAI2k4PADhszp49Oz1hceutt05PIOyDDz6Y\n",
       "nnDAq6++Oj1h8cMPP0xPAIC/xYUeAAAAggQ9AAAABAl6AAAACBL0AAAAECToAQAAIEjQAwAAQJCg\n",
       "BwAAgCBBDwAAAEGCHgAAAIIEPQAAAAQJegAAAAgS9AAAABAk6AEAACBI0AMAAECQoAcAAIAgQQ8A\n",
       "AABBgh4AAACCBD0AAAAECXoAAAAIEvQAAAAQJOgBAAAgSNADAABAkKAHAACAIEEPAAAAQYIeAAAA\n",
       "ggQ9AAAABAl6AAAACBL0AAAAECToAQAAIEjQAwAAQJCgBwAAgCBBDwAAAEGCHgAAAIIEPQAAAAQJ\n",
       "egAAAAgS9AAAABAk6AEAACBI0AMAAECQoAcAAIAgQQ8AAABBgh4AAACCBD0AAAAECXoAAAAIEvQA\n",
       "AAAQJOgBAAAgSNADAABAkKAHAACAoO30AIDD5vbbb5+eADfMF198MT3hgO3W6wcA3Agu9AAAABAk\n",
       "6AEAACBI0AMAAECQoAcAAIAgQQ8AAABBgh4AAACCBD0AAAAECXoAAAAIEvQAAAAQJOgBAAAgSNAD\n",
       "AABAkKAHAACAIEEPAAAAQYIeAAAAggQ9AAAABAl6AAAACBL0AAAAECToAQAAIEjQAwAAQJCgBwAA\n",
       "gCBBDwAAAEGCHgAAAIIEPQAAAAQJegAAAAgS9AAAABAk6AEAACBI0AMAAECQoAcAAIAgQQ8AAABB\n",
       "gh4AAACCBD0AAAAECXoAAAAIEvQAAAAQJOgBAAAgSNADAABAkKAHAACAIEEPAAAAQYIeAAAAggQ9\n",
       "AAAABAl6AAAACBL0AAAAECToAQAAIEjQAwAAQJCgBwAAgCBBDwAAAEGCHgAAAIIEPQAAAAQJegAA\n",
       "AAja7Ha7/ekRAIfJfffdNz1h8eGHH05PWBw/fnx6AnFff/319ITFpUuXpicsLl++PD1h8f33309P\n",
       "AOAaXOgBAAAgSNADAABAkKAHAACAIEEPAAAAQYIeAAAAggQ9AAAABAl6AAAACBL0AAAAECToAQAA\n",
       "IEjQAwAAQJCgBwAAgCBBDwAAAEGCHgAAAIIEPQAAAAQJegAAAAgS9AAAABAk6AEAACBI0AMAAECQ\n",
       "oAcAAIAgQQ8AAABBgh4AAACCBD0AAAAECXoAAAAIEvQAAAAQJOgBAAAgSNADAABAkKAHAACAIEEP\n",
       "AAAAQYIeAAAAggQ9AAAABAl6AAAACBL0AAAAECToAQAAIEjQAwAAQJCgBwAAgCBBDwAAAEGCHgAA\n",
       "AIIEPQAAAAQJegAAAAgS9AAAABAk6AEAACBI0AMAAECQoAcAAIAgQQ8AAABBgh4AAACCBD0AAAAE\n",
       "CXoAAAAIEvQAAAAQtNntdvvTIwC4tieffHJ6wuLll1+enrC4++67pycs7rrrrukJxH3zzTfTExaX\n",
       "Ll2anrB44403picsfv/99+kJwBHmQg8AAABBgh4AAACCBD0AAAAECXoAAAAIEvQAAAAQJOgBAAAg\n",
       "SNADAABAkKAHAACAIEEPAAAAQYIeAAAAggQ9AAAABAl6AAAACBL0AAAAECToAQAAIEjQAwAAQJCg\n",
       "BwAAgCBBDwAAAEGCHgAAAIIEPQAAAAQJegAAAAgS9AAAABAk6AEAACBI0AMAAECQoAcAAIAgQQ8A\n",
       "AABBgh4AAACCBD0AAAAECXoAAAAIEvQAAAAQJOgBAAAgSNADAABAkKAHAACAIEEPAAAAQYIeAAAA\n",
       "ggQ9AAAABAl6AAAACBL0AAAAECToAQAAIEjQAwAAQJCgBwAAgCBBDwAAAEGCHgAAAIIEPQAAAAQJ\n",
       "egAAAAgS9AAAABAk6AEAACBI0AMAAEDQZrfb7U+PAIC/6957752esDh9+vT0hMXe3t70hAMeeeSR\n",
       "6QmLY8fcN0pef/316QmL8+fPT08AjjBPMAAAAAgS9AAAABAk6AEAACBI0AMAAECQoAcAAIAgQQ8A\n",
       "AABBgh4AAACCBD0AAAAECXoAAAAIEvQAAAAQJOgBAAAgSNADAABAkKAHAACAIEEPAAAAQYIeAAAA\n",
       "ggQ9AAAABAl6AAAACBL0AAAAECToAQAAIEjQAwAAQJCgBwAAgCBBDwAAAEGCHgAAAIIEPQAAAAQJ\n",
       "egAAAAgS9AAAABAk6AEAACBI0AMAAECQoAcAAIAgQQ8AAABBgh4AAACCBD0AAAAECXoAAAAIEvQA\n",
       "AAAQJOgBAAAgSNADAABAkKAHAACAIEEPAAAAQYIeAAAAggQ9AAAABAl6AAAACBL0AAAAECToAQAA\n",
       "IEjQAwAAQJCgBwAAgCBBDwAAAEGCHgAAAIIEPQAAAARtdrvd/vQIAODoePzxx6cnLN58883pCVyH\n",
       "7777bnrC4syZM9MTFlevXp2eANxELvQAAAAQJOgBAAAgSNADAABAkKAHAACAIEEPAAAAQYIeAAAA\n",
       "ggQ9AAAABAl6AAAACBL0AAAAECToAQAAIEjQAwAAQJCgBwAAgCBBDwAAAEGCHgAAAIIEPQAAAAQJ\n",
       "egAAAAgS9AAAABAk6AEAACBI0AMAAECQoAcAAIAgQQ8AAABBgh4AAACCBD0AAAAECXoAAAAIEvQA\n",
       "AAAQJOgBAAAgSNADAABAkKAHAACAIEEPAAAAQYIeAAAAggQ9AAAABAl6AAAACBL0AAAAECToAQAA\n",
       "IEjQAwAAQJCgBwAAgCBBDwAAAEGCHgAAAIIEPQAAAAQJegAAAAgS9AAAABAk6AEAACBI0AMAAECQ\n",
       "oAcAAIAgQQ8AAABBgh4AAACCBD0AAAAECXoAAAAI2ux2u/3pEfBvdvr06ekJi9tuu216wgGXL1+e\n",
       "ngDcRJvNZnrC4ty5c9MTFi+99NL0BK7DxYsXpycsLly4MD0BuIlc6AEAACBI0AMAAECQoAcAAIAg\n",
       "QQ8AAABBgh4AAACCBD0AAAAECXoAAAAIEvQAAAAQJOgBAAAgSNADAABAkKAHAACAIEEPAAAAQYIe\n",
       "AAAAggQ9AAAABAl6AAAACBL0AAAAECToAQAAIEjQAwAAQJCgBwAAgCBBDwAAAEGCHgAAAIIEPQAA\n",
       "AAQJegAAAAgS9AAAABAk6AEAACBI0AMAAECQoAcAAIAgQQ8AAABBgh4AAACCBD0AAAAECXoAAAAI\n",
       "EvQAAAAQJOgBAAAgSNADAABAkKAHAACAIEEPAAAAQYIeAAAAggQ9AAAABAl6AAAACBL0AAAAECTo\n",
       "AQAAIEjQAwAAQJCgBwAAgCBBDwAAAEGCHgAAAIIEPQAAAAQJegAAAAjaTg+AG+3tt9+enrB49NFH\n",
       "pycsttvD97d/8MEHpycszp8/Pz0B/tU2m830hMX9998/PYGwJ554YnrC4sKFC9MTgJvIhR4AAACC\n",
       "BD0AAAAECXoAAAAIEvQAAAAQJOgBAAAgSNADAABAkKAHAACAIEEPAAAAQYIeAAAAggQ9AAAABAl6\n",
       "AAAACBL0AAAAECToAQAAIEjQAwAAQJCgBwAAgCBBDwAAAEGCHgAAAIIEPQAAAAQJegAAAAgS9AAA\n",
       "ABAk6AEAACBI0AMAAECQoAcAAIAgQQ8AAABBgh4AAACCBD0AAAAECXoAAAAIEvQAAAAQJOgBAAAg\n",
       "SNADAABAkKAHAACAIEEPAAAAQYIeAAAAggQ9AAAABAl6AAAACBL0AAAAECToAQAAIEjQAwAAQJCg\n",
       "BwAAgCBBDwAAAEGCHgAAAIIEPQAAAAQJegAAAAgS9AAAABAk6AEAACBI0AMAAECQoAcAAIAgQQ8A\n",
       "AABB2+kBcKPdc8890xMWJ06cmJ5w6J09e3Z6wuKxxx6bnrD49NNPpycs3nvvvekJh9qZM2emJywe\n",
       "eOCB6QkHHDt2uO4JDz/88PQEwr799tvpCcARdrieqAAAAMD/RNADAABAkKAHAACAIEEPAAAAQYIe\n",
       "AAAAggQ9AAAABAl6AAAACBL0AAAAECToAQAAIEjQAwAAQJCgBwAAgCBBDwAAAEGCHgAAAIIEPQAA\n",
       "AAQJegAAAAgS9P9tzw5tIo3CMIxmMKhfYWmAKigCTQNkNAmFUAahCsyIkVQBeuSsvkHtZsO3z3JO\n",
       "Ba+8z/0AAAAgSNADAABAkKAHAACAIEEPAAAAQYIeAAAAggQ9AAAABAl6AAAACBL0AAAAECToAQAA\n",
       "IEjQAwAAQJCgBwAAgCBBDwAAAEGCHgAAAIIEPQAAAAQJegAAAAgS9AAAABAk6AEAACBI0AMAAECQ\n",
       "oAcAAIAgQQ8AAABBgh4AAACCBD0AAAAECXoAAAAIEvQAAAAQJOgBAAAgSNADAABAkKAHAACAIEEP\n",
       "AAAAQYIeAAAAggQ9AAAABAl6AAAACBL0AAAAECToAQAAIGi3bdt5egT8Tff399MTFg8PD9MTFtfX\n",
       "19MTAOCPvb29TU9Y7Pf76QmLj4+P6QnAN3KhBwAAgCBBDwAAAEGCHgAAAIIEPQAAAAQJegAAAAgS\n",
       "9AAAABAk6AEAACBI0AMAAECQoAcAAIAgQQ8AAABBgh4AAACCBD0AAAAECXoAAAAIEvQAAAAQJOgB\n",
       "AAAgSNADAABAkKAHAACAIEEPAAAAQYIeAAAAggQ9AAAABAl6AAAACBL0AAAAECToAQAAIEjQAwAA\n",
       "QJCgBwAAgCBBDwAAAEGCHgAAAIIEPQAAAAQJegAAAAgS9AAAABAk6AEAACBI0AMAAECQoAcAAIAg\n",
       "QQ8AAABBgh4AAACCBD0AAAAECXoAAAAIEvQAAAAQJOgBAAAgSNADAABAkKAHAACAIEEPAAAAQYIe\n",
       "AAAAggQ9AAAABAl6AAAACBL0AAAAECToAQAAIGi3bdt5egT8z66urqYnLO7u7qYnfPH4+Dg9YXF5\n",
       "eTk9AfhGp9NpesLiX9vz/Pw8PWHx8vIyPWHx+fk5PQH4wVzoAQAAIEjQAwAAQJCgBwAAgCBBDwAA\n",
       "AEGCHgAAAIIEPQAAAAQJegAAAAgS9AAAABAk6AEAACBI0AMAAECQoAcAAIAgQQ8AAABBgh4AAACC\n",
       "BD0AAAAECXoAAAAIEvQAAAAQJOgBAAAgSNADAABAkKAHAACAIEEPAAAAQYIeAAAAggQ9AAAABAl6\n",
       "AAAACBL0AAAAECToAQAAIEjQAwAAQJCgBwAAgCBBDwAAAEGCHgAAAIIEPQAAAAQJegAAAAgS9AAA\n",
       "ABAk6AEAACBI0AMAAECQoAcAAIAgQQ8AAABBgh4AAACCBD0AAAAECXoAAAAIEvQAAAAQJOgBAAAg\n",
       "SNADAABAkKAHAACAIEEPAAAAQYIeAAAAggQ9AAAABAl6AAAACBL0AAAAELTbtu08PQL42W5vb6cn\n",
       "LG5ubqYnLJ6enqYnLC4u/AWXvL6+Tk/44v39fXrC4ng8Tk9YHA6H6QkARHiVAQAAQJCgBwAAgCBB\n",
       "DwAAAEGCHgAAAIIEPQAAAAQJegAAAAgS9AAAABAk6AEAACBI0AMAAECQoAcAAIAgQQ8AAABBgh4A\n",
       "AACCBD0AAAAECXoAAAAIEvQAAAAQJOgBAAAgSNADAABAkKAHAACAIEEPAAAAQYIeAAAAggQ9AAAA\n",
       "BAl6AAAACBL0AAAAECToAQAAIEjQAwAAQJCgBwAAgCBBDwAAAEGCHgAAAIIEPQAAAAQJegAAAAgS\n",
       "9AAAABAk6AEAACBI0AMAAECQoAcAAIAgQQv72SYAAAUESURBVA8AAABBgh4AAACCBD0AAAAECXoA\n",
       "AAAIEvQAAAAQJOgBAAAgSNADAABAkKAHAACAIEEPAAAAQYIeAAAAggQ9AAAABAl6AAAACBL0AAAA\n",
       "ECToAQAAIGi3bdt5egQAAADwe1zoAQAAIEjQAwAAQJCgBwAAgCBBDwAAAEGCHgAAAIIEPQAAAAQJ\n",
       "egAAAAgS9AAAABAk6AEAACBI0AMAAECQoAcAAIAgQQ8AAABBgh4AAACCBD0AAAAECXoAAAAIEvQA\n",
       "AAAQJOgBAAAgSNADAABAkKAHAACAIEEPAAAAQYIeAAAAggQ9AAAABAl6AAAACBL0AAAAECToAQAA\n",
       "IEjQAwAAQJCgBwAAgCBBDwAAAEGCHgAAAIIEPQAAAAQJegAAAAgS9AAAABAk6AEAACBI0AMAAECQ\n",
       "oAcAAIAgQQ8AAABBgh4AAACCBD0AAAAECXoAAAAIEvQAAAAQJOgBAAAgSNADAABAkKAHAACAIEEP\n",
       "AAAAQYIeAAAAggQ9AAAABAl6AAAACBL0AAAAECToAQAAIEjQAwAAQJCgBwAAgCBBDwAAAEGCHgAA\n",
       "AIIEPQAAAAQJegAAAAgS9AAAABAk6AEAACBI0AMAAECQoAcAAIAgQQ8AAABBgh4AAACCBD0AAAAE\n",
       "CXoAAAAIEvQAAAAQJOgBAAAgSNADAABAkKAHAACAIEEPAAAAQYIeAAAAggQ9AAAABAl6AAAACBL0\n",
       "AAAAECToAQAAIEjQAwAAQJCgBwAAgCBBDwAAAEGCHgAAAIIEPQAAAAQJegAAAAgS9AAAABAk6AEA\n",
       "ACBI0AMAAECQoAcAAIAgQQ8AAABBgh4AAACCBD0AAAAECXoAAAAIEvQAAAAQJOgBAAAgSNADAABA\n",
       "kKAHAACAIEEPAAAAQYIeAAAAggQ9AAAABAl6AAAACBL0AAAAECToAQAAIEjQAwAAQJCgBwAAgCBB\n",
       "DwAAAEGCHgAAAIIEPQAAAAQJegAAAAgS9AAAABAk6AEAACBI0AMAAECQoAcAAIAgQQ8AAABBgh4A\n",
       "AACCBD0AAAAECXoAAAAIEvQAAAAQJOgBAAAgSNADAABAkKAHAACAIEEPAAAAQYIeAAAAggQ9AAAA\n",
       "BAl6AAAACBL0AAAAECToAQAAIEjQAwAAQJCgBwAAgCBBDwAAAEGCHgAAAIIEPQAAAAQJegAAAAgS\n",
       "9AAAABAk6AEAACBI0AMAAECQoAcAAIAgQQ8AAABBgh4AAACCBD0AAAAECXoAAAAIEvQAAAAQJOgB\n",
       "AAAgSNADAABAkKAHAACAIEEPAAAAQYIeAAAAggQ9AAAABAl6AAAACBL0AAAAECToAQAAIEjQAwAA\n",
       "QJCgBwAAgCBBDwAAAEGCHgAAAIIEPQAAAAQJegAAAAgS9AAAABAk6AEAACBI0AMAAECQoAcAAIAg\n",
       "QQ8AAABBgh4AAACCBD0AAAAECXoAAAAIEvQAAAAQJOgBAAAgSNADAABAkKAHAACAIEEPAAAAQYIe\n",
       "AAAAggQ9AAAABAl6AAAACBL0AAAAECToAQAAIEjQAwAAQJCgBwAAgCBBDwAAAEGCHgAAAIIEPQAA\n",
       "AAQJegAAAAgS9AAAABAk6AEAACBI0AMAAECQoAcAAIAgQQ8AAABBgh4AAACCBD0AAAAECXoAAAAI\n",
       "EvQAAAAQJOgBAAAgSNADAABAkKAHAACAIEEPAAAAQYIeAAAAggQ9AAAABAl6AAAACBL0AAAAECTo\n",
       "AQAAIOgX3xjaISxz9uYAAAAASUVORK5CYII=\n",
       "\" transform=\"translate(1341, 123)\"/>\n",
       "</g>\n",
       "</svg>\n"
      ]
     },
     "metadata": {},
     "output_type": "display_data"
    }
   ],
   "source": [
    "plot_mnist_clean_and_attack(x_train, y_train, FGSM, model, loss, 0.2; iterations=40, step_size=0.03)"
   ]
  },
  {
   "cell_type": "markdown",
   "metadata": {},
   "source": [
    "#### Adversarially trained model"
   ]
  },
  {
   "cell_type": "code",
   "execution_count": 206,
   "metadata": {},
   "outputs": [
    {
     "name": "stdout",
     "output_type": "stream",
     "text": [
      "Digit predicted by the model for the clean image: 4\n",
      "Digit predicted by the model for the \n",
      "    adversarial image: 9\n",
      "True label: 4\n"
     ]
    },
    {
     "data": {
      "image/png": "[encoded data removed]",
      "image/svg+xml": [
       "<?xml version=\"1.0\" encoding=\"utf-8\"?>\n",
       "<svg xmlns=\"http://www.w3.org/2000/svg\" xmlns:xlink=\"http://www.w3.org/1999/xlink\" width=\"600\" height=\"400\" viewBox=\"0 0 2400 1600\">\n",
       "<defs>\n",
       "  <clipPath id=\"clip570\">\n",
       "    <rect x=\"0\" y=\"0\" width=\"2400\" height=\"1600\"/>\n",
       "  </clipPath>\n",
       "</defs>\n",
       "<path clip-path=\"url(#clip570)\" d=\"M0 1600 L2400 1600 L2400 0 L0 0  Z\" fill=\"#ffffff\" fill-rule=\"evenodd\" fill-opacity=\"1\"/>\n",
       "<defs>\n",
       "  <clipPath id=\"clip571\">\n",
       "    <rect x=\"480\" y=\"0\" width=\"1681\" height=\"1600\"/>\n",
       "  </clipPath>\n",
       "</defs>\n",
       "<path clip-path=\"url(#clip570)\" d=\"M140.696 1486.45 L1152.76 1486.45 L1152.76 123.472 L140.696 123.472  Z\" fill=\"#ffffff\" fill-rule=\"evenodd\" fill-opacity=\"1\"/>\n",
       "<defs>\n",
       "  <clipPath id=\"clip572\">\n",
       "    <rect x=\"140\" y=\"123\" width=\"1013\" height=\"1364\"/>\n",
       "  </clipPath>\n",
       "</defs>\n",
       "<polyline clip-path=\"url(#clip572)\" style=\"stroke:#000000; stroke-linecap:round; stroke-linejoin:round; stroke-width:2; stroke-opacity:0.1; fill:none\" points=\"303.348,1486.45 303.348,123.472 \"/>\n",
       "<polyline clip-path=\"url(#clip572)\" style=\"stroke:#000000; stroke-linecap:round; stroke-linejoin:round; stroke-width:2; stroke-opacity:0.1; fill:none\" points=\"484.073,1486.45 484.073,123.472 \"/>\n",
       "<polyline clip-path=\"url(#clip572)\" style=\"stroke:#000000; stroke-linecap:round; stroke-linejoin:round; stroke-width:2; stroke-opacity:0.1; fill:none\" points=\"664.798,1486.45 664.798,123.472 \"/>\n",
       "<polyline clip-path=\"url(#clip572)\" style=\"stroke:#000000; stroke-linecap:round; stroke-linejoin:round; stroke-width:2; stroke-opacity:0.1; fill:none\" points=\"845.523,1486.45 845.523,123.472 \"/>\n",
       "<polyline clip-path=\"url(#clip572)\" style=\"stroke:#000000; stroke-linecap:round; stroke-linejoin:round; stroke-width:2; stroke-opacity:0.1; fill:none\" points=\"1026.25,1486.45 1026.25,123.472 \"/>\n",
       "<polyline clip-path=\"url(#clip572)\" style=\"stroke:#000000; stroke-linecap:round; stroke-linejoin:round; stroke-width:2; stroke-opacity:0.1; fill:none\" points=\"140.696,1267.4 1152.76,1267.4 \"/>\n",
       "<polyline clip-path=\"url(#clip572)\" style=\"stroke:#000000; stroke-linecap:round; stroke-linejoin:round; stroke-width:2; stroke-opacity:0.1; fill:none\" points=\"140.696,1024.01 1152.76,1024.01 \"/>\n",
       "<polyline clip-path=\"url(#clip572)\" style=\"stroke:#000000; stroke-linecap:round; stroke-linejoin:round; stroke-width:2; stroke-opacity:0.1; fill:none\" points=\"140.696,780.621 1152.76,780.621 \"/>\n",
       "<polyline clip-path=\"url(#clip572)\" style=\"stroke:#000000; stroke-linecap:round; stroke-linejoin:round; stroke-width:2; stroke-opacity:0.1; fill:none\" points=\"140.696,537.233 1152.76,537.233 \"/>\n",
       "<polyline clip-path=\"url(#clip572)\" style=\"stroke:#000000; stroke-linecap:round; stroke-linejoin:round; stroke-width:2; stroke-opacity:0.1; fill:none\" points=\"140.696,293.844 1152.76,293.844 \"/>\n",
       "<path clip-path=\"url(#clip570)\" d=\"M96.2483 20.1573 L85.1489 50.2555 L107.388 50.2555 L96.2483 20.1573 M91.6303 12.096 L100.907 12.096 L123.957 72.576 L115.45 72.576 L109.94 57.061 L82.6778 57.061 L77.1686 72.576 L68.5402 72.576 L91.6303 12.096 Z\" fill=\"#000000\" fill-rule=\"nonzero\" fill-opacity=\"1\" /><path clip-path=\"url(#clip570)\" d=\"M160.86 34.0924 L160.86 9.54393 L168.314 9.54393 L168.314 72.576 L160.86 72.576 L160.86 65.7705 Q158.511 69.8214 154.905 71.8063 Q151.341 73.7508 146.318 73.7508 Q138.094 73.7508 132.909 67.1883 Q127.764 60.6258 127.764 49.9314 Q127.764 39.2371 132.909 32.6746 Q138.094 26.1121 146.318 26.1121 Q151.341 26.1121 154.905 28.0971 Q158.511 30.0415 160.86 34.0924 M135.461 49.9314 Q135.461 58.1548 138.823 62.8538 Q142.226 67.5124 148.14 67.5124 Q154.055 67.5124 157.458 62.8538 Q160.86 58.1548 160.86 49.9314 Q160.86 41.7081 157.458 37.0496 Q154.055 32.3505 148.14 32.3505 Q142.226 32.3505 138.823 37.0496 Q135.461 41.7081 135.461 49.9314 Z\" fill=\"#000000\" fill-rule=\"nonzero\" fill-opacity=\"1\" /><path clip-path=\"url(#clip570)\" d=\"M178.32 27.2059 L186.219 27.2059 L200.397 65.2844 L214.575 27.2059 L222.475 27.2059 L205.461 72.576 L195.333 72.576 L178.32 27.2059 Z\" fill=\"#000000\" fill-rule=\"nonzero\" fill-opacity=\"1\" /><path clip-path=\"url(#clip570)\" d=\"M271.571 48.0275 L271.571 51.6733 L237.301 51.6733 Q237.787 59.3701 241.919 63.421 Q246.091 67.4314 253.504 67.4314 Q257.798 67.4314 261.809 66.3781 Q265.86 65.3249 269.83 63.2184 L269.83 70.267 Q265.819 71.9684 261.606 72.8596 Q257.393 73.7508 253.059 73.7508 Q242.202 73.7508 235.843 67.4314 Q229.523 61.1119 229.523 50.3365 Q229.523 39.1965 235.518 32.6746 Q241.554 26.1121 251.763 26.1121 Q260.918 26.1121 266.224 32.0264 Q271.571 37.9003 271.571 48.0275 M264.118 45.84 Q264.037 39.7232 260.675 36.0774 Q257.353 32.4315 251.844 32.4315 Q245.605 32.4315 241.838 35.9558 Q238.111 39.4801 237.544 45.8805 L264.118 45.84 Z\" fill=\"#000000\" fill-rule=\"nonzero\" fill-opacity=\"1\" /><path clip-path=\"url(#clip570)\" d=\"M310.096 34.1734 Q308.84 33.4443 307.341 33.1202 Q305.883 32.7556 304.1 32.7556 Q297.781 32.7556 294.378 36.8875 Q291.016 40.9789 291.016 48.6757 L291.016 72.576 L283.522 72.576 L283.522 27.2059 L291.016 27.2059 L291.016 34.2544 Q293.365 30.1225 297.133 28.1376 Q300.9 26.1121 306.288 26.1121 Q307.057 26.1121 307.989 26.2337 Q308.921 26.3147 310.055 26.5172 L310.096 34.1734 Z\" fill=\"#000000\" fill-rule=\"nonzero\" fill-opacity=\"1\" /><path clip-path=\"url(#clip570)\" d=\"M346.837 28.5427 L346.837 35.5912 Q343.678 33.9709 340.275 33.1607 Q336.872 32.3505 333.226 32.3505 Q327.677 32.3505 324.881 34.0519 Q322.127 35.7533 322.127 39.156 Q322.127 41.7486 324.112 43.2475 Q326.097 44.7058 332.092 46.0426 L334.644 46.6097 Q342.584 48.3111 345.906 51.4303 Q349.268 54.509 349.268 60.0587 Q349.268 66.3781 344.245 70.0644 Q339.262 73.7508 330.512 73.7508 Q326.866 73.7508 322.896 73.0216 Q318.967 72.3329 314.592 70.9151 L314.592 63.2184 Q318.724 65.3654 322.734 66.4591 Q326.745 67.5124 330.674 67.5124 Q335.94 67.5124 338.776 65.73 Q341.612 63.9071 341.612 60.6258 Q341.612 57.5877 339.546 55.9673 Q337.52 54.3469 330.593 52.8481 L328.001 52.2405 Q321.074 50.7821 317.995 47.7845 Q314.916 44.7463 314.916 39.4801 Q314.916 33.0797 319.453 29.5959 Q323.99 26.1121 332.335 26.1121 Q336.467 26.1121 340.113 26.7198 Q343.759 27.3274 346.837 28.5427 Z\" fill=\"#000000\" fill-rule=\"nonzero\" fill-opacity=\"1\" /><path clip-path=\"url(#clip570)\" d=\"M381.756 49.7694 Q372.723 49.7694 369.239 51.8354 Q365.755 53.9013 365.755 58.8839 Q365.755 62.8538 368.348 65.2034 Q370.981 67.5124 375.477 67.5124 Q381.675 67.5124 385.402 63.1374 Q389.169 58.7219 389.169 51.4303 L389.169 49.7694 L381.756 49.7694 M396.623 46.6907 L396.623 72.576 L389.169 72.576 L389.169 65.6895 Q386.617 69.8214 382.809 71.8063 Q379.001 73.7508 373.492 73.7508 Q366.525 73.7508 362.393 69.8619 Q358.301 65.9325 358.301 59.3701 Q358.301 51.7138 363.405 47.825 Q368.55 43.9361 378.718 43.9361 L389.169 43.9361 L389.169 43.2069 Q389.169 38.0623 385.766 35.2672 Q382.404 32.4315 376.287 32.4315 Q372.398 32.4315 368.712 33.3632 Q365.026 34.295 361.623 36.1584 L361.623 29.2718 Q365.714 27.692 369.563 26.9223 Q373.411 26.1121 377.057 26.1121 Q386.901 26.1121 391.762 31.2163 Q396.623 36.3204 396.623 46.6907 Z\" fill=\"#000000\" fill-rule=\"nonzero\" fill-opacity=\"1\" /><path clip-path=\"url(#clip570)\" d=\"M438.266 34.1734 Q437.01 33.4443 435.512 33.1202 Q434.053 32.7556 432.271 32.7556 Q425.951 32.7556 422.549 36.8875 Q419.186 40.9789 419.186 48.6757 L419.186 72.576 L411.692 72.576 L411.692 27.2059 L419.186 27.2059 L419.186 34.2544 Q421.536 30.1225 425.303 28.1376 Q429.071 26.1121 434.458 26.1121 Q435.228 26.1121 436.16 26.2337 Q437.091 26.3147 438.226 26.5172 L438.266 34.1734 Z\" fill=\"#000000\" fill-rule=\"nonzero\" fill-opacity=\"1\" /><path clip-path=\"url(#clip570)\" d=\"M446.084 27.2059 L453.538 27.2059 L453.538 72.576 L446.084 72.576 L446.084 27.2059 M446.084 9.54393 L453.538 9.54393 L453.538 18.9825 L446.084 18.9825 L446.084 9.54393 Z\" fill=\"#000000\" fill-rule=\"nonzero\" fill-opacity=\"1\" /><path clip-path=\"url(#clip570)\" d=\"M489.753 49.7694 Q480.72 49.7694 477.236 51.8354 Q473.752 53.9013 473.752 58.8839 Q473.752 62.8538 476.345 65.2034 Q478.978 67.5124 483.474 67.5124 Q489.672 67.5124 493.399 63.1374 Q497.166 58.7219 497.166 51.4303 L497.166 49.7694 L489.753 49.7694 M504.62 46.6907 L504.62 72.576 L497.166 72.576 L497.166 65.6895 Q494.614 69.8214 490.806 71.8063 Q486.999 73.7508 481.489 73.7508 Q474.522 73.7508 470.39 69.8619 Q466.298 65.9325 466.298 59.3701 Q466.298 51.7138 471.403 47.825 Q476.547 43.9361 486.715 43.9361 L497.166 43.9361 L497.166 43.2069 Q497.166 38.0623 493.764 35.2672 Q490.401 32.4315 484.284 32.4315 Q480.396 32.4315 476.709 33.3632 Q473.023 34.295 469.62 36.1584 L469.62 29.2718 Q473.712 27.692 477.56 26.9223 Q481.408 26.1121 485.054 26.1121 Q494.898 26.1121 499.759 31.2163 Q504.62 36.3204 504.62 46.6907 Z\" fill=\"#000000\" fill-rule=\"nonzero\" fill-opacity=\"1\" /><path clip-path=\"url(#clip570)\" d=\"M519.973 9.54393 L527.427 9.54393 L527.427 72.576 L519.973 72.576 L519.973 9.54393 Z\" fill=\"#000000\" fill-rule=\"nonzero\" fill-opacity=\"1\" /><path clip-path=\"url(#clip570)\" d=\"M608.202 48.0275 L608.202 51.6733 L573.931 51.6733 Q574.417 59.3701 578.549 63.421 Q582.721 67.4314 590.135 67.4314 Q594.429 67.4314 598.439 66.3781 Q602.49 65.3249 606.46 63.2184 L606.46 70.267 Q602.449 71.9684 598.236 72.8596 Q594.023 73.7508 589.689 73.7508 Q578.833 73.7508 572.473 67.4314 Q566.153 61.1119 566.153 50.3365 Q566.153 39.1965 572.149 32.6746 Q578.184 26.1121 588.393 26.1121 Q597.548 26.1121 602.854 32.0264 Q608.202 37.9003 608.202 48.0275 M600.748 45.84 Q600.667 39.7232 597.305 36.0774 Q593.983 32.4315 588.474 32.4315 Q582.235 32.4315 578.468 35.9558 Q574.741 39.4801 574.174 45.8805 L600.748 45.84 Z\" fill=\"#000000\" fill-rule=\"nonzero\" fill-opacity=\"1\" /><path clip-path=\"url(#clip570)\" d=\"M656.691 27.2059 L640.285 49.2833 L657.542 72.576 L648.751 72.576 L635.545 54.752 L622.339 72.576 L613.549 72.576 L631.17 48.8377 L615.048 27.2059 L623.838 27.2059 L635.869 43.369 L647.9 27.2059 L656.691 27.2059 Z\" fill=\"#000000\" fill-rule=\"nonzero\" fill-opacity=\"1\" /><path clip-path=\"url(#clip570)\" d=\"M688.693 49.7694 Q679.66 49.7694 676.176 51.8354 Q672.692 53.9013 672.692 58.8839 Q672.692 62.8538 675.285 65.2034 Q677.918 67.5124 682.414 67.5124 Q688.612 67.5124 692.339 63.1374 Q696.106 58.7219 696.106 51.4303 L696.106 49.7694 L688.693 49.7694 M703.56 46.6907 L703.56 72.576 L696.106 72.576 L696.106 65.6895 Q693.554 69.8214 689.746 71.8063 Q685.938 73.7508 680.429 73.7508 Q673.462 73.7508 669.33 69.8619 Q665.238 65.9325 665.238 59.3701 Q665.238 51.7138 670.342 47.825 Q675.487 43.9361 685.655 43.9361 L696.106 43.9361 L696.106 43.2069 Q696.106 38.0623 692.703 35.2672 Q689.341 32.4315 683.224 32.4315 Q679.336 32.4315 675.649 33.3632 Q671.963 34.295 668.56 36.1584 L668.56 29.2718 Q672.652 27.692 676.5 26.9223 Q680.348 26.1121 683.994 26.1121 Q693.838 26.1121 698.699 31.2163 Q703.56 36.3204 703.56 46.6907 Z\" fill=\"#000000\" fill-rule=\"nonzero\" fill-opacity=\"1\" /><path clip-path=\"url(#clip570)\" d=\"M754.237 35.9153 Q757.032 30.8922 760.921 28.5022 Q764.81 26.1121 770.076 26.1121 Q777.165 26.1121 781.013 31.0947 Q784.862 36.0368 784.862 45.1919 L784.862 72.576 L777.367 72.576 L777.367 45.4349 Q777.367 38.913 775.058 35.7533 Q772.749 32.5936 768.01 32.5936 Q762.217 32.5936 758.855 36.4419 Q755.493 40.2903 755.493 46.9338 L755.493 72.576 L747.998 72.576 L747.998 45.4349 Q747.998 38.8725 745.689 35.7533 Q743.38 32.5936 738.56 32.5936 Q732.848 32.5936 729.486 36.4824 Q726.123 40.3308 726.123 46.9338 L726.123 72.576 L718.629 72.576 L718.629 27.2059 L726.123 27.2059 L726.123 34.2544 Q728.676 30.082 732.24 28.0971 Q735.805 26.1121 740.707 26.1121 Q745.649 26.1121 749.092 28.6237 Q752.576 31.1352 754.237 35.9153 Z\" fill=\"#000000\" fill-rule=\"nonzero\" fill-opacity=\"1\" /><path clip-path=\"url(#clip570)\" d=\"M806.939 65.7705 L806.939 89.8329 L799.445 89.8329 L799.445 27.2059 L806.939 27.2059 L806.939 34.0924 Q809.289 30.0415 812.853 28.0971 Q816.459 26.1121 821.441 26.1121 Q829.705 26.1121 834.85 32.6746 Q840.035 39.2371 840.035 49.9314 Q840.035 60.6258 834.85 67.1883 Q829.705 73.7508 821.441 73.7508 Q816.459 73.7508 812.853 71.8063 Q809.289 69.8214 806.939 65.7705 M832.298 49.9314 Q832.298 41.7081 828.895 37.0496 Q825.533 32.3505 819.618 32.3505 Q813.704 32.3505 810.301 37.0496 Q806.939 41.7081 806.939 49.9314 Q806.939 58.1548 810.301 62.8538 Q813.704 67.5124 819.618 67.5124 Q825.533 67.5124 828.895 62.8538 Q832.298 58.1548 832.298 49.9314 Z\" fill=\"#000000\" fill-rule=\"nonzero\" fill-opacity=\"1\" /><path clip-path=\"url(#clip570)\" d=\"M852.39 9.54393 L859.844 9.54393 L859.844 72.576 L852.39 72.576 L852.39 9.54393 Z\" fill=\"#000000\" fill-rule=\"nonzero\" fill-opacity=\"1\" /><path clip-path=\"url(#clip570)\" d=\"M914.247 48.0275 L914.247 51.6733 L879.977 51.6733 Q880.463 59.3701 884.595 63.421 Q888.767 67.4314 896.18 67.4314 Q900.474 67.4314 904.485 66.3781 Q908.536 65.3249 912.506 63.2184 L912.506 70.267 Q908.495 71.9684 904.282 72.8596 Q900.069 73.7508 895.735 73.7508 Q884.878 73.7508 878.518 67.4314 Q872.199 61.1119 872.199 50.3365 Q872.199 39.1965 878.194 32.6746 Q884.23 26.1121 894.439 26.1121 Q903.594 26.1121 908.9 32.0264 Q914.247 37.9003 914.247 48.0275 M906.794 45.84 Q906.713 39.7232 903.351 36.0774 Q900.029 32.4315 894.52 32.4315 Q888.281 32.4315 884.514 35.9558 Q880.787 39.4801 880.22 45.8805 L906.794 45.84 Z\" fill=\"#000000\" fill-rule=\"nonzero\" fill-opacity=\"1\" /><path clip-path=\"url(#clip570)\" d=\"M928.385 62.2867 L936.933 62.2867 L936.933 72.576 L928.385 72.576 L928.385 62.2867 M928.385 29.6769 L936.933 29.6769 L936.933 39.9662 L928.385 39.9662 L928.385 29.6769 Z\" fill=\"#000000\" fill-rule=\"nonzero\" fill-opacity=\"1\" /><path clip-path=\"url(#clip570)\" d=\"M1004.34 19.2256 L983.68 51.5113 L1004.34 51.5113 L1004.34 19.2256 M1002.19 12.096 L1012.48 12.096 L1012.48 51.5113 L1021.11 51.5113 L1021.11 58.3168 L1012.48 58.3168 L1012.48 72.576 L1004.34 72.576 L1004.34 58.3168 L977.036 58.3168 L977.036 50.4176 L1002.19 12.096 Z\" fill=\"#000000\" fill-rule=\"nonzero\" fill-opacity=\"1\" /><path clip-path=\"url(#clip570)\" d=\"M1056.19 46.5287 L1078.03 46.5287 L1078.03 53.1722 L1056.19 53.1722 L1056.19 46.5287 Z\" fill=\"#000000\" fill-rule=\"nonzero\" fill-opacity=\"1\" /><path clip-path=\"url(#clip570)\" d=\"M1090.87 31.7429 L1090.87 24.3702 L1142.8 43.2069 L1142.8 49.9314 L1090.87 68.7682 L1090.87 61.3955 L1132.59 46.6097 L1090.87 31.7429 Z\" fill=\"#000000\" fill-rule=\"nonzero\" fill-opacity=\"1\" /><path clip-path=\"url(#clip570)\" d=\"M1187.08 71.3202 L1187.08 63.8666 Q1190.15 65.3249 1193.31 66.0946 Q1196.47 66.8642 1199.51 66.8642 Q1207.61 66.8642 1211.87 61.436 Q1216.16 55.9673 1216.77 44.8678 Q1214.42 48.3516 1210.81 50.215 Q1207.21 52.0784 1202.83 52.0784 Q1193.76 52.0784 1188.45 46.6097 Q1183.19 41.1005 1183.19 31.5808 Q1183.19 22.2638 1188.7 16.633 Q1194.21 11.0023 1203.36 11.0023 Q1213.85 11.0023 1219.36 19.0636 Q1224.91 27.0843 1224.91 42.3968 Q1224.91 56.6965 1218.11 65.2439 Q1211.34 73.7508 1199.88 73.7508 Q1196.8 73.7508 1193.64 73.1431 Q1190.48 72.5355 1187.08 71.3202 M1203.36 45.678 Q1208.87 45.678 1212.07 41.9107 Q1215.31 38.1433 1215.31 31.5808 Q1215.31 25.0589 1212.07 21.2916 Q1208.87 17.4837 1203.36 17.4837 Q1197.85 17.4837 1194.61 21.2916 Q1191.41 25.0589 1191.41 31.5808 Q1191.41 38.1433 1194.61 41.9107 Q1197.85 45.678 1203.36 45.678 Z\" fill=\"#000000\" fill-rule=\"nonzero\" fill-opacity=\"1\" /><g clip-path=\"url(#clip572)\">\n",
       "<image width=\"1012\" height=\"1363\" xlink:href=\"data:image/png;base64,\n",
       "iVBORw0KGgoAAAANSUhEUgAAA/QAAAVTCAYAAABj7GMOAAAgAElEQVR4nOzZMYse5QKG4RPdQhAR\n",
       "hDBbiFosiIiLBBVLO7FOZSsELSy0NsHCzlJQEMRGsPcHBCGVihZGC1OIGFG+UVDs1sac8jBnZWWP\n",
       "Ob7vHa/rFzzMzM43975nDg4ObvwLAOBvsq7r6Akby7KMngAA/5PbRg8AAAAATk/QAwAAQJCgBwAA\n",
       "gCBBDwAAAEGCHgAAAIIEPQAAAAQJegAAAAgS9AAAABAk6AEAACBI0AMAAECQoAcAAIAgQQ8AAABB\n",
       "gh4AAACCBD0AAAAECXoAAAAIEvQAAAAQJOgBAAAgSNADAABAkKAHAACAIEEPAAAAQYIeAAAAggQ9\n",
       "AAAABAl6AAAACBL0AAAAECToAQAAIEjQAwAAQJCgBwAAgCBBDwAAAEGCHgAAAIIEPQAAAAQJegAA\n",
       "AAgS9AAAABAk6AEAACBI0AMAAECQoAcAAIAgQQ8AAABBgh4AAACCBD0AAAAECXoAAAAIEvQAAAAQ\n",
       "JOgBAAAgSNADAABAkKAHAACAIEEPAAAAQYIeAAAAggQ9AAAABAl6AAAACBL0AAAAELQ3ekDBuq6j\n",
       "J2wsyzJ6AgD8z/yOAcDN4YQeAAAAggQ9AAAABAl6AAAACBL0AAAAECToAQAAIEjQAwAAQJCgBwAA\n",
       "gCBBDwAAAEGCHgAAAIIEPQAAAAQJegAAAAgS9AAAABAk6AEAACBI0AMAAECQoAcAAIAgQQ8AAABB\n",
       "gh4AAACCBD0AAAAECXoAAAAIEvQAAAAQJOgBAAAgSNADAABAkKAHAACAIEEPAAAAQYIeAAAAggQ9\n",
       "AAAABAl6AAAACBL0AAAAECToAQAAIEjQAwAAQJCgBwAAgCBBDwAAAEGCHgAAAIIEPQAAAAQJegAA\n",
       "AAgS9AAAABAk6AEAACBI0AMAAECQoAcAAIAgQQ8AAABBgh4AAACCBD0AAAAECXoAAAAIEvQAAAAQ\n",
       "JOgBAAAgSNADAABAkKAHAACAIEEPAAAAQWfuuuuuG6NH/LdlWUZPAIBbwrquoydMz3dHy2zPtOcH\n",
       "GMkJPQAAAAQJegAAAAgS9AAAABAk6AEAACBI0AMAAECQoAcAAIAgQQ8AAABBgh4AAACCBD0AAAAE\n",
       "CXoAAAAIEvQAAAAQJOgBAAAgSNADAABAkKAHAACAIEEPAAAAQYIeAAAAggQ9AAAABAl6AAAACBL0\n",
       "AAAAECToAQAAIEjQAwAAQJCgBwAAgCBBDwAAAEGCHgAAAIIEPQAAAAQJegAAAAgS9AAAABAk6AEA\n",
       "ACBI0AMAAECQoAcAAIAgQQ8AAABBgh4AAACCBD0AAAAECXoAAAAIEvQAAAAQJOgBAAAgSNADAABA\n",
       "kKAHAACAIEEPAAAAQYIeAAAAggQ9AAAABAl6AAAACBL0AAAAECToAQAAIEjQAwAAQJCgBwAAgCBB\n",
       "DwAAAEGCHgAAAILOHBwc3Bg9Ynbruo6esLEsy+gJG64PwLxme0cD/1++g+CfxQk9AAAABAl6AAAA\n",
       "CBL0AAAAECToAQAAIEjQAwAAQJCgBwAAgCBBDwAAAEGCHgAAAIIEPQAAAAQJegAAAAgS9AAAABAk\n",
       "6AEAACBI0AMAAECQoAcAAIAgQQ8AAABBgh4AAACCBD0AAAAECXoAAAAIEvQAAAAQJOgBAAAgSNAD\n",
       "AABAkKAHAACAIEEPAAAAQYIeAAAAggQ9AAAABAl6AAAACBL0AAAAECToAQAAIEjQAwAAQJCgBwAA\n",
       "gCBBDwAAAEGCHgAAAIIEPQAAAAQJegAAAAgS9AAAABAk6AEAACBI0AMAAECQoAcAAIAgQQ8AAABB\n",
       "gh4AAACCBD0AAAAECXoAAAAIEvQAAAAQJOgBAAAgSNADAABAkKAHAACAIEEPAAAAQXujBxQsyzJ6\n",
       "AmHruo6esOF5/nOz3TNaZvsbm20PPd6JLTPeL++hk812z9yvFif0AAAAECToAQAAIEjQAwAAQJCg\n",
       "BwAAgCBBDwAAAEGCHgAAAIIEPQAAAAQJegAAAAgS9AAAABAk6AEAACBI0AMAAECQoAcAAIAgQQ8A\n",
       "AABBgh4AAACCBD0AAAAECXoAAAAIEvQAAAAQJOgBAAAgSNADAABAkKAHAACAIEEPAAAAQYIeAAAA\n",
       "ggQ9AAAABAl6AAAACBL0AAAAECToAQAAIEjQAwAAQJCgBwAAgCBBDwAAAEGCHgAAAIIEPQAAAAQJ\n",
       "egAAAAgS9AAAABAk6AEAACBI0AMAAECQoAcAAIAgQQ8AAABBgh4AAACCBD0AAAAECXoAAAAIEvQA\n",
       "AAAQJOgBAAAgSNADAABAkKAHAACAIEEPAAAAQYIeAAAAggQ9AAAABAl6AAAACNobPYC+ZVlGT+AU\n",
       "1nUdPWF6r7322ugJG5cuXRo9YcPfPMB/3H///aMnbFy8eHH0hOlduHBh9AS4aZzQAwAAQJCgBwAA\n",
       "gCBBDwAAAEGCHgAAAIIEPQAAAAQJegAAAAgS9AAAABAk6AEAACBI0AMAAECQoAcAAIAgQQ8AAABB\n",
       "gh4AAACCBD0AAAAECXoAAAAIEvQAAAAQJOgBAAAgSNADAABAkKAHAACAIEEPAAAAQYIeAAAAggQ9\n",
       "AAAABAl6AAAACBL0AAAAECToAQAAIEjQAwAAQJCgBwAAgCBBDwAAAEGCHgAAAIIEPQAAAAQJegAA\n",
       "AAgS9AAAABAk6AEAACBI0AMAAECQoAcAAIAgQQ8AAABBgh4AAACCBD0AAAAECXoAAAAIEvQAAAAQ\n",
       "JOgBAAAgSNADAABAkKAHAACAIEEPAAAAQYIeAAAAggQ9AAAABAl6AAAACBL0AAAAECToAQAAIGhv\n",
       "9AC41S3LMnrC9J5++unREzaee+650RM2jo6ORk/YeOedd0ZPAP5GfsdOduHChdETNs6dOzd6wjGf\n",
       "ffbZ6Alwy3JCDwAAAEGCHgAAAIIEPQAAAAQJegAAAAgS9AAAABAk6AEAACBI0AMAAECQoAcAAIAg\n",
       "QQ8AAABBgh4AAACCBD0AAAAECXoAAAAIEvQAAAAQJOgBAAAgSNADAABAkKAHAACAIEEPAAAAQYIe\n",
       "AAAAggQ9AAAABAl6AAAACBL0AAAAECToAQAAIEjQAwAAQJCgBwAAgCBBDwAAAEGCHgAAAIIEPQAA\n",
       "AAQJegAAAAgS9AAAABAk6AEAACBI0AMAAECQoAcAAIAgQQ8AAABBgh4AAACCBD0AAAAECXoAAAAI\n",
       "EvQAAAAQJOgBAAAgSNADAABAkKAHAACAIEEPAAAAQYIeAAAAggQ9AAAABAl6AAAACBL0AAAAECTo\n",
       "AQAAIEjQAwAAQNDe6AFws63rOnrCxrIsoydM77HHHhs9YWp33HHH6AkA05jtd/6hhx4aPWF677//\n",
       "/ugJnMJsf2Ozme3b3gk9AAAABAl6AAAACBL0AAAAECToAQAAIEjQAwAAQJCgBwAAgCBBDwAAAEGC\n",
       "HgAAAIIEPQAAAAQJegAAAAgS9AAAABAk6AEAACBI0AMAAECQoAcAAIAgQQ8AAABBgh4AAACCBD0A\n",
       "AAAECXoAAAAIEvQAAAAQJOgBAAAgSNADAABAkKAHAACAIEEPAAAAQYIeAAAAggQ9AAAABAl6AAAA\n",
       "CBL0AAAAECToAQAAIEjQAwAAQJCgBwAAgCBBDwAAAEGCHgAAAIIEPQAAAAQJegAAAAgS9AAAABAk\n",
       "6AEAACBI0AMAAECQoAcAAIAgQQ8AAABBgh4AAACCBD0AAAAECXoAAAAIEvQAAAAQJOgBAAAgSNAD\n",
       "AABAkKAHAACAIEEPAAAAQYIeAAAAgvZGD/gj67qOnrCxLMvoCVOb7X7NZrbrc9tt8/0f7/z586Mn\n",
       "bHz55ZejJ2xcunRp9IQN70RgpGeeeWb0hI0nn3xy9ISNH374YfSEY7799tvRE+CWNd+XPQAAAPCn\n",
       "BD0AAAAECXoAAAAIEvQAAAAQJOgBAAAgSNADAABAkKAHAACAIEEPAAAAQYIeAAAAggQ9AAAABAl6\n",
       "AAAACBL0AAAAECToAQAAIEjQAwAAQJCgBwAAgCBBDwAAAEGCHgAAAIIEPQAAAAQJegAAAAgS9AAA\n",
       "ABAk6AEAACBI0AMAAECQoAcAAIAgQQ8AAABBgh4AAACCBD0AAAAECXoAAAAIEvQAAAAQJOgBAAAg\n",
       "SNADAABAkKAHAACAIEEPAAAAQYIeAAAAggQ9AAAABAl6AAAACBL0AAAAECToAQAAIEjQAwAAQJCg\n",
       "BwAAgCBBDwAAAEGCHgAAAIIEPQAAAAQJegAAAAgS9AAAABAk6AEAACBI0AMAAECQoAcAAIAgQQ8A\n",
       "AABBe6MH/JFlWUZPmNq6rqMncAqzPc+vvPLK6AnTe++990ZPmJp30Mlm+5uHW82bb745esLGbrcb\n",
       "PWHjl19+GT3hmG+++Wb0BLhlOaEHAACAIEEPAAAAQYIeAAAAggQ9AAAABAl6AAAACBL0AAAAECTo\n",
       "AQAAIEjQAwAAQJCgBwAAgCBBDwAAAEGCHgAAAIIEPQAAAAQJegAAAAgS9AAAABAk6AEAACBI0AMA\n",
       "AECQoAcAAIAgQQ8AAABBgh4AAACCBD0AAAAECXoAAAAIEvQAAAAQJOgBAAAgSNADAABAkKAHAACA\n",
       "IEEPAAAAQYIeAAAAggQ9AAAABAl6AAAACBL0AAAAECToAQAAIEjQAwAAQJCgBwAAgCBBDwAAAEGC\n",
       "HgAAAIIEPQAAAAQJegAAAAgS9AAAABAk6AEAACBI0AMAAECQoAcAAIAgQQ8AAABBgh4AAACCBD0A\n",
       "AAAECXoAAAAIEvQAAAAQJOgBAAAgaG/0APqWZRk9YWNd19ETNma7PufPnx894Zjr16+PnrDx4Ycf\n",
       "jp4A/IP5HTvZtWvXRk/YODw8HD1h46OPPho94ZjZnqHZzPY3PxvPz8mc0AMAAECQoAcAAIAgQQ8A\n",
       "AABBgh4AAACCBD0AAAAECXoAAAAIEvQAAAAQJOgBAAAgSNADAABAkKAHAACAIEEPAAAAQYIeAAAA\n",
       "ggQ9AAAABAl6AAAACBL0AAAAECToAQAAIEjQAwAAQJCgBwAAgCBBDwAAAEGCHgAAAIIEPQAAAAQJ\n",
       "egAAAAgS9AAAABAk6AEAACBI0AMAAECQoAcAAIAgQQ8AAABBgh4AAACCBD0AAAAECXoAAAAIEvQA\n",
       "AAAQJOgBAAAgSNADAABAkKAHAACAIEEPAAAAQYIeAAAAggQ9AAAABAl6AAAACBL0AAAAECToAQAA\n",
       "IEjQAwAAQJCgBwAAgCBBDwAAAEGCHgAAAIIEPQAAAAQJegAAAAgS9AAAABAk6AEAACBob/QAuNmW\n",
       "ZRk9YeOJJ54YPWFjt9uNnnDM5cuXR0/Y+P7770dP4BRm+5unZ13X0ROm5vrAP4vf1RYn9AAAABAk\n",
       "6AEAACBI0AMAAECQoAcAAIAgQQ8AAABBgh4AAACCBD0AAAAECXoAAAAIEvQAAAAQJOgBAAAgSNAD\n",
       "AABAkKAHAACAIEEPAAAAQYIeAAAAggQ9AAAABAl6AAAACBL0AAAAECToAQAAIEjQAwAAQJCgBwAA\n",
       "gCBBDwAAAEGCHgAAAIIEPQAAAAQJegAAAAgS9AAAABAk6AEAACBI0AMAAECQoAcAAIAgQQ8AAABB\n",
       "gh4AAACCBD0AAAAECXoAAAAIEvQAAAAQJOgBAAAgSNADAABAkKAHAACAIEEPAAAAQYIeAAAAggQ9\n",
       "AAAABAl6AAAACBL0AAAAECToAQAAIEjQAwAAQJCgBwAAgCBBDwAAAEGCHgAAAIIEPQAAAAQJegAA\n",
       "AAjaGz2gYF3X0RM4hbNnz46esPHyyy+PnrBxdHQ0esIxFy9eHD2BMO/oky3LMnrC9Ga7Rp7pkx0e\n",
       "Ho6eADeVd1DLbPfLCT0AAAAECXoAAAAIEvQAAAAQJOgBAAAgSNADAABAkKAHAACAIEEPAAAAQYIe\n",
       "AAAAggQ9AAAABAl6AAAACBL0AAAAECToAQAAIEjQAwAAQJCgBwAAgCBBDwAAAEGCHgAAAIIEPQAA\n",
       "AAQJegAAAAgS9AAAABAk6AEAACBI0AMAAECQoAcAAIAgQQ8AAABBgh4AAACCBD0AAAAECXoAAAAI\n",
       "EvQAAAAQJOgBAAAgSNADAABAkKAHAACAIEEPAAAAQYIeAAAAggQ9AAAABAl6AAAACBL0AAAAECTo\n",
       "AQAAIEjQAwAAQJCgBwAAgCBBDwAAAEGCHgAAAIIEPQAAAAQJegAAAAgS9AAAABAk6AEAACBI0AMA\n",
       "AECQoAcAAIAgQQ8AAABBe6MHFCzLMnrCxrquoydM7amnnho9YePo6Gj0hI3r16+PngC3tNl+M+Cv\n",
       "Onfu3OgJnMJXX301esIxs327zvaenu36zGa2+zUbJ/QAAAAQJOgBAAAgSNADAABAkKAHAACAIEEP\n",
       "AAAAQYIeAAAAggQ9AAAABAl6AAAACBL0AAAAECToAQAAIEjQAwAAQJCgBwAAgCBBDwAAAEGCHgAA\n",
       "AIIEPQAAAAQJegAAAAgS9AAAABAk6AEAACBI0AMAAECQoAcAAIAgQQ8AAABBgh4AAACCBD0AAAAE\n",
       "CXoAAAAIEvQAAAAQJOgBAAAgSNADAABAkKAHAACAIEEPAAAAQYIeAAAAggQ9AAAABAl6AAAACBL0\n",
       "AAAAECToAQAAIEjQAwAAQJCgBwAAgCBBDwAAAEGCHgAAAIIEPQAAAAQJegAAAAgS9AAAABAk6AEA\n",
       "ACBI0AMAAECQoAcAAIAgQQ8AAABBgh4AAACCBD0AAAAECXoAAAAI2hs9gNNblmX0hKndeeedoydM\n",
       "7b777hs94Zi777579ISNX3/9dfQEgGl88MEHoyds7Ha70RM29vf3R0/Y+OSTT0ZPmN66rqMnTE1r\n",
       "tDihBwAAgCBBDwAAAEGCHgAAAIIEPQAAAAQJegAAAAgS9AAAABAk6AEAACBI0AMAAECQoAcAAIAg\n",
       "QQ8AAABBgh4AAACCBD0AAAAECXoAAAAIEvQAAAAQJOgBAAAgSNADAABAkKAHAACAIEEPAAAAQYIe\n",
       "AAAAggQ9AAAABAl6AAAACBL0AAAAECToAQAAIEjQAwAAQJCgBwAAgCBBDwAAAEGCHgAAAIIEPQAA\n",
       "AAQJegAAAAgS9AAAABAk6AEAACBI0AMAAECQoAcAAIAgQQ8AAABBgh4AAACCBD0AAAAECXoAAAAI\n",
       "EvQAAAAQJOgBAAAgSNADAABAkKAHAACAIEEPAAAAQYIeAAAAggQ9AAAABAl6AAAACBL0AAAAECTo\n",
       "AQAAIEjQAwAAQNDe6AH0res6esLGwcHB6Akb+/v7oyds7Ha70ROOeffdd0dP2HjrrbdGT9i4fPny\n",
       "6AmcwmzvxBktyzJ6wsZs9+zhhx8ePWHjxx9/HD1hY7bf1c8//3z0hI2PP/549ATgb+SEHgAAAIIE\n",
       "PQAAAAQJegAAAAgS9AAAABAk6AEAACBI0AMAAECQoAcAAIAgQQ8AAABBgh4AAACCBD0AAAAECXoA\n",
       "AAAIEvQAAAAQJOgBAAAgSNADAABAkKAHAACAIEEPAAAAQYIeAAAAggQ9AAAABAl6AAAACBL0AAAA\n",
       "ECToAQAAIEjQAwAAQJCgBwAAgCBBDwAAAEGCHgAAAIIEPQAAAAQJegAAAAgS9AAAABAk6AEAACBI\n",
       "0AMAAECQoAcAAIAgQQ8AAABBgh4AAACCBD0AAAAECXoAAAAIEvQAAAAQJOgBAAAgSNADAABAkKAH\n",
       "AACAIEEPAAAAQYIeAAAAggQ9AAAABAl6AAAACBL0AAAAECToAQAAIEjQAwAAQJCgBwAAgKC90QP+\n",
       "yLquoydsLMsyesLGbNdnNj/99NPoCZzSAw88MHrCxuuvvz56wsbvv/8+esLGlStXRk/Y+Prrr0dP\n",
       "2Lh69eroCRtffPHF6AnHzPY79uijj46esPHSSy+NnjC13W43esLGq6++OnoCpzTbtz38FU7oAQAA\n",
       "IEjQAwAAQJCgBwAAgCBBDwAAAEGCHgAAAIIEPQAAAAQJegAAAAgS9AAAABAk6AEAACBI0AMAAECQ\n",
       "oAcAAIAgQQ8AAABBgh4AAACCBD0AAAAECXoAAAAIEvQAAAAQJOgBAAAgSNADAABAkKAHAACAIEEP\n",
       "AAAAQYIeAAAAggQ9AAAABAl6AAAACBL0AAAAECToAQAAIEjQAwAAQJCgBwAAgCBBDwAAAEGCHgAA\n",
       "AIIEPQAAAAQJegAAAAgS9AAAABAk6AEAACBI0AMAAECQoAcAAIAgQQ8AAABBgh4AAACCBD0AAAAE\n",
       "CXoAAAAIEvQAAAAQJOgBAAAgSNADAABAkKAHAACAIEEPAAAAQYIeAAAAggQ9AAAABAl6AAAACBL0\n",
       "AAAAEHTm4ODgxugRtK3rOnrCxrIsoydsnD17dvSEjRdffHH0hGMef/zx0RM29vf3R0/gFHa73egJ\n",
       "nNKZM2dGT9i4cWOuT6Gff/559ISNe+65Z/SEqT3//POjJ2x8+umnoydMb7Zvxdm+pTnZbM+PE3oA\n",
       "AAAIEvQAAAAQJOgBAAAgSNADAABAkKAHAACAIEEPAAAAQYIeAAAAggQ9AAAABAl6AAAACBL0AAAA\n",
       "ECToAQAAIEjQAwAAQJCgBwAAgCBBDwAAAEGCHgAAAIIEPQAAAAQJegAAAAgS9AAAABAk6AEAACBI\n",
       "0AMAAECQoAcAAIAgQQ8AAABBgh4AAACCBD0AAAAECXoAAAAIEvQAAAAQJOgBAAAgSNADAABAkKAH\n",
       "AACAIEEPAAAAQYIeAAAAggQ9AAAABAl6AAAACBL0AAAAECToAQAAIEjQAwAAQJCgBwAAgCBBDwAA\n",
       "AEGCHgAAAIIEPQAAAAQJegAAAAgS9AAAABAk6AEAACBI0AMAAECQoAcAAIAgQQ8AAABBgh4AAACC\n",
       "BD0AAAAE7Y0ewOmt6zp6wtRcn5O98MILoycc8+CDD46esHF4eDh6wsazzz47esLG7bffPnrCxmz3\n",
       "6+rVq6MnTO/o6Gj0hI033nhj9ISN3377bfSEjbfffnv0hKk98sgjoydsfPfdd6MnHOPbjFvJbM+z\n",
       "E3oAAAAIEvQAAAAQJOgBAAAgSNADAABAkKAHAACAIEEPAAAAQYIeAAAAggQ9AAAABAl6AAAACBL0\n",
       "AAAAECToAQAAIEjQAwAAQJCgBwAAgCBBDwAAAEGCHgAAAIIEPQAAAAQJegAAAAgS9AAAABAk6AEA\n",
       "ACBI0AMAAECQoAcAAIAgQQ8AAABBgh4AAACCBD0AAAAECXoAAAAIEvQAAAAQJOgBAAAgSNADAABA\n",
       "kKAHAACAIEEPAAAAQYIeAAAAggQ9AAAABAl6AAAACBL0AAAAECToAQAAIEjQAwAAQJCgBwAAgCBB\n",
       "DwAAAEGCHgAAAIIEPQAAAAQJegAAAAgS9AAAABAk6AEAACBI0AMAAECQoAcAAIAgQQ8AAABBgh4A\n",
       "AACC9kYPKFjXdfQEuGmWZRk94Zhr166NnrAx254rV66MnkDYjL9hM76HZnLvvfeOnrCxv78/egLc\n",
       "0rwT+Suc0AMAAECQoAcAAIAgQQ8AAABBgh4AAACCBD0AAAAECXoAAAAIEvQAAAAQJOgBAAAgSNAD\n",
       "AABAkKAHAACAIEEPAAAAQYIeAAAAggQ9AAAABAl6AAAACBL0AAAAECToAQAAIEjQAwAAQJCgBwAA\n",
       "gCBBDwAAAEGCHgAAAIIEPQAAAAQJegAAAAgS9AAAABAk6AEAACBI0AMAAECQoAcAAIAgQQ8AAABB\n",
       "gh4AAACCBD0AAAAECXoAAAAIEvQAAAAQJOgBAAAgSNADAABAkKAHAACAIEEPAAAAQYIeAAAAggQ9\n",
       "AAAABAl6AAAACBL0AAAAECToAQAAIEjQAwAAQJCgBwAAgCBBDwAAAEGCHgAAAIIEPQAAAAQJegAA\n",
       "AAgS9AAAABAk6AEAACBob/SAgmVZRk/YWNd19ISpzXa/6JntGfI3f7LZ7tdsZrw+sz3TM16jmex2\n",
       "u9ETNvb390dPAJiGE3oAAAAIEvQAAAAQJOgBAAAgSNAD/27PXm6iO6IwispS51A9Y0IC5J8FRMCM\n",
       "ygHJHt+Bf2SBdWo3a0Xw6T61VQAAQJCgBwAAgCBBDwAAAEGCHgAAAIIEPQAAAAQJegAAAAgS9AAA\n",
       "ABAk6AEAACBI0AMAAECQoAcAAIAgQQ8AAABBgh4AAACCBD0AAAAECXoAAAAIEvQAAAAQJOgBAAAg\n",
       "SNADAABAkKAHAACAIEEPAAAAQYIeAAAAggQ9AAAABAl6AAAACBL0AAAAECToAQAAIEjQAwAAQJCg\n",
       "BwAAgCBBDwAAAEGCHgAAAIIEPQAAAAQJegAAAAgS9AAAABAk6AEAACBI0AMAAECQoAcAAIAgQQ8A\n",
       "AABBgh4AAACCBD0AAAAECXoAAAAIEvQAAAAQJOgBAAAgSNADAABAkKAHAACAIEEPAAAAQYIeAAAA\n",
       "ggQ9AAAABN2mBxTsvacnwENba01PONpp18c38c9Ouz6nPT987e3tbXrCxf1+n55w8fHxMT3h4rT7\n",
       "BfwuTugBAAAgSNADAABAkKAHAACAIEEPAAAAQYIeAAAAggQ9AAAABAl6AAAACBL0AAAAECToAQAA\n",
       "IEjQAwAAQJCgBwAAgCBBDwAAAEGCHgAAAIIEPQAAAAQJegAAAAgS9AAAABAk6AEAACBI0AMAAECQ\n",
       "oAcAAIAgQQ8AAABBgh4AAACCBD0AAAAECXoAAAAIEvQAAAAQJOgBAAAgSNADAABAkKAHAACAIEEP\n",
       "AAAAQYIeAAAAggQ9AAAABAl6AAAACBL0AAAAECToAQAAIEjQAwAAQJCgBwAAgCBBDwAAAEGCHgAA\n",
       "AIIEPQAAAAQJegAAAAgS9AAAABAk6AEAACBI0AMAAECQoAcAAIAgQQ8AAABBgh4AAACCBD0AAAAE\n",
       "CXoAAAAIuk0PKFhrTU842t57esLFaXtO43nm0Zz2zp/2jp12ffjay8vL9ATCvPPwuzihBwAAgCBB\n",
       "DwAAAEGCHgAAAIIEPQAAAAQJegAAAAgS9AAAABAk6AEAACBI0AMAAECQoAcAAIAgQQ8AAABBgh4A\n",
       "AACCBD0AAAAECXoAAAAIEvQAAAAQJOgBAAAgSNADAABAkKAHAACAIEEPAAAAQYIeAAAAggQ9AAAA\n",
       "BAl6AAAACBL0AAAAECToAQAAIEjQAwAAQASFI5oAAAbuSURBVJCgBwAAgCBBDwAAAEGCHgAAAIIE\n",
       "PQAAAAQJegAAAAgS9AAAABAk6AEAACBI0AMAAECQoAcAAIAgQQ8AAABBgh4AAACCBD0AAAAECXoA\n",
       "AAAIEvQAAAAQJOgBAAAgSNADAABAkKAHAACAIEEPAAAAQYIeAAAAggQ9AAAABAl6AAAACBL0AAAA\n",
       "ECToAQAAIEjQAwAAQNBt7z294XhrrekJ/AfuV89p3yHP0J+ddn1Oe37gu56enqYnwI867b8Bj8QJ\n",
       "PQAAAAQJegAAAAgS9AAAABAk6AEAACBI0AMAAECQoAcAAIAgQQ8AAABBgh4AAACCBD0AAAAECXoA\n",
       "AAAIEvQAAAAQJOgBAAAgSNADAABAkKAHAACAIEEPAAAAQYIeAAAAggQ9AAAABAl6AAAACBL0AAAA\n",
       "ECToAQAAIEjQAwAAQJCgBwAAgCBBDwAAAEGCHgAAAIIEPQAAAAQJegAAAAgS9AAAABAk6AEAACBI\n",
       "0AMAAECQoAcAAIAgQQ8AAABBgh4AAACCBD0AAAAECXoAAAAIEvQAAAAQJOgBAAAgSNADAABAkKAH\n",
       "AACAIEEPAAAAQYIeAAAAggQ9AAAABAl6AAAACBL0AAAAECToAQAAIEjQAwAAQJCgBwAAgCBBDwAA\n",
       "AEGCHgAAAIJua63pDcAv5zvEd3h++K699/SEi9fX1+kJF5+fn9MTLu73+/SEi/f39+kJF76JXzvt\n",
       "nXfP+A4n9AAAABAk6AEAACBI0AMAAECQoAcAAIAgQQ8AAABBgh4AAACCBD0AAAAECXoAAAAIEvQA\n",
       "AAAQJOgBAAAgSNADAABAkKAHAACAIEEPAAAAQYIeAAAAggQ9AAAABAl6AAAACBL0AAAAECToAQAA\n",
       "IEjQAwAAQJCgBwAAgCBBDwAAAEGCHgAAAIIEPQAAAAQJegAAAAgS9AAAABAk6AEAACBI0AMAAECQ\n",
       "oAcAAIAgQQ8AAABBgh4AAACCBD0AAAAECXoAAAAIEvQAAAAQJOgBAAAgSNADAABAkKAHAACAIEEP\n",
       "AAAAQYIeAAAAggQ9AAAABAl6AAAACBL0AAAAECToAQAAIEjQAwAAQJCgBwAAgCBBDwAAAEGCHgAA\n",
       "AIIEPQAAAAT99fz8/Pf0CADg/7H3np4AP2qtNT0B4BhO6AEAACBI0AMAAECQoAcAAIAgQQ8AAABB\n",
       "gh4AAACCBD0AAAAECXoAAAAIEvQAAAAQJOgBAAAgSNADAABAkKAHAACAIEEPAAAAQYIeAAAAggQ9\n",
       "AAAABAl6AAAACBL0AAAAECToAQAAIEjQAwAAQJCgBwAAgCBBDwAAAEGCHgAAAIIEPQAAAAQJegAA\n",
       "AAgS9AAAABAk6AEAACBI0AMAAECQoAcAAIAgQQ8AAABBgh4AAACCBD0AAAAECXoAAAAIEvQAAAAQ\n",
       "JOgBAAAgSNADAABAkKAHAACAIEEPAAAAQYIeAAAAggQ9AAAABAl6AAAACBL0AAAAECToAQAAIEjQ\n",
       "AwAAQJCgBwAAgCBBDwAAAEGCHgAAAIIEPQAAAAQJegAAAAgS9AAAABB0mx4AAI9k7z09AX7UWmt6\n",
       "AgD/wgk9AAAABAl6AAAACBL0AAAAECToAQAAIEjQAwAAQJCgBwAAgCBBDwAAAEGCHgAAAIIEPQAA\n",
       "AAQJegAAAAgS9AAAABAk6AEAACBI0AMAAECQoAcAAIAgQQ8AAABBgh4AAACCBD0AAAAECXoAAAAI\n",
       "EvQAAAAQJOgBAAAgSNADAABAkKAHAACAIEEPAAAAQYIeAAAAggQ9AAAABAl6AAAACBL0AAAAECTo\n",
       "AQAAIEjQAwAAQJCgBwAAgCBBDwAAAEGCHgAAAIIEPQAAAAQJegAAAAgS9AAAABAk6AEAACBI0AMA\n",
       "AECQoAcAAIAgQQ8AAABBgh4AAACCBD0AAAAECXoAAAAIEvQAAAAQJOgBAAAgSNADAABAkKAHAACA\n",
       "IEEPAAAAQYIeAAAAgm7TAwDgkay1picAwMPYe09PuDjtP++EHgAAAIIEPQAAAAQJegAAAAgS9AAA\n",
       "ABAk6AEAACBI0AMAAECQoAcAAIAgQQ8AAABBgh4AAACCBD0AAAAECXoAAAAIEvQAAAAQJOgBAAAg\n",
       "SNADAABAkKAHAACAIEEPAAAAQYIeAAAAggQ9AAAABAl6AAAACBL0AAAAECToAQAAIEjQAwAAQJCg\n",
       "BwAAgCBBDwAAAEGCHgAAAIIEPQAAAAQJegAAAAgS9AAAABAk6AEAACBI0AMAAECQoAcAAIAgQQ8A\n",
       "AABBgh4AAACCBD0AAAAECXoAAAAIEvQAAAAQJOgBAAAgSNADAABAkKAHAACAIEEPAAAAQYIeAAAA\n",
       "ggQ9AAAABAl6AAAACBL0AAAAECToAQAAIEjQAwAAQJCgBwAAgKB/AKj7oDbEUzrhAAAAAElFTkSu\n",
       "QmCC\n",
       "\" transform=\"translate(141, 123)\"/>\n",
       "</g>\n",
       "<path clip-path=\"url(#clip570)\" d=\"M1340.7 1486.45 L2352.76 1486.45 L2352.76 123.472 L1340.7 123.472  Z\" fill=\"#ffffff\" fill-rule=\"evenodd\" fill-opacity=\"1\"/>\n",
       "<defs>\n",
       "  <clipPath id=\"clip573\">\n",
       "    <rect x=\"1340\" y=\"123\" width=\"1013\" height=\"1364\"/>\n",
       "  </clipPath>\n",
       "</defs>\n",
       "<polyline clip-path=\"url(#clip573)\" style=\"stroke:#000000; stroke-linecap:round; stroke-linejoin:round; stroke-width:2; stroke-opacity:0.1; fill:none\" points=\"1503.35,1486.45 1503.35,123.472 \"/>\n",
       "<polyline clip-path=\"url(#clip573)\" style=\"stroke:#000000; stroke-linecap:round; stroke-linejoin:round; stroke-width:2; stroke-opacity:0.1; fill:none\" points=\"1684.07,1486.45 1684.07,123.472 \"/>\n",
       "<polyline clip-path=\"url(#clip573)\" style=\"stroke:#000000; stroke-linecap:round; stroke-linejoin:round; stroke-width:2; stroke-opacity:0.1; fill:none\" points=\"1864.8,1486.45 1864.8,123.472 \"/>\n",
       "<polyline clip-path=\"url(#clip573)\" style=\"stroke:#000000; stroke-linecap:round; stroke-linejoin:round; stroke-width:2; stroke-opacity:0.1; fill:none\" points=\"2045.52,1486.45 2045.52,123.472 \"/>\n",
       "<polyline clip-path=\"url(#clip573)\" style=\"stroke:#000000; stroke-linecap:round; stroke-linejoin:round; stroke-width:2; stroke-opacity:0.1; fill:none\" points=\"2226.25,1486.45 2226.25,123.472 \"/>\n",
       "<polyline clip-path=\"url(#clip573)\" style=\"stroke:#000000; stroke-linecap:round; stroke-linejoin:round; stroke-width:2; stroke-opacity:0.1; fill:none\" points=\"1340.7,1267.4 2352.76,1267.4 \"/>\n",
       "<polyline clip-path=\"url(#clip573)\" style=\"stroke:#000000; stroke-linecap:round; stroke-linejoin:round; stroke-width:2; stroke-opacity:0.1; fill:none\" points=\"1340.7,1024.01 2352.76,1024.01 \"/>\n",
       "<polyline clip-path=\"url(#clip573)\" style=\"stroke:#000000; stroke-linecap:round; stroke-linejoin:round; stroke-width:2; stroke-opacity:0.1; fill:none\" points=\"1340.7,780.621 2352.76,780.621 \"/>\n",
       "<polyline clip-path=\"url(#clip573)\" style=\"stroke:#000000; stroke-linecap:round; stroke-linejoin:round; stroke-width:2; stroke-opacity:0.1; fill:none\" points=\"1340.7,537.233 2352.76,537.233 \"/>\n",
       "<polyline clip-path=\"url(#clip573)\" style=\"stroke:#000000; stroke-linecap:round; stroke-linejoin:round; stroke-width:2; stroke-opacity:0.1; fill:none\" points=\"1340.7,293.844 2352.76,293.844 \"/>\n",
       "<path clip-path=\"url(#clip570)\" d=\"M1434.67 16.7545 L1434.67 25.383 Q1430.54 21.5346 1425.84 19.6307 Q1421.18 17.7268 1415.91 17.7268 Q1405.54 17.7268 1400.03 24.0867 Q1394.52 30.4061 1394.52 42.3968 Q1394.52 54.3469 1400.03 60.7069 Q1405.54 67.0263 1415.91 67.0263 Q1421.18 67.0263 1425.84 65.1223 Q1430.54 63.2184 1434.67 59.3701 L1434.67 67.9175 Q1430.37 70.8341 1425.55 72.2924 Q1420.77 73.7508 1415.43 73.7508 Q1401.69 73.7508 1393.79 65.3654 Q1385.89 56.9395 1385.89 42.3968 Q1385.89 27.8135 1393.79 19.4281 Q1401.69 11.0023 1415.43 11.0023 Q1420.85 11.0023 1425.63 12.4606 Q1430.45 13.8784 1434.67 16.7545 Z\" fill=\"#000000\" fill-rule=\"nonzero\" fill-opacity=\"1\" /><path clip-path=\"url(#clip570)\" d=\"M1446.98 9.54393 L1454.44 9.54393 L1454.44 72.576 L1446.98 72.576 L1446.98 9.54393 Z\" fill=\"#000000\" fill-rule=\"nonzero\" fill-opacity=\"1\" /><path clip-path=\"url(#clip570)\" d=\"M1508.84 48.0275 L1508.84 51.6733 L1474.57 51.6733 Q1475.06 59.3701 1479.19 63.421 Q1483.36 67.4314 1490.77 67.4314 Q1495.07 67.4314 1499.08 66.3781 Q1503.13 65.3249 1507.1 63.2184 L1507.1 70.267 Q1503.09 71.9684 1498.87 72.8596 Q1494.66 73.7508 1490.33 73.7508 Q1479.47 73.7508 1473.11 67.4314 Q1466.79 61.1119 1466.79 50.3365 Q1466.79 39.1965 1472.79 32.6746 Q1478.82 26.1121 1489.03 26.1121 Q1498.19 26.1121 1503.49 32.0264 Q1508.84 37.9003 1508.84 48.0275 M1501.39 45.84 Q1501.31 39.7232 1497.94 36.0774 Q1494.62 32.4315 1489.11 32.4315 Q1482.87 32.4315 1479.11 35.9558 Q1475.38 39.4801 1474.81 45.8805 L1501.39 45.84 Z\" fill=\"#000000\" fill-rule=\"nonzero\" fill-opacity=\"1\" /><path clip-path=\"url(#clip570)\" d=\"M1541.69 49.7694 Q1532.66 49.7694 1529.18 51.8354 Q1525.69 53.9013 1525.69 58.8839 Q1525.69 62.8538 1528.28 65.2034 Q1530.92 67.5124 1535.41 67.5124 Q1541.61 67.5124 1545.34 63.1374 Q1549.11 58.7219 1549.11 51.4303 L1549.11 49.7694 L1541.69 49.7694 M1556.56 46.6907 L1556.56 72.576 L1549.11 72.576 L1549.11 65.6895 Q1546.55 69.8214 1542.75 71.8063 Q1538.94 73.7508 1533.43 73.7508 Q1526.46 73.7508 1522.33 69.8619 Q1518.24 65.9325 1518.24 59.3701 Q1518.24 51.7138 1523.34 47.825 Q1528.49 43.9361 1538.65 43.9361 L1549.11 43.9361 L1549.11 43.2069 Q1549.11 38.0623 1545.7 35.2672 Q1542.34 32.4315 1536.22 32.4315 Q1532.34 32.4315 1528.65 33.3632 Q1524.96 34.295 1521.56 36.1584 L1521.56 29.2718 Q1525.65 27.692 1529.5 26.9223 Q1533.35 26.1121 1536.99 26.1121 Q1546.84 26.1121 1551.7 31.2163 Q1556.56 36.3204 1556.56 46.6907 Z\" fill=\"#000000\" fill-rule=\"nonzero\" fill-opacity=\"1\" /><path clip-path=\"url(#clip570)\" d=\"M1609.63 45.1919 L1609.63 72.576 L1602.17 72.576 L1602.17 45.4349 Q1602.17 38.994 1599.66 35.7938 Q1597.15 32.5936 1592.13 32.5936 Q1586.09 32.5936 1582.61 36.4419 Q1579.12 40.2903 1579.12 46.9338 L1579.12 72.576 L1571.63 72.576 L1571.63 27.2059 L1579.12 27.2059 L1579.12 34.2544 Q1581.8 30.163 1585.4 28.1376 Q1589.05 26.1121 1593.79 26.1121 Q1601.61 26.1121 1605.62 30.9732 Q1609.63 35.7938 1609.63 45.1919 Z\" fill=\"#000000\" fill-rule=\"nonzero\" fill-opacity=\"1\" /><path clip-path=\"url(#clip570)\" d=\"M1689.67 48.0275 L1689.67 51.6733 L1655.4 51.6733 Q1655.89 59.3701 1660.02 63.421 Q1664.19 67.4314 1671.61 67.4314 Q1675.9 67.4314 1679.91 66.3781 Q1683.96 65.3249 1687.93 63.2184 L1687.93 70.267 Q1683.92 71.9684 1679.71 72.8596 Q1675.49 73.7508 1671.16 73.7508 Q1660.3 73.7508 1653.94 67.4314 Q1647.62 61.1119 1647.62 50.3365 Q1647.62 39.1965 1653.62 32.6746 Q1659.65 26.1121 1669.86 26.1121 Q1679.02 26.1121 1684.32 32.0264 Q1689.67 37.9003 1689.67 48.0275 M1682.22 45.84 Q1682.14 39.7232 1678.78 36.0774 Q1675.45 32.4315 1669.94 32.4315 Q1663.71 32.4315 1659.94 35.9558 Q1656.21 39.4801 1655.64 45.8805 L1682.22 45.84 Z\" fill=\"#000000\" fill-rule=\"nonzero\" fill-opacity=\"1\" /><path clip-path=\"url(#clip570)\" d=\"M1738.16 27.2059 L1721.76 49.2833 L1739.01 72.576 L1730.22 72.576 L1717.02 54.752 L1703.81 72.576 L1695.02 72.576 L1712.64 48.8377 L1696.52 27.2059 L1705.31 27.2059 L1717.34 43.369 L1729.37 27.2059 L1738.16 27.2059 Z\" fill=\"#000000\" fill-rule=\"nonzero\" fill-opacity=\"1\" /><path clip-path=\"url(#clip570)\" d=\"M1770.16 49.7694 Q1761.13 49.7694 1757.65 51.8354 Q1754.16 53.9013 1754.16 58.8839 Q1754.16 62.8538 1756.76 65.2034 Q1759.39 67.5124 1763.88 67.5124 Q1770.08 67.5124 1773.81 63.1374 Q1777.58 58.7219 1777.58 51.4303 L1777.58 49.7694 L1770.16 49.7694 M1785.03 46.6907 L1785.03 72.576 L1777.58 72.576 L1777.58 65.6895 Q1775.02 69.8214 1771.22 71.8063 Q1767.41 73.7508 1761.9 73.7508 Q1754.93 73.7508 1750.8 69.8619 Q1746.71 65.9325 1746.71 59.3701 Q1746.71 51.7138 1751.81 47.825 Q1756.96 43.9361 1767.13 43.9361 L1777.58 43.9361 L1777.58 43.2069 Q1777.58 38.0623 1774.17 35.2672 Q1770.81 32.4315 1764.69 32.4315 Q1760.81 32.4315 1757.12 33.3632 Q1753.43 34.295 1750.03 36.1584 L1750.03 29.2718 Q1754.12 27.692 1757.97 26.9223 Q1761.82 26.1121 1765.46 26.1121 Q1775.31 26.1121 1780.17 31.2163 Q1785.03 36.3204 1785.03 46.6907 Z\" fill=\"#000000\" fill-rule=\"nonzero\" fill-opacity=\"1\" /><path clip-path=\"url(#clip570)\" d=\"M1835.71 35.9153 Q1838.5 30.8922 1842.39 28.5022 Q1846.28 26.1121 1851.55 26.1121 Q1858.64 26.1121 1862.48 31.0947 Q1866.33 36.0368 1866.33 45.1919 L1866.33 72.576 L1858.84 72.576 L1858.84 45.4349 Q1858.84 38.913 1856.53 35.7533 Q1854.22 32.5936 1849.48 32.5936 Q1843.69 32.5936 1840.33 36.4419 Q1836.96 40.2903 1836.96 46.9338 L1836.96 72.576 L1829.47 72.576 L1829.47 45.4349 Q1829.47 38.8725 1827.16 35.7533 Q1824.85 32.5936 1820.03 32.5936 Q1814.32 32.5936 1810.96 36.4824 Q1807.59 40.3308 1807.59 46.9338 L1807.59 72.576 L1800.1 72.576 L1800.1 27.2059 L1807.59 27.2059 L1807.59 34.2544 Q1810.15 30.082 1813.71 28.0971 Q1817.28 26.1121 1822.18 26.1121 Q1827.12 26.1121 1830.56 28.6237 Q1834.05 31.1352 1835.71 35.9153 Z\" fill=\"#000000\" fill-rule=\"nonzero\" fill-opacity=\"1\" /><path clip-path=\"url(#clip570)\" d=\"M1888.41 65.7705 L1888.41 89.8329 L1880.92 89.8329 L1880.92 27.2059 L1888.41 27.2059 L1888.41 34.0924 Q1890.76 30.0415 1894.32 28.0971 Q1897.93 26.1121 1902.91 26.1121 Q1911.18 26.1121 1916.32 32.6746 Q1921.51 39.2371 1921.51 49.9314 Q1921.51 60.6258 1916.32 67.1883 Q1911.18 73.7508 1902.91 73.7508 Q1897.93 73.7508 1894.32 71.8063 Q1890.76 69.8214 1888.41 65.7705 M1913.77 49.9314 Q1913.77 41.7081 1910.37 37.0496 Q1907 32.3505 1901.09 32.3505 Q1895.17 32.3505 1891.77 37.0496 Q1888.41 41.7081 1888.41 49.9314 Q1888.41 58.1548 1891.77 62.8538 Q1895.17 67.5124 1901.09 67.5124 Q1907 67.5124 1910.37 62.8538 Q1913.77 58.1548 1913.77 49.9314 Z\" fill=\"#000000\" fill-rule=\"nonzero\" fill-opacity=\"1\" /><path clip-path=\"url(#clip570)\" d=\"M1933.86 9.54393 L1941.31 9.54393 L1941.31 72.576 L1933.86 72.576 L1933.86 9.54393 Z\" fill=\"#000000\" fill-rule=\"nonzero\" fill-opacity=\"1\" /><path clip-path=\"url(#clip570)\" d=\"M1995.72 48.0275 L1995.72 51.6733 L1961.45 51.6733 Q1961.93 59.3701 1966.07 63.421 Q1970.24 67.4314 1977.65 67.4314 Q1981.94 67.4314 1985.96 66.3781 Q1990.01 65.3249 1993.98 63.2184 L1993.98 70.267 Q1989.97 71.9684 1985.75 72.8596 Q1981.54 73.7508 1977.21 73.7508 Q1966.35 73.7508 1959.99 67.4314 Q1953.67 61.1119 1953.67 50.3365 Q1953.67 39.1965 1959.66 32.6746 Q1965.7 26.1121 1975.91 26.1121 Q1985.06 26.1121 1990.37 32.0264 Q1995.72 37.9003 1995.72 48.0275 M1988.26 45.84 Q1988.18 39.7232 1984.82 36.0774 Q1981.5 32.4315 1975.99 32.4315 Q1969.75 32.4315 1965.98 35.9558 Q1962.26 39.4801 1961.69 45.8805 L1988.26 45.84 Z\" fill=\"#000000\" fill-rule=\"nonzero\" fill-opacity=\"1\" /><path clip-path=\"url(#clip570)\" d=\"M2009.86 62.2867 L2018.4 62.2867 L2018.4 72.576 L2009.86 72.576 L2009.86 62.2867 M2009.86 29.6769 L2018.4 29.6769 L2018.4 39.9662 L2009.86 39.9662 L2009.86 29.6769 Z\" fill=\"#000000\" fill-rule=\"nonzero\" fill-opacity=\"1\" /><path clip-path=\"url(#clip570)\" d=\"M2085.81 19.2256 L2065.15 51.5113 L2085.81 51.5113 L2085.81 19.2256 M2083.66 12.096 L2093.95 12.096 L2093.95 51.5113 L2102.58 51.5113 L2102.58 58.3168 L2093.95 58.3168 L2093.95 72.576 L2085.81 72.576 L2085.81 58.3168 L2058.51 58.3168 L2058.51 50.4176 L2083.66 12.096 Z\" fill=\"#000000\" fill-rule=\"nonzero\" fill-opacity=\"1\" /><path clip-path=\"url(#clip570)\" d=\"M2137.66 46.5287 L2159.5 46.5287 L2159.5 53.1722 L2137.66 53.1722 L2137.66 46.5287 Z\" fill=\"#000000\" fill-rule=\"nonzero\" fill-opacity=\"1\" /><path clip-path=\"url(#clip570)\" d=\"M2172.34 31.7429 L2172.34 24.3702 L2224.27 43.2069 L2224.27 49.9314 L2172.34 68.7682 L2172.34 61.3955 L2214.06 46.6097 L2172.34 31.7429 Z\" fill=\"#000000\" fill-rule=\"nonzero\" fill-opacity=\"1\" /><path clip-path=\"url(#clip570)\" d=\"M2290.79 19.2256 L2270.13 51.5113 L2290.79 51.5113 L2290.79 19.2256 M2288.64 12.096 L2298.93 12.096 L2298.93 51.5113 L2307.56 51.5113 L2307.56 58.3168 L2298.93 58.3168 L2298.93 72.576 L2290.79 72.576 L2290.79 58.3168 L2263.48 58.3168 L2263.48 50.4176 L2288.64 12.096 Z\" fill=\"#000000\" fill-rule=\"nonzero\" fill-opacity=\"1\" /><g clip-path=\"url(#clip573)\">\n",
       "<image width=\"1012\" height=\"1363\" xlink:href=\"data:image/png;base64,\n",
       "iVBORw0KGgoAAAANSUhEUgAAA/QAAAVTCAYAAABj7GMOAAAgAElEQVR4nOzZO4se5BpG4T2bD1OE\n",
       "gTDgCVEsRBGJJzSi1YC9pZaCoFgoURBs7PwNWijYRasUgmglapoEQRuboFjETkTSaDEicdcvQ9gE\n",
       "wjzfGq/rF9zt4t7Z3d395z8AAABAyn+nBwAAAAA3TtADAABAkKAHAACAIEEPAAAAQYIeAAAAggQ9\n",
       "AAAABAl6AAAACBL0AAAAECToAQAAIEjQAwAAQJCgBwAAgCBBDwAAAEGCHgAAAIIEPQAAAAQJegAA\n",
       "AAgS9AAAABAk6AEAACBI0AMAAECQoAcAAIAgQQ8AAABBgh4AAACCBD0AAAAECXoAAAAIEvQAAAAQ\n",
       "JOgBAAAgSNADAABAkKAHAACAIEEPAAAAQYIeAAAAggQ9AAAABAl6AAAACBL0AAAAECToAQAAIEjQ\n",
       "AwAAQJCgBwAAgCBBDwAAAEGCHgAAAIIEPQAAAAQJegAAAAgS9AAAABAk6AEAACBI0AMAAECQoAcA\n",
       "AIAgQQ8AAABBgh4AAACCBD0AAAAECXoAAAAIEvQAAAAQJOgBAAAgSNADAABAkKAHAACAIEEPAAAA\n",
       "QYIeAAAAggQ9AAAABAl6AAAACBL0AAAAECToAQAAIEjQAwAAQJCgBwAAgCBBDwAAAEGCHgAAAIIE\n",
       "PQAAAAQJegAAAAgS9AAAABAk6AEAACBI0AMAAECQoAcAAIAgQQ8AAABBgh4AAACCBD0AAAAECXoA\n",
       "AAAIEvQAAAAQJOgBAAAgSNADAABAkKAHAACAIEEPAAAAQYIeAAAAggQ9AAAABAl6AAAACBL0AAAA\n",
       "ECToAQAAIEjQAwAAQJCgBwAAgCBBDwAAAEGCHgAAAIIEPQAAAAQJegAAAAgS9AAAABAk6AEAACBI\n",
       "0AMAAECQoAcAAIAgQQ8AAABBgh4AAACCBD0AAAAECXoAAAAIEvQAAAAQJOgBAAAgSNADAABAkKAH\n",
       "AACAIEEPAAAAQYIeAAAAggQ9AAAABAl6AAAACBL0AAAAECToAQAAIEjQAwAAQJCgBwAAgCBBDwAA\n",
       "AEGCHgAAAIIEPQAAAAQJegAAAAgS9AAAABAk6AEAACBI0AMAAECQoAcAAIAgQQ8AAABBgh4AAACC\n",
       "BD0AAAAECXoAAAAIEvQAAAAQJOgBAAAgSNADAABAkKAHAACAIEEPAAAAQYIeAAAAggQ9AAAABAl6\n",
       "AAAACBL0AAAAECToAQAAIEjQAwAAQJCgBwAAgCBBDwAAAEGCHgAAAIIEPQAAAAQJegAAAAgS9AAA\n",
       "ABAk6AEAACBI0AMAAECQoAcAAIAgQQ8AAABBgh4AAACCBD0AAAAECXoAAAAIEvQAAAAQJOgBAAAg\n",
       "SNADAABAkKAHAACAIEEPAAAAQYIeAAAAggQ9AAAABAl6AAAACBL0AAAAECToAQAAIEjQAwAAQJCg\n",
       "BwAAgCBBDwAAAEGCHgAAAIIEPQAAAAQJegAAAAgS9AAAABAk6AEAACBI0AMAAECQoAcAAIAgQQ8A\n",
       "AABBgh4AAACCBD0AAAAECXoAAAAIEvQAAAAQJOgBAAAgSNADAABAkKAHAACAIEEPAAAAQYIeAAAA\n",
       "ggQ9AAAABAl6AAAACBL0AAAAECToAQAAIEjQAwAAQJCgBwAAgCBBDwAAAEGCHgAAAIIEPQAAAAQJ\n",
       "egAAAAgS9AAAABAk6AEAACBI0AMAAECQoAcAAIAgQQ8AAABBgh4AAACCBD0AAAAECXoAAAAIEvQA\n",
       "AAAQJOgBAAAgSNADAABAkKAHAACAIEEPAAAAQYIeAAAAggQ9AAAABAl6AAAACBL0AAAAECToAQAA\n",
       "IEjQAwAAQJCgBwAAgCBBDwAAAEGCHgAAAIIEPQAAAAQJegAAAAgS9AAAABAk6AEAACBI0AMAAECQ\n",
       "oAcAAIAgQQ8AAABBgh4AAACCBD0AAAAECXoAAAAIEvQAAAAQJOgBAAAgSNADAABAkKAHAACAIEEP\n",
       "AAAAQYIeAAAAggQ9AAAABAl6AAAACBL0AAAAECToAQAAIEjQAwAAQJCgBwAAgCBBDwAAAEGCHgAA\n",
       "AIIEPQAAAAQJegAAAAgS9AAAABAk6AEAACBI0AMAAECQoAcAAIAgQQ8AAABBgh4AAACCBD0AAAAE\n",
       "CXoAAAAIEvQAAAAQJOgBAAAgSNADAABAkKAHAACAoM30AIDbbrttesLi+eefn56wOHfu3PSExdWr\n",
       "V6cnAGyNM2fOTE9YvPPOO9MTtt5zzz03PQFuGg89AAAABAl6AAAACBL0AAAAECToAQAAIEjQAwAA\n",
       "QJCgBwAAgCBBDwAAAEGCHgAAAIIEPQAAAAQJegAAAAgS9AAAABAk6AEAACBI0AMAAECQoAcAAIAg\n",
       "QQ8AAABBgh4AAACCBD0AAAAECXoAAAAIEvQAAAAQJOgBAAAgSNADAABAkKAHAACAIEEPAAAAQYIe\n",
       "AAAAggQ9AAAABAl6AAAACBL0AAAAECToAQAAIEjQAwAAQJCgBwAAgCBBDwAAAEGCHgAAAIIEPQAA\n",
       "AAQJegAAAAgS9AAAABAk6AEAACBI0AMAAECQoAcAAIAgQQ8AAABBgh4AAACCBD0AAAAECXoAAAAI\n",
       "EvQAAAAQJOgBAAAgSNADAABAkKAHAACAIEEPAAAAQYIeAAAAgjbTAwBefPHF6QmLs2fPTk9YHBwc\n",
       "TE9YfPjhh9MTALbGyy+/PD1h8fjjj09POOS7776bngDHloceAAAAggQ9AAAABAl6AAAACBL0AAAA\n",
       "ECToAQAAIEjQAwAAQJCgBwAAgCBBDwAAAEGCHgAAAIIEPQAAAAQJegAAAAgS9AAAABAk6AEAACBI\n",
       "0AMAAECQoAcAAIAgQQ8AAABBgh4AAACCBD0AAAAECXoAAAAIEvQAAAAQJOgBAAAgSNADAABAkKAH\n",
       "AACAIEEPAAAAQYIeAAAAggQ9AAAABAl6AAAACBL0AAAAECToAQAAIEjQAwAAQJCgBwAAgCBBDwAA\n",
       "AEGCHgAAAIIEPQAAAAQJegAAAAgS9AAAABAk6AEAACBI0AMAAECQoAcAAIAgQQ8AAABBgh4AAACC\n",
       "BD0AAAAECXoAAAAIEvQAAAAQJOgBAAAgSNADAABAkKAHAACAoM30AIAnnnhiesJiZ2dnesLixIkT\n",
       "0xMAtsbJkyenJywefPDB6Qlb7+OPP56eAMeWhx4AAACCBD0AAAAECXoAAAAIEvQAAAAQJOgBAAAg\n",
       "SNADAABAkKAHAACAIEEPAAAAQYIeAAAAggQ9AAAABAl6AAAACBL0AAAAECToAQAAIEjQAwAAQJCg\n",
       "BwAAgCBBDwAAAEGCHgAAAIIEPQAAAAQJegAAAAgS9AAAABAk6AEAACBI0AMAAECQoAcAAIAgQQ8A\n",
       "AABBgh4AAACCBD0AAAAECXoAAAAIEvQAAAAQJOgBAAAgSNADAABAkKAHAACAIEEPAAAAQYIeAAAA\n",
       "ggQ9AAAABAl6AAAACBL0AAAAECToAQAAIEjQAwAAQJCgBwAAgCBBDwAAAEGCHgAAAIIEPQAAAAQJ\n",
       "egAAAAgS9AAAABAk6AEAACBI0AMAAECQoAcAAIAgQQ8AAABBm+kBwNG68847pycc8uijj05PWPz2\n",
       "22/TExaffPLJ9ASArfHAAw9MT1jce++90xMW165dm55wyJUrV6YnwLHloQcAAIAgQQ8AAABBgh4A\n",
       "AACCBD0AAAAECXoAAAAIEvQAAAAQJOgBAAAgSNADAABAkKAHAACAIEEPAAAAQYIeAAAAggQ9AAAA\n",
       "BAl6AAAACBL0AAAAECToAQAAIEjQAwAAQJCgBwAAgCBBDwAAAEGCHgAAAIIEPQAAAAQJegAAAAgS\n",
       "9AAAABAk6AEAACBI0AMAAECQoAcAAIAgQQ8AAABBgh4AAACCBD0AAAAECXoAAAAIEvQAAAAQJOgB\n",
       "AAAgSNADAABAkKAHAACAIEEPAAAAQYIeAAAAggQ9AAAABAl6AAAACBL0AAAAECToAQAAIEjQAwAA\n",
       "QJCgBwAAgCBBDwAAAEGCHgAAAIIEPQAAAAQJegAAAAgS9AAAABAk6AEAACBI0AMAAEDQZnoAcLRe\n",
       "euml6QmHnDx5cnrC4oMPPpiesPj999+nJwBsjffee296wla7evXq9IRDLl26ND0Bji0PPQAAAAQJ\n",
       "egAAAAgS9AAAABAk6AEAACBI0AMAAECQoAcAAIAgQQ8AAABBgh4AAACCBD0AAAAECXoAAAAIEvQA\n",
       "AAAQJOgBAAAgSNADAABAkKAHAACAIEEPAAAAQYIeAAAAggQ9AAAABAl6AAAACBL0AAAAECToAQAA\n",
       "IEjQAwAAQJCgBwAAgCBBDwAAAEGCHgAAAIIEPQAAAAQJegAAAAgS9AAAABAk6AEAACBI0AMAAECQ\n",
       "oAcAAIAgQQ8AAABBgh4AAACCBD0AAAAECXoAAAAIEvQAAAAQJOgBAAAgSNADAABAkKAHAACAIEEP\n",
       "AAAAQYIeAAAAggQ9AAAABAl6AAAACBL0AAAAECToAQAAIEjQAwAAQJCgBwAAgCBBDwAAAEGb6QFw\n",
       "3N1+++3TExYvvPDC9IRD/vrrr+kJi6+++mp6AgDXceLEiekJW+38+fPTE4Aj5KEHAACAIEEPAAAA\n",
       "QYIeAAAAggQ9AAAABAl6AAAACBL0AAAAECToAQAAIEjQAwAAQJCgBwAAgCBBDwAAAEGCHgAAAIIE\n",
       "PQAAAAQJegAAAAgS9AAAABAk6AEAACBI0AMAAECQoAcAAIAgQQ8AAABBgh4AAACCBD0AAAAECXoA\n",
       "AAAIEvQAAAAQJOgBAAAgSNADAABAkKAHAACAIEEPAAAAQYIeAAAAggQ9AAAABAl6AAAACBL0AAAA\n",
       "ECToAQAAIEjQAwAAQJCgBwAAgCBBDwAAAEGCHgAAAIIEPQAAAAQJegAAAAgS9AAAABAk6AEAACBI\n",
       "0AMAAECQoAcAAIAgQQ8AAABBgh4AAACCBD0AAAAECXoAAAAIEvQAAAAQJOgBAAAgSNADAABA0GZ6\n",
       "ABx3Z86cmZ6w2Nvbm55wyBdffDE9YfH9999PTwAAgP/LQw8AAABBgh4AAACCBD0AAAAECXoAAAAI\n",
       "EvQAAAAQJOgBAAAgSNADAABAkKAHAACAIEEPAAAAQYIeAAAAggQ9AAAABAl6AAAACBL0AAAAECTo\n",
       "AQAAIEjQAwAAQJCgBwAAgCBBDwAAAEGCHgAAAIIEPQAAAAQJegAAAAgS9AAAABAk6AEAACBI0AMA\n",
       "AECQoAcAAIAgQQ8AAABBgh4AAACCBD0AAAAECXoAAAAIEvQAAAAQJOgBAAAgSNADAABAkKAHAACA\n",
       "IEEPAAAAQYIeAAAAggQ9AAAABAl6AAAACBL0AAAAECToAQAAIEjQAwAAQJCgBwAAgCBBDwAAAEGC\n",
       "HgAAAIIEPQAAAAQJegAAAAgS9AAAABAk6AEAACBI0AMAAECQoAcAAICgzfQAuNluvfXW6QmLN998\n",
       "c3rC1nv77benJwBwHXt7e9MTFrfccsv0BICt4aEHAACAIEEPAAAAQYIeAAAAggQ9AAAABAl6AAAA\n",
       "CBL0AAAAECToAQAAIEjQAwAAQJCgBwAAgCBBDwAAAEGCHgAAAIIEPQAAAAQJegAAAAgS9AAAABAk\n",
       "6AEAACBI0AMAAECQoAcAAIAgQQ8AAABBgh4AAACCBD0AAAAECXoAAAAIEvQAAAAQJOgBAAAgSNAD\n",
       "AABAkKAHAACAIEEPAAAAQYIeAAAAggQ9AAAABAl6AAAACBL0AAAAECToAQAAIEjQAwAAQJCgBwAA\n",
       "gCBBDwAAAEGCHgAAAIIEPQAAAAQJegAAAAgS9AAAABAk6AEAACBI0AMAAECQoAcAAIAgQQ8AAABB\n",
       "gh4AAACCBD0AAAAECXoAAAAIEvQAAAAQJOgBAAAgaDM9AG62/f396QmL+++/f3rC4pdffpmecMjB\n",
       "wcH0BACu46mnnpqesDh16tT0hK12+fLl6QnAEfLQAwAAQJCgBwAAgCBBDwAAAEGCHgAAAIIEPQAA\n",
       "AAQJegAAAAgS9AAAABAk6AEAACBI0AMAAECQoAcAAIAgQQ8AAABBgh4AAACCBD0AAAAECXoAAAAI\n",
       "EvQAAAAQJOgBAAAgSNADAABAkKAHAACAIEEPAAAAQYIeAAAAggQ9AAAABAl6AAAACBL0AAAAECTo\n",
       "AQAAIEjQAwAAQJCgBwAAgCBBDwAAAEGCHgAAAIIEPQAAAAQJegAAAAgS9AAAABAk6AEAACBI0AMA\n",
       "AECQoAcAAIAgQQ8AAABBgh4AAACCBD0AAAAECXoAAAAIEvQAAAAQJOgBAAAgSNADAABAkKAHAACA\n",
       "IEEPAAAAQYIeAAAAggQ9AAAABAl6AAAACBL0AAAAECToAQAAIGgzPQButqeffnp6wla75557picc\n",
       "ctddd01PWPz444/TE4B/sb29vekJi3fffXd6Ajfg22+/nZ4AHCEPPQAAAAQJegAAAAgS9AAAABAk\n",
       "6AEAACBI0AMAAECQoAcAAIAgQQ8AAABBgh4AAACCBD0AAAAECXoAAAAIEvQAAAAQJOgBAAAgSNAD\n",
       "AABAkKAHAACAIEEPAAAAQYIeAAAAggQ9AAAABAl6AAAACBL0AAAAECToAQAAIEjQAwAAQJCgBwAA\n",
       "gCBBDwAAAEGCHgAAAIIEPQAAAAQJegAAAAgS9AAAABAk6AEAACBI0AMAAECQoAcAAIAgQQ8AAABB\n",
       "gh4AAACCBD0AAAAECXoAAAAIEvQAAAAQJOgBAAAgSNADAABAkKAHAACAIEEPAAAAQYIeAAAAggQ9\n",
       "AAAABAl6AAAACBL0AAAAECToAQAAIEjQAwAAQJCgBwAAgCBBDwAAAEGCHgAAAII20wPgZrvvvvum\n",
       "J3CDPvroo+kJi/fff396wuLTTz+dnrD4888/pyfAsfbII49MT1jccccd0xO22q+//jo9YfHHH39M\n",
       "TwCOkIceAAAAggQ9AAAABAl6AAAACBL0AAAAECToAQAAIEjQAwAAQJCgBwAAgCBBDwAAAEGCHgAA\n",
       "AIIEPQAAAAQJegAAAAgS9AAAABAk6AEAACBI0AMAAECQoAcAAIAgQQ8AAABBgh4AAACCBD0AAAAE\n",
       "CXoAAAAIEvQAAAAQJOgBAAAgSNADAABAkKAHAACAIEEPAAAAQYIeAAAAggQ9AAAABAl6AAAACBL0\n",
       "AAAAECToAQAAIEjQAwAAQJCgBwAAgCBBDwAAAEGCHgAAAIIEPQAAAAQJegAAAAgS9AAAABAk6AEA\n",
       "ACBI0AMAAECQoAcAAIAgQQ8AAABBgh4AAACCBD0AAAAECXoAAAAIEvQAAAAQJOgBAAAgSNADAABA\n",
       "kKAHAACAoJ3d3d1/pkfAzXT27NnpCYu33npresJiZ2dnegI36Nq1a9MTFhcuXJiesPj555+nJyzO\n",
       "nTs3PWHrXblyZXrCYn9/f3rC4o033piesDh9+vT0hK326quvTk9YfPbZZ9MTgCPkoQcAAIAgQQ8A\n",
       "AABBgh4AAACCBD0AAAAECXoAAAAIEvQAAAAQJOgBAAAgSNADAABAkKAHAACAIEEPAAAAQYIeAAAA\n",
       "ggQ9AAAABAl6AAAACBL0AAAAECToAQAAIEjQAwAAQJCgBwAAgCBBDwAAAEGCHgAAAIIEPQAAAAQJ\n",
       "egAAAAgS9AAAABAk6AEAACBI0AMAAECQoAcAAIAgQQ8AAABBgh4AAACCBD0AAAAECXoAAAAIEvQA\n",
       "AAAQJOgBAAAgSNADAABAkKAHAACAIEEPAAAAQYIeAAAAggQ9AAAABAl6AAAACBL0AAAAECToAQAA\n",
       "IEjQAwAAQJCgBwAAgCBBDwAAAEGCHgAAAIIEPQAAAAQJegAAAAgS9AAAABAk6AEAACBI0AMAAEDQ\n",
       "zu7u7j/TI+A4e/bZZ6cnLF577bXpCYc8+eST0xOAI/TDDz9MT1icPn16esLi66+/np6w2N/fn56w\n",
       "1V555ZXpCYvPP/98egJwhDz0AAAAECToAQAAIEjQAwAAQJCgBwAAgCBBDwAAAEGCHgAAAIIEPQAA\n",
       "AAQJegAAAAgS9AAAABAk6AEAACBI0AMAAECQoAcAAIAgQQ8AAABBgh4AAACCBD0AAAAECXoAAAAI\n",
       "EvQAAAAQJOgBAAAgSNADAABAkKAHAACAIEEPAAAAQYIeAAAAggQ9AAAABAl6AAAACBL0AAAAECTo\n",
       "AQAAIEjQAwAAQJCgBwAAgCBBDwAAAEGCHgAAAIIEPQAAAAQJegAAAAgS9AAAABAk6AEAACBI0AMA\n",
       "AECQoAcAAIAgQQ8AAABBgh4AAACCBD0AAAAECXoAAAAIEvQAAAAQJOgBAAAgSNADAABAkKAHAACA\n",
       "IEEPAAAAQYIeAAAAggQ9AAAABAl6AAAACNpMD4Dj7ssvv5yesPjmm2+mJxzyzDPPTE9YPPzww9MT\n",
       "Fg899ND0hMVjjz02PYG4n376aXrC4vXXX5+esDg4OJiesLh48eL0BACuw0MPAAAAQYIeAAAAggQ9\n",
       "AAAABAl6AAAACBL0AAAAECToAQAAIEjQAwAAQJCgBwAAgCBBDwAAAEGCHgAAAIIEPQAAAAQJegAA\n",
       "AAgS9AAAABAk6AEAACBI0AMAAECQoAcAAIAgQQ8AAABBgh4AAACCBD0AAAAECXoAAAAIEvQAAAAQ\n",
       "JOgBAAAgSNADAABAkKAHAACAIEEPAAAAQYIeAAAAggQ9AAAABAl6AAAACBL0AAAAECToAQAAIEjQ\n",
       "AwAAQJCgBwAAgCBBDwAAAEGCHgAAAIIEPQAAAAQJegAAAAgS9AAAABAk6AEAACBI0AMAAECQoAcA\n",
       "AIAgQQ8AAABBgh4AAACCBD0AAAAECXoAAAAIEvQAAAAQJOgBAAAgSNADAABA0GZ6AHC0/v777+kJ\n",
       "h1y4cGF6wmLb9gD/Lnfffff0BAAiPPQAAAAQJOgBAAAgSNADAABAkKAHAACAIEEPAAAAQYIeAAAA\n",
       "ggQ9AAAABAl6AAAACBL0AAAAECToAQAAIEjQAwAAQJCgBwAAgCBBDwAAAEGCHgAAAIIEPQAAAAQJ\n",
       "egAAAAgS9AAAABAk6AEAACBI0AMAAECQoAcAAIAgQQ8AAABBgh4AAACCBD0AAAAECXoAAAAIEvQA\n",
       "AAAQJOgBAAAgSNADAABAkKAHAACAIEEPAAAAQYIeAAAAggQ9AAAABAl6AAAACBL0AAAAECToAQAA\n",
       "IEjQAwAAQJCgBwAAgCBBDwAAAEGCHgAAAIIEPQAAAAQJegAAAAgS9AAAABAk6AEAACBI0AMAAECQ\n",
       "oAcAAIAgQQ8AAABBgh4AAACCBD0AAAAECXoAAAAIEvQAAAAQJOgBAAAgSNADAABAkKAHAACAIEEP\n",
       "AAAAQYIeAAAAggQ9AAAABAl6AAAACBL0AAAAECToAQAAIEjQAwAAQJCgBwAAgCBBDwAAAEGCHgAA\n",
       "AIIEPQAAAAQJegAAAAgS9AAAABAk6AEAACBI0AMA8L/27NhGQgAIgqBO4GIRAPmnQwgYpPFvIsyz\n",
       "Vq2rimDc1gAQJOgBAAAgSNADAABAkKAHAACAIEEPAAAAQYIeAAAAggQ9AAAABAl6AAAACBL0AAAA\n",
       "ECToAQAAIEjQAwAAQJCgBwAAgCBBDwAAAEGCHgAAAIIEPQAAAAQJegAAAAgS9AAAABAk6AEAACBI\n",
       "0AMAAECQoAcAAIAgQQ8AAABBgh4AAACCBD0AAAAECXoAAAAIEvQAAAAQJOgBAAAgSNADAABAkKAH\n",
       "AACAIEEPAAAAQYIeAAAAggQ9AAAABAl6AAAACBL0AAAAECToAQAAIEjQAwAAQJCgBwAAgCBBDwAA\n",
       "AEGCHgAAAIIEPQAAAAQJegAAAAgS9AAAABAk6AEAACBI0AMAAECQoAcAAIAgQQ8AAABBgh4AAACC\n",
       "BD0AAAAECXoAAAAIEvQAAAAQJOgBAAAgSNADAABAkKAHAACAIEEPAAAAQYIeAAAAggQ9AAAABAl6\n",
       "AAAACBL0AAAAECToAQAAIEjQAwAAQJCgBwAAgCBBDwAAAEGCHgAAAIIEPQAAAAQJegAAAAgS9AAA\n",
       "ABAk6AEAACBI0AMAAECQoAcAAIAgQQ8AAABBgh4AAACCBD0AAAAECXoAAAAIEvQAAAAQJOgBAAAg\n",
       "SNADAABAkKAHAACAIEEPAAAAQYIeAAAAggQ9AAAABK3TAwAAeCzLMj0BgAgPPQAAAAQJegAAAAgS\n",
       "9AAAABAk6AEAACBI0AMAAECQoAcAAIAgQQ8AAABBgh4AAACCBD0AAAAECXoAAAAIEvQAAAAQJOgB\n",
       "AAAgSNADAABAkKAHAACAIEEPAAAAQYIeAAAAggQ9AAAABAl6AAAACBL0AAAAECToAQAAIEjQAwAA\n",
       "QJCgBwAAgCBBDwAAAEGCHgAAAIIEPQAAAAQJegAAAAgS9AAAABAk6AEAACBI0AMAAECQoAcAAIAg\n",
       "QQ8AAABBgh4AAACCBD0AAAAECXoAAAAIEvQAAAAQJOgBAAAgSNADAABAkKAHAACAIEEPAAAAQYIe\n",
       "AAAAggQ9AAAABAl6AAAACBL0AAAAECToAQAAIEjQAwAAQJCgBwAAgCBBDwAAAEGCHgAAAILW6QEA\n",
       "ADyO45ieAECEhx4AAACCBD0AAAAECXoAAAAIEvQAAAAQJOgBAAAgSNADAABAkKAHAACAIEEPAAAA\n",
       "QYIeAAAAggQ9AAAABAl6AAAACBL0AAAAECToAQAAIEjQAwAAQJCgBwAAgCBBDwAAAEGCHgAAAIIE\n",
       "PQAAAAQJegAAAAgS9AAAABAk6AEAACBI0AMAAECQoAcAAIAgQQ8AAABBgh4AAACCBD0AAAAECXoA\n",
       "AAAIEvQAAAAQJOgBAAAgSNADAABAkKAHAACAIEEPAAAAQYIeAAAAggQ9AAAABAl6AAAACBL0AAAA\n",
       "ECToAQAAIEjQAwAAQJCgBwAAgCBBDwAAAEGCHgAAAIIEPQAAAAQJegAAAAgS9AAAABAk6AEAACBI\n",
       "0AMAAECQoAcAAIAgQQ8AAABB6/QAAAAe53lOT3i573t6wsu+79MTXq7rmp4A/DAPPQAAAAQJegAA\n",
       "AAgS9AAAABAk6AEAACBI0AMAAECQoAcAAIAgQQ8AAABBgh4AAACCBD0AAAAECXoAAAAIEvQAAAAQ\n",
       "JOgBAAAgSNADAABAkKAHAACAIEEPAAAAQX0W9KQAAARNSURBVIIeAAAAggQ9AAAABAl6AAAACBL0\n",
       "AAAAECToAQAAIEjQAwAAQJCgBwAAgCBBDwAAAEGCHgAAAIIEPQAAAAQJegAAAAgS9AAAABAk6AEA\n",
       "ACBI0AMAAECQoAcAAIAgQQ8AAABBgh4AAACCBD0AAAAECXoAAAAIEvQAAAAQJOgBAAAgSNADAABA\n",
       "kKAHAACAIEEPAAAAQYIeAAAAggQ9AAAABAl6AAAACBL0AAAAECToAQAAIEjQAwAAQJCgBwAAgCBB\n",
       "DwAAAEGfbdv+pkcAAAAA3/HQAwAAQJCgBwAAgCBBDwAAAEGCHgAAAIIEPQAAAAQJegAAAAgS9AAA\n",
       "ABAk6AEAACBI0AMAAECQoAcAAIAgQQ8AAABBgh4AAACCBD0AAAAECXoAAAAIEvQAAAAQJOgBAAAg\n",
       "SNADAABAkKAHAACAIEEPAAAAQYIeAAAAggQ9AAAABAl6AAAACBL0AAAAECToAQAAIEjQAwAAQJCg\n",
       "BwAAgCBBDwAAAEGCHgAAAIIEPQAAAAQJegAAAAgS9AAAABAk6AEAACBI0AMAAECQoAcAAIAgQQ8A\n",
       "AABBgh4AAACCBD0AAAAECXoAAAAIEvQAAAAQJOgBAAAgSNADAABAkKAHAACAIEEPAAAAQYIeAAAA\n",
       "ggQ9AAAABAl6AAAACBL0AAAAECToAQAAIEjQAwAAQJCgBwAAgCBBDwAAAEGCHgAAAIIEPQAAAAQJ\n",
       "egAAAAgS9AAAABAk6AEAACBI0AMAAECQoAcAAIAgQQ8AAABBgh4AAACCBD0AAAAECXoAAAAIEvQA\n",
       "AAAQJOgBAAAgSNADAABAkKAHAACAIEEPAAAAQYIeAAAAggQ9AAAABAl6AAAACBL0AAAAECToAQAA\n",
       "IEjQAwAAQJCgBwAAgCBBDwAAAEGCHgAAAIIEPQAAAAQJegAAAAgS9AAAABAk6AEAACBI0AMAAECQ\n",
       "oAcAAIAgQQ8AAABBgh4AAACCBD0AAAAECXoAAAAIEvQAAAAQJOgBAAAgSNADAABAkKAHAACAIEEP\n",
       "AAAAQYIeAAAAggQ9AAAABAl6AAAACBL0AAAAECToAQAAIEjQAwAAQJCgBwAAgCBBDwAAAEGCHgAA\n",
       "AIIEPQAAAAQJegAAAAgS9AAAABAk6AEAACBI0AMAAECQoAcAAIAgQQ8AAABBgh4AAACCBD0AAAAE\n",
       "CXoAAAAIEvQAAAAQJOgBAAAgSNADAABAkKAHAACAIEEPAAAAQYIeAAAAggQ9AAAABAl6AAAACBL0\n",
       "AAAAECToAQAAIEjQAwAAQJCgBwAAgCBBDwAAAEGCHgAAAIIEPQAAAAQJegAAAAgS9AAAABAk6AEA\n",
       "ACBI0AMAAECQoAcAAIAgQQ8AAABBgh4AAACCBD0AAAAECXoAAAAIEvQAAAAQJOgBAAAgSNADAABA\n",
       "kKAHAACAIEEPAAAAQYIeAAAAggQ9AAAABAl6AAAACBL0AAAAECToAQAAIEjQAwAAQNA/zpezkq9r\n",
       "ja8AAAAASUVORK5CYII=\n",
       "\" transform=\"translate(1341, 123)\"/>\n",
       "</g>\n",
       "</svg>\n"
      ],
      "text/html": [
       "<?xml version=\"1.0\" encoding=\"utf-8\"?>\n",
       "<svg xmlns=\"http://www.w3.org/2000/svg\" xmlns:xlink=\"http://www.w3.org/1999/xlink\" width=\"600\" height=\"400\" viewBox=\"0 0 2400 1600\">\n",
       "<defs>\n",
       "  <clipPath id=\"clip620\">\n",
       "    <rect x=\"0\" y=\"0\" width=\"2400\" height=\"1600\"/>\n",
       "  </clipPath>\n",
       "</defs>\n",
       "<path clip-path=\"url(#clip620)\" d=\"M0 1600 L2400 1600 L2400 0 L0 0  Z\" fill=\"#ffffff\" fill-rule=\"evenodd\" fill-opacity=\"1\"/>\n",
       "<defs>\n",
       "  <clipPath id=\"clip621\">\n",
       "    <rect x=\"480\" y=\"0\" width=\"1681\" height=\"1600\"/>\n",
       "  </clipPath>\n",
       "</defs>\n",
       "<path clip-path=\"url(#clip620)\" d=\"M140.696 1486.45 L1152.76 1486.45 L1152.76 123.472 L140.696 123.472  Z\" fill=\"#ffffff\" fill-rule=\"evenodd\" fill-opacity=\"1\"/>\n",
       "<defs>\n",
       "  <clipPath id=\"clip622\">\n",
       "    <rect x=\"140\" y=\"123\" width=\"1013\" height=\"1364\"/>\n",
       "  </clipPath>\n",
       "</defs>\n",
       "<polyline clip-path=\"url(#clip622)\" style=\"stroke:#000000; stroke-linecap:round; stroke-linejoin:round; stroke-width:2; stroke-opacity:0.1; fill:none\" points=\"303.348,1486.45 303.348,123.472 \"/>\n",
       "<polyline clip-path=\"url(#clip622)\" style=\"stroke:#000000; stroke-linecap:round; stroke-linejoin:round; stroke-width:2; stroke-opacity:0.1; fill:none\" points=\"484.073,1486.45 484.073,123.472 \"/>\n",
       "<polyline clip-path=\"url(#clip622)\" style=\"stroke:#000000; stroke-linecap:round; stroke-linejoin:round; stroke-width:2; stroke-opacity:0.1; fill:none\" points=\"664.798,1486.45 664.798,123.472 \"/>\n",
       "<polyline clip-path=\"url(#clip622)\" style=\"stroke:#000000; stroke-linecap:round; stroke-linejoin:round; stroke-width:2; stroke-opacity:0.1; fill:none\" points=\"845.523,1486.45 845.523,123.472 \"/>\n",
       "<polyline clip-path=\"url(#clip622)\" style=\"stroke:#000000; stroke-linecap:round; stroke-linejoin:round; stroke-width:2; stroke-opacity:0.1; fill:none\" points=\"1026.25,1486.45 1026.25,123.472 \"/>\n",
       "<polyline clip-path=\"url(#clip622)\" style=\"stroke:#000000; stroke-linecap:round; stroke-linejoin:round; stroke-width:2; stroke-opacity:0.1; fill:none\" points=\"140.696,1267.4 1152.76,1267.4 \"/>\n",
       "<polyline clip-path=\"url(#clip622)\" style=\"stroke:#000000; stroke-linecap:round; stroke-linejoin:round; stroke-width:2; stroke-opacity:0.1; fill:none\" points=\"140.696,1024.01 1152.76,1024.01 \"/>\n",
       "<polyline clip-path=\"url(#clip622)\" style=\"stroke:#000000; stroke-linecap:round; stroke-linejoin:round; stroke-width:2; stroke-opacity:0.1; fill:none\" points=\"140.696,780.621 1152.76,780.621 \"/>\n",
       "<polyline clip-path=\"url(#clip622)\" style=\"stroke:#000000; stroke-linecap:round; stroke-linejoin:round; stroke-width:2; stroke-opacity:0.1; fill:none\" points=\"140.696,537.233 1152.76,537.233 \"/>\n",
       "<polyline clip-path=\"url(#clip622)\" style=\"stroke:#000000; stroke-linecap:round; stroke-linejoin:round; stroke-width:2; stroke-opacity:0.1; fill:none\" points=\"140.696,293.844 1152.76,293.844 \"/>\n",
       "<path clip-path=\"url(#clip620)\" d=\"M96.2483 20.1573 L85.1489 50.2555 L107.388 50.2555 L96.2483 20.1573 M91.6303 12.096 L100.907 12.096 L123.957 72.576 L115.45 72.576 L109.94 57.061 L82.6778 57.061 L77.1686 72.576 L68.5402 72.576 L91.6303 12.096 Z\" fill=\"#000000\" fill-rule=\"nonzero\" fill-opacity=\"1\" /><path clip-path=\"url(#clip620)\" d=\"M160.86 34.0924 L160.86 9.54393 L168.314 9.54393 L168.314 72.576 L160.86 72.576 L160.86 65.7705 Q158.511 69.8214 154.905 71.8063 Q151.341 73.7508 146.318 73.7508 Q138.094 73.7508 132.909 67.1883 Q127.764 60.6258 127.764 49.9314 Q127.764 39.2371 132.909 32.6746 Q138.094 26.1121 146.318 26.1121 Q151.341 26.1121 154.905 28.0971 Q158.511 30.0415 160.86 34.0924 M135.461 49.9314 Q135.461 58.1548 138.823 62.8538 Q142.226 67.5124 148.14 67.5124 Q154.055 67.5124 157.458 62.8538 Q160.86 58.1548 160.86 49.9314 Q160.86 41.7081 157.458 37.0496 Q154.055 32.3505 148.14 32.3505 Q142.226 32.3505 138.823 37.0496 Q135.461 41.7081 135.461 49.9314 Z\" fill=\"#000000\" fill-rule=\"nonzero\" fill-opacity=\"1\" /><path clip-path=\"url(#clip620)\" d=\"M178.32 27.2059 L186.219 27.2059 L200.397 65.2844 L214.575 27.2059 L222.475 27.2059 L205.461 72.576 L195.333 72.576 L178.32 27.2059 Z\" fill=\"#000000\" fill-rule=\"nonzero\" fill-opacity=\"1\" /><path clip-path=\"url(#clip620)\" d=\"M271.571 48.0275 L271.571 51.6733 L237.301 51.6733 Q237.787 59.3701 241.919 63.421 Q246.091 67.4314 253.504 67.4314 Q257.798 67.4314 261.809 66.3781 Q265.86 65.3249 269.83 63.2184 L269.83 70.267 Q265.819 71.9684 261.606 72.8596 Q257.393 73.7508 253.059 73.7508 Q242.202 73.7508 235.843 67.4314 Q229.523 61.1119 229.523 50.3365 Q229.523 39.1965 235.518 32.6746 Q241.554 26.1121 251.763 26.1121 Q260.918 26.1121 266.224 32.0264 Q271.571 37.9003 271.571 48.0275 M264.118 45.84 Q264.037 39.7232 260.675 36.0774 Q257.353 32.4315 251.844 32.4315 Q245.605 32.4315 241.838 35.9558 Q238.111 39.4801 237.544 45.8805 L264.118 45.84 Z\" fill=\"#000000\" fill-rule=\"nonzero\" fill-opacity=\"1\" /><path clip-path=\"url(#clip620)\" d=\"M310.096 34.1734 Q308.84 33.4443 307.341 33.1202 Q305.883 32.7556 304.1 32.7556 Q297.781 32.7556 294.378 36.8875 Q291.016 40.9789 291.016 48.6757 L291.016 72.576 L283.522 72.576 L283.522 27.2059 L291.016 27.2059 L291.016 34.2544 Q293.365 30.1225 297.133 28.1376 Q300.9 26.1121 306.288 26.1121 Q307.057 26.1121 307.989 26.2337 Q308.921 26.3147 310.055 26.5172 L310.096 34.1734 Z\" fill=\"#000000\" fill-rule=\"nonzero\" fill-opacity=\"1\" /><path clip-path=\"url(#clip620)\" d=\"M346.837 28.5427 L346.837 35.5912 Q343.678 33.9709 340.275 33.1607 Q336.872 32.3505 333.226 32.3505 Q327.677 32.3505 324.881 34.0519 Q322.127 35.7533 322.127 39.156 Q322.127 41.7486 324.112 43.2475 Q326.097 44.7058 332.092 46.0426 L334.644 46.6097 Q342.584 48.3111 345.906 51.4303 Q349.268 54.509 349.268 60.0587 Q349.268 66.3781 344.245 70.0644 Q339.262 73.7508 330.512 73.7508 Q326.866 73.7508 322.896 73.0216 Q318.967 72.3329 314.592 70.9151 L314.592 63.2184 Q318.724 65.3654 322.734 66.4591 Q326.745 67.5124 330.674 67.5124 Q335.94 67.5124 338.776 65.73 Q341.612 63.9071 341.612 60.6258 Q341.612 57.5877 339.546 55.9673 Q337.52 54.3469 330.593 52.8481 L328.001 52.2405 Q321.074 50.7821 317.995 47.7845 Q314.916 44.7463 314.916 39.4801 Q314.916 33.0797 319.453 29.5959 Q323.99 26.1121 332.335 26.1121 Q336.467 26.1121 340.113 26.7198 Q343.759 27.3274 346.837 28.5427 Z\" fill=\"#000000\" fill-rule=\"nonzero\" fill-opacity=\"1\" /><path clip-path=\"url(#clip620)\" d=\"M381.756 49.7694 Q372.723 49.7694 369.239 51.8354 Q365.755 53.9013 365.755 58.8839 Q365.755 62.8538 368.348 65.2034 Q370.981 67.5124 375.477 67.5124 Q381.675 67.5124 385.402 63.1374 Q389.169 58.7219 389.169 51.4303 L389.169 49.7694 L381.756 49.7694 M396.623 46.6907 L396.623 72.576 L389.169 72.576 L389.169 65.6895 Q386.617 69.8214 382.809 71.8063 Q379.001 73.7508 373.492 73.7508 Q366.525 73.7508 362.393 69.8619 Q358.301 65.9325 358.301 59.3701 Q358.301 51.7138 363.405 47.825 Q368.55 43.9361 378.718 43.9361 L389.169 43.9361 L389.169 43.2069 Q389.169 38.0623 385.766 35.2672 Q382.404 32.4315 376.287 32.4315 Q372.398 32.4315 368.712 33.3632 Q365.026 34.295 361.623 36.1584 L361.623 29.2718 Q365.714 27.692 369.563 26.9223 Q373.411 26.1121 377.057 26.1121 Q386.901 26.1121 391.762 31.2163 Q396.623 36.3204 396.623 46.6907 Z\" fill=\"#000000\" fill-rule=\"nonzero\" fill-opacity=\"1\" /><path clip-path=\"url(#clip620)\" d=\"M438.266 34.1734 Q437.01 33.4443 435.512 33.1202 Q434.053 32.7556 432.271 32.7556 Q425.951 32.7556 422.549 36.8875 Q419.186 40.9789 419.186 48.6757 L419.186 72.576 L411.692 72.576 L411.692 27.2059 L419.186 27.2059 L419.186 34.2544 Q421.536 30.1225 425.303 28.1376 Q429.071 26.1121 434.458 26.1121 Q435.228 26.1121 436.16 26.2337 Q437.091 26.3147 438.226 26.5172 L438.266 34.1734 Z\" fill=\"#000000\" fill-rule=\"nonzero\" fill-opacity=\"1\" /><path clip-path=\"url(#clip620)\" d=\"M446.084 27.2059 L453.538 27.2059 L453.538 72.576 L446.084 72.576 L446.084 27.2059 M446.084 9.54393 L453.538 9.54393 L453.538 18.9825 L446.084 18.9825 L446.084 9.54393 Z\" fill=\"#000000\" fill-rule=\"nonzero\" fill-opacity=\"1\" /><path clip-path=\"url(#clip620)\" d=\"M489.753 49.7694 Q480.72 49.7694 477.236 51.8354 Q473.752 53.9013 473.752 58.8839 Q473.752 62.8538 476.345 65.2034 Q478.978 67.5124 483.474 67.5124 Q489.672 67.5124 493.399 63.1374 Q497.166 58.7219 497.166 51.4303 L497.166 49.7694 L489.753 49.7694 M504.62 46.6907 L504.62 72.576 L497.166 72.576 L497.166 65.6895 Q494.614 69.8214 490.806 71.8063 Q486.999 73.7508 481.489 73.7508 Q474.522 73.7508 470.39 69.8619 Q466.298 65.9325 466.298 59.3701 Q466.298 51.7138 471.403 47.825 Q476.547 43.9361 486.715 43.9361 L497.166 43.9361 L497.166 43.2069 Q497.166 38.0623 493.764 35.2672 Q490.401 32.4315 484.284 32.4315 Q480.396 32.4315 476.709 33.3632 Q473.023 34.295 469.62 36.1584 L469.62 29.2718 Q473.712 27.692 477.56 26.9223 Q481.408 26.1121 485.054 26.1121 Q494.898 26.1121 499.759 31.2163 Q504.62 36.3204 504.62 46.6907 Z\" fill=\"#000000\" fill-rule=\"nonzero\" fill-opacity=\"1\" /><path clip-path=\"url(#clip620)\" d=\"M519.973 9.54393 L527.427 9.54393 L527.427 72.576 L519.973 72.576 L519.973 9.54393 Z\" fill=\"#000000\" fill-rule=\"nonzero\" fill-opacity=\"1\" /><path clip-path=\"url(#clip620)\" d=\"M608.202 48.0275 L608.202 51.6733 L573.931 51.6733 Q574.417 59.3701 578.549 63.421 Q582.721 67.4314 590.135 67.4314 Q594.429 67.4314 598.439 66.3781 Q602.49 65.3249 606.46 63.2184 L606.46 70.267 Q602.449 71.9684 598.236 72.8596 Q594.023 73.7508 589.689 73.7508 Q578.833 73.7508 572.473 67.4314 Q566.153 61.1119 566.153 50.3365 Q566.153 39.1965 572.149 32.6746 Q578.184 26.1121 588.393 26.1121 Q597.548 26.1121 602.854 32.0264 Q608.202 37.9003 608.202 48.0275 M600.748 45.84 Q600.667 39.7232 597.305 36.0774 Q593.983 32.4315 588.474 32.4315 Q582.235 32.4315 578.468 35.9558 Q574.741 39.4801 574.174 45.8805 L600.748 45.84 Z\" fill=\"#000000\" fill-rule=\"nonzero\" fill-opacity=\"1\" /><path clip-path=\"url(#clip620)\" d=\"M656.691 27.2059 L640.285 49.2833 L657.542 72.576 L648.751 72.576 L635.545 54.752 L622.339 72.576 L613.549 72.576 L631.17 48.8377 L615.048 27.2059 L623.838 27.2059 L635.869 43.369 L647.9 27.2059 L656.691 27.2059 Z\" fill=\"#000000\" fill-rule=\"nonzero\" fill-opacity=\"1\" /><path clip-path=\"url(#clip620)\" d=\"M688.693 49.7694 Q679.66 49.7694 676.176 51.8354 Q672.692 53.9013 672.692 58.8839 Q672.692 62.8538 675.285 65.2034 Q677.918 67.5124 682.414 67.5124 Q688.612 67.5124 692.339 63.1374 Q696.106 58.7219 696.106 51.4303 L696.106 49.7694 L688.693 49.7694 M703.56 46.6907 L703.56 72.576 L696.106 72.576 L696.106 65.6895 Q693.554 69.8214 689.746 71.8063 Q685.938 73.7508 680.429 73.7508 Q673.462 73.7508 669.33 69.8619 Q665.238 65.9325 665.238 59.3701 Q665.238 51.7138 670.342 47.825 Q675.487 43.9361 685.655 43.9361 L696.106 43.9361 L696.106 43.2069 Q696.106 38.0623 692.703 35.2672 Q689.341 32.4315 683.224 32.4315 Q679.336 32.4315 675.649 33.3632 Q671.963 34.295 668.56 36.1584 L668.56 29.2718 Q672.652 27.692 676.5 26.9223 Q680.348 26.1121 683.994 26.1121 Q693.838 26.1121 698.699 31.2163 Q703.56 36.3204 703.56 46.6907 Z\" fill=\"#000000\" fill-rule=\"nonzero\" fill-opacity=\"1\" /><path clip-path=\"url(#clip620)\" d=\"M754.237 35.9153 Q757.032 30.8922 760.921 28.5022 Q764.81 26.1121 770.076 26.1121 Q777.165 26.1121 781.013 31.0947 Q784.862 36.0368 784.862 45.1919 L784.862 72.576 L777.367 72.576 L777.367 45.4349 Q777.367 38.913 775.058 35.7533 Q772.749 32.5936 768.01 32.5936 Q762.217 32.5936 758.855 36.4419 Q755.493 40.2903 755.493 46.9338 L755.493 72.576 L747.998 72.576 L747.998 45.4349 Q747.998 38.8725 745.689 35.7533 Q743.38 32.5936 738.56 32.5936 Q732.848 32.5936 729.486 36.4824 Q726.123 40.3308 726.123 46.9338 L726.123 72.576 L718.629 72.576 L718.629 27.2059 L726.123 27.2059 L726.123 34.2544 Q728.676 30.082 732.24 28.0971 Q735.805 26.1121 740.707 26.1121 Q745.649 26.1121 749.092 28.6237 Q752.576 31.1352 754.237 35.9153 Z\" fill=\"#000000\" fill-rule=\"nonzero\" fill-opacity=\"1\" /><path clip-path=\"url(#clip620)\" d=\"M806.939 65.7705 L806.939 89.8329 L799.445 89.8329 L799.445 27.2059 L806.939 27.2059 L806.939 34.0924 Q809.289 30.0415 812.853 28.0971 Q816.459 26.1121 821.441 26.1121 Q829.705 26.1121 834.85 32.6746 Q840.035 39.2371 840.035 49.9314 Q840.035 60.6258 834.85 67.1883 Q829.705 73.7508 821.441 73.7508 Q816.459 73.7508 812.853 71.8063 Q809.289 69.8214 806.939 65.7705 M832.298 49.9314 Q832.298 41.7081 828.895 37.0496 Q825.533 32.3505 819.618 32.3505 Q813.704 32.3505 810.301 37.0496 Q806.939 41.7081 806.939 49.9314 Q806.939 58.1548 810.301 62.8538 Q813.704 67.5124 819.618 67.5124 Q825.533 67.5124 828.895 62.8538 Q832.298 58.1548 832.298 49.9314 Z\" fill=\"#000000\" fill-rule=\"nonzero\" fill-opacity=\"1\" /><path clip-path=\"url(#clip620)\" d=\"M852.39 9.54393 L859.844 9.54393 L859.844 72.576 L852.39 72.576 L852.39 9.54393 Z\" fill=\"#000000\" fill-rule=\"nonzero\" fill-opacity=\"1\" /><path clip-path=\"url(#clip620)\" d=\"M914.247 48.0275 L914.247 51.6733 L879.977 51.6733 Q880.463 59.3701 884.595 63.421 Q888.767 67.4314 896.18 67.4314 Q900.474 67.4314 904.485 66.3781 Q908.536 65.3249 912.506 63.2184 L912.506 70.267 Q908.495 71.9684 904.282 72.8596 Q900.069 73.7508 895.735 73.7508 Q884.878 73.7508 878.518 67.4314 Q872.199 61.1119 872.199 50.3365 Q872.199 39.1965 878.194 32.6746 Q884.23 26.1121 894.439 26.1121 Q903.594 26.1121 908.9 32.0264 Q914.247 37.9003 914.247 48.0275 M906.794 45.84 Q906.713 39.7232 903.351 36.0774 Q900.029 32.4315 894.52 32.4315 Q888.281 32.4315 884.514 35.9558 Q880.787 39.4801 880.22 45.8805 L906.794 45.84 Z\" fill=\"#000000\" fill-rule=\"nonzero\" fill-opacity=\"1\" /><path clip-path=\"url(#clip620)\" d=\"M928.385 62.2867 L936.933 62.2867 L936.933 72.576 L928.385 72.576 L928.385 62.2867 M928.385 29.6769 L936.933 29.6769 L936.933 39.9662 L928.385 39.9662 L928.385 29.6769 Z\" fill=\"#000000\" fill-rule=\"nonzero\" fill-opacity=\"1\" /><path clip-path=\"url(#clip620)\" d=\"M1004.34 19.2256 L983.68 51.5113 L1004.34 51.5113 L1004.34 19.2256 M1002.19 12.096 L1012.48 12.096 L1012.48 51.5113 L1021.11 51.5113 L1021.11 58.3168 L1012.48 58.3168 L1012.48 72.576 L1004.34 72.576 L1004.34 58.3168 L977.036 58.3168 L977.036 50.4176 L1002.19 12.096 Z\" fill=\"#000000\" fill-rule=\"nonzero\" fill-opacity=\"1\" /><path clip-path=\"url(#clip620)\" d=\"M1056.19 46.5287 L1078.03 46.5287 L1078.03 53.1722 L1056.19 53.1722 L1056.19 46.5287 Z\" fill=\"#000000\" fill-rule=\"nonzero\" fill-opacity=\"1\" /><path clip-path=\"url(#clip620)\" d=\"M1090.87 31.7429 L1090.87 24.3702 L1142.8 43.2069 L1142.8 49.9314 L1090.87 68.7682 L1090.87 61.3955 L1132.59 46.6097 L1090.87 31.7429 Z\" fill=\"#000000\" fill-rule=\"nonzero\" fill-opacity=\"1\" /><path clip-path=\"url(#clip620)\" d=\"M1187.08 71.3202 L1187.08 63.8666 Q1190.15 65.3249 1193.31 66.0946 Q1196.47 66.8642 1199.51 66.8642 Q1207.61 66.8642 1211.87 61.436 Q1216.16 55.9673 1216.77 44.8678 Q1214.42 48.3516 1210.81 50.215 Q1207.21 52.0784 1202.83 52.0784 Q1193.76 52.0784 1188.45 46.6097 Q1183.19 41.1005 1183.19 31.5808 Q1183.19 22.2638 1188.7 16.633 Q1194.21 11.0023 1203.36 11.0023 Q1213.85 11.0023 1219.36 19.0636 Q1224.91 27.0843 1224.91 42.3968 Q1224.91 56.6965 1218.11 65.2439 Q1211.34 73.7508 1199.88 73.7508 Q1196.8 73.7508 1193.64 73.1431 Q1190.48 72.5355 1187.08 71.3202 M1203.36 45.678 Q1208.87 45.678 1212.07 41.9107 Q1215.31 38.1433 1215.31 31.5808 Q1215.31 25.0589 1212.07 21.2916 Q1208.87 17.4837 1203.36 17.4837 Q1197.85 17.4837 1194.61 21.2916 Q1191.41 25.0589 1191.41 31.5808 Q1191.41 38.1433 1194.61 41.9107 Q1197.85 45.678 1203.36 45.678 Z\" fill=\"#000000\" fill-rule=\"nonzero\" fill-opacity=\"1\" /><g clip-path=\"url(#clip622)\">\n",
       "<image width=\"1012\" height=\"1363\" xlink:href=\"data:image/png;base64,\n",
       "iVBORw0KGgoAAAANSUhEUgAAA/QAAAVTCAYAAABj7GMOAAAgAElEQVR4nOzZMYse5QKG4RPdQhAR\n",
       "hDBbiFosiIiLBBVLO7FOZSsELSy0NsHCzlJQEMRGsPcHBCGVihZGC1OIGFG+UVDs1sac8jBnZWWP\n",
       "Ob7vHa/rFzzMzM43975nDg4ObvwLAOBvsq7r6Akby7KMngAA/5PbRg8AAAAATk/QAwAAQJCgBwAA\n",
       "gCBBDwAAAEGCHgAAAIIEPQAAAAQJegAAAAgS9AAAABAk6AEAACBI0AMAAECQoAcAAIAgQQ8AAABB\n",
       "gh4AAACCBD0AAAAECXoAAAAIEvQAAAAQJOgBAAAgSNADAABAkKAHAACAIEEPAAAAQYIeAAAAggQ9\n",
       "AAAABAl6AAAACBL0AAAAECToAQAAIEjQAwAAQJCgBwAAgCBBDwAAAEGCHgAAAIIEPQAAAAQJegAA\n",
       "AAgS9AAAABAk6AEAACBI0AMAAECQoAcAAIAgQQ8AAABBgh4AAACCBD0AAAAECXoAAAAIEvQAAAAQ\n",
       "JOgBAAAgSNADAABAkKAHAACAIEEPAAAAQYIeAAAAggQ9AAAABAl6AAAACBL0AAAAELQ3ekDBuq6j\n",
       "J2wsyzJ6AgD8z/yOAcDN4YQeAAAAggQ9AAAABAl6AAAACBL0AAAAECToAQAAIEjQAwAAQJCgBwAA\n",
       "gCBBDwAAAEGCHgAAAIIEPQAAAAQJegAAAAgS9AAAABAk6AEAACBI0AMAAECQoAcAAIAgQQ8AAABB\n",
       "gh4AAACCBD0AAAAECXoAAAAIEvQAAAAQJOgBAAAgSNADAABAkKAHAACAIEEPAAAAQYIeAAAAggQ9\n",
       "AAAABAl6AAAACBL0AAAAECToAQAAIEjQAwAAQJCgBwAAgCBBDwAAAEGCHgAAAIIEPQAAAAQJegAA\n",
       "AAgS9AAAABAk6AEAACBI0AMAAECQoAcAAIAgQQ8AAABBgh4AAACCBD0AAAAECXoAAAAIEvQAAAAQ\n",
       "JOgBAAAgSNADAABAkKAHAACAIEEPAAAAQWfuuuuuG6NH/LdlWUZPAIBbwrquoydMz3dHy2zPtOcH\n",
       "GMkJPQAAAAQJegAAAAgS9AAAABAk6AEAACBI0AMAAECQoAcAAIAgQQ8AAABBgh4AAACCBD0AAAAE\n",
       "CXoAAAAIEvQAAAAQJOgBAAAgSNADAABAkKAHAACAIEEPAAAAQYIeAAAAggQ9AAAABAl6AAAACBL0\n",
       "AAAAECToAQAAIEjQAwAAQJCgBwAAgCBBDwAAAEGCHgAAAIIEPQAAAAQJegAAAAgS9AAAABAk6AEA\n",
       "ACBI0AMAAECQoAcAAIAgQQ8AAABBgh4AAACCBD0AAAAECXoAAAAIEvQAAAAQJOgBAAAgSNADAABA\n",
       "kKAHAACAIEEPAAAAQYIeAAAAggQ9AAAABAl6AAAACBL0AAAAECToAQAAIEjQAwAAQJCgBwAAgCBB\n",
       "DwAAAEGCHgAAAILOHBwc3Bg9Ynbruo6esLEsy+gJG64PwLxme0cD/1++g+CfxQk9AAAABAl6AAAA\n",
       "CBL0AAAAECToAQAAIEjQAwAAQJCgBwAAgCBBDwAAAEGCHgAAAIIEPQAAAAQJegAAAAgS9AAAABAk\n",
       "6AEAACBI0AMAAECQoAcAAIAgQQ8AAABBgh4AAACCBD0AAAAECXoAAAAIEvQAAAAQJOgBAAAgSNAD\n",
       "AABAkKAHAACAIEEPAAAAQYIeAAAAggQ9AAAABAl6AAAACBL0AAAAECToAQAAIEjQAwAAQJCgBwAA\n",
       "gCBBDwAAAEGCHgAAAIIEPQAAAAQJegAAAAgS9AAAABAk6AEAACBI0AMAAECQoAcAAIAgQQ8AAABB\n",
       "gh4AAACCBD0AAAAECXoAAAAIEvQAAAAQJOgBAAAgSNADAABAkKAHAACAIEEPAAAAQXujBxQsyzJ6\n",
       "AmHruo6esOF5/nOz3TNaZvsbm20PPd6JLTPeL++hk812z9yvFif0AAAAECToAQAAIEjQAwAAQJCg\n",
       "BwAAgCBBDwAAAEGCHgAAAIIEPQAAAAQJegAAAAgS9AAAABAk6AEAACBI0AMAAECQoAcAAIAgQQ8A\n",
       "AABBgh4AAACCBD0AAAAECXoAAAAIEvQAAAAQJOgBAAAgSNADAABAkKAHAACAIEEPAAAAQYIeAAAA\n",
       "ggQ9AAAABAl6AAAACBL0AAAAECToAQAAIEjQAwAAQJCgBwAAgCBBDwAAAEGCHgAAAIIEPQAAAAQJ\n",
       "egAAAAgS9AAAABAk6AEAACBI0AMAAECQoAcAAIAgQQ8AAABBgh4AAACCBD0AAAAECXoAAAAIEvQA\n",
       "AAAQJOgBAAAgSNADAABAkKAHAACAIEEPAAAAQYIeAAAAggQ9AAAABAl6AAAACNobPYC+ZVlGT+AU\n",
       "1nUdPWF6r7322ugJG5cuXRo9YcPfPMB/3H///aMnbFy8eHH0hOlduHBh9AS4aZzQAwAAQJCgBwAA\n",
       "gCBBDwAAAEGCHgAAAIIEPQAAAAQJegAAAAgS9AAAABAk6AEAACBI0AMAAECQoAcAAIAgQQ8AAABB\n",
       "gh4AAACCBD0AAAAECXoAAAAIEvQAAAAQJOgBAAAgSNADAABAkKAHAACAIEEPAAAAQYIeAAAAggQ9\n",
       "AAAABAl6AAAACBL0AAAAECToAQAAIEjQAwAAQJCgBwAAgCBBDwAAAEGCHgAAAIIEPQAAAAQJegAA\n",
       "AAgS9AAAABAk6AEAACBI0AMAAECQoAcAAIAgQQ8AAABBgh4AAACCBD0AAAAECXoAAAAIEvQAAAAQ\n",
       "JOgBAAAgSNADAABAkKAHAACAIEEPAAAAQYIeAAAAggQ9AAAABAl6AAAACBL0AAAAECToAQAAIGhv\n",
       "9AC41S3LMnrC9J5++unREzaee+650RM2jo6ORk/YeOedd0ZPAP5GfsdOduHChdETNs6dOzd6wjGf\n",
       "ffbZ6Alwy3JCDwAAAEGCHgAAAIIEPQAAAAQJegAAAAgS9AAAABAk6AEAACBI0AMAAECQoAcAAIAg\n",
       "QQ8AAABBgh4AAACCBD0AAAAECXoAAAAIEvQAAAAQJOgBAAAgSNADAABAkKAHAACAIEEPAAAAQYIe\n",
       "AAAAggQ9AAAABAl6AAAACBL0AAAAECToAQAAIEjQAwAAQJCgBwAAgCBBDwAAAEGCHgAAAIIEPQAA\n",
       "AAQJegAAAAgS9AAAABAk6AEAACBI0AMAAECQoAcAAIAgQQ8AAABBgh4AAACCBD0AAAAECXoAAAAI\n",
       "EvQAAAAQJOgBAAAgSNADAABAkKAHAACAIEEPAAAAQYIeAAAAggQ9AAAABAl6AAAACBL0AAAAECTo\n",
       "AQAAIEjQAwAAQNDe6AFws63rOnrCxrIsoydM77HHHhs9YWp33HHH6AkA05jtd/6hhx4aPWF677//\n",
       "/ugJnMJsf2Ozme3b3gk9AAAABAl6AAAACBL0AAAAECToAQAAIEjQAwAAQJCgBwAAgCBBDwAAAEGC\n",
       "HgAAAIIEPQAAAAQJegAAAAgS9AAAABAk6AEAACBI0AMAAECQoAcAAIAgQQ8AAABBgh4AAACCBD0A\n",
       "AAAECXoAAAAIEvQAAAAQJOgBAAAgSNADAABAkKAHAACAIEEPAAAAQYIeAAAAggQ9AAAABAl6AAAA\n",
       "CBL0AAAAECToAQAAIEjQAwAAQJCgBwAAgCBBDwAAAEGCHgAAAIIEPQAAAAQJegAAAAgS9AAAABAk\n",
       "6AEAACBI0AMAAECQoAcAAIAgQQ8AAABBgh4AAACCBD0AAAAECXoAAAAIEvQAAAAQJOgBAAAgSNAD\n",
       "AABAkKAHAACAIEEPAAAAQYIeAAAAgvZGD/gj67qOnrCxLMvoCVOb7X7NZrbrc9tt8/0f7/z586Mn\n",
       "bHz55ZejJ2xcunRp9IQN70RgpGeeeWb0hI0nn3xy9ISNH374YfSEY7799tvRE+CWNd+XPQAAAPCn\n",
       "BD0AAAAECXoAAAAIEvQAAAAQJOgBAAAgSNADAABAkKAHAACAIEEPAAAAQYIeAAAAggQ9AAAABAl6\n",
       "AAAACBL0AAAAECToAQAAIEjQAwAAQJCgBwAAgCBBDwAAAEGCHgAAAIIEPQAAAAQJegAAAAgS9AAA\n",
       "ABAk6AEAACBI0AMAAECQoAcAAIAgQQ8AAABBgh4AAACCBD0AAAAECXoAAAAIEvQAAAAQJOgBAAAg\n",
       "SNADAABAkKAHAACAIEEPAAAAQYIeAAAAggQ9AAAABAl6AAAACBL0AAAAECToAQAAIEjQAwAAQJCg\n",
       "BwAAgCBBDwAAAEGCHgAAAIIEPQAAAAQJegAAAAgS9AAAABAk6AEAACBI0AMAAECQoAcAAIAgQQ8A\n",
       "AABBe6MH/JFlWUZPmNq6rqMncAqzPc+vvPLK6AnTe++990ZPmJp30Mlm+5uHW82bb745esLGbrcb\n",
       "PWHjl19+GT3hmG+++Wb0BLhlOaEHAACAIEEPAAAAQYIeAAAAggQ9AAAABAl6AAAACBL0AAAAECTo\n",
       "AQAAIEjQAwAAQJCgBwAAgCBBDwAAAEGCHgAAAIIEPQAAAAQJegAAAAgS9AAAABAk6AEAACBI0AMA\n",
       "AECQoAcAAIAgQQ8AAABBgh4AAACCBD0AAAAECXoAAAAIEvQAAAAQJOgBAAAgSNADAABAkKAHAACA\n",
       "IEEPAAAAQYIeAAAAggQ9AAAABAl6AAAACBL0AAAAECToAQAAIEjQAwAAQJCgBwAAgCBBDwAAAEGC\n",
       "HgAAAIIEPQAAAAQJegAAAAgS9AAAABAk6AEAACBI0AMAAECQoAcAAIAgQQ8AAABBgh4AAACCBD0A\n",
       "AAAECXoAAAAIEvQAAAAQJOgBAAAgaG/0APqWZRk9YWNd19ETNma7PufPnx894Zjr16+PnrDx4Ycf\n",
       "jp4A/IP5HTvZtWvXRk/YODw8HD1h46OPPho94ZjZnqHZzPY3PxvPz8mc0AMAAECQoAcAAIAgQQ8A\n",
       "AABBgh4AAACCBD0AAAAECXoAAAAIEvQAAAAQJOgBAAAgSNADAABAkKAHAACAIEEPAAAAQYIeAAAA\n",
       "ggQ9AAAABAl6AAAACBL0AAAAECToAQAAIEjQAwAAQJCgBwAAgCBBDwAAAEGCHgAAAIIEPQAAAAQJ\n",
       "egAAAAgS9AAAABAk6AEAACBI0AMAAECQoAcAAIAgQQ8AAABBgh4AAACCBD0AAAAECXoAAAAIEvQA\n",
       "AAAQJOgBAAAgSNADAABAkKAHAACAIEEPAAAAQYIeAAAAggQ9AAAABAl6AAAACBL0AAAAECToAQAA\n",
       "IEjQAwAAQJCgBwAAgCBBDwAAAEGCHgAAAIIEPQAAAAQJegAAAAgS9AAAABAk6AEAACBob/QAuNmW\n",
       "ZRk9YeOJJ54YPWFjt9uNnnDM5cuXR0/Y+P7770dP4BRm+5unZ13X0ROm5vrAP4vf1RYn9AAAABAk\n",
       "6AEAACBI0AMAAECQoAcAAIAgQQ8AAABBgh4AAACCBD0AAAAECXoAAAAIEvQAAAAQJOgBAAAgSNAD\n",
       "AABAkKAHAACAIEEPAAAAQYIeAAAAggQ9AAAABAl6AAAACBL0AAAAECToAQAAIEjQAwAAQJCgBwAA\n",
       "gCBBDwAAAEGCHgAAAIIEPQAAAAQJegAAAAgS9AAAABAk6AEAACBI0AMAAECQoAcAAIAgQQ8AAABB\n",
       "gh4AAACCBD0AAAAECXoAAAAIEvQAAAAQJOgBAAAgSNADAABAkKAHAACAIEEPAAAAQYIeAAAAggQ9\n",
       "AAAABAl6AAAACBL0AAAAECToAQAAIEjQAwAAQJCgBwAAgCBBDwAAAEGCHgAAAIIEPQAAAAQJegAA\n",
       "AAjaGz2gYF3X0RM4hbNnz46esPHyyy+PnrBxdHQ0esIxFy9eHD2BMO/oky3LMnrC9Ga7Rp7pkx0e\n",
       "Ho6eADeVd1DLbPfLCT0AAAAECXoAAAAIEvQAAAAQJOgBAAAgSNADAABAkKAHAACAIEEPAAAAQYIe\n",
       "AAAAggQ9AAAABAl6AAAACBL0AAAAECToAQAAIEjQAwAAQJCgBwAAgCBBDwAAAEGCHgAAAIIEPQAA\n",
       "AAQJegAAAAgS9AAAABAk6AEAACBI0AMAAECQoAcAAIAgQQ8AAABBgh4AAACCBD0AAAAECXoAAAAI\n",
       "EvQAAAAQJOgBAAAgSNADAABAkKAHAACAIEEPAAAAQYIeAAAAggQ9AAAABAl6AAAACBL0AAAAECTo\n",
       "AQAAIEjQAwAAQJCgBwAAgCBBDwAAAEGCHgAAAIIEPQAAAAQJegAAAAgS9AAAABAk6AEAACBI0AMA\n",
       "AECQoAcAAIAgQQ8AAABBe6MHFCzLMnrCxrquoydM7amnnho9YePo6Gj0hI3r16+PngC3tNl+M+Cv\n",
       "Onfu3OgJnMJXX301esIxs327zvaenu36zGa2+zUbJ/QAAAAQJOgBAAAgSNADAABAkKAHAACAIEEP\n",
       "AAAAQYIeAAAAggQ9AAAABAl6AAAACBL0AAAAECToAQAAIEjQAwAAQJCgBwAAgCBBDwAAAEGCHgAA\n",
       "AIIEPQAAAAQJegAAAAgS9AAAABAk6AEAACBI0AMAAECQoAcAAIAgQQ8AAABBgh4AAACCBD0AAAAE\n",
       "CXoAAAAIEvQAAAAQJOgBAAAgSNADAABAkKAHAACAIEEPAAAAQYIeAAAAggQ9AAAABAl6AAAACBL0\n",
       "AAAAECToAQAAIEjQAwAAQJCgBwAAgCBBDwAAAEGCHgAAAIIEPQAAAAQJegAAAAgS9AAAABAk6AEA\n",
       "ACBI0AMAAECQoAcAAIAgQQ8AAABBgh4AAACCBD0AAAAECXoAAAAI2hs9gNNblmX0hKndeeedoydM\n",
       "7b777hs94Zi777579ISNX3/9dfQEgGl88MEHoyds7Ha70RM29vf3R0/Y+OSTT0ZPmN66rqMnTE1r\n",
       "tDihBwAAgCBBDwAAAEGCHgAAAIIEPQAAAAQJegAAAAgS9AAAABAk6AEAACBI0AMAAECQoAcAAIAg\n",
       "QQ8AAABBgh4AAACCBD0AAAAECXoAAAAIEvQAAAAQJOgBAAAgSNADAABAkKAHAACAIEEPAAAAQYIe\n",
       "AAAAggQ9AAAABAl6AAAACBL0AAAAECToAQAAIEjQAwAAQJCgBwAAgCBBDwAAAEGCHgAAAIIEPQAA\n",
       "AAQJegAAAAgS9AAAABAk6AEAACBI0AMAAECQoAcAAIAgQQ8AAABBgh4AAACCBD0AAAAECXoAAAAI\n",
       "EvQAAAAQJOgBAAAgSNADAABAkKAHAACAIEEPAAAAQYIeAAAAggQ9AAAABAl6AAAACBL0AAAAECTo\n",
       "AQAAIEjQAwAAQNDe6AH0res6esLGwcHB6Akb+/v7oyds7Ha70ROOeffdd0dP2HjrrbdGT9i4fPny\n",
       "6AmcwmzvxBktyzJ6wsZs9+zhhx8ePWHjxx9/HD1hY7bf1c8//3z0hI2PP/549ATgb+SEHgAAAIIE\n",
       "PQAAAAQJegAAAAgS9AAAABAk6AEAACBI0AMAAECQoAcAAIAgQQ8AAABBgh4AAACCBD0AAAAECXoA\n",
       "AAAIEvQAAAAQJOgBAAAgSNADAABAkKAHAACAIEEPAAAAQYIeAAAAggQ9AAAABAl6AAAACBL0AAAA\n",
       "ECToAQAAIEjQAwAAQJCgBwAAgCBBDwAAAEGCHgAAAIIEPQAAAAQJegAAAAgS9AAAABAk6AEAACBI\n",
       "0AMAAECQoAcAAIAgQQ8AAABBgh4AAACCBD0AAAAECXoAAAAIEvQAAAAQJOgBAAAgSNADAABAkKAH\n",
       "AACAIEEPAAAAQYIeAAAAggQ9AAAABAl6AAAACBL0AAAAECToAQAAIEjQAwAAQJCgBwAAgKC90QP+\n",
       "yLquoydsLMsyesLGbNdnNj/99NPoCZzSAw88MHrCxuuvvz56wsbvv/8+esLGlStXRk/Y+Prrr0dP\n",
       "2Lh69eroCRtffPHF6AnHzPY79uijj46esPHSSy+NnjC13W43esLGq6++OnoCpzTbtz38FU7oAQAA\n",
       "IEjQAwAAQJCgBwAAgCBBDwAAAEGCHgAAAIIEPQAAAAQJegAAAAgS9AAAABAk6AEAACBI0AMAAECQ\n",
       "oAcAAIAgQQ8AAABBgh4AAACCBD0AAAAECXoAAAAIEvQAAAAQJOgBAAAgSNADAABAkKAHAACAIEEP\n",
       "AAAAQYIeAAAAggQ9AAAABAl6AAAACBL0AAAAECToAQAAIEjQAwAAQJCgBwAAgCBBDwAAAEGCHgAA\n",
       "AIIEPQAAAAQJegAAAAgS9AAAABAk6AEAACBI0AMAAECQoAcAAIAgQQ8AAABBgh4AAACCBD0AAAAE\n",
       "CXoAAAAIEvQAAAAQJOgBAAAgSNADAABAkKAHAACAIEEPAAAAQYIeAAAAggQ9AAAABAl6AAAACBL0\n",
       "AAAAEHTm4ODgxugRtK3rOnrCxrIsoydsnD17dvSEjRdffHH0hGMef/zx0RM29vf3R0/gFHa73egJ\n",
       "nNKZM2dGT9i4cWOuT6Gff/559ISNe+65Z/SEqT3//POjJ2x8+umnoydMb7Zvxdm+pTnZbM+PE3oA\n",
       "AAAIEvQAAAAQJOgBAAAgSNADAABAkKAHAACAIEEPAAAAQYIeAAAAggQ9AAAABAl6AAAACBL0AAAA\n",
       "ECToAQAAIEjQAwAAQJCgBwAAgCBBDwAAAEGCHgAAAIIEPQAAAAQJegAAAAgS9AAAABAk6AEAACBI\n",
       "0AMAAECQoAcAAIAgQQ8AAABBgh4AAACCBD0AAAAECXoAAAAIEvQAAAAQJOgBAAAgSNADAABAkKAH\n",
       "AACAIEEPAAAAQYIeAAAAggQ9AAAABAl6AAAACBL0AAAAECToAQAAIEjQAwAAQJCgBwAAgCBBDwAA\n",
       "AEGCHgAAAIIEPQAAAAQJegAAAAgS9AAAABAk6AEAACBI0AMAAECQoAcAAIAgQQ8AAABBgh4AAACC\n",
       "BD0AAAAE7Y0ewOmt6zp6wtRcn5O98MILoycc8+CDD46esHF4eDh6wsazzz47esLG7bffPnrCxmz3\n",
       "6+rVq6MnTO/o6Gj0hI033nhj9ISN3377bfSEjbfffnv0hKk98sgjoydsfPfdd6MnHOPbjFvJbM+z\n",
       "E3oAAAAIEvQAAAAQJOgBAAAgSNADAABAkKAHAACAIEEPAAAAQYIeAAAAggQ9AAAABAl6AAAACBL0\n",
       "AAAAECToAQAAIEjQAwAAQJCgBwAAgCBBDwAAAEGCHgAAAIIEPQAAAAQJegAAAAgS9AAAABAk6AEA\n",
       "ACBI0AMAAECQoAcAAIAgQQ8AAABBgh4AAACCBD0AAAAECXoAAAAIEvQAAAAQJOgBAAAgSNADAABA\n",
       "kKAHAACAIEEPAAAAQYIeAAAAggQ9AAAABAl6AAAACBL0AAAAECToAQAAIEjQAwAAQJCgBwAAgCBB\n",
       "DwAAAEGCHgAAAIIEPQAAAAQJegAAAAgS9AAAABAk6AEAACBI0AMAAECQoAcAAIAgQQ8AAABBgh4A\n",
       "AACC9kYPKFjXdfQEuGmWZRk94Zhr166NnrAx254rV66MnkDYjL9hM76HZnLvvfeOnrCxv78/egLc\n",
       "0rwT+Suc0AMAAECQoAcAAIAgQQ8AAABBgh4AAACCBD0AAAAECXoAAAAIEvQAAAAQJOgBAAAgSNAD\n",
       "AABAkKAHAACAIEEPAAAAQYIeAAAAggQ9AAAABAl6AAAACBL0AAAAECToAQAAIEjQAwAAQJCgBwAA\n",
       "gCBBDwAAAEGCHgAAAIIEPQAAAAQJegAAAAgS9AAAABAk6AEAACBI0AMAAECQoAcAAIAgQQ8AAABB\n",
       "gh4AAACCBD0AAAAECXoAAAAIEvQAAAAQJOgBAAAgSNADAABAkKAHAACAIEEPAAAAQYIeAAAAggQ9\n",
       "AAAABAl6AAAACBL0AAAAECToAQAAIEjQAwAAQJCgBwAAgCBBDwAAAEGCHgAAAIIEPQAAAAQJegAA\n",
       "AAgS9AAAABAk6AEAACBob/SAgmVZRk/YWNd19ISpzXa/6JntGfI3f7LZ7tdsZrw+sz3TM16jmex2\n",
       "u9ETNvb390dPAJiGE3oAAAAIEvQAAAAQJOgBAAAgSNAD/27PXm6iO6IwispS51A9Y0IC5J8FRMCM\n",
       "ygHJHt+Bf2SBdWo3a0Xw6T61VQAAQJCgBwAAgCBBDwAAAEGCHgAAAIIEPQAAAAQJegAAAAgS9AAA\n",
       "ABAk6AEAACBI0AMAAECQoAcAAIAgQQ8AAABBgh4AAACCBD0AAAAECXoAAAAIEvQAAAAQJOgBAAAg\n",
       "SNADAABAkKAHAACAIEEPAAAAQYIeAAAAggQ9AAAABAl6AAAACBL0AAAAECToAQAAIEjQAwAAQJCg\n",
       "BwAAgCBBDwAAAEGCHgAAAIIEPQAAAAQJegAAAAgS9AAAABAk6AEAACBI0AMAAECQoAcAAIAgQQ8A\n",
       "AABBgh4AAACCBD0AAAAECXoAAAAIEvQAAAAQJOgBAAAgSNADAABAkKAHAACAIEEPAAAAQYIeAAAA\n",
       "ggQ9AAAABN2mBxTsvacnwENba01PONpp18c38c9Ouz6nPT987e3tbXrCxf1+n55w8fHxMT3h4rT7\n",
       "BfwuTugBAAAgSNADAABAkKAHAACAIEEPAAAAQYIeAAAAggQ9AAAABAl6AAAACBL0AAAAECToAQAA\n",
       "IEjQAwAAQJCgBwAAgCBBDwAAAEGCHgAAAIIEPQAAAAQJegAAAAgS9AAAABAk6AEAACBI0AMAAECQ\n",
       "oAcAAIAgQQ8AAABBgh4AAACCBD0AAAAECXoAAAAIEvQAAAAQJOgBAAAgSNADAABAkKAHAACAIEEP\n",
       "AAAAQYIeAAAAggQ9AAAABAl6AAAACBL0AAAAECToAQAAIEjQAwAAQJCgBwAAgCBBDwAAAEGCHgAA\n",
       "AIIEPQAAAAQJegAAAAgS9AAAABAk6AEAACBI0AMAAECQoAcAAIAgQQ8AAABBgh4AAACCBD0AAAAE\n",
       "CXoAAAAIuk0PKFhrTU842t57esLFaXtO43nm0Zz2zp/2jp12ffjay8vL9ATCvPPwuzihBwAAgCBB\n",
       "DwAAAEGCHgAAAIIEPQAAAAQJegAAAAgS9AAAABAk6AEAACBI0AMAAECQoAcAAIAgQQ8AAABBgh4A\n",
       "AACCBD0AAAAECXoAAAAIEvQAAAAQJOgBAAAgSNADAABAkKAHAACAIEEPAAAAQYIeAAAAggQ9AAAA\n",
       "BAl6AAAACBL0AAAAECToAQAAIEjQAwAAQASFI5oAAAbuSURBVJCgBwAAgCBBDwAAAEGCHgAAAIIE\n",
       "PQAAAAQJegAAAAgS9AAAABAk6AEAACBI0AMAAECQoAcAAIAgQQ8AAABBgh4AAACCBD0AAAAECXoA\n",
       "AAAIEvQAAAAQJOgBAAAgSNADAABAkKAHAACAIEEPAAAAQYIeAAAAggQ9AAAABAl6AAAACBL0AAAA\n",
       "ECToAQAAIEjQAwAAQNBt7z294XhrrekJ/AfuV89p3yHP0J+ddn1Oe37gu56enqYnwI867b8Bj8QJ\n",
       "PQAAAAQJegAAAAgS9AAAABAk6AEAACBI0AMAAECQoAcAAIAgQQ8AAABBgh4AAACCBD0AAAAECXoA\n",
       "AAAIEvQAAAAQJOgBAAAgSNADAABAkKAHAACAIEEPAAAAQYIeAAAAggQ9AAAABAl6AAAACBL0AAAA\n",
       "ECToAQAAIEjQAwAAQJCgBwAAgCBBDwAAAEGCHgAAAIIEPQAAAAQJegAAAAgS9AAAABAk6AEAACBI\n",
       "0AMAAECQoAcAAIAgQQ8AAABBgh4AAACCBD0AAAAECXoAAAAIEvQAAAAQJOgBAAAgSNADAABAkKAH\n",
       "AACAIEEPAAAAQYIeAAAAggQ9AAAABAl6AAAACBL0AAAAECToAQAAIEjQAwAAQJCgBwAAgCBBDwAA\n",
       "AEGCHgAAAIJua63pDcAv5zvEd3h++K699/SEi9fX1+kJF5+fn9MTLu73+/SEi/f39+kJF76JXzvt\n",
       "nXfP+A4n9AAAABAk6AEAACBI0AMAAECQoAcAAIAgQQ8AAABBgh4AAACCBD0AAAAECXoAAAAIEvQA\n",
       "AAAQJOgBAAAgSNADAABAkKAHAACAIEEPAAAAQYIeAAAAggQ9AAAABAl6AAAACBL0AAAAECToAQAA\n",
       "IEjQAwAAQJCgBwAAgCBBDwAAAEGCHgAAAIIEPQAAAAQJegAAAAgS9AAAABAk6AEAACBI0AMAAECQ\n",
       "oAcAAIAgQQ8AAABBgh4AAACCBD0AAAAECXoAAAAIEvQAAAAQJOgBAAAgSNADAABAkKAHAACAIEEP\n",
       "AAAAQYIeAAAAggQ9AAAABAl6AAAACBL0AAAAECToAQAAIEjQAwAAQJCgBwAAgCBBDwAAAEGCHgAA\n",
       "AIIEPQAAAAT99fz8/Pf0CADg/7H3np4AP2qtNT0B4BhO6AEAACBI0AMAAECQoAcAAIAgQQ8AAABB\n",
       "gh4AAACCBD0AAAAECXoAAAAIEvQAAAAQJOgBAAAgSNADAABAkKAHAACAIEEPAAAAQYIeAAAAggQ9\n",
       "AAAABAl6AAAACBL0AAAAECToAQAAIEjQAwAAQJCgBwAAgCBBDwAAAEGCHgAAAIIEPQAAAAQJegAA\n",
       "AAgS9AAAABAk6AEAACBI0AMAAECQoAcAAIAgQQ8AAABBgh4AAACCBD0AAAAECXoAAAAIEvQAAAAQ\n",
       "JOgBAAAgSNADAABAkKAHAACAIEEPAAAAQYIeAAAAggQ9AAAABAl6AAAACBL0AAAAECToAQAAIEjQ\n",
       "AwAAQJCgBwAAgCBBDwAAAEGCHgAAAIIEPQAAAAQJegAAAAgS9AAAABB0mx4AAI9k7z09AX7UWmt6\n",
       "AgD/wgk9AAAABAl6AAAACBL0AAAAECToAQAAIEjQAwAAQJCgBwAAgCBBDwAAAEGCHgAAAIIEPQAA\n",
       "AAQJegAAAAgS9AAAABAk6AEAACBI0AMAAECQoAcAAIAgQQ8AAABBgh4AAACCBD0AAAAECXoAAAAI\n",
       "EvQAAAAQJOgBAAAgSNADAABAkKAHAACAIEEPAAAAQYIeAAAAggQ9AAAABAl6AAAACBL0AAAAECTo\n",
       "AQAAIEjQAwAAQJCgBwAAgCBBDwAAAEGCHgAAAIIEPQAAAAQJegAAAAgS9AAAABAk6AEAACBI0AMA\n",
       "AECQoAcAAIAgQQ8AAABBgh4AAACCBD0AAAAECXoAAAAIEvQAAAAQJOgBAAAgSNADAABAkKAHAACA\n",
       "IEEPAAAAQYIeAAAAgm7TAwDgkay1picAwMPYe09PuDjtP++EHgAAAIIEPQAAAAQJegAAAAgS9AAA\n",
       "ABAk6AEAACBI0AMAAECQoAcAAIAgQQ8AAABBgh4AAACCBD0AAAAECXoAAAAIEvQAAAAQJOgBAAAg\n",
       "SNADAABAkKAHAACAIEEPAAAAQYIeAAAAggQ9AAAABAl6AAAACBL0AAAAECToAQAAIEjQAwAAQJCg\n",
       "BwAAgCBBDwAAAEGCHgAAAIIEPQAAAAQJegAAAAgS9AAAABAk6AEAACBI0AMAAECQoAcAAIAgQQ8A\n",
       "AABBgh4AAACCBD0AAAAECXoAAAAIEvQAAAAQJOgBAAAgSNADAABAkKAHAACAIEEPAAAAQYIeAAAA\n",
       "ggQ9AAAABAl6AAAACBL0AAAAECToAQAAIEjQAwAAQJCgBwAAgKB/AKj7oDbEUzrhAAAAAElFTkSu\n",
       "QmCC\n",
       "\" transform=\"translate(141, 123)\"/>\n",
       "</g>\n",
       "<path clip-path=\"url(#clip620)\" d=\"M1340.7 1486.45 L2352.76 1486.45 L2352.76 123.472 L1340.7 123.472  Z\" fill=\"#ffffff\" fill-rule=\"evenodd\" fill-opacity=\"1\"/>\n",
       "<defs>\n",
       "  <clipPath id=\"clip623\">\n",
       "    <rect x=\"1340\" y=\"123\" width=\"1013\" height=\"1364\"/>\n",
       "  </clipPath>\n",
       "</defs>\n",
       "<polyline clip-path=\"url(#clip623)\" style=\"stroke:#000000; stroke-linecap:round; stroke-linejoin:round; stroke-width:2; stroke-opacity:0.1; fill:none\" points=\"1503.35,1486.45 1503.35,123.472 \"/>\n",
       "<polyline clip-path=\"url(#clip623)\" style=\"stroke:#000000; stroke-linecap:round; stroke-linejoin:round; stroke-width:2; stroke-opacity:0.1; fill:none\" points=\"1684.07,1486.45 1684.07,123.472 \"/>\n",
       "<polyline clip-path=\"url(#clip623)\" style=\"stroke:#000000; stroke-linecap:round; stroke-linejoin:round; stroke-width:2; stroke-opacity:0.1; fill:none\" points=\"1864.8,1486.45 1864.8,123.472 \"/>\n",
       "<polyline clip-path=\"url(#clip623)\" style=\"stroke:#000000; stroke-linecap:round; stroke-linejoin:round; stroke-width:2; stroke-opacity:0.1; fill:none\" points=\"2045.52,1486.45 2045.52,123.472 \"/>\n",
       "<polyline clip-path=\"url(#clip623)\" style=\"stroke:#000000; stroke-linecap:round; stroke-linejoin:round; stroke-width:2; stroke-opacity:0.1; fill:none\" points=\"2226.25,1486.45 2226.25,123.472 \"/>\n",
       "<polyline clip-path=\"url(#clip623)\" style=\"stroke:#000000; stroke-linecap:round; stroke-linejoin:round; stroke-width:2; stroke-opacity:0.1; fill:none\" points=\"1340.7,1267.4 2352.76,1267.4 \"/>\n",
       "<polyline clip-path=\"url(#clip623)\" style=\"stroke:#000000; stroke-linecap:round; stroke-linejoin:round; stroke-width:2; stroke-opacity:0.1; fill:none\" points=\"1340.7,1024.01 2352.76,1024.01 \"/>\n",
       "<polyline clip-path=\"url(#clip623)\" style=\"stroke:#000000; stroke-linecap:round; stroke-linejoin:round; stroke-width:2; stroke-opacity:0.1; fill:none\" points=\"1340.7,780.621 2352.76,780.621 \"/>\n",
       "<polyline clip-path=\"url(#clip623)\" style=\"stroke:#000000; stroke-linecap:round; stroke-linejoin:round; stroke-width:2; stroke-opacity:0.1; fill:none\" points=\"1340.7,537.233 2352.76,537.233 \"/>\n",
       "<polyline clip-path=\"url(#clip623)\" style=\"stroke:#000000; stroke-linecap:round; stroke-linejoin:round; stroke-width:2; stroke-opacity:0.1; fill:none\" points=\"1340.7,293.844 2352.76,293.844 \"/>\n",
       "<path clip-path=\"url(#clip620)\" d=\"M1434.67 16.7545 L1434.67 25.383 Q1430.54 21.5346 1425.84 19.6307 Q1421.18 17.7268 1415.91 17.7268 Q1405.54 17.7268 1400.03 24.0867 Q1394.52 30.4061 1394.52 42.3968 Q1394.52 54.3469 1400.03 60.7069 Q1405.54 67.0263 1415.91 67.0263 Q1421.18 67.0263 1425.84 65.1223 Q1430.54 63.2184 1434.67 59.3701 L1434.67 67.9175 Q1430.37 70.8341 1425.55 72.2924 Q1420.77 73.7508 1415.43 73.7508 Q1401.69 73.7508 1393.79 65.3654 Q1385.89 56.9395 1385.89 42.3968 Q1385.89 27.8135 1393.79 19.4281 Q1401.69 11.0023 1415.43 11.0023 Q1420.85 11.0023 1425.63 12.4606 Q1430.45 13.8784 1434.67 16.7545 Z\" fill=\"#000000\" fill-rule=\"nonzero\" fill-opacity=\"1\" /><path clip-path=\"url(#clip620)\" d=\"M1446.98 9.54393 L1454.44 9.54393 L1454.44 72.576 L1446.98 72.576 L1446.98 9.54393 Z\" fill=\"#000000\" fill-rule=\"nonzero\" fill-opacity=\"1\" /><path clip-path=\"url(#clip620)\" d=\"M1508.84 48.0275 L1508.84 51.6733 L1474.57 51.6733 Q1475.06 59.3701 1479.19 63.421 Q1483.36 67.4314 1490.77 67.4314 Q1495.07 67.4314 1499.08 66.3781 Q1503.13 65.3249 1507.1 63.2184 L1507.1 70.267 Q1503.09 71.9684 1498.87 72.8596 Q1494.66 73.7508 1490.33 73.7508 Q1479.47 73.7508 1473.11 67.4314 Q1466.79 61.1119 1466.79 50.3365 Q1466.79 39.1965 1472.79 32.6746 Q1478.82 26.1121 1489.03 26.1121 Q1498.19 26.1121 1503.49 32.0264 Q1508.84 37.9003 1508.84 48.0275 M1501.39 45.84 Q1501.31 39.7232 1497.94 36.0774 Q1494.62 32.4315 1489.11 32.4315 Q1482.87 32.4315 1479.11 35.9558 Q1475.38 39.4801 1474.81 45.8805 L1501.39 45.84 Z\" fill=\"#000000\" fill-rule=\"nonzero\" fill-opacity=\"1\" /><path clip-path=\"url(#clip620)\" d=\"M1541.69 49.7694 Q1532.66 49.7694 1529.18 51.8354 Q1525.69 53.9013 1525.69 58.8839 Q1525.69 62.8538 1528.28 65.2034 Q1530.92 67.5124 1535.41 67.5124 Q1541.61 67.5124 1545.34 63.1374 Q1549.11 58.7219 1549.11 51.4303 L1549.11 49.7694 L1541.69 49.7694 M1556.56 46.6907 L1556.56 72.576 L1549.11 72.576 L1549.11 65.6895 Q1546.55 69.8214 1542.75 71.8063 Q1538.94 73.7508 1533.43 73.7508 Q1526.46 73.7508 1522.33 69.8619 Q1518.24 65.9325 1518.24 59.3701 Q1518.24 51.7138 1523.34 47.825 Q1528.49 43.9361 1538.65 43.9361 L1549.11 43.9361 L1549.11 43.2069 Q1549.11 38.0623 1545.7 35.2672 Q1542.34 32.4315 1536.22 32.4315 Q1532.34 32.4315 1528.65 33.3632 Q1524.96 34.295 1521.56 36.1584 L1521.56 29.2718 Q1525.65 27.692 1529.5 26.9223 Q1533.35 26.1121 1536.99 26.1121 Q1546.84 26.1121 1551.7 31.2163 Q1556.56 36.3204 1556.56 46.6907 Z\" fill=\"#000000\" fill-rule=\"nonzero\" fill-opacity=\"1\" /><path clip-path=\"url(#clip620)\" d=\"M1609.63 45.1919 L1609.63 72.576 L1602.17 72.576 L1602.17 45.4349 Q1602.17 38.994 1599.66 35.7938 Q1597.15 32.5936 1592.13 32.5936 Q1586.09 32.5936 1582.61 36.4419 Q1579.12 40.2903 1579.12 46.9338 L1579.12 72.576 L1571.63 72.576 L1571.63 27.2059 L1579.12 27.2059 L1579.12 34.2544 Q1581.8 30.163 1585.4 28.1376 Q1589.05 26.1121 1593.79 26.1121 Q1601.61 26.1121 1605.62 30.9732 Q1609.63 35.7938 1609.63 45.1919 Z\" fill=\"#000000\" fill-rule=\"nonzero\" fill-opacity=\"1\" /><path clip-path=\"url(#clip620)\" d=\"M1689.67 48.0275 L1689.67 51.6733 L1655.4 51.6733 Q1655.89 59.3701 1660.02 63.421 Q1664.19 67.4314 1671.61 67.4314 Q1675.9 67.4314 1679.91 66.3781 Q1683.96 65.3249 1687.93 63.2184 L1687.93 70.267 Q1683.92 71.9684 1679.71 72.8596 Q1675.49 73.7508 1671.16 73.7508 Q1660.3 73.7508 1653.94 67.4314 Q1647.62 61.1119 1647.62 50.3365 Q1647.62 39.1965 1653.62 32.6746 Q1659.65 26.1121 1669.86 26.1121 Q1679.02 26.1121 1684.32 32.0264 Q1689.67 37.9003 1689.67 48.0275 M1682.22 45.84 Q1682.14 39.7232 1678.78 36.0774 Q1675.45 32.4315 1669.94 32.4315 Q1663.71 32.4315 1659.94 35.9558 Q1656.21 39.4801 1655.64 45.8805 L1682.22 45.84 Z\" fill=\"#000000\" fill-rule=\"nonzero\" fill-opacity=\"1\" /><path clip-path=\"url(#clip620)\" d=\"M1738.16 27.2059 L1721.76 49.2833 L1739.01 72.576 L1730.22 72.576 L1717.02 54.752 L1703.81 72.576 L1695.02 72.576 L1712.64 48.8377 L1696.52 27.2059 L1705.31 27.2059 L1717.34 43.369 L1729.37 27.2059 L1738.16 27.2059 Z\" fill=\"#000000\" fill-rule=\"nonzero\" fill-opacity=\"1\" /><path clip-path=\"url(#clip620)\" d=\"M1770.16 49.7694 Q1761.13 49.7694 1757.65 51.8354 Q1754.16 53.9013 1754.16 58.8839 Q1754.16 62.8538 1756.76 65.2034 Q1759.39 67.5124 1763.88 67.5124 Q1770.08 67.5124 1773.81 63.1374 Q1777.58 58.7219 1777.58 51.4303 L1777.58 49.7694 L1770.16 49.7694 M1785.03 46.6907 L1785.03 72.576 L1777.58 72.576 L1777.58 65.6895 Q1775.02 69.8214 1771.22 71.8063 Q1767.41 73.7508 1761.9 73.7508 Q1754.93 73.7508 1750.8 69.8619 Q1746.71 65.9325 1746.71 59.3701 Q1746.71 51.7138 1751.81 47.825 Q1756.96 43.9361 1767.13 43.9361 L1777.58 43.9361 L1777.58 43.2069 Q1777.58 38.0623 1774.17 35.2672 Q1770.81 32.4315 1764.69 32.4315 Q1760.81 32.4315 1757.12 33.3632 Q1753.43 34.295 1750.03 36.1584 L1750.03 29.2718 Q1754.12 27.692 1757.97 26.9223 Q1761.82 26.1121 1765.46 26.1121 Q1775.31 26.1121 1780.17 31.2163 Q1785.03 36.3204 1785.03 46.6907 Z\" fill=\"#000000\" fill-rule=\"nonzero\" fill-opacity=\"1\" /><path clip-path=\"url(#clip620)\" d=\"M1835.71 35.9153 Q1838.5 30.8922 1842.39 28.5022 Q1846.28 26.1121 1851.55 26.1121 Q1858.64 26.1121 1862.48 31.0947 Q1866.33 36.0368 1866.33 45.1919 L1866.33 72.576 L1858.84 72.576 L1858.84 45.4349 Q1858.84 38.913 1856.53 35.7533 Q1854.22 32.5936 1849.48 32.5936 Q1843.69 32.5936 1840.33 36.4419 Q1836.96 40.2903 1836.96 46.9338 L1836.96 72.576 L1829.47 72.576 L1829.47 45.4349 Q1829.47 38.8725 1827.16 35.7533 Q1824.85 32.5936 1820.03 32.5936 Q1814.32 32.5936 1810.96 36.4824 Q1807.59 40.3308 1807.59 46.9338 L1807.59 72.576 L1800.1 72.576 L1800.1 27.2059 L1807.59 27.2059 L1807.59 34.2544 Q1810.15 30.082 1813.71 28.0971 Q1817.28 26.1121 1822.18 26.1121 Q1827.12 26.1121 1830.56 28.6237 Q1834.05 31.1352 1835.71 35.9153 Z\" fill=\"#000000\" fill-rule=\"nonzero\" fill-opacity=\"1\" /><path clip-path=\"url(#clip620)\" d=\"M1888.41 65.7705 L1888.41 89.8329 L1880.92 89.8329 L1880.92 27.2059 L1888.41 27.2059 L1888.41 34.0924 Q1890.76 30.0415 1894.32 28.0971 Q1897.93 26.1121 1902.91 26.1121 Q1911.18 26.1121 1916.32 32.6746 Q1921.51 39.2371 1921.51 49.9314 Q1921.51 60.6258 1916.32 67.1883 Q1911.18 73.7508 1902.91 73.7508 Q1897.93 73.7508 1894.32 71.8063 Q1890.76 69.8214 1888.41 65.7705 M1913.77 49.9314 Q1913.77 41.7081 1910.37 37.0496 Q1907 32.3505 1901.09 32.3505 Q1895.17 32.3505 1891.77 37.0496 Q1888.41 41.7081 1888.41 49.9314 Q1888.41 58.1548 1891.77 62.8538 Q1895.17 67.5124 1901.09 67.5124 Q1907 67.5124 1910.37 62.8538 Q1913.77 58.1548 1913.77 49.9314 Z\" fill=\"#000000\" fill-rule=\"nonzero\" fill-opacity=\"1\" /><path clip-path=\"url(#clip620)\" d=\"M1933.86 9.54393 L1941.31 9.54393 L1941.31 72.576 L1933.86 72.576 L1933.86 9.54393 Z\" fill=\"#000000\" fill-rule=\"nonzero\" fill-opacity=\"1\" /><path clip-path=\"url(#clip620)\" d=\"M1995.72 48.0275 L1995.72 51.6733 L1961.45 51.6733 Q1961.93 59.3701 1966.07 63.421 Q1970.24 67.4314 1977.65 67.4314 Q1981.94 67.4314 1985.96 66.3781 Q1990.01 65.3249 1993.98 63.2184 L1993.98 70.267 Q1989.97 71.9684 1985.75 72.8596 Q1981.54 73.7508 1977.21 73.7508 Q1966.35 73.7508 1959.99 67.4314 Q1953.67 61.1119 1953.67 50.3365 Q1953.67 39.1965 1959.66 32.6746 Q1965.7 26.1121 1975.91 26.1121 Q1985.06 26.1121 1990.37 32.0264 Q1995.72 37.9003 1995.72 48.0275 M1988.26 45.84 Q1988.18 39.7232 1984.82 36.0774 Q1981.5 32.4315 1975.99 32.4315 Q1969.75 32.4315 1965.98 35.9558 Q1962.26 39.4801 1961.69 45.8805 L1988.26 45.84 Z\" fill=\"#000000\" fill-rule=\"nonzero\" fill-opacity=\"1\" /><path clip-path=\"url(#clip620)\" d=\"M2009.86 62.2867 L2018.4 62.2867 L2018.4 72.576 L2009.86 72.576 L2009.86 62.2867 M2009.86 29.6769 L2018.4 29.6769 L2018.4 39.9662 L2009.86 39.9662 L2009.86 29.6769 Z\" fill=\"#000000\" fill-rule=\"nonzero\" fill-opacity=\"1\" /><path clip-path=\"url(#clip620)\" d=\"M2085.81 19.2256 L2065.15 51.5113 L2085.81 51.5113 L2085.81 19.2256 M2083.66 12.096 L2093.95 12.096 L2093.95 51.5113 L2102.58 51.5113 L2102.58 58.3168 L2093.95 58.3168 L2093.95 72.576 L2085.81 72.576 L2085.81 58.3168 L2058.51 58.3168 L2058.51 50.4176 L2083.66 12.096 Z\" fill=\"#000000\" fill-rule=\"nonzero\" fill-opacity=\"1\" /><path clip-path=\"url(#clip620)\" d=\"M2137.66 46.5287 L2159.5 46.5287 L2159.5 53.1722 L2137.66 53.1722 L2137.66 46.5287 Z\" fill=\"#000000\" fill-rule=\"nonzero\" fill-opacity=\"1\" /><path clip-path=\"url(#clip620)\" d=\"M2172.34 31.7429 L2172.34 24.3702 L2224.27 43.2069 L2224.27 49.9314 L2172.34 68.7682 L2172.34 61.3955 L2214.06 46.6097 L2172.34 31.7429 Z\" fill=\"#000000\" fill-rule=\"nonzero\" fill-opacity=\"1\" /><path clip-path=\"url(#clip620)\" d=\"M2290.79 19.2256 L2270.13 51.5113 L2290.79 51.5113 L2290.79 19.2256 M2288.64 12.096 L2298.93 12.096 L2298.93 51.5113 L2307.56 51.5113 L2307.56 58.3168 L2298.93 58.3168 L2298.93 72.576 L2290.79 72.576 L2290.79 58.3168 L2263.48 58.3168 L2263.48 50.4176 L2288.64 12.096 Z\" fill=\"#000000\" fill-rule=\"nonzero\" fill-opacity=\"1\" /><g clip-path=\"url(#clip623)\">\n",
       "<image width=\"1012\" height=\"1363\" xlink:href=\"data:image/png;base64,\n",
       "iVBORw0KGgoAAAANSUhEUgAAA/QAAAVTCAYAAABj7GMOAAAgAElEQVR4nOzZO4se5BpG4T2bD1OE\n",
       "gTDgCVEsRBGJJzSi1YC9pZaCoFgoURBs7PwNWijYRasUgmglapoEQRuboFjETkTSaDEicdcvQ9gE\n",
       "wjzfGq/rF9zt4t7Z3d395z8AAABAyn+nBwAAAAA3TtADAABAkKAHAACAIEEPAAAAQYIeAAAAggQ9\n",
       "AAAABAl6AAAACBL0AAAAECToAQAAIEjQAwAAQJCgBwAAgCBBDwAAAEGCHgAAAIIEPQAAAAQJegAA\n",
       "AAgS9AAAABAk6AEAACBI0AMAAECQoAcAAIAgQQ8AAABBgh4AAACCBD0AAAAECXoAAAAIEvQAAAAQ\n",
       "JOgBAAAgSNADAABAkKAHAACAIEEPAAAAQYIeAAAAggQ9AAAABAl6AAAACBL0AAAAECToAQAAIEjQ\n",
       "AwAAQJCgBwAAgCBBDwAAAEGCHgAAAIIEPQAAAAQJegAAAAgS9AAAABAk6AEAACBI0AMAAECQoAcA\n",
       "AIAgQQ8AAABBgh4AAACCBD0AAAAECXoAAAAIEvQAAAAQJOgBAAAgSNADAABAkKAHAACAIEEPAAAA\n",
       "QYIeAAAAggQ9AAAABAl6AAAACBL0AAAAECToAQAAIEjQAwAAQJCgBwAAgCBBDwAAAEGCHgAAAIIE\n",
       "PQAAAAQJegAAAAgS9AAAABAk6AEAACBI0AMAAECQoAcAAIAgQQ8AAABBgh4AAACCBD0AAAAECXoA\n",
       "AAAIEvQAAAAQJOgBAAAgSNADAABAkKAHAACAIEEPAAAAQYIeAAAAggQ9AAAABAl6AAAACBL0AAAA\n",
       "ECToAQAAIEjQAwAAQJCgBwAAgCBBDwAAAEGCHgAAAIIEPQAAAAQJegAAAAgS9AAAABAk6AEAACBI\n",
       "0AMAAECQoAcAAIAgQQ8AAABBgh4AAACCBD0AAAAECXoAAAAIEvQAAAAQJOgBAAAgSNADAABAkKAH\n",
       "AACAIEEPAAAAQYIeAAAAggQ9AAAABAl6AAAACBL0AAAAECToAQAAIEjQAwAAQJCgBwAAgCBBDwAA\n",
       "AEGCHgAAAIIEPQAAAAQJegAAAAgS9AAAABAk6AEAACBI0AMAAECQoAcAAIAgQQ8AAABBgh4AAACC\n",
       "BD0AAAAECXoAAAAIEvQAAAAQJOgBAAAgSNADAABAkKAHAACAIEEPAAAAQYIeAAAAggQ9AAAABAl6\n",
       "AAAACBL0AAAAECToAQAAIEjQAwAAQJCgBwAAgCBBDwAAAEGCHgAAAIIEPQAAAAQJegAAAAgS9AAA\n",
       "ABAk6AEAACBI0AMAAECQoAcAAIAgQQ8AAABBgh4AAACCBD0AAAAECXoAAAAIEvQAAAAQJOgBAAAg\n",
       "SNADAABAkKAHAACAIEEPAAAAQYIeAAAAggQ9AAAABAl6AAAACBL0AAAAECToAQAAIEjQAwAAQJCg\n",
       "BwAAgCBBDwAAAEGCHgAAAIIEPQAAAAQJegAAAAgS9AAAABAk6AEAACBI0AMAAECQoAcAAIAgQQ8A\n",
       "AABBgh4AAACCBD0AAAAECXoAAAAIEvQAAAAQJOgBAAAgSNADAABAkKAHAACAIEEPAAAAQYIeAAAA\n",
       "ggQ9AAAABAl6AAAACBL0AAAAECToAQAAIEjQAwAAQJCgBwAAgCBBDwAAAEGCHgAAAIIEPQAAAAQJ\n",
       "egAAAAgS9AAAABAk6AEAACBI0AMAAECQoAcAAIAgQQ8AAABBgh4AAACCBD0AAAAECXoAAAAIEvQA\n",
       "AAAQJOgBAAAgSNADAABAkKAHAACAIEEPAAAAQYIeAAAAggQ9AAAABAl6AAAACBL0AAAAECToAQAA\n",
       "IEjQAwAAQJCgBwAAgCBBDwAAAEGCHgAAAIIEPQAAAAQJegAAAAgS9AAAABAk6AEAACBI0AMAAECQ\n",
       "oAcAAIAgQQ8AAABBgh4AAACCBD0AAAAECXoAAAAIEvQAAAAQJOgBAAAgSNADAABAkKAHAACAIEEP\n",
       "AAAAQYIeAAAAggQ9AAAABAl6AAAACBL0AAAAECToAQAAIEjQAwAAQJCgBwAAgCBBDwAAAEGCHgAA\n",
       "AIIEPQAAAAQJegAAAAgS9AAAABAk6AEAACBI0AMAAECQoAcAAIAgQQ8AAABBgh4AAACCBD0AAAAE\n",
       "CXoAAAAIEvQAAAAQJOgBAAAgSNADAABAkKAHAACAoM30AIDbbrttesLi+eefn56wOHfu3PSExdWr\n",
       "V6cnAGyNM2fOTE9YvPPOO9MTtt5zzz03PQFuGg89AAAABAl6AAAACBL0AAAAECToAQAAIEjQAwAA\n",
       "QJCgBwAAgCBBDwAAAEGCHgAAAIIEPQAAAAQJegAAAAgS9AAAABAk6AEAACBI0AMAAECQoAcAAIAg\n",
       "QQ8AAABBgh4AAACCBD0AAAAECXoAAAAIEvQAAAAQJOgBAAAgSNADAABAkKAHAACAIEEPAAAAQYIe\n",
       "AAAAggQ9AAAABAl6AAAACBL0AAAAECToAQAAIEjQAwAAQJCgBwAAgCBBDwAAAEGCHgAAAIIEPQAA\n",
       "AAQJegAAAAgS9AAAABAk6AEAACBI0AMAAECQoAcAAIAgQQ8AAABBgh4AAACCBD0AAAAECXoAAAAI\n",
       "EvQAAAAQJOgBAAAgSNADAABAkKAHAACAIEEPAAAAQYIeAAAAgjbTAwBefPHF6QmLs2fPTk9YHBwc\n",
       "TE9YfPjhh9MTALbGyy+/PD1h8fjjj09POOS7776bngDHloceAAAAggQ9AAAABAl6AAAACBL0AAAA\n",
       "ECToAQAAIEjQAwAAQJCgBwAAgCBBDwAAAEGCHgAAAIIEPQAAAAQJegAAAAgS9AAAABAk6AEAACBI\n",
       "0AMAAECQoAcAAIAgQQ8AAABBgh4AAACCBD0AAAAECXoAAAAIEvQAAAAQJOgBAAAgSNADAABAkKAH\n",
       "AACAIEEPAAAAQYIeAAAAggQ9AAAABAl6AAAACBL0AAAAECToAQAAIEjQAwAAQJCgBwAAgCBBDwAA\n",
       "AEGCHgAAAIIEPQAAAAQJegAAAAgS9AAAABAk6AEAACBI0AMAAECQoAcAAIAgQQ8AAABBgh4AAACC\n",
       "BD0AAAAECXoAAAAIEvQAAAAQJOgBAAAgSNADAABAkKAHAACAoM30AIAnnnhiesJiZ2dnesLixIkT\n",
       "0xMAtsbJkyenJywefPDB6Qlb7+OPP56eAMeWhx4AAACCBD0AAAAECXoAAAAIEvQAAAAQJOgBAAAg\n",
       "SNADAABAkKAHAACAIEEPAAAAQYIeAAAAggQ9AAAABAl6AAAACBL0AAAAECToAQAAIEjQAwAAQJCg\n",
       "BwAAgCBBDwAAAEGCHgAAAIIEPQAAAAQJegAAAAgS9AAAABAk6AEAACBI0AMAAECQoAcAAIAgQQ8A\n",
       "AABBgh4AAACCBD0AAAAECXoAAAAIEvQAAAAQJOgBAAAgSNADAABAkKAHAACAIEEPAAAAQYIeAAAA\n",
       "ggQ9AAAABAl6AAAACBL0AAAAECToAQAAIEjQAwAAQJCgBwAAgCBBDwAAAEGCHgAAAIIEPQAAAAQJ\n",
       "egAAAAgS9AAAABAk6AEAACBI0AMAAECQoAcAAIAgQQ8AAABBm+kBwNG68847pycc8uijj05PWPz2\n",
       "22/TExaffPLJ9ASArfHAAw9MT1jce++90xMW165dm55wyJUrV6YnwLHloQcAAIAgQQ8AAABBgh4A\n",
       "AACCBD0AAAAECXoAAAAIEvQAAAAQJOgBAAAgSNADAABAkKAHAACAIEEPAAAAQYIeAAAAggQ9AAAA\n",
       "BAl6AAAACBL0AAAAECToAQAAIEjQAwAAQJCgBwAAgCBBDwAAAEGCHgAAAIIEPQAAAAQJegAAAAgS\n",
       "9AAAABAk6AEAACBI0AMAAECQoAcAAIAgQQ8AAABBgh4AAACCBD0AAAAECXoAAAAIEvQAAAAQJOgB\n",
       "AAAgSNADAABAkKAHAACAIEEPAAAAQYIeAAAAggQ9AAAABAl6AAAACBL0AAAAECToAQAAIEjQAwAA\n",
       "QJCgBwAAgCBBDwAAAEGCHgAAAIIEPQAAAAQJegAAAAgS9AAAABAk6AEAACBI0AMAAEDQZnoAcLRe\n",
       "euml6QmHnDx5cnrC4oMPPpiesPj999+nJwBsjffee296wla7evXq9IRDLl26ND0Bji0PPQAAAAQJ\n",
       "egAAAAgS9AAAABAk6AEAACBI0AMAAECQoAcAAIAgQQ8AAABBgh4AAACCBD0AAAAECXoAAAAIEvQA\n",
       "AAAQJOgBAAAgSNADAABAkKAHAACAIEEPAAAAQYIeAAAAggQ9AAAABAl6AAAACBL0AAAAECToAQAA\n",
       "IEjQAwAAQJCgBwAAgCBBDwAAAEGCHgAAAIIEPQAAAAQJegAAAAgS9AAAABAk6AEAACBI0AMAAECQ\n",
       "oAcAAIAgQQ8AAABBgh4AAACCBD0AAAAECXoAAAAIEvQAAAAQJOgBAAAgSNADAABAkKAHAACAIEEP\n",
       "AAAAQYIeAAAAggQ9AAAABAl6AAAACBL0AAAAECToAQAAIEjQAwAAQJCgBwAAgCBBDwAAAEGb6QFw\n",
       "3N1+++3TExYvvPDC9IRD/vrrr+kJi6+++mp6AgDXceLEiekJW+38+fPTE4Aj5KEHAACAIEEPAAAA\n",
       "QYIeAAAAggQ9AAAABAl6AAAACBL0AAAAECToAQAAIEjQAwAAQJCgBwAAgCBBDwAAAEGCHgAAAIIE\n",
       "PQAAAAQJegAAAAgS9AAAABAk6AEAACBI0AMAAECQoAcAAIAgQQ8AAABBgh4AAACCBD0AAAAECXoA\n",
       "AAAIEvQAAAAQJOgBAAAgSNADAABAkKAHAACAIEEPAAAAQYIeAAAAggQ9AAAABAl6AAAACBL0AAAA\n",
       "ECToAQAAIEjQAwAAQJCgBwAAgCBBDwAAAEGCHgAAAIIEPQAAAAQJegAAAAgS9AAAABAk6AEAACBI\n",
       "0AMAAECQoAcAAIAgQQ8AAABBgh4AAACCBD0AAAAECXoAAAAIEvQAAAAQJOgBAAAgSNADAABA0GZ6\n",
       "ABx3Z86cmZ6w2Nvbm55wyBdffDE9YfH9999PTwAAgP/LQw8AAABBgh4AAACCBD0AAAAECXoAAAAI\n",
       "EvQAAAAQJOgBAAAgSNADAABAkKAHAACAIEEPAAAAQYIeAAAAggQ9AAAABAl6AAAACBL0AAAAECTo\n",
       "AQAAIEjQAwAAQJCgBwAAgCBBDwAAAEGCHgAAAIIEPQAAAAQJegAAAAgS9AAAABAk6AEAACBI0AMA\n",
       "AECQoAcAAIAgQQ8AAABBgh4AAACCBD0AAAAECXoAAAAIEvQAAAAQJOgBAAAgSNADAABAkKAHAACA\n",
       "IEEPAAAAQYIeAAAAggQ9AAAABAl6AAAACBL0AAAAECToAQAAIEjQAwAAQJCgBwAAgCBBDwAAAEGC\n",
       "HgAAAIIEPQAAAAQJegAAAAgS9AAAABAk6AEAACBI0AMAAECQoAcAAICgzfQAuNluvfXW6QmLN998\n",
       "c3rC1nv77benJwBwHXt7e9MTFrfccsv0BICt4aEHAACAIEEPAAAAQYIeAAAAggQ9AAAABAl6AAAA\n",
       "CBL0AAAAECToAQAAIEjQAwAAQJCgBwAAgCBBDwAAAEGCHgAAAIIEPQAAAAQJegAAAAgS9AAAABAk\n",
       "6AEAACBI0AMAAECQoAcAAIAgQQ8AAABBgh4AAACCBD0AAAAECXoAAAAIEvQAAAAQJOgBAAAgSNAD\n",
       "AABAkKAHAACAIEEPAAAAQYIeAAAAggQ9AAAABAl6AAAACBL0AAAAECToAQAAIEjQAwAAQJCgBwAA\n",
       "gCBBDwAAAEGCHgAAAIIEPQAAAAQJegAAAAgS9AAAABAk6AEAACBI0AMAAECQoAcAAIAgQQ8AAABB\n",
       "gh4AAACCBD0AAAAECXoAAAAIEvQAAAAQJOgBAAAgaDM9AG62/f396QmL+++/f3rC4pdffpmecMjB\n",
       "wcH0BACu46mnnpqesDh16tT0hK12+fLl6QnAEfLQAwAAQJCgBwAAgCBBDwAAAEGCHgAAAIIEPQAA\n",
       "AAQJegAAAAgS9AAAABAk6AEAACBI0AMAAECQoAcAAIAgQQ8AAABBgh4AAACCBD0AAAAECXoAAAAI\n",
       "EvQAAAAQJOgBAAAgSNADAABAkKAHAACAIEEPAAAAQYIeAAAAggQ9AAAABAl6AAAACBL0AAAAECTo\n",
       "AQAAIEjQAwAAQJCgBwAAgCBBDwAAAEGCHgAAAIIEPQAAAAQJegAAAAgS9AAAABAk6AEAACBI0AMA\n",
       "AECQoAcAAIAgQQ8AAABBgh4AAACCBD0AAAAECXoAAAAIEvQAAAAQJOgBAAAgSNADAABAkKAHAACA\n",
       "IEEPAAAAQYIeAAAAggQ9AAAABAl6AAAACBL0AAAAECToAQAAIGgzPQButqeffnp6wla75557picc\n",
       "ctddd01PWPz444/TE4B/sb29vekJi3fffXd6Ajfg22+/nZ4AHCEPPQAAAAQJegAAAAgS9AAAABAk\n",
       "6AEAACBI0AMAAECQoAcAAIAgQQ8AAABBgh4AAACCBD0AAAAECXoAAAAIEvQAAAAQJOgBAAAgSNAD\n",
       "AABAkKAHAACAIEEPAAAAQYIeAAAAggQ9AAAABAl6AAAACBL0AAAAECToAQAAIEjQAwAAQJCgBwAA\n",
       "gCBBDwAAAEGCHgAAAIIEPQAAAAQJegAAAAgS9AAAABAk6AEAACBI0AMAAECQoAcAAIAgQQ8AAABB\n",
       "gh4AAACCBD0AAAAECXoAAAAIEvQAAAAQJOgBAAAgSNADAABAkKAHAACAIEEPAAAAQYIeAAAAggQ9\n",
       "AAAABAl6AAAACBL0AAAAECToAQAAIEjQAwAAQJCgBwAAgCBBDwAAAEGCHgAAAII20wPgZrvvvvum\n",
       "J3CDPvroo+kJi/fff396wuLTTz+dnrD4888/pyfAsfbII49MT1jccccd0xO22q+//jo9YfHHH39M\n",
       "TwCOkIceAAAAggQ9AAAABAl6AAAACBL0AAAAECToAQAAIEjQAwAAQJCgBwAAgCBBDwAAAEGCHgAA\n",
       "AIIEPQAAAAQJegAAAAgS9AAAABAk6AEAACBI0AMAAECQoAcAAIAgQQ8AAABBgh4AAACCBD0AAAAE\n",
       "CXoAAAAIEvQAAAAQJOgBAAAgSNADAABAkKAHAACAIEEPAAAAQYIeAAAAggQ9AAAABAl6AAAACBL0\n",
       "AAAAECToAQAAIEjQAwAAQJCgBwAAgCBBDwAAAEGCHgAAAIIEPQAAAAQJegAAAAgS9AAAABAk6AEA\n",
       "ACBI0AMAAECQoAcAAIAgQQ8AAABBgh4AAACCBD0AAAAECXoAAAAIEvQAAAAQJOgBAAAgSNADAABA\n",
       "kKAHAACAoJ3d3d1/pkfAzXT27NnpCYu33npresJiZ2dnegI36Nq1a9MTFhcuXJiesPj555+nJyzO\n",
       "nTs3PWHrXblyZXrCYn9/f3rC4o033piesDh9+vT0hK326quvTk9YfPbZZ9MTgCPkoQcAAIAgQQ8A\n",
       "AABBgh4AAACCBD0AAAAECXoAAAAIEvQAAAAQJOgBAAAgSNADAABAkKAHAACAIEEPAAAAQYIeAAAA\n",
       "ggQ9AAAABAl6AAAACBL0AAAAECToAQAAIEjQAwAAQJCgBwAAgCBBDwAAAEGCHgAAAIIEPQAAAAQJ\n",
       "egAAAAgS9AAAABAk6AEAACBI0AMAAECQoAcAAIAgQQ8AAABBgh4AAACCBD0AAAAECXoAAAAIEvQA\n",
       "AAAQJOgBAAAgSNADAABAkKAHAACAIEEPAAAAQYIeAAAAggQ9AAAABAl6AAAACBL0AAAAECToAQAA\n",
       "IEjQAwAAQJCgBwAAgCBBDwAAAEGCHgAAAIIEPQAAAAQJegAAAAgS9AAAABAk6AEAACBI0AMAAEDQ\n",
       "zu7u7j/TI+A4e/bZZ6cnLF577bXpCYc8+eST0xOAI/TDDz9MT1icPn16esLi66+/np6w2N/fn56w\n",
       "1V555ZXpCYvPP/98egJwhDz0AAAAECToAQAAIEjQAwAAQJCgBwAAgCBBDwAAAEGCHgAAAIIEPQAA\n",
       "AAQJegAAAAgS9AAAABAk6AEAACBI0AMAAECQoAcAAIAgQQ8AAABBgh4AAACCBD0AAAAECXoAAAAI\n",
       "EvQAAAAQJOgBAAAgSNADAABAkKAHAACAIEEPAAAAQYIeAAAAggQ9AAAABAl6AAAACBL0AAAAECTo\n",
       "AQAAIEjQAwAAQJCgBwAAgCBBDwAAAEGCHgAAAIIEPQAAAAQJegAAAAgS9AAAABAk6AEAACBI0AMA\n",
       "AECQoAcAAIAgQQ8AAABBgh4AAACCBD0AAAAECXoAAAAIEvQAAAAQJOgBAAAgSNADAABAkKAHAACA\n",
       "IEEPAAAAQYIeAAAAggQ9AAAABAl6AAAACNpMD4Dj7ssvv5yesPjmm2+mJxzyzDPPTE9YPPzww9MT\n",
       "Fg899ND0hMVjjz02PYG4n376aXrC4vXXX5+esDg4OJiesLh48eL0BACuw0MPAAAAQYIeAAAAggQ9\n",
       "AAAABAl6AAAACBL0AAAAECToAQAAIEjQAwAAQJCgBwAAgCBBDwAAAEGCHgAAAIIEPQAAAAQJegAA\n",
       "AAgS9AAAABAk6AEAACBI0AMAAECQoAcAAIAgQQ8AAABBgh4AAACCBD0AAAAECXoAAAAIEvQAAAAQ\n",
       "JOgBAAAgSNADAABAkKAHAACAIEEPAAAAQYIeAAAAggQ9AAAABAl6AAAACBL0AAAAECToAQAAIEjQ\n",
       "AwAAQJCgBwAAgCBBDwAAAEGCHgAAAIIEPQAAAAQJegAAAAgS9AAAABAk6AEAACBI0AMAAECQoAcA\n",
       "AIAgQQ8AAABBgh4AAACCBD0AAAAECXoAAAAIEvQAAAAQJOgBAAAgSNADAABA0GZ6AHC0/v777+kJ\n",
       "h1y4cGF6wmLb9gD/Lnfffff0BAAiPPQAAAAQJOgBAAAgSNADAABAkKAHAACAIEEPAAAAQYIeAAAA\n",
       "ggQ9AAAABAl6AAAACBL0AAAAECToAQAAIEjQAwAAQJCgBwAAgCBBDwAAAEGCHgAAAIIEPQAAAAQJ\n",
       "egAAAAgS9AAAABAk6AEAACBI0AMAAECQoAcAAIAgQQ8AAABBgh4AAACCBD0AAAAECXoAAAAIEvQA\n",
       "AAAQJOgBAAAgSNADAABAkKAHAACAIEEPAAAAQYIeAAAAggQ9AAAABAl6AAAACBL0AAAAECToAQAA\n",
       "IEjQAwAAQJCgBwAAgCBBDwAAAEGCHgAAAIIEPQAAAAQJegAAAAgS9AAAABAk6AEAACBI0AMAAECQ\n",
       "oAcAAIAgQQ8AAABBgh4AAACCBD0AAAAECXoAAAAIEvQAAAAQJOgBAAAgSNADAABAkKAHAACAIEEP\n",
       "AAAAQYIeAAAAggQ9AAAABAl6AAAACBL0AAAAECToAQAAIEjQAwAAQJCgBwAAgCBBDwAAAEGCHgAA\n",
       "AIIEPQAAAAQJegAAAAgS9AAAABAk6AEAACBI0AMA8L/27NhGQgAIgqBO4GIRAPmnQwgYpPFvIsyz\n",
       "Vq2rimDc1gAQJOgBAAAgSNADAABAkKAHAACAIEEPAAAAQYIeAAAAggQ9AAAABAl6AAAACBL0AAAA\n",
       "ECToAQAAIEjQAwAAQJCgBwAAgCBBDwAAAEGCHgAAAIIEPQAAAAQJegAAAAgS9AAAABAk6AEAACBI\n",
       "0AMAAECQoAcAAIAgQQ8AAABBgh4AAACCBD0AAAAECXoAAAAIEvQAAAAQJOgBAAAgSNADAABAkKAH\n",
       "AACAIEEPAAAAQYIeAAAAggQ9AAAABAl6AAAACBL0AAAAECToAQAAIEjQAwAAQJCgBwAAgCBBDwAA\n",
       "AEGCHgAAAIIEPQAAAAQJegAAAAgS9AAAABAk6AEAACBI0AMAAECQoAcAAIAgQQ8AAABBgh4AAACC\n",
       "BD0AAAAECXoAAAAIEvQAAAAQJOgBAAAgSNADAABAkKAHAACAIEEPAAAAQYIeAAAAggQ9AAAABAl6\n",
       "AAAACBL0AAAAECToAQAAIEjQAwAAQJCgBwAAgCBBDwAAAEGCHgAAAIIEPQAAAAQJegAAAAgS9AAA\n",
       "ABAk6AEAACBI0AMAAECQoAcAAIAgQQ8AAABBgh4AAACCBD0AAAAECXoAAAAIEvQAAAAQJOgBAAAg\n",
       "SNADAABAkKAHAACAIEEPAAAAQYIeAAAAggQ9AAAABK3TAwAAeCzLMj0BgAgPPQAAAAQJegAAAAgS\n",
       "9AAAABAk6AEAACBI0AMAAECQoAcAAIAgQQ8AAABBgh4AAACCBD0AAAAECXoAAAAIEvQAAAAQJOgB\n",
       "AAAgSNADAABAkKAHAACAIEEPAAAAQYIeAAAAggQ9AAAABAl6AAAACBL0AAAAECToAQAAIEjQAwAA\n",
       "QJCgBwAAgCBBDwAAAEGCHgAAAIIEPQAAAAQJegAAAAgS9AAAABAk6AEAACBI0AMAAECQoAcAAIAg\n",
       "QQ8AAABBgh4AAACCBD0AAAAECXoAAAAIEvQAAAAQJOgBAAAgSNADAABAkKAHAACAIEEPAAAAQYIe\n",
       "AAAAggQ9AAAABAl6AAAACBL0AAAAECToAQAAIEjQAwAAQJCgBwAAgCBBDwAAAEGCHgAAAILW6QEA\n",
       "ADyO45ieAECEhx4AAACCBD0AAAAECXoAAAAIEvQAAAAQJOgBAAAgSNADAABAkKAHAACAIEEPAAAA\n",
       "QYIeAAAAggQ9AAAABAl6AAAACBL0AAAAECToAQAAIEjQAwAAQJCgBwAAgCBBDwAAAEGCHgAAAIIE\n",
       "PQAAAAQJegAAAAgS9AAAABAk6AEAACBI0AMAAECQoAcAAIAgQQ8AAABBgh4AAACCBD0AAAAECXoA\n",
       "AAAIEvQAAAAQJOgBAAAgSNADAABAkKAHAACAIEEPAAAAQYIeAAAAggQ9AAAABAl6AAAACBL0AAAA\n",
       "ECToAQAAIEjQAwAAQJCgBwAAgCBBDwAAAEGCHgAAAIIEPQAAAAQJegAAAAgS9AAAABAk6AEAACBI\n",
       "0AMAAECQoAcAAIAgQQ8AAABB6/QAAAAe53lOT3i573t6wsu+79MTXq7rmp4A/DAPPQAAAAQJegAA\n",
       "AAgS9AAAABAk6AEAACBI0AMAAECQoAcAAIAgQQ8AAABBgh4AAACCBD0AAAAECXoAAAAIEvQAAAAQ\n",
       "JOgBAAAgSNADAABAkKAHAACAIEEPAAAAQX0W9KQAAARNSURBVIIeAAAAggQ9AAAABAl6AAAACBL0\n",
       "AAAAECToAQAAIEjQAwAAQJCgBwAAgCBBDwAAAEGCHgAAAIIEPQAAAAQJegAAAAgS9AAAABAk6AEA\n",
       "ACBI0AMAAECQoAcAAIAgQQ8AAABBgh4AAACCBD0AAAAECXoAAAAIEvQAAAAQJOgBAAAgSNADAABA\n",
       "kKAHAACAIEEPAAAAQYIeAAAAggQ9AAAABAl6AAAACBL0AAAAECToAQAAIEjQAwAAQJCgBwAAgCBB\n",
       "DwAAAEGfbdv+pkcAAAAA3/HQAwAAQJCgBwAAgCBBDwAAAEGCHgAAAIIEPQAAAAQJegAAAAgS9AAA\n",
       "ABAk6AEAACBI0AMAAECQoAcAAIAgQQ8AAABBgh4AAACCBD0AAAAECXoAAAAIEvQAAAAQJOgBAAAg\n",
       "SNADAABAkKAHAACAIEEPAAAAQYIeAAAAggQ9AAAABAl6AAAACBL0AAAAECToAQAAIEjQAwAAQJCg\n",
       "BwAAgCBBDwAAAEGCHgAAAIIEPQAAAAQJegAAAAgS9AAAABAk6AEAACBI0AMAAECQoAcAAIAgQQ8A\n",
       "AABBgh4AAACCBD0AAAAECXoAAAAIEvQAAAAQJOgBAAAgSNADAABAkKAHAACAIEEPAAAAQYIeAAAA\n",
       "ggQ9AAAABAl6AAAACBL0AAAAECToAQAAIEjQAwAAQJCgBwAAgCBBDwAAAEGCHgAAAIIEPQAAAAQJ\n",
       "egAAAAgS9AAAABAk6AEAACBI0AMAAECQoAcAAIAgQQ8AAABBgh4AAACCBD0AAAAECXoAAAAIEvQA\n",
       "AAAQJOgBAAAgSNADAABAkKAHAACAIEEPAAAAQYIeAAAAggQ9AAAABAl6AAAACBL0AAAAECToAQAA\n",
       "IEjQAwAAQJCgBwAAgCBBDwAAAEGCHgAAAIIEPQAAAAQJegAAAAgS9AAAABAk6AEAACBI0AMAAECQ\n",
       "oAcAAIAgQQ8AAABBgh4AAACCBD0AAAAECXoAAAAIEvQAAAAQJOgBAAAgSNADAABAkKAHAACAIEEP\n",
       "AAAAQYIeAAAAggQ9AAAABAl6AAAACBL0AAAAECToAQAAIEjQAwAAQJCgBwAAgCBBDwAAAEGCHgAA\n",
       "AIIEPQAAAAQJegAAAAgS9AAAABAk6AEAACBI0AMAAECQoAcAAIAgQQ8AAABBgh4AAACCBD0AAAAE\n",
       "CXoAAAAIEvQAAAAQJOgBAAAgSNADAABAkKAHAACAIEEPAAAAQYIeAAAAggQ9AAAABAl6AAAACBL0\n",
       "AAAAECToAQAAIEjQAwAAQJCgBwAAgCBBDwAAAEGCHgAAAIIEPQAAAAQJegAAAAgS9AAAABAk6AEA\n",
       "ACBI0AMAAECQoAcAAIAgQQ8AAABBgh4AAACCBD0AAAAECXoAAAAIEvQAAAAQJOgBAAAgSNADAABA\n",
       "kKAHAACAIEEPAAAAQYIeAAAAggQ9AAAABAl6AAAACBL0AAAAECToAQAAIEjQAwAAQNA/zpezkq9r\n",
       "ja8AAAAASUVORK5CYII=\n",
       "\" transform=\"translate(1341, 123)\"/>\n",
       "</g>\n",
       "</svg>\n"
      ]
     },
     "metadata": {},
     "output_type": "display_data"
    }
   ],
   "source": [
    "plot_mnist_clean_and_attack(x_test, y_test, FGSM, adv_pgd_weak, loss, 0.1; step_size=0.01, iterations=40, attack_method= :FGSM)"
   ]
  },
  {
   "cell_type": "markdown",
   "metadata": {},
   "source": [
    "### Evaluating robustness - accuracy on clean and adversarial examples"
   ]
  },
  {
   "cell_type": "markdown",
   "metadata": {},
   "source": [
    "#### Clean trained model"
   ]
  },
  {
   "cell_type": "code",
   "execution_count": 14,
   "metadata": {},
   "outputs": [
    {
     "data": {
      "text/plain": [
       "Dict{Any, Any} with 4 entries:\n",
       "  \"adversary_forced_error\" => 9490\n",
       "  \"clean_accuracy\"         => 0.9812\n",
       "  \"adversary_changed\"      => 9504\n",
       "  \"adversarial_accuracy\"   => 0.0322"
      ]
     },
     "metadata": {},
     "output_type": "display_data"
    }
   ],
   "source": [
    "overview = evaluate_model(x_test, y_test, 0, 9, clean_model, loss, FGSM, 0.2; iterations=26, attack_method=:FGSM)\n",
    "\n",
    "overview"
   ]
  },
  {
   "cell_type": "markdown",
   "metadata": {},
   "source": [
    "#### Strong adversary trained model"
   ]
  },
  {
   "cell_type": "code",
   "execution_count": 16,
   "metadata": {},
   "outputs": [
    {
     "data": {
      "text/plain": [
       "Dict{Any, Any} with 4 entries:\n",
       "  \"adversary_forced_error\" => 2551\n",
       "  \"clean_accuracy\"         => 0.9689\n",
       "  \"adversary_changed\"      => 2607\n",
       "  \"adversarial_accuracy\"   => 0.7139"
      ]
     },
     "metadata": {},
     "output_type": "display_data"
    }
   ],
   "source": [
    "overview_adv = evaluate_model(x_test, y_test, 0, 9, adv_pgd_strong, loss, FGSM, 0.2; step_size=0.01, iterations=26, attack_method= :FGSM)\n",
    "\n",
    "overview_adv"
   ]
  },
  {
   "cell_type": "markdown",
   "metadata": {},
   "source": [
    "#### Medium adversary trained model"
   ]
  },
  {
   "cell_type": "code",
   "execution_count": 18,
   "metadata": {},
   "outputs": [
    {
     "data": {
      "text/plain": [
       "Dict{Any, Any} with 4 entries:\n",
       "  \"adversary_forced_error\" => 6057\n",
       "  \"clean_accuracy\"         => 0.9847\n",
       "  \"adversary_changed\"      => 6063\n",
       "  \"adversarial_accuracy\"   => 0.379"
      ]
     },
     "metadata": {},
     "output_type": "display_data"
    }
   ],
   "source": [
    "overview_adv_medium = evaluate_model(x_test, y_test, 0, 9, adv_pgd_medium, loss, FGSM, 0.2; step_size=0.01, iterations=26, attack_method= :FGSM)\n",
    "\n",
    "overview_adv_medium"
   ]
  },
  {
   "cell_type": "markdown",
   "metadata": {},
   "source": [
    "#### Weak adversary trained model"
   ]
  },
  {
   "cell_type": "code",
   "execution_count": 20,
   "metadata": {},
   "outputs": [
    {
     "data": {
      "text/plain": [
       "Dict{Any, Any} with 4 entries:\n",
       "  \"adversary_forced_error\" => 9216\n",
       "  \"clean_accuracy\"         => 0.9832\n",
       "  \"adversary_changed\"      => 9222\n",
       "  \"adversarial_accuracy\"   => 0.0616"
      ]
     },
     "metadata": {},
     "output_type": "display_data"
    }
   ],
   "source": [
    "overview_adv_weak = evaluate_model(x_test, y_test, 0, 9, adv_pgd_weak, loss, PGD, 0.2; step_size=0.01, iterations=26, attack_method= :PGD)\n",
    "\n",
    "overview_adv_weak"
   ]
  },
  {
   "cell_type": "markdown",
   "metadata": {},
   "source": [
    "#### Saving the models"
   ]
  },
  {
   "cell_type": "code",
   "execution_count": 247,
   "metadata": {},
   "outputs": [],
   "source": [
    "using BSON: @save, @load\n",
    "\n",
    "@save \"../models/MNIST/clean_20ep_32bs.bson\" model\n",
    "@save \"../models/MNIST/adv_20ep_32bs_40it_0.01ss_0.3eps.bson\" adv_pgd_strong\n",
    "@save \"../models/MNIST/adv_20ep_32bs_13it_0.01ss_0.1eps.bson\" adv_pgd_medium\n",
    "@save \"../models/MNIST/adv_20ep_32bs_7it_0.01ss_0.05eps.bson\" adv_pgd_weak\n",
    "@save \"../models/MNIST/spare.bson\" spare"
   ]
  },
  {
   "cell_type": "markdown",
   "metadata": {},
   "source": [
    "## Generating counterfactuals for normal and robust models to compare explainability"
   ]
  },
  {
   "cell_type": "markdown",
   "metadata": {},
   "source": [
    "### Loading models"
   ]
  },
  {
   "cell_type": "code",
   "execution_count": 4,
   "metadata": {},
   "outputs": [
    {
     "data": {
      "text/plain": [
       "Chain(\n",
       "  Dense(784 => 128, relu),              \u001b[90m# 100_480 parameters\u001b[39m\n",
       "  Dense(128 => 10),                     \u001b[90m# 1_290 parameters\u001b[39m\n",
       ") \u001b[90m                  # Total: 4 arrays, \u001b[39m101_770 parameters, 397.789 KiB."
      ]
     },
     "metadata": {},
     "output_type": "display_data"
    }
   ],
   "source": [
    "clean_model = BSON.load(\"../models/MNIST/clean_20ep_32bs.bson\")[:model]\n",
    "adv_pgd_strong = BSON.load(\"../models/MNIST/adv_20ep_32bs_40it_0.01ss_0.3eps.bson\")[:adv_pgd_strong]\n",
    "adv_pgd_medium = BSON.load(\"../models/MNIST/adv_20ep_32bs_13it_0.01ss_0.1eps.bson\")[:adv_pgd_medium]\n",
    "adv_pgd_weak = BSON.load(\"../models/MNIST/adv_20ep_32bs_7it_0.01ss_0.05eps.bson\")[:adv_pgd_weak]"
   ]
  },
  {
   "cell_type": "markdown",
   "metadata": {},
   "source": [
    "### Measure of implausibility"
   ]
  },
  {
   "cell_type": "code",
   "execution_count": 6,
   "metadata": {},
   "outputs": [
    {
     "data": {
      "text/plain": [
       "distance_from_targets_ssim (generic function with 1 method)"
      ]
     },
     "metadata": {},
     "output_type": "display_data"
    }
   ],
   "source": [
    "using Images\n",
    "\n",
    "function convert2mnist(x)\n",
    "    x = reshape(x, 28, 28) |> permutedims |> x -> Gray.(x)\n",
    "    return x\n",
    "end\n",
    "\n",
    "function ssim_dist(x, y)\n",
    "    x = convert2mnist(x)\n",
    "    y = convert2mnist(y)\n",
    "    # ssim_distance = (1 - assess(SSIM(KernelFactors.gaussian(1.5, 11), (0, 0, 1)), x, y))/2\n",
    "    # return ssim_distance\n",
    "    return (1 - assess_ssim(x, y)) / 2\n",
    "end\n",
    "\n",
    "function distance_from_targets_ssim(\n",
    "    ce::AbstractCounterfactualExplanation;\n",
    "    agg = mean,\n",
    "    n_nearest_neighbors::Union{Int,Nothing} = 100,\n",
    ")\n",
    "    target_idx = ce.data.output_encoder.labels .== ce.target\n",
    "    target_samples = ce.data.X[:, target_idx]\n",
    "    x′ = CounterfactualExplanations.counterfactual(ce)\n",
    "    loss = map(eachslice(x′, dims = ndims(x′))) do x\n",
    "        Δ = map(eachcol(target_samples)) do xsample\n",
    "            ssim_dist(x, xsample)\n",
    "        end\n",
    "        if n_nearest_neighbors != nothing\n",
    "            Δ = sort(Δ)[1:n_nearest_neighbors]\n",
    "        end\n",
    "        return mean(Δ)\n",
    "    end\n",
    "    loss = agg(loss)[1]\n",
    "\n",
    "    return loss\n",
    "end"
   ]
  },
  {
   "cell_type": "markdown",
   "metadata": {},
   "source": [
    "### Random counterfactuals"
   ]
  },
  {
   "cell_type": "code",
   "execution_count": 7,
   "metadata": {},
   "outputs": [
    {
     "data": {
      "text/plain": [
       "CounterfactualExplanations.Models.Model(Chain(Dense(784 => 128, relu), Dense(128 => 10)), :classification_multi, Chain(Dense(784 => 128, relu), Dense(128 => 10)), MLP())"
      ]
     },
     "metadata": {},
     "output_type": "display_data"
    }
   ],
   "source": [
    "flux_clean = CounterfactualExplanations.MLP(clean_model; likelihood=:classification_multi)\n",
    "flux_adv_strong = CounterfactualExplanations.MLP(adv_pgd_strong; likelihood=:classification_multi)\n",
    "flux_adv_medium = CounterfactualExplanations.MLP(adv_pgd_medium; likelihood=:classification_multi) \n",
    "flux_adv_weak = CounterfactualExplanations.MLP(adv_pgd_weak; likelihood=:classification_multi) "
   ]
  },
  {
   "cell_type": "code",
   "execution_count": 33,
   "metadata": {},
   "outputs": [
    {
     "data": {
      "text/plain": [
       "1010-element Vector{Int64}:\n",
       "   19\n",
       "   31\n",
       "   33\n",
       "   45\n",
       "   52\n",
       "   64\n",
       "   69\n",
       "   77\n",
       "   88\n",
       "   91\n",
       "    ⋮\n",
       " 9915\n",
       " 9926\n",
       " 9943\n",
       " 9944\n",
       " 9945\n",
       " 9966\n",
       " 9976\n",
       " 9987\n",
       " 9997"
      ]
     },
     "metadata": {},
     "output_type": "display_data"
    }
   ],
   "source": [
    "four_ind = findall(x -> x == 3, y_test)"
   ]
  },
  {
   "cell_type": "code",
   "execution_count": 10,
   "metadata": {},
   "outputs": [
    {
     "name": "stdout",
     "output_type": "stream",
     "text": [
      "CounterfactualExplanation\n",
      "\u001b[0m\u001b[1mConvergence: ❌ after 1000 steps.\u001b[22m\n",
      "ce target: 9\n",
      "SSIM distance = 0.1625086942571664\n",
      "valid? 1.0\n",
      "Digit predicted by the model for the clean image: 3\n",
      "Digit predicted by the model for the counterfactual: 9\n",
      "True label: 3\n"
     ]
    },
    {
     "data": {
      "image/png": "[encoded data removed]",
      "image/svg+xml": [
       "<?xml version=\"1.0\" encoding=\"utf-8\"?>\n",
       "<svg xmlns=\"http://www.w3.org/2000/svg\" xmlns:xlink=\"http://www.w3.org/1999/xlink\" width=\"600\" height=\"400\" viewBox=\"0 0 2400 1600\">\n",
       "<defs>\n",
       "  <clipPath id=\"clip650\">\n",
       "    <rect x=\"0\" y=\"0\" width=\"2400\" height=\"1600\"/>\n",
       "  </clipPath>\n",
       "</defs>\n",
       "<path clip-path=\"url(#clip650)\" d=\"M0 1600 L2400 1600 L2400 0 L0 0  Z\" fill=\"#ffffff\" fill-rule=\"evenodd\" fill-opacity=\"1\"/>\n",
       "<defs>\n",
       "  <clipPath id=\"clip651\">\n",
       "    <rect x=\"480\" y=\"0\" width=\"1681\" height=\"1600\"/>\n",
       "  </clipPath>\n",
       "</defs>\n",
       "<path clip-path=\"url(#clip650)\" d=\"M140.696 1486.45 L1152.76 1486.45 L1152.76 123.472 L140.696 123.472  Z\" fill=\"#ffffff\" fill-rule=\"evenodd\" fill-opacity=\"1\"/>\n",
       "<defs>\n",
       "  <clipPath id=\"clip652\">\n",
       "    <rect x=\"140\" y=\"123\" width=\"1013\" height=\"1364\"/>\n",
       "  </clipPath>\n",
       "</defs>\n",
       "<polyline clip-path=\"url(#clip652)\" style=\"stroke:#000000; stroke-linecap:round; stroke-linejoin:round; stroke-width:2; stroke-opacity:0.1; fill:none\" points=\"303.348,1486.45 303.348,123.472 \"/>\n",
       "<polyline clip-path=\"url(#clip652)\" style=\"stroke:#000000; stroke-linecap:round; stroke-linejoin:round; stroke-width:2; stroke-opacity:0.1; fill:none\" points=\"484.073,1486.45 484.073,123.472 \"/>\n",
       "<polyline clip-path=\"url(#clip652)\" style=\"stroke:#000000; stroke-linecap:round; stroke-linejoin:round; stroke-width:2; stroke-opacity:0.1; fill:none\" points=\"664.798,1486.45 664.798,123.472 \"/>\n",
       "<polyline clip-path=\"url(#clip652)\" style=\"stroke:#000000; stroke-linecap:round; stroke-linejoin:round; stroke-width:2; stroke-opacity:0.1; fill:none\" points=\"845.523,1486.45 845.523,123.472 \"/>\n",
       "<polyline clip-path=\"url(#clip652)\" style=\"stroke:#000000; stroke-linecap:round; stroke-linejoin:round; stroke-width:2; stroke-opacity:0.1; fill:none\" points=\"1026.25,1486.45 1026.25,123.472 \"/>\n",
       "<polyline clip-path=\"url(#clip652)\" style=\"stroke:#000000; stroke-linecap:round; stroke-linejoin:round; stroke-width:2; stroke-opacity:0.1; fill:none\" points=\"140.696,1267.4 1152.76,1267.4 \"/>\n",
       "<polyline clip-path=\"url(#clip652)\" style=\"stroke:#000000; stroke-linecap:round; stroke-linejoin:round; stroke-width:2; stroke-opacity:0.1; fill:none\" points=\"140.696,1024.01 1152.76,1024.01 \"/>\n",
       "<polyline clip-path=\"url(#clip652)\" style=\"stroke:#000000; stroke-linecap:round; stroke-linejoin:round; stroke-width:2; stroke-opacity:0.1; fill:none\" points=\"140.696,780.621 1152.76,780.621 \"/>\n",
       "<polyline clip-path=\"url(#clip652)\" style=\"stroke:#000000; stroke-linecap:round; stroke-linejoin:round; stroke-width:2; stroke-opacity:0.1; fill:none\" points=\"140.696,537.233 1152.76,537.233 \"/>\n",
       "<polyline clip-path=\"url(#clip652)\" style=\"stroke:#000000; stroke-linecap:round; stroke-linejoin:round; stroke-width:2; stroke-opacity:0.1; fill:none\" points=\"140.696,293.844 1152.76,293.844 \"/>\n",
       "<path clip-path=\"url(#clip650)\" d=\"M529.877 16.7545 L529.877 25.383 Q525.745 21.5346 521.046 19.6307 Q516.388 17.7268 511.122 17.7268 Q500.751 17.7268 495.242 24.0867 Q489.733 30.4061 489.733 42.3968 Q489.733 54.3469 495.242 60.7069 Q500.751 67.0263 511.122 67.0263 Q516.388 67.0263 521.046 65.1223 Q525.745 63.2184 529.877 59.3701 L529.877 67.9175 Q525.583 70.8341 520.763 72.2924 Q515.983 73.7508 510.636 73.7508 Q496.903 73.7508 489.004 65.3654 Q481.105 56.9395 481.105 42.3968 Q481.105 27.8135 489.004 19.4281 Q496.903 11.0023 510.636 11.0023 Q516.064 11.0023 520.844 12.4606 Q525.664 13.8784 529.877 16.7545 Z\" fill=\"#000000\" fill-rule=\"nonzero\" fill-opacity=\"1\" /><path clip-path=\"url(#clip650)\" d=\"M542.192 9.54393 L549.646 9.54393 L549.646 72.576 L542.192 72.576 L542.192 9.54393 Z\" fill=\"#000000\" fill-rule=\"nonzero\" fill-opacity=\"1\" /><path clip-path=\"url(#clip650)\" d=\"M604.049 48.0275 L604.049 51.6733 L569.779 51.6733 Q570.265 59.3701 574.397 63.421 Q578.569 67.4314 585.982 67.4314 Q590.276 67.4314 594.287 66.3781 Q598.338 65.3249 602.308 63.2184 L602.308 70.267 Q598.297 71.9684 594.084 72.8596 Q589.871 73.7508 585.537 73.7508 Q574.68 73.7508 568.32 67.4314 Q562.001 61.1119 562.001 50.3365 Q562.001 39.1965 567.996 32.6746 Q574.032 26.1121 584.241 26.1121 Q593.396 26.1121 598.702 32.0264 Q604.049 37.9003 604.049 48.0275 M596.596 45.84 Q596.515 39.7232 593.153 36.0774 Q589.831 32.4315 584.322 32.4315 Q578.083 32.4315 574.316 35.9558 Q570.589 39.4801 570.022 45.8805 L596.596 45.84 Z\" fill=\"#000000\" fill-rule=\"nonzero\" fill-opacity=\"1\" /><path clip-path=\"url(#clip650)\" d=\"M636.902 49.7694 Q627.869 49.7694 624.385 51.8354 Q620.901 53.9013 620.901 58.8839 Q620.901 62.8538 623.494 65.2034 Q626.127 67.5124 630.623 67.5124 Q636.821 67.5124 640.548 63.1374 Q644.315 58.7219 644.315 51.4303 L644.315 49.7694 L636.902 49.7694 M651.769 46.6907 L651.769 72.576 L644.315 72.576 L644.315 65.6895 Q641.763 69.8214 637.956 71.8063 Q634.148 73.7508 628.638 73.7508 Q621.671 73.7508 617.539 69.8619 Q613.448 65.9325 613.448 59.3701 Q613.448 51.7138 618.552 47.825 Q623.696 43.9361 633.864 43.9361 L644.315 43.9361 L644.315 43.2069 Q644.315 38.0623 640.913 35.2672 Q637.55 32.4315 631.434 32.4315 Q627.545 32.4315 623.858 33.3632 Q620.172 34.295 616.769 36.1584 L616.769 29.2718 Q620.861 27.692 624.709 26.9223 Q628.557 26.1121 632.203 26.1121 Q642.047 26.1121 646.908 31.2163 Q651.769 36.3204 651.769 46.6907 Z\" fill=\"#000000\" fill-rule=\"nonzero\" fill-opacity=\"1\" /><path clip-path=\"url(#clip650)\" d=\"M704.836 45.1919 L704.836 72.576 L697.382 72.576 L697.382 45.4349 Q697.382 38.994 694.871 35.7938 Q692.359 32.5936 687.336 32.5936 Q681.3 32.5936 677.816 36.4419 Q674.333 40.2903 674.333 46.9338 L674.333 72.576 L666.838 72.576 L666.838 27.2059 L674.333 27.2059 L674.333 34.2544 Q677.006 30.163 680.612 28.1376 Q684.257 26.1121 688.997 26.1121 Q696.815 26.1121 700.826 30.9732 Q704.836 35.7938 704.836 45.1919 Z\" fill=\"#000000\" fill-rule=\"nonzero\" fill-opacity=\"1\" /><path clip-path=\"url(#clip650)\" d=\"M721.607 62.2867 L730.154 62.2867 L730.154 72.576 L721.607 72.576 L721.607 62.2867 M721.607 29.6769 L730.154 29.6769 L730.154 39.9662 L721.607 39.9662 L721.607 29.6769 Z\" fill=\"#000000\" fill-rule=\"nonzero\" fill-opacity=\"1\" /><path clip-path=\"url(#clip650)\" d=\"M799.87 39.9662 Q805.744 41.222 809.025 45.1919 Q812.347 49.1618 812.347 54.9951 Q812.347 63.9476 806.19 68.8492 Q800.032 73.7508 788.69 73.7508 Q784.882 73.7508 780.831 72.9811 Q776.821 72.2519 772.527 70.7531 L772.527 62.8538 Q775.929 64.8388 779.98 65.8515 Q784.031 66.8642 788.447 66.8642 Q796.143 66.8642 800.154 63.826 Q804.205 60.7879 804.205 54.9951 Q804.205 49.6479 800.437 46.6502 Q796.71 43.612 790.026 43.612 L782.978 43.612 L782.978 36.8875 L790.351 36.8875 Q796.386 36.8875 799.587 34.4975 Q802.787 32.067 802.787 27.5299 Q802.787 22.8714 799.465 20.4004 Q796.184 17.8888 790.026 17.8888 Q786.664 17.8888 782.816 18.618 Q778.967 19.3471 774.349 20.8865 L774.349 13.5948 Q779.008 12.2985 783.059 11.6504 Q787.15 11.0023 790.756 11.0023 Q800.073 11.0023 805.501 15.2557 Q810.929 19.4686 810.929 26.6793 Q810.929 31.7024 808.053 35.1862 Q805.177 38.6294 799.87 39.9662 Z\" fill=\"#000000\" fill-rule=\"nonzero\" fill-opacity=\"1\" /><g clip-path=\"url(#clip652)\">\n",
       "<image width=\"1012\" height=\"1363\" xlink:href=\"data:image/png;base64,\n",
       "iVBORw0KGgoAAAANSUhEUgAAA/QAAAVTCAYAAABj7GMOAAAgAElEQVR4nOzZwW0jVxRFQcvglhEw\n",
       "kq84GAkZhxgJ45iORHHIS6MhjOGRLTweTlUEF/17c/Bejsfjxx8AAABAyp/TAwAAAIBfJ+gBAAAg\n",
       "SNADAABAkKAHAACAIEEPAAAAQYIeAAAAggQ9AAAABAl6AAAACBL0AAAAECToAQAAIEjQAwAAQJCg\n",
       "BwAAgCBBDwAAAEGCHgAAAIIEPQAAAAQJegAAAAgS9AAAABAk6AEAACBI0AMAAECQoAcAAIAgQQ8A\n",
       "AABBgh4AAACCBD0AAAAECXoAAAAIEvQAAAAQJOgBAAAgSNADAABAkKAHAACAIEEPAAAAQYIeAAAA\n",
       "ggQ9AAAABAl6AAAACBL0AAAAECToAQAAIEjQAwAAQJCgBwAAgCBBDwAAAEGCHgAAAIIEPQAAAAQJ\n",
       "egAAAAgS9AAAABAk6AEAACBI0AMAAECQoAcAAIAgQQ8AAABBgh4AAACCBD0AAAAECXoAAAAIEvQA\n",
       "AAAQJOgBAAAgSNADAABAkKAHAACAIEEPAAAAQYIeAAAAggQ9AAAABAl6AAAACBL0AAAAECToAQAA\n",
       "IEjQAwAAQJCgBwAAgCBBDwAAAEGCHgAAAIIEPQAAAAQJegAAAAgS9AAAABAk6AEAACBI0AMAAECQ\n",
       "oAcAAIAgQQ8AAABBgh4AAACCBD0AAAAECXoAAAAIEvQAAAAQJOgBAAAgSNADAABAkKAHAACAIEEP\n",
       "AAAAQYIeAAAAggQ9AAAABAl6AAAACBL0AAAAECToAQAAIEjQAwAAQJCgBwAAgCBBDwAAAEGCHgAA\n",
       "AIIEPQAAAAQJegAAAAgS9AAAABAk6AEAACBI0AMAAECQoAcAAIAgQQ8AAABBgh4AAACCBD0AAAAE\n",
       "CXoAAAAIEvQAAAAQJOgBAAAgSNADAABAkKAHAACAIEEPAAAAQYIeAAAAggQ9AAAABAl6AAAACBL0\n",
       "AAAAECToAQAAIEjQAwAAQJCgBwAAgCBBDwAAAEGCHgAAAIIEPQAAAAQJegAAAAgS9AAAABAk6AEA\n",
       "ACBI0AMAAECQoAcAAIAgQQ8AAABBgh4AAACCBD0AAAAECXoAAAAIEvQAAAAQJOgBAAAgSNADAABA\n",
       "kKAHAACAIEEPAAAAQYIeAAAAggQ9AAAABAl6AAAACBL0AAAAECToAQAAIEjQAwAAQJCgBwAAgCBB\n",
       "DwAAAEGCHgAAAIIEPQAAAAQJegAAAAgS9AAAABAk6AEAACBI0AMAAECQoAcAAIAgQQ8AAABBgh4A\n",
       "AACCBD0AAAAECXoAAAAIEvQAAAAQJOgBAAAg6DA9AICW6/U6PWHncrlMT9i53W7TE3be3t6mJwAA\n",
       "38SFHgAAAIIEPQAAAAQJegAAAAgS9AAAABAk6AEAACBI0AMAAECQoAcAAIAgQQ8AAABBgh4AAACC\n",
       "BD0AAAAECXoAAAAIEvQAAAAQJOgBAAAgSNADAABAkKAHAACAIEEPAAAAQYIeAAAAggQ9AAAABAl6\n",
       "AAAACBL0AAAAECToAQAAIEjQAwAAQJCgBwAAgCBBDwAAAEGCHgAAAIIEPQAAAAQJegAAAAgS9AAA\n",
       "ABAk6AEAACBI0AMAAECQoAcAAIAgQQ8AAABBgh4AAACCBD0AAAAECXoAAAAIEvQAAAAQJOgBAAAg\n",
       "SNADAABAkKAHAACAIEEPAAAAQYIeAAAAggQ9AAAABAl6AAAACBL0AAAAECToAQAAIEjQAwAAQJCg\n",
       "BwAAgKCX4/H4MT0CgJ+7Xq/TE3Yul8v0BOJOp9P0BAB4Ci70AAAAECToAQAAIEjQAwAAQJCgBwAA\n",
       "gCBBDwAAAEGCHgAAAIIEPQAAAAQJegAAAAgS9AAAABAk6AEAACBI0AMAAECQoAcAAIAgQQ8AAABB\n",
       "gh4AAACCBD0AAAAECXoAAAAIEvQAAAAQJOgBAAAgSNADAABAkKAHAACAIEEPAAAAQYIeAAAAggQ9\n",
       "AAAABAl6AAAACBL0AAAAECToAQAAIEjQAwAAQJCgBwAAgCBBDwAAAEGCHgAAAIIEPQAAAAQJegAA\n",
       "AAgS9AAAABAk6AEAACBI0AMAAECQoAcAAIAgQQ8AAABBgh4AAACCBD0AAAAECXoAAAAIEvQAAAAQ\n",
       "JOgBAAAgSNADAABAkKAHAACAIEEPAAAAQYIeAAAAggQ9AAAABAl6AAAACDpMDwCA/2LbtukJO2ut\n",
       "6QkP736/T0/YOZ/P0xMA4Etc6AEAACBI0AMAAECQoAcAAIAgQQ8AAABBgh4AAACCBD0AAAAECXoA\n",
       "AAAIEvQAAAAQJOgBAAAgSNADAABAkKAHAACAIEEPAAAAQYIeAAAAggQ9AAAABAl6AAAACBL0AAAA\n",
       "ECToAQAAIEjQAwAAQJCgBwAAgCBBDwAAAEGCHgAAAIIEPQAAAAQJegAAAAgS9AAAABAk6AEAACBI\n",
       "0AMAAECQoAcAAIAgQQ8AAABBgh4AAACCBD0AAAAECXoAAAAIEvQAAAAQJOgBAAAgSNADAABAkKAH\n",
       "AACAIEEPAAAAQYIeAAAAggQ9AAAABAl6AAAACBL0AAAAECToAQAAIEjQAwAAQJCgBwAAgCBBDwAA\n",
       "AEGCHgAAAIIEPQAAAAQJegAAAAgS9AAAABD0cjweP6ZHAADf436/T0/4ZK01PWHndrtNT9h5e3ub\n",
       "ngBAhAs9AAAABAl6AAAACBL0AAAAECToAQAAIEjQAwAAQJCgBwAAgCBBDwAAAEGCHgAAAIIEPQAA\n",
       "AAQJegAAAAgS9AAAABAk6AEAACBI0AMAAECQoAcAAIAgQQ8AAABBgh4AAACCBD0AAAAECXoAAAAI\n",
       "EvQAAAAQJOgBAAAgSNADAABAkKAHAACAIEEPAAAAQYIeAAAAggQ9AAAABAl6AAAACBL0AAAAECTo\n",
       "AQAAIEjQAwAAQJCgBwAAgCBBDwAAAEGCHgAAAIIEPQAAAAQJegAAAAgS9AAAABAk6AEAACBI0AMA\n",
       "AECQoAcAAIAgQQ8AAABBgh4AAACCBD0AAAAECXoAAAAIEvQAAAAQJOgBAAAgSNADAABAkKAHAACA\n",
       "IEEPAAAAQYfpAQDA9zmfz9MTPnl/f5+eAABPwYUeAAAAggQ9AAAABAl6AAAACBL0AAAAECToAQAA\n",
       "IEjQAwAAQJCgBwAAgCBBDwAAAEGCHgAAAIIEPQAAAAQJegAAAAgS9AAAABAk6AEAACBI0AMAAECQ\n",
       "oAcAAIAgQQ8AAABBgh4AAACCBD0AAAAECXoAAAAIEvQAAAAQJOgBAAAgSNADAABAkKAHAACAIEEP\n",
       "AAAAQYIeAAAAggQ9AAAABAl6AAAACBL0AAAAECToAQAAIEjQAwAAQJCgBwAAgCBBDwAAAEGCHgAA\n",
       "AIIEPQAAAAQJegAAAAgS9AAAABAk6AEAACBI0AMAAECQoAcAAIAgQQ8AAABBgh4AAACCBD0AAAAE\n",
       "CXoAAAAIEvQAAAAQJOgBAAAgSNADAABAkKAHAACAIEEPAAAAQS/H4/FjegQA8Pt4f3+fnvDQTqfT\n",
       "9AQAIlzoAQAAIEjQAwAAQJCgBwAAgCBBDwAAAEGCHgAAAIIEPQAAAAQJegAAAAgS9AAAABAk6AEA\n",
       "ACBI0AMAAECQoAcAAIAgQQ8AAABBgh4AAACCBD0AAAAECXoAAAAIEvQAAAAQJOgBAAAgSNADAABA\n",
       "kKAHAACAIEEPAAAAQYIeAAAAggQ9AAAABAl6AAAACBL0AAAAECToAQAAIEjQAwAAQJCgBwAAgCBB\n",
       "DwAAAEGCHgAAAIIEPQAAAAQJegAAAAgS9AAAABAk6AEAACBI0AMAAECQoAcAAIAgQQ8AAABBgh4A\n",
       "AACCBD0AAAAECXoAAAAIEvQAAAAQJOgBAAAgSNADAABAkKAHAACAIEEPAAAAQYIeAAAAggQ9AAAA\n",
       "BAl6AAAACBL0AAAAEHSYHgAA/F62bZuesLPWmp4AAF/iQg8AAABBgh4AAACCBD0AAAAECXoAAAAI\n",
       "EvQAAAAQJOgBAAAgSNADAABAkKAHAACAIEEPAAAAQYIeAAAAggQ9AAAABAl6AAAACBL0AAAAECTo\n",
       "AQAAIEjQAwAAQJCgBwAAgCBBDwAAAEGCHgAAAIIEPQAAAAQJegAAAAgS9AAAABAk6AEAACBI0AMA\n",
       "AECQoAcAAIAgQQ8AAABBgh4AAACCBD0AAAAECXoAAAAIEvQAAAAQJOgBAAAgSNADAABAkKAHAACA\n",
       "IEEPAAAAQYIeAAAAggQ9AAAABAl6AAAACBL0AAAAECToAQAAIEjQAwAAQJCgBwAAgCBBDwAAAEGC\n",
       "HgAAAIIEPQAAAAQJegAAAAgS9AAAABAk6AEAACBI0AMAAEDQYXoAAMCkbdumJwDAl7jQAwAAQJCg\n",
       "BwAAgCBBDwAAAEGCHgAAAIIEPQAAAAQJegAAAAgS9AAAABAk6AEAACBI0AMAAECQoAcAAIAgQQ8A\n",
       "AABBgh4AAACCBD0AAAAECXoAAAAIEvQAAAAQJOgBAAAgSNADAABAkKAHAACAIEEPAAAAQYIeAAAA\n",
       "ggQ9AAAABAl6AAAACBL0AAAAECToAQAAIEjQAwAAQJCgBwAAgCBBDwAAAEGCHgAAAIIEPQAAAAQJ\n",
       "egAAAAgS9AAAABAk6AEAACBI0AMAAECQoAcAAIAgQQ8AAABBgh4AAACCBD0AAAAECXoAAAAIEvQA\n",
       "AAAQJOgBAAAgSNADAABAkKAHAACAIEEPAAAAQYIeAAAAggQ9AAAABAl6AAAACBL0AAAAECToAQAA\n",
       "IOgwPQAA+D5rrekJnzzaptvtNj0BAL7EhR4AAACCBD0AAAAECXoAAAAIEvQAAAAQJOgBAAAgSNAD\n",
       "AABAkKAHAACAIEEPAAAAQYIeAAAAggQ9AAAABAl6AAAACBL0AAAAECToAQAAIEjQAwAAQJCgBwAA\n",
       "gCBBDwAAAEGCHgAAAIIEPQAAAAQJegAAAAgS9AAAABAk6AEAACBI0AMAAECQoAcAAIAgQQ8AAABB\n",
       "gh4AAACCBD0AAAAECXoAAAAIEvQAAAAQJOgBAAAgSNADAABAkKAHAACAIEEPAAAAQYIeAAAAggQ9\n",
       "AAAABAl6AAAACBL0AAAAECToAQAAIEjQAwAAQJCgBwAAgCBBDwAAAEGCHgAAAIIEPQAAAAQJegAA\n",
       "AAgS9AAAABAk6AEAACBI0AMAAECQoAcAAIAgQQ8AAABBh+kBAPBM1lrTE3bu9/v0hIf3aG8GAP+W\n",
       "Cz0AAAAECXoAAAAIEvQAAAAQJOgBAAAgSNADAABAkKAHAACAIEEPAAAAQYIeAAAAggQ9AAAABAl6\n",
       "AAAACBL0AAAAECToAQAAIEjQAwAAQJCgBwAAgCBBDwAAAEGCHgAAAIIEPQAAAAQJegAAAAgS9AAA\n",
       "ABAk6AEAACBI0AMAAECQoAcAAIAgQQ8AAABBgh4AAACCBD0AAAAECXoAAAAIEvQAAAAQJOgBAAAg\n",
       "SNADAABAkKAHAACAIEEPAAAAQYIeAAAAggQ9AAAABAl6AAAACBL0AAAAECToAQAAIEjQAwAAQJCg\n",
       "BwAAgCBBDwAAAEGCHgAAAIIEPQAAAAQJegAAAAgS9AAAABAk6AEAACBI0AMAAECQoAcAAIAgQQ8A\n",
       "AABBh+kBAPBMXl9fpyfwi9Za0xN27vf79ISd8/k8PQGAn3ChBwAAgCBBDwAAAEGCHgAAAIIEPQAA\n",
       "AAQJegAAAAgS9AAAABAk6AEAACBI0AMAAECQoAcAAIAgQQ8AAABBgh4AAACCBD0AAAAECXoAAAAI\n",
       "EvQAAAAQJOgBAAAgSNADAABAkKAHAACAIEEPAAAAQYIeAAAAggQ9AAAABAl6AAAACBL0AAAAECTo\n",
       "AQAAIEjQAwAAQJCgBwAAgCBBDwAAAEGCHgAAAIIEPQAAAAQJegAAAAgS9AAAABAk6AEAACBI0AMA\n",
       "AECQoAcAAIAgQQ8AAABBgh4AAACCBD0AAAAECXoAAAAIEvQAAAAQJOgBAAAgSNADAABAkKAHAACA\n",
       "IEEPAAAAQYIeAAAAggQ9AAAABAl6AAAACBL0AAAAECToAQAAIEjQAwAAQNBhegAAPJMfP35MT+AX\n",
       "rbWmJ+zY88+2bZueAPAwXOgBAAAgSNADAABAkKAHAACAIEEPAAAAQYIeAAAAggQ9AAAABAl6AAAA\n",
       "CBL0AAAAECToAQAAIEjQAwAAQJCgBwAAgCBBDwAAAEGCHgAAAIIEPQAAAAQJegAAAAgS9AAAABAk\n",
       "6AEAACBI0AMAAECQoAcAAIAgQQ8AAABBgh4AAACCBD0AAAAECXoAAAAIEvQAAAAQJOgBAAAgSNAD\n",
       "AABAkKAHAACAIEEPAAAAQYIeAAAAggQ9AAAABAl6AAAACBL0AAAAECToAQAAIEjQAwAAQJCgBwAA\n",
       "gCBBDwAAAEGCHgAAAIIEPQAAAAQJegAAAAgS9AAAABAk6AEAACBI0AMAAECQoAcAAIAgQQ8AAABB\n",
       "gh4AAACCBD0AAAAECXoAAAAIEvQAAAAQdJgeAADPZNu26Qk7j7bnEa21pifs3O/36Qk7r6+v0xN2\n",
       "/NMAf3OhBwAAgCBBDwAAAEGCHgAAAIIEPQAAAAQJegAAAAgS9AAAABAk6AEAACBI0AMAAECQoAcA\n",
       "AIAgQQ8AAABBgh4AAACCBD0AAAAECXoAAAAIEvQAAAAQJOgBAAAgSNADAABAkKAHAACAIEEPAAAA\n",
       "QYIeAAAAggQ9AAAABAl6AAAACBL0AAAAECToAQAAIEjQAwAAQJCgBwAAgCBBDwAAAEGCHgAAAIIE\n",
       "PQAAAAQJegAAAAgS9AAAABAk6AEAACBI0AMAAECQoAcAAIAgQQ8AAABBgh4AAACCBD0AAAAECXoA\n",
       "AAAIEvQAAAAQJOgBAAAgSNADAABAkKAHAACAIEEPAAAAQYIeAAAAggQ9AAAABAl6AAAACBL0AAAA\n",
       "ECToAQAAIOgwPQAAYNK2bdMTAOBLXOgBAAAgSNADAABAkKAHAACAIEEPAAAAQYIeAAAAggQ9AAAA\n",
       "BAl6AAAACBL0AAAAECToAQAAIEjQAwAAQJCgBwAAgCBBDwAAAEGCHgAAAIIEPQAAAAQJegAAAAgS\n",
       "9AAAABAk6AEAACBI0AMAAECQoAcAAIAgQQ8AAABBgh4AAACCBD0AAAAECXoAAAAIEvQAAAAQJOgB\n",
       "AAAgSNADAABAkKAHAACAIEEPAAAAQYIeAAAAggQ9AAAABAl6AAAACBL0AAAAECToAQAAIEjQAwAA\n",
       "QJCgBwAAgCBBDwAAAEGCHgAAAIIEPQAAAAQJegAAAAgS9AAAABAk6AEAACBI0AMAAECQoAcAAIAg\n",
       "QQ8AAABBgh4AAACCBD0AAAAECXoAAAAIEvQAAAAQdJgeAAAwaa01PQEAvsSFHgAAAIIEPQAAAAQJ\n",
       "egAAAAgS9AAAABAk6AEAACBI0AMAAECQoAcAAIAgQQ8AAABBgh4AAACCBD0AAAAECXoAAAAIEvQA\n",
       "AAAQJOgBAAAgSNADAABAkKAHAACAIEEPAAAAQYIeAAAAggQ9AAAABAl6AAAACBL0AAAAECToAQAA\n",
       "IEjQAwAAQJCgBwAAgCBBDwAAAEGCHgAAAIIEPQAAAAQJegAAAAgS9AAAABAk6AEAACBI0AMAAECQ\n",
       "oAcAAIAgQQ8AAABBgh4AAACCBD0AAAAECXoAAAAIEvQAAAAQJOgBAAAgSNADAABAkKAHAACAIEEP\n",
       "AAAAQYIeAAAAggQ9AAAABAl6AAAACBL0AAAAECToAQAAIEjQAwAAQJCgBwAAgCBBDwAAAEGH6QEA\n",
       "wO9lrTU9Yed6vU5PAIAvcaEHAACAIEEPAAAAQYIeAAAAggQ9AAAABAl6AAAACBL0AAAAECToAQAA\n",
       "IEjQAwAAQJCgBwAAgCBBDwAAAEGCHgAAAIIEPQAAAAQJegAAAAgS9AAAABAk6AEAACBI0AMAAECQ\n",
       "oAcAAIAgQQ8AAABBgh4AAACCBD0AAAAECXoAAAAIEvQAAAAQJOgBAAAgSNADAABAkKAHAACAIEEP\n",
       "AAAAQYIeAAAAggQ9AAAABAl6AAAACBL0AAAAECToAQAAIEjQAwAAQJCgBwAAgCBBDwAAAEGCHgAA\n",
       "AIIEPQAAAAQJegAAAAgS9AAAABAk6AEAACBI0AMAAECQoAcAAIAgQQ8AAABBgh4AAACCBD0AAAAE\n",
       "CXoAAAAIEvQAAAAQJOgBAAAg6OV4PH5MjwCAZ7HWmp6wc71epyd88mjfiH92Op2mJwDwEy70AAAA\n",
       "ECToAQAAIEjQAwAAQJCgBwAAgCBBDwAAAEGCHgAAAIIEPQAAAAQJegAAAAgS9AAAABAk6AEAACBI\n",
       "0AMAAECQoAcAAIAgQQ8AAABBgh4AAACCBD0AAAAECXoAAAAIEvQAAAAQJOgBAAAgSNADAABAkKAH\n",
       "AACAIEEPAAAAQYIeAAAAggQ9AAAABAl6AAAACBL0AAAAECToAQAAIEjQAwAAQJCgBwAAgCBBDwAA\n",
       "AEGCHgAAAIIEPQAAAAQJegAAAAgS9AAAABAk6AEAACBI0AMAAECQoAcAAIAgQQ8AAABBgh4AAACC\n",
       "BD0AAAAECXoAAAAIEvQAAAAQJOgBAAAgSNADAABAkKAHAACAIEEPAAAAQYIeAAAAggQ9AAAABAl6\n",
       "AAAACDpMDwB4NNfrdXrCzlpresLOtm3TE3Yul8v0BPhf3W636QkARLjQAwAAQJCgBwAAgCBBDwAA\n",
       "AEGCHgAAAIIEPQAAAAQJegAAAAgS9AAAABAk6AEAACBI0AMAAECQoAcAAIAgQQ8AAABBgh4AAACC\n",
       "BD0AAAAECXoAAAAIEvQAAAAQJOgBAAAgSNADAABAkKAHAACAIEEPAAAAQYIeAAAAggQ9AAAABAl6\n",
       "AAAACBL0AAAAECToAQAAIEjQAwAAQJCgBwAAgCBBDwAAAEGCHgAAAIIEPQAAAAQJegAAAAgS9AAA\n",
       "ABAk6AEAACBI0MNf7dnBacRAFERBFnyd0KWwNJEojvVZR2PM32eqIujrowEAAIIEPQAAAAQJegAA\n",
       "AAgS9AAAABAk6AEAACBI0AMAAECQoAcAAIAgQQ8AAABBgh4AAACCBD0AAAAECXoAAAAIEvQAAAAQ\n",
       "JOgBAAAgSNADAABAkKAHAACAIEEPAAAAQa+11nt6BMAnue97egL8a+d5Tk94uK5resLD3nt6AgAR\n",
       "HnoAAAAIEvQAAAAQJOgBAAAgSNADAABAkKAHAACAIEEPAAAAQYIeAAAAggQ9AAAABAl6AAAACBL0\n",
       "AAAAECToAQAAIEjQAwAAQJCgBwAAgCBBDwAAAEGCHgAAAIIEPQAAAAQJegAAAAgS9AAAABAk6AEA\n",
       "ACBI0AMAAECQoAcAAIAgQQ8AAABBgh4AAACCBD0AAAAECXoAAAAIEvQAAAAQJOgBAAAgSNADAABA\n",
       "kKAHAACAIEEPAAAAQYIeAAAAggQ9AAAABAl6AAAACBL0AAAAECToAQAAIEjQAwAAQJCgBwAAgCBB\n",
       "DwAAAEGCHgAAAIIEPQAAAAQJegAAAAgS9AAAABAk6AEAACBI0AMAAECQoAcAAIAgQQ8AAABBgh4A\n",
       "AACCvqYHAMBv7L2nJzx82p7jOKYnAAB/xEMPAAAAQYIeAAAAggQ9AAAABAl6AAAACBL0AAAAECTo\n",
       "AQAAIEjQAwAAQJCgBwAAgCBBDwAAAEGCHgAAAIIEPQAAAAQJegAAAAgS9AAAABAk6AEAACBI0AMA\n",
       "AECQoAcAAIAgQQ8AAABBgh4AAACCBD0AAAAECXoAAAAIEvQAAAAQJOgBAAAgSNADAABAkKAHAACA\n",
       "IEEPAAAAQYIeAAAAggQ9AAAABAl6AAAACBL0AAAAECToAQAAIEjQAwAAQJCgBwAAgCBBDwAAAEGC\n",
       "HgAAAIIEPQAAAAQJegAAAAgS9AAAABAk6AEAACBI0AMAAECQoAcAAIAgQQ8AAABBgh4AAACCBD0A\n",
       "AAAECXoAAAAIEvQAAAAQJOgBAAAgSNADAABAkKAHAACAoNda6z09AgAAAPgZDz0AAAAECXoAAAAI\n",
       "EvQAAAAQJOgBAAAgSNADAABAkKAHAACAIEEPAAAAQYIeAAAAggQ9AAAABAl6AAAACBL0AAAAECTo\n",
       "AQAAIEjQAwAAQJCgBwAAgCBBDwAAAEGCHgAAAIIEPQAAAAQJegAAAAgS9AAAABAk6AEAACBI0AMA\n",
       "AECQoAcAAIAgQQ8AAABBgh4AAACCBD0AAAAECXoAAAAIEvQAAAAQJOgBAAAgSNADAABAkKAHAACA\n",
       "IEEPAAAAQYIeAAAAggQ9AAAABAl6AAAACBL0AAAAECToAQAAIEjQAwAAQJCgBwAAgCBBDwAAAEGC\n",
       "HgAAAIIEPQAAAAQJegAAAAgS9AAAABAk6AEAACBI0AMAAECQoAcAAIAgQQ8AAABBgh4AAACCBD0A\n",
       "AAAECXoAAAAIEvQAAAAQJOgBAAAgSNADAABAkKAHAACAIEEPAAAAQYIeAAAAggQ9AAAABAl6AAAA\n",
       "CBL0AAAAECToAQAAIEjQAwAAQJCgBwAAgCBBDwAAAEGCHgAAAIIEPQAAAAQJegAAAAgS9AAAABAk\n",
       "6AEAACBI0AMAAECQoAcAAIAgQQ8AAABBgh4AAACCBD0AAAAECXoAAAAIEvQAAAAQJOgBAAAgSNAD\n",
       "AABAkKAHAACAIEEPAAAAQYIeAAAAggQ9AAAABAl6AAAACBL0AAAAECToAQAAIEjQAwAAQJCgBwAA\n",
       "gCBBDwAAAEGCHgAAAIIEPQAAAAQJegAAAAgS9AAAABAk6AEAACBI0AMAAECQoAcAAIAgQQ8AAABB\n",
       "gh4AAACCBD0AAAAECXoAAAAIEvQAAAAQJOgBAAAgSNADAABAkKAHAACAIEEPAAAAQYIeAAAAggQ9\n",
       "AAAABAl6AAAACBL0AAAAECToAQAAIEjQAwAAQJCgBwAAgCBBDwAAAEGCHgAAAIIEPQAAAAQJegAA\n",
       "AAgS9AAAABAk6AEAACBI0AMAAECQoAcAAIAgQQ8AAABBgh4AAACCBD0AAAAECXoAAAAIEvQAAAAQ\n",
       "JOgBAAAgSNADAABAkKAHAACAIEEPAAAAQYIeAAAAggQ9AAAABAl6AAAACBL0AAAAECToAQAAIEjQ\n",
       "AwAAQJCgBwAAgCBBDwAAAEGCHgAAAIIEPThK0VkAAAKNSURBVAAAAAQJegAAAAgS9AAAABAk6AEA\n",
       "ACBI0AMAAECQoAcAAIAgQQ8AAABBgh4AAACCBD0AAAAECXoAAAAIEvQAAAAQJOgBAAAgSNADAABA\n",
       "kKAHAACAIEEPAAAAQYIeAAAAggQ9AAAABAl6AAAACBL0AAAAECToAQAAIEjQAwAAQJCgBwAAgCBB\n",
       "DwAAAEGCHgAAAIIEPQAAAAQJegAAAAgS9AAAABAk6AEAACBI0AMAAECQoAcAAIAgQQ8AAABBgh4A\n",
       "AACCBD0AAAAECXoAAAAIEvQAAAAQJOgBAAAgSNADAABAkKAHAACAIEEPAAAAQYIeAAAAggQ9AAAA\n",
       "BAl6AAAACBL0AAAAECToAQAAIEjQAwAAQJCgBwAAgCBBDwAAAEGCHgAAAIIEPQAAAAQJegAAAAgS\n",
       "9AAAABAk6AEAACBI0AMAAECQoAcAAIAgQQ8AAABBgh4AAACCBD0AAAAECXoAAAAIEvQAAAAQJOgB\n",
       "AAAgSNADAABAkKAHAACAIEEPAAAAQYIeAAAAggQ9AAAABAl6AAAACBL0AAAAECToAQAAIEjQAwAA\n",
       "QJCgBwAAgCBBDwAAAEGCHgAAAIIEPQAAAAQJegAAAAgS9AAAABAk6AEAACBI0AMAAECQoAcAAIAg\n",
       "QQ8AAABBgh4AAACCBD0AAAAECXoAAAAIEvQAAAAQJOgBAAAgSNADAABAkKAHAACAIEEPAAAAQYIe\n",
       "AAAAggQ9AAAABAl6AAAACBL0AAAAECToAQAAIEjQAwAAQJCgBwAAgCBBDwAAAEGCHgAAAIIEPQAA\n",
       "AAQJegAAAAgS9AAAABAk6AEAACBI0AMAAECQoAcAAIAgQQ8AAABBgh4AAACCBD0AAAAECXoAAAAI\n",
       "+gatn24tOmJfUgAAAABJRU5ErkJggg==\n",
       "\" transform=\"translate(141, 123)\"/>\n",
       "</g>\n",
       "<path clip-path=\"url(#clip650)\" d=\"M1340.7 1486.45 L2352.76 1486.45 L2352.76 123.472 L1340.7 123.472  Z\" fill=\"#ffffff\" fill-rule=\"evenodd\" fill-opacity=\"1\"/>\n",
       "<defs>\n",
       "  <clipPath id=\"clip653\">\n",
       "    <rect x=\"1340\" y=\"123\" width=\"1013\" height=\"1364\"/>\n",
       "  </clipPath>\n",
       "</defs>\n",
       "<polyline clip-path=\"url(#clip653)\" style=\"stroke:#000000; stroke-linecap:round; stroke-linejoin:round; stroke-width:2; stroke-opacity:0.1; fill:none\" points=\"1503.35,1486.45 1503.35,123.472 \"/>\n",
       "<polyline clip-path=\"url(#clip653)\" style=\"stroke:#000000; stroke-linecap:round; stroke-linejoin:round; stroke-width:2; stroke-opacity:0.1; fill:none\" points=\"1684.07,1486.45 1684.07,123.472 \"/>\n",
       "<polyline clip-path=\"url(#clip653)\" style=\"stroke:#000000; stroke-linecap:round; stroke-linejoin:round; stroke-width:2; stroke-opacity:0.1; fill:none\" points=\"1864.8,1486.45 1864.8,123.472 \"/>\n",
       "<polyline clip-path=\"url(#clip653)\" style=\"stroke:#000000; stroke-linecap:round; stroke-linejoin:round; stroke-width:2; stroke-opacity:0.1; fill:none\" points=\"2045.52,1486.45 2045.52,123.472 \"/>\n",
       "<polyline clip-path=\"url(#clip653)\" style=\"stroke:#000000; stroke-linecap:round; stroke-linejoin:round; stroke-width:2; stroke-opacity:0.1; fill:none\" points=\"2226.25,1486.45 2226.25,123.472 \"/>\n",
       "<polyline clip-path=\"url(#clip653)\" style=\"stroke:#000000; stroke-linecap:round; stroke-linejoin:round; stroke-width:2; stroke-opacity:0.1; fill:none\" points=\"1340.7,1267.4 2352.76,1267.4 \"/>\n",
       "<polyline clip-path=\"url(#clip653)\" style=\"stroke:#000000; stroke-linecap:round; stroke-linejoin:round; stroke-width:2; stroke-opacity:0.1; fill:none\" points=\"1340.7,1024.01 2352.76,1024.01 \"/>\n",
       "<polyline clip-path=\"url(#clip653)\" style=\"stroke:#000000; stroke-linecap:round; stroke-linejoin:round; stroke-width:2; stroke-opacity:0.1; fill:none\" points=\"1340.7,780.621 2352.76,780.621 \"/>\n",
       "<polyline clip-path=\"url(#clip653)\" style=\"stroke:#000000; stroke-linecap:round; stroke-linejoin:round; stroke-width:2; stroke-opacity:0.1; fill:none\" points=\"1340.7,537.233 2352.76,537.233 \"/>\n",
       "<polyline clip-path=\"url(#clip653)\" style=\"stroke:#000000; stroke-linecap:round; stroke-linejoin:round; stroke-width:2; stroke-opacity:0.1; fill:none\" points=\"1340.7,293.844 2352.76,293.844 \"/>\n",
       "<path clip-path=\"url(#clip650)\" d=\"M1539.1 16.7545 L1539.1 25.383 Q1534.97 21.5346 1530.27 19.6307 Q1525.61 17.7268 1520.34 17.7268 Q1509.97 17.7268 1504.46 24.0867 Q1498.96 30.4061 1498.96 42.3968 Q1498.96 54.3469 1504.46 60.7069 Q1509.97 67.0263 1520.34 67.0263 Q1525.61 67.0263 1530.27 65.1223 Q1534.97 63.2184 1539.1 59.3701 L1539.1 67.9175 Q1534.81 70.8341 1529.99 72.2924 Q1525.21 73.7508 1519.86 73.7508 Q1506.13 73.7508 1498.23 65.3654 Q1490.33 56.9395 1490.33 42.3968 Q1490.33 27.8135 1498.23 19.4281 Q1506.13 11.0023 1519.86 11.0023 Q1525.29 11.0023 1530.07 12.4606 Q1534.89 13.8784 1539.1 16.7545 Z\" fill=\"#000000\" fill-rule=\"nonzero\" fill-opacity=\"1\" /><path clip-path=\"url(#clip650)\" d=\"M1569 32.4315 Q1563 32.4315 1559.52 37.1306 Q1556.03 41.7891 1556.03 49.9314 Q1556.03 58.0738 1559.48 62.7728 Q1562.96 67.4314 1569 67.4314 Q1574.95 67.4314 1578.43 62.7323 Q1581.92 58.0333 1581.92 49.9314 Q1581.92 41.8701 1578.43 37.1711 Q1574.95 32.4315 1569 32.4315 M1569 26.1121 Q1578.72 26.1121 1584.27 32.4315 Q1589.82 38.7509 1589.82 49.9314 Q1589.82 61.0714 1584.27 67.4314 Q1578.72 73.7508 1569 73.7508 Q1559.23 73.7508 1553.68 67.4314 Q1548.17 61.0714 1548.17 49.9314 Q1548.17 38.7509 1553.68 32.4315 Q1559.23 26.1121 1569 26.1121 Z\" fill=\"#000000\" fill-rule=\"nonzero\" fill-opacity=\"1\" /><path clip-path=\"url(#clip650)\" d=\"M1601.4 54.671 L1601.4 27.2059 L1608.86 27.2059 L1608.86 54.3874 Q1608.86 60.8284 1611.37 64.0691 Q1613.88 67.2693 1618.9 67.2693 Q1624.94 67.2693 1628.42 63.421 Q1631.95 59.5726 1631.95 52.9291 L1631.95 27.2059 L1639.4 27.2059 L1639.4 72.576 L1631.95 72.576 L1631.95 65.6084 Q1629.23 69.7404 1625.63 71.7658 Q1622.06 73.7508 1617.32 73.7508 Q1609.5 73.7508 1605.45 68.8897 Q1601.4 64.0286 1601.4 54.671 M1620.16 26.1121 L1620.16 26.1121 Z\" fill=\"#000000\" fill-rule=\"nonzero\" fill-opacity=\"1\" /><path clip-path=\"url(#clip650)\" d=\"M1692.47 45.1919 L1692.47 72.576 L1685.01 72.576 L1685.01 45.4349 Q1685.01 38.994 1682.5 35.7938 Q1679.99 32.5936 1674.97 32.5936 Q1668.93 32.5936 1665.45 36.4419 Q1661.96 40.2903 1661.96 46.9338 L1661.96 72.576 L1654.47 72.576 L1654.47 27.2059 L1661.96 27.2059 L1661.96 34.2544 Q1664.64 30.163 1668.24 28.1376 Q1671.89 26.1121 1676.63 26.1121 Q1684.45 26.1121 1688.46 30.9732 Q1692.47 35.7938 1692.47 45.1919 Z\" fill=\"#000000\" fill-rule=\"nonzero\" fill-opacity=\"1\" /><path clip-path=\"url(#clip650)\" d=\"M1714.71 14.324 L1714.71 27.2059 L1730.06 27.2059 L1730.06 32.9987 L1714.71 32.9987 L1714.71 57.6282 Q1714.71 63.1779 1716.21 64.7578 Q1717.74 66.3376 1722.4 66.3376 L1730.06 66.3376 L1730.06 72.576 L1722.4 72.576 Q1713.78 72.576 1710.49 69.3758 Q1707.21 66.1351 1707.21 57.6282 L1707.21 32.9987 L1701.74 32.9987 L1701.74 27.2059 L1707.21 27.2059 L1707.21 14.324 L1714.71 14.324 Z\" fill=\"#000000\" fill-rule=\"nonzero\" fill-opacity=\"1\" /><path clip-path=\"url(#clip650)\" d=\"M1778.67 48.0275 L1778.67 51.6733 L1744.4 51.6733 Q1744.89 59.3701 1749.02 63.421 Q1753.19 67.4314 1760.6 67.4314 Q1764.9 67.4314 1768.91 66.3781 Q1772.96 65.3249 1776.93 63.2184 L1776.93 70.267 Q1772.92 71.9684 1768.71 72.8596 Q1764.49 73.7508 1760.16 73.7508 Q1749.3 73.7508 1742.94 67.4314 Q1736.62 61.1119 1736.62 50.3365 Q1736.62 39.1965 1742.62 32.6746 Q1748.65 26.1121 1758.86 26.1121 Q1768.02 26.1121 1773.32 32.0264 Q1778.67 37.9003 1778.67 48.0275 M1771.22 45.84 Q1771.14 39.7232 1767.77 36.0774 Q1764.45 32.4315 1758.94 32.4315 Q1752.7 32.4315 1748.94 35.9558 Q1745.21 39.4801 1744.64 45.8805 L1771.22 45.84 Z\" fill=\"#000000\" fill-rule=\"nonzero\" fill-opacity=\"1\" /><path clip-path=\"url(#clip650)\" d=\"M1817.19 34.1734 Q1815.94 33.4443 1814.44 33.1202 Q1812.98 32.7556 1811.2 32.7556 Q1804.88 32.7556 1801.48 36.8875 Q1798.11 40.9789 1798.11 48.6757 L1798.11 72.576 L1790.62 72.576 L1790.62 27.2059 L1798.11 27.2059 L1798.11 34.2544 Q1800.46 30.1225 1804.23 28.1376 Q1808 26.1121 1813.39 26.1121 Q1814.16 26.1121 1815.09 26.2337 Q1816.02 26.3147 1817.15 26.5172 L1817.19 34.1734 Z\" fill=\"#000000\" fill-rule=\"nonzero\" fill-opacity=\"1\" /><path clip-path=\"url(#clip650)\" d=\"M1847.98 9.54393 L1847.98 15.7418 L1840.85 15.7418 Q1836.84 15.7418 1835.26 17.3622 Q1833.72 18.9825 1833.72 23.1955 L1833.72 27.2059 L1846 27.2059 L1846 32.9987 L1833.72 32.9987 L1833.72 72.576 L1826.23 72.576 L1826.23 32.9987 L1819.1 32.9987 L1819.1 27.2059 L1826.23 27.2059 L1826.23 24.0462 Q1826.23 16.471 1829.75 13.0277 Q1833.28 9.54393 1840.93 9.54393 L1847.98 9.54393 Z\" fill=\"#000000\" fill-rule=\"nonzero\" fill-opacity=\"1\" /><path clip-path=\"url(#clip650)\" d=\"M1874.84 49.7694 Q1865.81 49.7694 1862.32 51.8354 Q1858.84 53.9013 1858.84 58.8839 Q1858.84 62.8538 1861.43 65.2034 Q1864.06 67.5124 1868.56 67.5124 Q1874.76 67.5124 1878.48 63.1374 Q1882.25 58.7219 1882.25 51.4303 L1882.25 49.7694 L1874.84 49.7694 M1889.71 46.6907 L1889.71 72.576 L1882.25 72.576 L1882.25 65.6895 Q1879.7 69.8214 1875.89 71.8063 Q1872.08 73.7508 1866.58 73.7508 Q1859.61 73.7508 1855.48 69.8619 Q1851.38 65.9325 1851.38 59.3701 Q1851.38 51.7138 1856.49 47.825 Q1861.63 43.9361 1871.8 43.9361 L1882.25 43.9361 L1882.25 43.2069 Q1882.25 38.0623 1878.85 35.2672 Q1875.49 32.4315 1869.37 32.4315 Q1865.48 32.4315 1861.8 33.3632 Q1858.11 34.295 1854.71 36.1584 L1854.71 29.2718 Q1858.8 27.692 1862.65 26.9223 Q1866.49 26.1121 1870.14 26.1121 Q1879.98 26.1121 1884.84 31.2163 Q1889.71 36.3204 1889.71 46.6907 Z\" fill=\"#000000\" fill-rule=\"nonzero\" fill-opacity=\"1\" /><path clip-path=\"url(#clip650)\" d=\"M1937.71 28.9478 L1937.71 35.9153 Q1934.55 34.1734 1931.35 33.3227 Q1928.19 32.4315 1924.95 32.4315 Q1917.7 32.4315 1913.69 37.0496 Q1909.68 41.6271 1909.68 49.9314 Q1909.68 58.2358 1913.69 62.8538 Q1917.7 67.4314 1924.95 67.4314 Q1928.19 67.4314 1931.35 66.5807 Q1934.55 65.6895 1937.71 63.9476 L1937.71 70.8341 Q1934.59 72.2924 1931.23 73.0216 Q1927.91 73.7508 1924.14 73.7508 Q1913.89 73.7508 1907.85 67.3098 Q1901.82 60.8689 1901.82 49.9314 Q1901.82 38.832 1907.89 32.472 Q1914.01 26.1121 1924.62 26.1121 Q1928.07 26.1121 1931.35 26.8413 Q1934.63 27.5299 1937.71 28.9478 Z\" fill=\"#000000\" fill-rule=\"nonzero\" fill-opacity=\"1\" /><path clip-path=\"url(#clip650)\" d=\"M1958.04 14.324 L1958.04 27.2059 L1973.4 27.2059 L1973.4 32.9987 L1958.04 32.9987 L1958.04 57.6282 Q1958.04 63.1779 1959.54 64.7578 Q1961.08 66.3376 1965.74 66.3376 L1973.4 66.3376 L1973.4 72.576 L1965.74 72.576 Q1957.11 72.576 1953.83 69.3758 Q1950.55 66.1351 1950.55 57.6282 L1950.55 32.9987 L1945.08 32.9987 L1945.08 27.2059 L1950.55 27.2059 L1950.55 14.324 L1958.04 14.324 Z\" fill=\"#000000\" fill-rule=\"nonzero\" fill-opacity=\"1\" /><path clip-path=\"url(#clip650)\" d=\"M1982.43 54.671 L1982.43 27.2059 L1989.88 27.2059 L1989.88 54.3874 Q1989.88 60.8284 1992.4 64.0691 Q1994.91 67.2693 1999.93 67.2693 Q2005.97 67.2693 2009.45 63.421 Q2012.97 59.5726 2012.97 52.9291 L2012.97 27.2059 L2020.43 27.2059 L2020.43 72.576 L2012.97 72.576 L2012.97 65.6084 Q2010.26 69.7404 2006.66 71.7658 Q2003.09 73.7508 1998.35 73.7508 Q1990.53 73.7508 1986.48 68.8897 Q1982.43 64.0286 1982.43 54.671 M2001.19 26.1121 L2001.19 26.1121 Z\" fill=\"#000000\" fill-rule=\"nonzero\" fill-opacity=\"1\" /><path clip-path=\"url(#clip650)\" d=\"M2056.4 49.7694 Q2047.37 49.7694 2043.88 51.8354 Q2040.4 53.9013 2040.4 58.8839 Q2040.4 62.8538 2042.99 65.2034 Q2045.63 67.5124 2050.12 67.5124 Q2056.32 67.5124 2060.05 63.1374 Q2063.81 58.7219 2063.81 51.4303 L2063.81 49.7694 L2056.4 49.7694 M2071.27 46.6907 L2071.27 72.576 L2063.81 72.576 L2063.81 65.6895 Q2061.26 69.8214 2057.45 71.8063 Q2053.65 73.7508 2048.14 73.7508 Q2041.17 73.7508 2037.04 69.8619 Q2032.95 65.9325 2032.95 59.3701 Q2032.95 51.7138 2038.05 47.825 Q2043.19 43.9361 2053.36 43.9361 L2063.81 43.9361 L2063.81 43.2069 Q2063.81 38.0623 2060.41 35.2672 Q2057.05 32.4315 2050.93 32.4315 Q2047.04 32.4315 2043.36 33.3632 Q2039.67 34.295 2036.27 36.1584 L2036.27 29.2718 Q2040.36 27.692 2044.21 26.9223 Q2048.06 26.1121 2051.7 26.1121 Q2061.55 26.1121 2066.41 31.2163 Q2071.27 36.3204 2071.27 46.6907 Z\" fill=\"#000000\" fill-rule=\"nonzero\" fill-opacity=\"1\" /><path clip-path=\"url(#clip650)\" d=\"M2086.62 9.54393 L2094.07 9.54393 L2094.07 72.576 L2086.62 72.576 L2086.62 9.54393 Z\" fill=\"#000000\" fill-rule=\"nonzero\" fill-opacity=\"1\" /><path clip-path=\"url(#clip650)\" d=\"M2111.57 62.2867 L2120.12 62.2867 L2120.12 72.576 L2111.57 72.576 L2111.57 62.2867 M2111.57 29.6769 L2120.12 29.6769 L2120.12 39.9662 L2111.57 39.9662 L2111.57 29.6769 Z\" fill=\"#000000\" fill-rule=\"nonzero\" fill-opacity=\"1\" /><path clip-path=\"url(#clip650)\" d=\"M2165.29 71.3202 L2165.29 63.8666 Q2168.37 65.3249 2171.53 66.0946 Q2174.69 66.8642 2177.73 66.8642 Q2185.83 66.8642 2190.08 61.436 Q2194.37 55.9673 2194.98 44.8678 Q2192.63 48.3516 2189.03 50.215 Q2185.42 52.0784 2181.05 52.0784 Q2171.97 52.0784 2166.67 46.6097 Q2161.4 41.1005 2161.4 31.5808 Q2161.4 22.2638 2166.91 16.633 Q2172.42 11.0023 2181.57 11.0023 Q2192.07 11.0023 2197.57 19.0636 Q2203.12 27.0843 2203.12 42.3968 Q2203.12 56.6965 2196.32 65.2439 Q2189.55 73.7508 2178.09 73.7508 Q2175.01 73.7508 2171.85 73.1431 Q2168.69 72.5355 2165.29 71.3202 M2181.57 45.678 Q2187.08 45.678 2190.28 41.9107 Q2193.52 38.1433 2193.52 31.5808 Q2193.52 25.0589 2190.28 21.2916 Q2187.08 17.4837 2181.57 17.4837 Q2176.06 17.4837 2172.82 21.2916 Q2169.62 25.0589 2169.62 31.5808 Q2169.62 38.1433 2172.82 41.9107 Q2176.06 45.678 2181.57 45.678 Z\" fill=\"#000000\" fill-rule=\"nonzero\" fill-opacity=\"1\" /><g clip-path=\"url(#clip653)\">\n",
       "<image width=\"1012\" height=\"1363\" xlink:href=\"data:image/png;base64,\n",
       "iVBORw0KGgoAAAANSUhEUgAAA/QAAAVTCAYAAABj7GMOAAAgAElEQVR4nOzZIasW9h+Gcc/fAw70\n",
       "WTMdmeA0z3pO0rGXoCzYZxNk+CIMmo0rJg+yYBsoGFyzD7RpMggLbsWd5R/iQP/h+1zb5/MK7npx\n",
       "72w2m6NjAAAAQMr/pgcAAAAAn07QAwAAQJCgBwAAgCBBDwAAAEGCHgAAAIIEPQAAAAQJegAAAAgS\n",
       "9AAAABAk6AEAACBI0AMAAECQoAcAAIAgQQ8AAABBgh4AAACCBD0AAAAECXoAAAAIEvQAAAAQJOgB\n",
       "AAAgSNADAABAkKAHAACAIEEPAAAAQYIeAAAAggQ9AAAABAl6AAAACBL0AAAAECToAQAAIEjQAwAA\n",
       "QJCgBwAAgCBBDwAAAEGCHgAAAIIEPQAAAAQJegAAAAgS9AAAABAk6AEAACBI0AMAAECQoAcAAIAg\n",
       "QQ8AAABBgh4AAACCBD0AAAAECXoAAAAIEvQAAAAQJOgBAAAgSNADAABAkKAHAACAIEEPAAAAQYIe\n",
       "AAAAggQ9AAAABAl6AAAACBL0AAAAECToAQAAIEjQAwAAQJCgBwAAgCBBDwAAAEGCHgAAAIIEPQAA\n",
       "AAQJegAAAAgS9AAAABAk6AEAACBI0AMAAECQoAcAAIAgQQ8AAABBgh4AAACCBD0AAAAECXoAAAAI\n",
       "EvQAAAAQJOgBAAAgSNADAABAkKAHAACAIEEPAAAAQYIeAAAAggQ9AAAABAl6AAAACBL0AAAAECTo\n",
       "AQAAIEjQAwAAQJCgBwAAgCBBDwAAAEGCHgAAAIIEPQAAAAQJegAAAAgS9AAAABAk6AEAACBI0AMA\n",
       "AECQoAcAAIAgQQ8AAABBgh4AAACCBD0AAAAECXoAAAAIEvQAAAAQJOgBAAAgSNADAABAkKAHAACA\n",
       "IEEPAAAAQYIeAAAAggQ9AAAABAl6AAAACBL0AAAAECToAQAAIEjQAwAAQJCgBwAAgCBBDwAAAEGC\n",
       "HgAAAIIEPQAAAAQJegAAAAgS9AAAABAk6AEAACBI0AMAAECQoAcAAIAgQQ8AAABBgh4AAACCBD0A\n",
       "AAAECXoAAAAIEvQAAAAQJOgBAAAgSNADAABAkKAHAACAIEEPAAAAQYIeAAAAggQ9AAAABAl6AAAA\n",
       "CBL0AAAAECToAQAAIEjQAwAAQJCgBwAAgCBBDwAAAEGCHgAAAIIEPQAAAAQJegAAAAgS9AAAABAk\n",
       "6AEAACBI0AMAAECQoAcAAIAgQQ8AAABBgh4AAACCBD0AAAAECXoAAAAIEvQAAAAQJOgBAAAgSNAD\n",
       "AABAkKAHAACAIEEPAAAAQYIeAAAAggQ9AAAABAl6AAAACBL0AAAAECToAQAAIEjQAwAAQJCgBwAA\n",
       "gCBBDwAAAEGCHgAAAIIEPQAAAAQJegAAAAgS9AAAABAk6AEAACBI0AMAAECQoAcAAIAgQQ8AAABB\n",
       "gh4AAACCBD0AAAAECXoAAAAIEvQAAAAQJOgBAAAgSNADAABAkKAHAACAIEEPAAAAQYIeAAAAggQ9\n",
       "AAAABAl6AAAACBL0AAAAECToAQAAIEjQAwAAQJCgBwAAgCBBDwAAAEGCHgAAAIIEPQAAAAQJegAA\n",
       "AAgS9AAAABAk6AEAACBI0AMAAECQoAcAAIAgQQ8AAABBgh4AAACCBD0AAAAECXoAAAAIEvQAAAAQ\n",
       "JOgBAAAgSNADAABAkKAHAACAIEEPAAAAQYIeAAAAggQ9AAAABAl6AAAACBL0AAAAECToAQAAIEjQ\n",
       "AwAAQNDu9AAAWm7cuDE9YfH7779PT1j89NNP0xMAgP8IDz0AAAAECXoAAAAIEvQAAAAQJOgBAAAg\n",
       "SNADAABAkKAHAACAIEEPAAAAQYIeAAAAggQ9AAAABAl6AAAACBL0AAAAECToAQAAIEjQAwAAQJCg\n",
       "BwAAgCBBDwAAAEGCHgAAAIIEPQAAAAQJegAAAAgS9AAAABAk6AEAACBI0AMAAECQoAcAAIAgQQ8A\n",
       "AABBgh4AAACCBD0AAAAECXoAAAAIEvQAAAAQJOgBAAAgSNADAABAkKAHAACAIEEPAAAAQYIeAAAA\n",
       "ggQ9AAAABAl6AAAACBL0AAAAECToAQAAIEjQAwAAQJCgBwAAgCBBDwAAAEGCHgAAAIIEPQAAAAQJ\n",
       "egAAAAgS9AAAABAk6AEAACBI0AMAAECQoAcAAIAgQQ8AAABBgh4AAACCdjabzdH0CAAAAODTeOgB\n",
       "AAAgSNADAABAkKAHAACAIEEPAAAAQYIeAAAAggQ9AAAABAl6AAAACBL0AAAAECToAQAAIEjQAwAA\n",
       "QJCgBwAAgCBBDwAAAEGCHgAAAIIEPQAAAAQJegAAAAgS9AAAABAk6AEAACBI0AMAAECQoAcAAIAg\n",
       "QQ8AAABBgh4AAACCBD0AAAAECXoAAAAIEvQAAAAQJOgBAAAgSNADAABAkKAHAACAIEEPAAAAQYIe\n",
       "AAAAggQ9AAAABAl6AAAACBL0AAAAECToAQAAIEjQAwAAQJCgBwAAgCBBDwAAAEGCHgAAAIIEPQAA\n",
       "AAQJegAAAAgS9AAAABAk6AEAACBI0AMAAECQoAcAAIAgQQ8AAABBgh4AAACCBD0AAAAECXoAAAAI\n",
       "EvQAAAAQtDs9AAD+H1euXJmesDg8PJyesNi2PceOHTv2zTffTE9Y3Lt3b3rC4s6dO9MTAIjw0AMA\n",
       "AECQoAcAAIAgQQ8AAABBgh4AAACCBD0AAAAECXoAAAAIEvQAAAAQJOgBAAAgSNADAABAkKAHAACA\n",
       "IEEPAAAAQYIeAAAAggQ9AAAABAl6AAAACBL0AAAAECToAQAAIEjQAwAAQJCgBwAAgCBBDwAAAEGC\n",
       "HgAAAIIEPQAAAAQJegAAAAgS9AAAABAk6AEAACBI0AMAAECQoAcAAIAgQQ8AAABBgh4AAACCBD0A\n",
       "AAAECXoAAAAIEvQAAAAQJOgBAAAgSNADAABAkKAHAACAIEEPAAAAQYIeAAAAggQ9AAAABAl6AAAA\n",
       "CBL0AAAAECToAQAAIEjQAwAAQJCgBwAAgCBBDwAAAEGCHgAAAIIEPQAAAAQJegAAAAgS9AAAABC0\n",
       "s9lsjqZHAMDnevjw4fSExYsXL6YnLK5duzY9Yeu9f/9+esLiq6++mp4AQISHHgAAAIIEPQAAAAQJ\n",
       "egAAAAgS9AAAABAk6AEAACBI0AMAAECQoAcAAIAgQQ8AAABBgh4AAACCBD0AAAAECXoAAAAIEvQA\n",
       "AAAQJOgBAAAgSNADAABAkKAHAACAIEEPAAAAQYIeAAAAggQ9AAAABAl6AAAACBL0AAAAECToAQAA\n",
       "IEjQAwAAQJCgBwAAgCBBDwAAAEGCHgAAAIIEPQAAAAQJegAAAAgS9AAAABAk6AEAACBI0AMAAECQ\n",
       "oAcAAIAgQQ8AAABBgh4AAACCBD0AAAAECXoAAAAIEvQAAAAQJOgBAAAgSNADAABAkKAHAACAIEEP\n",
       "AAAAQYIeAAAAggQ9AAAABAl6AAAACBL0AAAAECToAQAAIEjQAwAAQJCgBwAAgCBBDwAAAEG70wMA\n",
       "aDl37tz0hMXTp0+nJyxevXo1PWGxt7c3PeEDly5dmp6wOH78+PQEAPgsHnoAAAAIEvQAAAAQJOgB\n",
       "AAAgSNADAABAkKAHAACAIEEPAAAAQYIeAAAAggQ9AAAABAl6AAAACBL0AAAAECToAQAAIEjQAwAA\n",
       "QJCgBwAAgCBBDwAAAEGCHgAAAIIEPQAAAAQJegAAAAgS9AAAABAk6AEAACBI0AMAAECQoAcAAIAg\n",
       "QQ8AAABBgh4AAACCBD0AAAAECXoAAAAIEvQAAAAQJOgBAAAgSNADAABAkKAHAACAIEEPAAAAQYIe\n",
       "AAAAggQ9AAAABAl6AAAACBL0AAAAECToAQAAIEjQAwAAQJCgBwAAgCBBDwAAAEGCHgAAAIIEPQAA\n",
       "AAQJegAAAAgS9AAAABAk6AEAACBI0AMAAECQoAcAAIAgQQ8AAABBgh4AAACCBD0AAAAE7Ww2m6Pp\n",
       "EQDwua5duzY9YXH//v3pCVvv8PBwesJif39/esJib29vegIAER56AAAACBL0AAAAECToAQAAIEjQ\n",
       "AwAAQJCgBwAAgCBBDwAAAEGCHgAAAIIEPQAAAAQJegAAAAgS9AAAABAk6AEAACBI0AMAAECQoAcA\n",
       "AIAgQQ8AAABBgh4AAACCBD0AAAAECXoAAAAIEvQAAAAQJOgBAAAgSNADAABAkKAHAACAIEEPAAAA\n",
       "QYIeAAAAggQ9AAAABAl6AAAACBL0AAAAECToAQAAIEjQAwAAQJCgBwAAgCBBDwAAAEGCHgAAAIIE\n",
       "PQAAAAQJegAAAAgS9AAAABAk6AEAACBI0AMAAECQoAcAAIAgQQ8AAABBgh4AAACCBD0AAAAECXoA\n",
       "AAAIEvQAAAAQJOgBAAAgSNADAABAkKAHAACAIEEPAAAAQYIeAAAAgnY2m83R9AiAbfLy5cvpCYu/\n",
       "/vpresLi+++/n56weP78+fQEPtGDBw+mJyx2dnamJyzOnz8/PWFx8eLF6QkAfISHHgAAAIIEPQAA\n",
       "AAQJegAAAAgS9AAAABAk6AEAACBI0AMAAECQoAcAAIAgQQ8AAABBgh4AAACCBD0AAAAECXoAAAAI\n",
       "EvQAAAAQJOgBAAAgSNADAABAkKAHAACAIEEPAAAAQYIeAAAAggQ9AAAABAl6AAAACBL0AAAAECTo\n",
       "AQAAIEjQAwAAQJCgBwAAgCBBDwAAAEGCHgAAAIIEPQAAAAQJegAAAAgS9AAAABAk6AEAACBI0AMA\n",
       "AECQoAcAAIAgQQ8AAABBgh4AAACCBD0AAAAECXoAAAAIEvQAAAAQJOgBAAAgSNADAABAkKAHAACA\n",
       "IEEPAAAAQYIeAAAAggQ9AAAABAl6AAAACBL0AAAAECToAQAAIEjQAwAAQJCgBwAAgCBBDwAAAEG7\n",
       "0wMALl++PD1h8cUXX0xPWPzxxx/TExbPnz+fnsAn2N/fn57wgYODg+kJizdv3kxPWJw+fXp6wuLV\n",
       "q1fTExZnzpyZngCwNTz0AAAAECToAQAAIEjQAwAAQJCgBwAAgCBBDwAAAEGCHgAAAIIEPQAAAAQJ\n",
       "egAAAAgS9AAAABAk6AEAACBI0AMAAECQoAcAAIAgQQ8AAABBgh4AAACCBD0AAAAECXoAAAAIEvQA\n",
       "AAAQJOgBAAAgSNADAABAkKAHAACAIEEPAAAAQYIeAAAAggQ9AAAABAl6AAAACBL0AAAAECToAQAA\n",
       "IEjQAwAAQJCgBwAAgCBBDwAAAEGCHgAAAIIEPQAAAAQJegAAAAgS9AAAABAk6AEAACBI0AMAAECQ\n",
       "oAcAAIAgQQ8AAABBgh4AAACCBD0AAAAECXoAAAAIEvQAAAAQJOgBAAAgSNADAABAkKAHAACAIEEP\n",
       "AAAAQYIeAAAAggQ9AAAABAl6AAAACNqdHgBw8uTJ6Qlb7ddff52ewCfY39+fnrA4PDycnrD1vvzy\n",
       "y+kJiz///HN6wuLWrVvTEwD4CA89AAAABAl6AAAACBL0AAAAECToAQAAIEjQAwAAQJCgBwAAgCBB\n",
       "DwAAAEGCHgAAAIIEPQAAAAQJegAAAAgS9AAAABAk6AEAACBI0AMAAECQoAcAAIAgQQ8AAABBgh4A\n",
       "AACCBD0AAAAECXoAAAAIEvQAAAAQJOgBAAAgSNADAABAkKAHAACAIEEPAAAAQYIeAAAAggQ9AAAA\n",
       "BAl6AAAACBL0AAAAECToAQAAIEjQAwAAQJCgBwAAgCBBDwAAAEGCHgAAAIIEPQAAAAQJegAAAAgS\n",
       "9AAAABAk6AEAACBI0AMAAECQoAcAAIAgQQ8AAABBgh4AAACCBD0AAAAECXoAAAAIEvQAAAAQJOgB\n",
       "AAAgSNADAABAkKAHAACAIEEPAAAAQbvTAwAePXo0PWGrff3119MTFo8fP56esPj222+nJywODg6m\n",
       "J/CJTpw4MT1h8dtvv01PWDx8+HB6AgAf4aEHAACAIEEPAAAAQYIeAAAAggQ9AAAABAl6AAAACBL0\n",
       "AAAAECToAQAAIEjQAwAAQJCgBwAAgCBBDwAAAEGCHgAAAIIEPQAAAAQJegAAAAgS9AAAABAk6AEA\n",
       "ACBI0AMAAECQoAcAAIAgQQ8AAABBgh4AAACCBD0AAAAECXoAAAAIEvQAAAAQJOgBAAAgSNADAABA\n",
       "kKAHAACAIEEPAAAAQYIeAAAAggQ9AAAABAl6AAAACBL0AAAAECToAQAAIEjQAwAAQJCgBwAAgCBB\n",
       "DwAAAEGCHgAAAIIEPQAAAAQJegAAAAgS9AAAABAk6AEAACBI0AMAAECQoAcAAIAgQQ8AAABBgh4A\n",
       "AACCBD0AAAAECXoAAAAIEvQAAAAQJOgBAAAgSNADAABA0M5mszmaHgGwTW7evDk9YbFte44fPz49\n",
       "gbi7d+9OT1j88MMP0xMWp06dmp6wuHr16vSExbNnz6YnAGwNDz0AAAAECXoAAAAIEvQAAAAQJOgB\n",
       "AAAgSNADAABAkKAHAACAIEEPAAAAQYIeAAAAggQ9AAAABAl6AAAACBL0AAAAECToAQAAIEjQAwAA\n",
       "QJCgBwAAgCBBDwAAAEGCHgAAAIIEPQAAAAQJegAAAAgS9AAAABAk6AEAACBI0AMAAECQoAcAAIAg\n",
       "QQ8AAABBgh4AAACCBD0AAAAECXoAAAAIEvQAAAAQJOgBAAAgSNADAABAkKAHAACAIEEPAAAAQYIe\n",
       "AAAAggQ9AAAABAl6AAAACBL0AAAAECToAQAAIEjQAwAAQJCgBwAAgCBBDwAAAEGCHgAAAIIEPQAA\n",
       "AAQJegAAAAgS9AAAABAk6AEAACBI0AMAAECQoAcAAIAgQQ8AAABBgh4AAACCdjabzdH0CAA+7vXr\n",
       "19MTCNvb25uesPUODg6mJywePHgwPWFx9+7d6QmLO3fuTE8A2BoeegAAAAgS9AAAABAk6AEAACBI\n",
       "0AMAAECQoAcAAIAgQQ8AAABBgh4AAACCBD0AAAAECXoAAAAIEvQAAAAQJOgBAAAgSNADAABAkKAH\n",
       "AACAIEEPAAAAQYIeAAAAggQ9AAAABAl6AAAACBL0AAAAECToAQAAIEjQAwAAQJCgBwAAgCBBDwAA\n",
       "AEGCHgAAAIIEPQAAAAQJegAAAAgS9AAAABAk6AEAACBI0AMAAECQoAcAAIAgQQ8AAABBgh4AAACC\n",
       "BD0AAAAECXoAAAAIEvQAAAAQJOgBAAAgSNADAABAkKAHAACAIEEPAAAAQYIeAAAAggQ9AAAABAl6\n",
       "AAAACBL0AAAAECToAQAAIEjQAwAAQJCgBwAAgCBBDwAAAEGCHgAAAIJ2pwcA8M/29vamJ8C/2nff\n",
       "fTc9AQA+i4ceAAAAggQ9AAAABAl6AAAACBL0AAAAECToAQAAIEjQAwAAQJCgBwAAgCBBDwAAAEGC\n",
       "HgAAAIIEPQAAAAQJegAAAAgS9AAAABAk6AEAACBI0AMAAECQoAcAAIAgQQ8AAABBgh4AAACCBD0A\n",
       "AAAECXoAAAAIEvQAAAAQJOgBAAAgSNADAABAkKAHAACAIEEPAAAAQYIeAAAAggQ9AAAABAl6AAAA\n",
       "CBL0AAAAECToAQAAIEjQAwAAQJCgBwAAgCBBDwAAAEGCHgAAAIIEPQAAAAQJegAAAAgS9AAAABAk\n",
       "6AEAACBI0AMAAECQoAcAAIAgQQ8AAABBgh4AAACCBD0AAAAECXoAAAAIEvQAAAAQJOgBAAAgSNAD\n",
       "AABAkKAHAACAIEEPAAAAQbvTAwAAJv3yyy/TExbXr1+fngBAhIceAAAAggQ9AAAABAl6AAAACBL0\n",
       "AAAAECToAQAAIEjQAwAAQJCgBwAAgCBBDwAAAEGCHgAAAIIEPQAAAAQJegAAAAgS9AAAABAk6AEA\n",
       "ACBI0AMAAECQoAcAAIAgQQ8AAABBgh4AAACCBD0AAAAECXoAAAAIEvQAAAAQJOgBAAAgSNADAABA\n",
       "kKAHAACAIEEPAAAAQYIeAAAAggQ9AAAABAl6AAAACBL0AAAAECToAQAAIEjQAwAAQJCgBwAAgCBB\n",
       "DwAAAEGCHgAAAIIEPQAAAAQJegAAAAgS9AAAABAk6AEAACBI0AMAAECQoAcAAIAgQQ8AAABBgh4A\n",
       "AACCBD0AAAAECXoAAAAIEvQAAAAQJOgBAAAgSNADAABAkKAHAACAIEEPAAAAQbvTAwCA/5b9/f3p\n",
       "CYsff/xxegIAfBYPPQAAAAQJegAAAAgS9AAAABAk6AEAACBI0AMAAECQoAcAAIAgQQ8AAABBgh4A\n",
       "AACCBD0AAAAECXoAAAAIEvQAAAAQJOgBAAAgSNADAABAkKAHAACAIEEPAAAAQYIeAAAAggQ9AAAA\n",
       "BAl6AAAACBL0AAAAECToAQAAIEjQAwAAQJCgBwAAgCBBDwAAAEGCHgAAAIIEPQAAAAQJegAAAAgS\n",
       "9AAAABAk6AEAACBI0AMAAECQoAcAAIAgQQ8AAABBgh4AAACCBD0AAAAECXoAAAAIEvQAAAAQJOgB\n",
       "AAAgSNADAABAkKAHAACAIEEPAAAAQYIeAAAAggQ9AAAABAl6AAAACBL0AAAAECToAQAAIEjQAwAA\n",
       "QJCgBwAAgCBBDwAAAEG70wMA4N/k7Nmz0xMWT548mZ7wgRMnTkxP2GoXLlyYnrB49+7d9AQAPsJD\n",
       "DwAAAEGCHgAAAIIEPQAAAAQJegAAAAgS9AAAABAk6AEAACBI0AMAAECQoAcAAIAgQQ8AAABBgh4A\n",
       "AACCBD0AAAAECXoAAAAIEvQAAAAQJOgBAAAgSNADAABAkKAHAACAIEEPAAAAQYIeAAAAggQ9AAAA\n",
       "BAl6AAAACBL0AAAAECToAQAAIEjQAwAAQJCgBwAAgCBBDwAAAEGCHgAAAIIEPQAAAAQJegAAAAgS\n",
       "9AAAABAk6AEAACBI0AMAAECQoAcAAIAgQQ8AAABBgh4AAACCBD0AAAAECXoAAAAIEvQAAAAQJOgB\n",
       "AAAgSNADAABAkKAHAACAIEEPAAAAQYIeAAAAggQ9AAAABAl6AAAACBL0AAAAECToAQAAIEjQAwAA\n",
       "QJCgBwAAgKDd6QEA/LPDw8PpCYuff/55esLi9u3b0xOIe/v27fSExbt376YnABDhoQcAAIAgQQ8A\n",
       "AABBgh4AAACCBD0AAAAECXoAAAAIEvQAAAAQJOgBAAAgSNADAABAkKAHAACAIEEPAAAAQYIeAAAA\n",
       "ggQ9AAAABAl6AAAACBL0AAAAECToAQAAIEjQAwAAQJCgBwAAgCBBDwAAAEGCHgAAAIIEPQAAAAQJ\n",
       "egAAAAgS9AAAAH+3Z8cmlYZRFEV5YCT8gdiCTdiHJWg3ag1WYAemmhgaih2IuQhv4g9xwAG57mGt\n",
       "Ck66ORAk6AEAACBI0AMAAECQoAcAAIAgQQ8AAABBgh4AAACCBD0AAAAECXoAAAAIEvQAAAAQJOgB\n",
       "AAAgSNADAABAkKAHAACAIEEPAAAAQYIeAAAAggQ9AAAABAl6AAAACBL0AAAAECToAQAAIEjQAwAA\n",
       "QJCgBwAAgCBBDwAAAEGCHgAAAIIEPQAAAAQJegAAAAgS9AAAABAk6AEAACBI0AMAAEDQwfQAAP7u\n",
       "7OxsesLi9vZ2egJx19fX0xMW9/f30xMA4J946AEAACBI0AMAAECQoAcAAIAgQQ8AAABBgh4AAACC\n",
       "BD0AAAAECXoAAAAIEvQAAAAQJOgBAAAgSNADAABAkKAHAACAIEEPAAAAQYIeAAAAggQ9AAAABAl6\n",
       "AAAACBL0AAAAECToAQAAIEjQAwAAQJCgBwAAgCBBDwAAAEGCHgAAAIIEPQAAAAQJegAAAAgS9AAA\n",
       "ABAk6AEAACBI0AMAAECQoAcAAIAgQQ8AAABBgh4AAACCBD0AAAAECXoAAAAIEvQAAAAQJOgBAAAg\n",
       "SNADAABAkKAHAACAIEEPAAAAQYIeAAAAggQ9AAAABAl6AAAACBL0AAAAECToAQAAIEjQAwAAQJCg\n",
       "BwAAgCBBDwAAAEGCHgAAAIIEPQAAAAQJegAAAAjabdu2nx4B8Js8Pz9PT1g8Pj5OT1gcHh5OT1i8\n",
       "v79PT1g8PDxMT1hcXV1NTwAAfoiHHgAAAIIEPQAAAAQJegAAAAgS9AAAABAk6AEAACBI0AMAAECQ\n",
       "oAcAAIAgQQ8AAABBgh4AAACCBD0AAAAECXoAAAAIEvQAAAAQJOgBAAAgSNADAABAkKAHAACAIEEP\n",
       "AAAAQYIeAAAAggQ9AAAABAl6AAAACBL0AAAAECToAQAAIEjQAwAAQJCgBwAAgCBBDwAAAEGCHgAA\n",
       "AIIEPQAAAAQJegAAAAgS9AAAABAk6AEAACBI0AMAAECQoAcAAIAgQQ8AAABBgh4AAACCBD0AAAAE\n",
       "CXoAAAAIEvQAAAAQJOgBAAAgSNADAABAkKAHAACAIEEPAAAAQYIeAAAAggQ9AAAABAl6AAAACBL0\n",
       "AAAAECToAQAAIEjQAwAAQJCgBwAAgCBBDwAAAEEH0wMAfpuTk5PpCXzD09PT9ITF6enp9ITFbreb\n",
       "nvDJ5eXl9AQA+C946AEAACBI0AMAAECQoAcAAIAgQQ8AAABBgh4AAACCBD0AAAAECXoAAAAIEvQA\n",
       "AAAQJOgBAAAgSNADAABAkKAHAACAIEEPAAAAQYIeAAAAggQ9AAAABAl6AAAACBL0AAAAECToAQAA\n",
       "IEjQAwAAQJCgBwAAgCBBDwAAAEGCHgAAAIIEPQAAAAQJegAAAAgS9AAAABAk6AEAACBI0AMAAECQ\n",
       "oAcAAIAgQQ8AAABBgh4AAACCBD0AAAAECXoAAAAIEvQAAAAQJOgBAAAgSNADAABAkKAHAACAIEEP\n",
       "AAAAQYIeAAAAggQ9AAAABAl6AAAACBL0AAAAECToAQAAIEjQAwAAQJCgBwAAgCBBDwAAAEGCHgAA\n",
       "AIIEPQAAAAQJegAAAAgS9AAAABC027ZtPz0CAAAA+B4PPQAAAAQJegAAAAgS9AAAABAk6AEAACBI\n",
       "0AMAAECQoAcAAIAgQQ8AAABBgh4AAACCBD0AAAAECXoAAAAIEvQAAAAQJOgBAAAgSNADAABAkKAH\n",
       "AACAIEEPAAAAQYIeAAAAggQ9AAAABAl6AAAACBL0AAAAECToAQAAIEjQAwAAQJCgBwAAgCBBDwAA\n",
       "AEGCHgAAAIIEPQAAAAQJegAAAAgS9AAAABumJqQAAARLSURBVBAk6AEAACBI0AMAAECQoAcAAIAg\n",
       "QQ8AAABBgh4AAACCBD0AAAAECXoAAAAIEvQAAAAQJOgBAAAgSNADAABAkKAHAACAIEEPAAAAQYIe\n",
       "AAAAggQ9AAAABAl6AAAACBL0AAAAECToAQAAIEjQAwAAQJCgBwAAgCBBDwAAAEEH0wMA4H9ycXEx\n",
       "PWFxd3c3PeGTl5eX6QmL8/Pz6QmLm5ub6QmLj4+P6QkAfMFDDwAAAEGCHgAAAIIEPQAAAAQJegAA\n",
       "AAgS9AAAABAk6AEAACBI0AMAAECQoAcAAIAgQQ8AAABBgh4AAACCBD0AAAAECXoAAAAIEvQAAAAQ\n",
       "JOgBAAAgSNADAABAkKAHAACAIEEPAAAAQYIeAAAAggQ9AAAABAl6AAAACBL0AAAAECToAQAAIEjQ\n",
       "AwAAQJCgBwAAgCBBDwAAAEGCHgAAAIIEPQAAAAQJegAAAAgS9AAAABAk6AEAACBI0AMAAECQoAcA\n",
       "AIAgQQ8AAABBgh4AAACCBD0AAAAECXoAAAAIEvQAAAAQJOgBAAAgSNADAABAkKAHAACAIEEPAAAA\n",
       "QYIeAAAAggQ9AAAABAl6AAAACBL0AAAAECToAQAAIEjQAwAAQJCgBwAAgKDdtm376REAwM84Ojqa\n",
       "nvDJ29vb9IRf7fj4eHrC4vX1dXoCAF/w0AMAAECQoAcAAIAgQQ8AAABBgh4AAACCBD0AAAAECXoA\n",
       "AAAIEvQAAAAQJOgBAAAgSNADAABAkKAHAACAIEEPAAAAQYIeAAAAggQ9AAAABAl6AAAACBL0AAAA\n",
       "ECToAQAAIEjQAwAAQJCgBwAAgCBBDwAAAEGCHgAAAIIEPQAAAAQJegAAAAgS9AAAABAk6AEAACBI\n",
       "0AMAAECQoAcAAIAgQQ8AAABBgh4AAACCBD0AAAAECXoAAAAIEvQAAAAQJOgBAAAgSNADAABAkKAH\n",
       "AACAIEEPAAAAQYIeAAAAggQ9AAAABAl6AAAACBL0AAAAECToAQAAIEjQAwAAQJCgBwAAgCBBDwAA\n",
       "AEGCHgAAAIIEPQAAAAQJegAAAAgS9AAAABAk6AEAACBot23bfnoEAAAA8D0eegAAAAgS9AAAABAk\n",
       "6AEAACBI0AMAAECQoAcAAIAgQQ8AAABBgh4AAACCBD0AAAAECXoAAAAIEvQAAAAQJOgBAAAgSNAD\n",
       "AABAkKAHAACAIEEPAAAAQYIeAAAAggQ9AAAABAl6AAAACBL0AAAAECToAQAAIEjQAwAAQJCgBwAA\n",
       "gCBBDwAAAEGCHgAAAIIEPQAAAAQJegAAAAgS9AAAABAk6AEAACBI0AMAAECQoAcAAIAgQQ8AAABB\n",
       "gh4AAACCBD0AAAAECXoAAAAIEvQAAAAQJOgBAAAgSNADAABAkKAHAACAIEEPAAAAQYIeAAAAggQ9\n",
       "AAAABAl6AAAACBL0AAAAECToAQAAIEjQAwAAQJCgBwAAgCBBDwAAAEGCHgAAAIL+ABZ0veNY9gYo\n",
       "AAAAAElFTkSuQmCC\n",
       "\" transform=\"translate(1341, 123)\"/>\n",
       "</g>\n",
       "</svg>\n"
      ],
      "text/html": [
       "<?xml version=\"1.0\" encoding=\"utf-8\"?>\n",
       "<svg xmlns=\"http://www.w3.org/2000/svg\" xmlns:xlink=\"http://www.w3.org/1999/xlink\" width=\"600\" height=\"400\" viewBox=\"0 0 2400 1600\">\n",
       "<defs>\n",
       "  <clipPath id=\"clip700\">\n",
       "    <rect x=\"0\" y=\"0\" width=\"2400\" height=\"1600\"/>\n",
       "  </clipPath>\n",
       "</defs>\n",
       "<path clip-path=\"url(#clip700)\" d=\"M0 1600 L2400 1600 L2400 0 L0 0  Z\" fill=\"#ffffff\" fill-rule=\"evenodd\" fill-opacity=\"1\"/>\n",
       "<defs>\n",
       "  <clipPath id=\"clip701\">\n",
       "    <rect x=\"480\" y=\"0\" width=\"1681\" height=\"1600\"/>\n",
       "  </clipPath>\n",
       "</defs>\n",
       "<path clip-path=\"url(#clip700)\" d=\"M140.696 1486.45 L1152.76 1486.45 L1152.76 123.472 L140.696 123.472  Z\" fill=\"#ffffff\" fill-rule=\"evenodd\" fill-opacity=\"1\"/>\n",
       "<defs>\n",
       "  <clipPath id=\"clip702\">\n",
       "    <rect x=\"140\" y=\"123\" width=\"1013\" height=\"1364\"/>\n",
       "  </clipPath>\n",
       "</defs>\n",
       "<polyline clip-path=\"url(#clip702)\" style=\"stroke:#000000; stroke-linecap:round; stroke-linejoin:round; stroke-width:2; stroke-opacity:0.1; fill:none\" points=\"303.348,1486.45 303.348,123.472 \"/>\n",
       "<polyline clip-path=\"url(#clip702)\" style=\"stroke:#000000; stroke-linecap:round; stroke-linejoin:round; stroke-width:2; stroke-opacity:0.1; fill:none\" points=\"484.073,1486.45 484.073,123.472 \"/>\n",
       "<polyline clip-path=\"url(#clip702)\" style=\"stroke:#000000; stroke-linecap:round; stroke-linejoin:round; stroke-width:2; stroke-opacity:0.1; fill:none\" points=\"664.798,1486.45 664.798,123.472 \"/>\n",
       "<polyline clip-path=\"url(#clip702)\" style=\"stroke:#000000; stroke-linecap:round; stroke-linejoin:round; stroke-width:2; stroke-opacity:0.1; fill:none\" points=\"845.523,1486.45 845.523,123.472 \"/>\n",
       "<polyline clip-path=\"url(#clip702)\" style=\"stroke:#000000; stroke-linecap:round; stroke-linejoin:round; stroke-width:2; stroke-opacity:0.1; fill:none\" points=\"1026.25,1486.45 1026.25,123.472 \"/>\n",
       "<polyline clip-path=\"url(#clip702)\" style=\"stroke:#000000; stroke-linecap:round; stroke-linejoin:round; stroke-width:2; stroke-opacity:0.1; fill:none\" points=\"140.696,1267.4 1152.76,1267.4 \"/>\n",
       "<polyline clip-path=\"url(#clip702)\" style=\"stroke:#000000; stroke-linecap:round; stroke-linejoin:round; stroke-width:2; stroke-opacity:0.1; fill:none\" points=\"140.696,1024.01 1152.76,1024.01 \"/>\n",
       "<polyline clip-path=\"url(#clip702)\" style=\"stroke:#000000; stroke-linecap:round; stroke-linejoin:round; stroke-width:2; stroke-opacity:0.1; fill:none\" points=\"140.696,780.621 1152.76,780.621 \"/>\n",
       "<polyline clip-path=\"url(#clip702)\" style=\"stroke:#000000; stroke-linecap:round; stroke-linejoin:round; stroke-width:2; stroke-opacity:0.1; fill:none\" points=\"140.696,537.233 1152.76,537.233 \"/>\n",
       "<polyline clip-path=\"url(#clip702)\" style=\"stroke:#000000; stroke-linecap:round; stroke-linejoin:round; stroke-width:2; stroke-opacity:0.1; fill:none\" points=\"140.696,293.844 1152.76,293.844 \"/>\n",
       "<path clip-path=\"url(#clip700)\" d=\"M529.877 16.7545 L529.877 25.383 Q525.745 21.5346 521.046 19.6307 Q516.388 17.7268 511.122 17.7268 Q500.751 17.7268 495.242 24.0867 Q489.733 30.4061 489.733 42.3968 Q489.733 54.3469 495.242 60.7069 Q500.751 67.0263 511.122 67.0263 Q516.388 67.0263 521.046 65.1223 Q525.745 63.2184 529.877 59.3701 L529.877 67.9175 Q525.583 70.8341 520.763 72.2924 Q515.983 73.7508 510.636 73.7508 Q496.903 73.7508 489.004 65.3654 Q481.105 56.9395 481.105 42.3968 Q481.105 27.8135 489.004 19.4281 Q496.903 11.0023 510.636 11.0023 Q516.064 11.0023 520.844 12.4606 Q525.664 13.8784 529.877 16.7545 Z\" fill=\"#000000\" fill-rule=\"nonzero\" fill-opacity=\"1\" /><path clip-path=\"url(#clip700)\" d=\"M542.192 9.54393 L549.646 9.54393 L549.646 72.576 L542.192 72.576 L542.192 9.54393 Z\" fill=\"#000000\" fill-rule=\"nonzero\" fill-opacity=\"1\" /><path clip-path=\"url(#clip700)\" d=\"M604.049 48.0275 L604.049 51.6733 L569.779 51.6733 Q570.265 59.3701 574.397 63.421 Q578.569 67.4314 585.982 67.4314 Q590.276 67.4314 594.287 66.3781 Q598.338 65.3249 602.308 63.2184 L602.308 70.267 Q598.297 71.9684 594.084 72.8596 Q589.871 73.7508 585.537 73.7508 Q574.68 73.7508 568.32 67.4314 Q562.001 61.1119 562.001 50.3365 Q562.001 39.1965 567.996 32.6746 Q574.032 26.1121 584.241 26.1121 Q593.396 26.1121 598.702 32.0264 Q604.049 37.9003 604.049 48.0275 M596.596 45.84 Q596.515 39.7232 593.153 36.0774 Q589.831 32.4315 584.322 32.4315 Q578.083 32.4315 574.316 35.9558 Q570.589 39.4801 570.022 45.8805 L596.596 45.84 Z\" fill=\"#000000\" fill-rule=\"nonzero\" fill-opacity=\"1\" /><path clip-path=\"url(#clip700)\" d=\"M636.902 49.7694 Q627.869 49.7694 624.385 51.8354 Q620.901 53.9013 620.901 58.8839 Q620.901 62.8538 623.494 65.2034 Q626.127 67.5124 630.623 67.5124 Q636.821 67.5124 640.548 63.1374 Q644.315 58.7219 644.315 51.4303 L644.315 49.7694 L636.902 49.7694 M651.769 46.6907 L651.769 72.576 L644.315 72.576 L644.315 65.6895 Q641.763 69.8214 637.956 71.8063 Q634.148 73.7508 628.638 73.7508 Q621.671 73.7508 617.539 69.8619 Q613.448 65.9325 613.448 59.3701 Q613.448 51.7138 618.552 47.825 Q623.696 43.9361 633.864 43.9361 L644.315 43.9361 L644.315 43.2069 Q644.315 38.0623 640.913 35.2672 Q637.55 32.4315 631.434 32.4315 Q627.545 32.4315 623.858 33.3632 Q620.172 34.295 616.769 36.1584 L616.769 29.2718 Q620.861 27.692 624.709 26.9223 Q628.557 26.1121 632.203 26.1121 Q642.047 26.1121 646.908 31.2163 Q651.769 36.3204 651.769 46.6907 Z\" fill=\"#000000\" fill-rule=\"nonzero\" fill-opacity=\"1\" /><path clip-path=\"url(#clip700)\" d=\"M704.836 45.1919 L704.836 72.576 L697.382 72.576 L697.382 45.4349 Q697.382 38.994 694.871 35.7938 Q692.359 32.5936 687.336 32.5936 Q681.3 32.5936 677.816 36.4419 Q674.333 40.2903 674.333 46.9338 L674.333 72.576 L666.838 72.576 L666.838 27.2059 L674.333 27.2059 L674.333 34.2544 Q677.006 30.163 680.612 28.1376 Q684.257 26.1121 688.997 26.1121 Q696.815 26.1121 700.826 30.9732 Q704.836 35.7938 704.836 45.1919 Z\" fill=\"#000000\" fill-rule=\"nonzero\" fill-opacity=\"1\" /><path clip-path=\"url(#clip700)\" d=\"M721.607 62.2867 L730.154 62.2867 L730.154 72.576 L721.607 72.576 L721.607 62.2867 M721.607 29.6769 L730.154 29.6769 L730.154 39.9662 L721.607 39.9662 L721.607 29.6769 Z\" fill=\"#000000\" fill-rule=\"nonzero\" fill-opacity=\"1\" /><path clip-path=\"url(#clip700)\" d=\"M799.87 39.9662 Q805.744 41.222 809.025 45.1919 Q812.347 49.1618 812.347 54.9951 Q812.347 63.9476 806.19 68.8492 Q800.032 73.7508 788.69 73.7508 Q784.882 73.7508 780.831 72.9811 Q776.821 72.2519 772.527 70.7531 L772.527 62.8538 Q775.929 64.8388 779.98 65.8515 Q784.031 66.8642 788.447 66.8642 Q796.143 66.8642 800.154 63.826 Q804.205 60.7879 804.205 54.9951 Q804.205 49.6479 800.437 46.6502 Q796.71 43.612 790.026 43.612 L782.978 43.612 L782.978 36.8875 L790.351 36.8875 Q796.386 36.8875 799.587 34.4975 Q802.787 32.067 802.787 27.5299 Q802.787 22.8714 799.465 20.4004 Q796.184 17.8888 790.026 17.8888 Q786.664 17.8888 782.816 18.618 Q778.967 19.3471 774.349 20.8865 L774.349 13.5948 Q779.008 12.2985 783.059 11.6504 Q787.15 11.0023 790.756 11.0023 Q800.073 11.0023 805.501 15.2557 Q810.929 19.4686 810.929 26.6793 Q810.929 31.7024 808.053 35.1862 Q805.177 38.6294 799.87 39.9662 Z\" fill=\"#000000\" fill-rule=\"nonzero\" fill-opacity=\"1\" /><g clip-path=\"url(#clip702)\">\n",
       "<image width=\"1012\" height=\"1363\" xlink:href=\"data:image/png;base64,\n",
       "iVBORw0KGgoAAAANSUhEUgAAA/QAAAVTCAYAAABj7GMOAAAgAElEQVR4nOzZwW0jVxRFQcvglhEw\n",
       "kq84GAkZhxgJ45iORHHIS6MhjOGRLTweTlUEF/17c/Bejsfjxx8AAABAyp/TAwAAAIBfJ+gBAAAg\n",
       "SNADAABAkKAHAACAIEEPAAAAQYIeAAAAggQ9AAAABAl6AAAACBL0AAAAECToAQAAIEjQAwAAQJCg\n",
       "BwAAgCBBDwAAAEGCHgAAAIIEPQAAAAQJegAAAAgS9AAAABAk6AEAACBI0AMAAECQoAcAAIAgQQ8A\n",
       "AABBgh4AAACCBD0AAAAECXoAAAAIEvQAAAAQJOgBAAAgSNADAABAkKAHAACAIEEPAAAAQYIeAAAA\n",
       "ggQ9AAAABAl6AAAACBL0AAAAECToAQAAIEjQAwAAQJCgBwAAgCBBDwAAAEGCHgAAAIIEPQAAAAQJ\n",
       "egAAAAgS9AAAABAk6AEAACBI0AMAAECQoAcAAIAgQQ8AAABBgh4AAACCBD0AAAAECXoAAAAIEvQA\n",
       "AAAQJOgBAAAgSNADAABAkKAHAACAIEEPAAAAQYIeAAAAggQ9AAAABAl6AAAACBL0AAAAECToAQAA\n",
       "IEjQAwAAQJCgBwAAgCBBDwAAAEGCHgAAAIIEPQAAAAQJegAAAAgS9AAAABAk6AEAACBI0AMAAECQ\n",
       "oAcAAIAgQQ8AAABBgh4AAACCBD0AAAAECXoAAAAIEvQAAAAQJOgBAAAgSNADAABAkKAHAACAIEEP\n",
       "AAAAQYIeAAAAggQ9AAAABAl6AAAACBL0AAAAECToAQAAIEjQAwAAQJCgBwAAgCBBDwAAAEGCHgAA\n",
       "AIIEPQAAAAQJegAAAAgS9AAAABAk6AEAACBI0AMAAECQoAcAAIAgQQ8AAABBgh4AAACCBD0AAAAE\n",
       "CXoAAAAIEvQAAAAQJOgBAAAgSNADAABAkKAHAACAIEEPAAAAQYIeAAAAggQ9AAAABAl6AAAACBL0\n",
       "AAAAECToAQAAIEjQAwAAQJCgBwAAgCBBDwAAAEGCHgAAAIIEPQAAAAQJegAAAAgS9AAAABAk6AEA\n",
       "ACBI0AMAAECQoAcAAIAgQQ8AAABBgh4AAACCBD0AAAAECXoAAAAIEvQAAAAQJOgBAAAgSNADAABA\n",
       "kKAHAACAIEEPAAAAQYIeAAAAggQ9AAAABAl6AAAACBL0AAAAECToAQAAIEjQAwAAQJCgBwAAgCBB\n",
       "DwAAAEGCHgAAAIIEPQAAAAQJegAAAAgS9AAAABAk6AEAACBI0AMAAECQoAcAAIAgQQ8AAABBgh4A\n",
       "AACCBD0AAAAECXoAAAAIEvQAAAAQJOgBAAAg6DA9AICW6/U6PWHncrlMT9i53W7TE3be3t6mJwAA\n",
       "38SFHgAAAIIEPQAAAAQJegAAAAgS9AAAABAk6AEAACBI0AMAAECQoAcAAIAgQQ8AAABBgh4AAACC\n",
       "BD0AAAAECXoAAAAIEvQAAAAQJOgBAAAgSNADAABAkKAHAACAIEEPAAAAQYIeAAAAggQ9AAAABAl6\n",
       "AAAACBL0AAAAECToAQAAIEjQAwAAQJCgBwAAgCBBDwAAAEGCHgAAAIIEPQAAAAQJegAAAAgS9AAA\n",
       "ABAk6AEAACBI0AMAAECQoAcAAIAgQQ8AAABBgh4AAACCBD0AAAAECXoAAAAIEvQAAAAQJOgBAAAg\n",
       "SNADAABAkKAHAACAIEEPAAAAQYIeAAAAggQ9AAAABAl6AAAACBL0AAAAECToAQAAIEjQAwAAQJCg\n",
       "BwAAgKCX4/H4MT0CgJ+7Xq/TE3Yul8v0BOJOp9P0BAB4Ci70AAAAECToAQAAIEjQAwAAQJCgBwAA\n",
       "gCBBDwAAAEGCHgAAAIIEPQAAAAQJegAAAAgS9AAAABAk6AEAACBI0AMAAECQoAcAAIAgQQ8AAABB\n",
       "gh4AAACCBD0AAAAECXoAAAAIEvQAAAAQJOgBAAAgSNADAABAkKAHAACAIEEPAAAAQYIeAAAAggQ9\n",
       "AAAABAl6AAAACBL0AAAAECToAQAAIEjQAwAAQJCgBwAAgCBBDwAAAEGCHgAAAIIEPQAAAAQJegAA\n",
       "AAgS9AAAABAk6AEAACBI0AMAAECQoAcAAIAgQQ8AAABBgh4AAACCBD0AAAAECXoAAAAIEvQAAAAQ\n",
       "JOgBAAAgSNADAABAkKAHAACAIEEPAAAAQYIeAAAAggQ9AAAABAl6AAAACDpMDwCA/2LbtukJO2ut\n",
       "6QkP736/T0/YOZ/P0xMA4Etc6AEAACBI0AMAAECQoAcAAIAgQQ8AAABBgh4AAACCBD0AAAAECXoA\n",
       "AAAIEvQAAAAQJOgBAAAgSNADAABAkKAHAACAIEEPAAAAQYIeAAAAggQ9AAAABAl6AAAACBL0AAAA\n",
       "ECToAQAAIEjQAwAAQJCgBwAAgCBBDwAAAEGCHgAAAIIEPQAAAAQJegAAAAgS9AAAABAk6AEAACBI\n",
       "0AMAAECQoAcAAIAgQQ8AAABBgh4AAACCBD0AAAAECXoAAAAIEvQAAAAQJOgBAAAgSNADAABAkKAH\n",
       "AACAIEEPAAAAQYIeAAAAggQ9AAAABAl6AAAACBL0AAAAECToAQAAIEjQAwAAQJCgBwAAgCBBDwAA\n",
       "AEGCHgAAAIIEPQAAAAQJegAAAAgS9AAAABD0cjweP6ZHAADf436/T0/4ZK01PWHndrtNT9h5e3ub\n",
       "ngBAhAs9AAAABAl6AAAACBL0AAAAECToAQAAIEjQAwAAQJCgBwAAgCBBDwAAAEGCHgAAAIIEPQAA\n",
       "AAQJegAAAAgS9AAAABAk6AEAACBI0AMAAECQoAcAAIAgQQ8AAABBgh4AAACCBD0AAAAECXoAAAAI\n",
       "EvQAAAAQJOgBAAAgSNADAABAkKAHAACAIEEPAAAAQYIeAAAAggQ9AAAABAl6AAAACBL0AAAAECTo\n",
       "AQAAIEjQAwAAQJCgBwAAgCBBDwAAAEGCHgAAAIIEPQAAAAQJegAAAAgS9AAAABAk6AEAACBI0AMA\n",
       "AECQoAcAAIAgQQ8AAABBgh4AAACCBD0AAAAECXoAAAAIEvQAAAAQJOgBAAAgSNADAABAkKAHAACA\n",
       "IEEPAAAAQYfpAQDA9zmfz9MTPnl/f5+eAABPwYUeAAAAggQ9AAAABAl6AAAACBL0AAAAECToAQAA\n",
       "IEjQAwAAQJCgBwAAgCBBDwAAAEGCHgAAAIIEPQAAAAQJegAAAAgS9AAAABAk6AEAACBI0AMAAECQ\n",
       "oAcAAIAgQQ8AAABBgh4AAACCBD0AAAAECXoAAAAIEvQAAAAQJOgBAAAgSNADAABAkKAHAACAIEEP\n",
       "AAAAQYIeAAAAggQ9AAAABAl6AAAACBL0AAAAECToAQAAIEjQAwAAQJCgBwAAgCBBDwAAAEGCHgAA\n",
       "AIIEPQAAAAQJegAAAAgS9AAAABAk6AEAACBI0AMAAECQoAcAAIAgQQ8AAABBgh4AAACCBD0AAAAE\n",
       "CXoAAAAIEvQAAAAQJOgBAAAgSNADAABAkKAHAACAIEEPAAAAQS/H4/FjegQA8Pt4f3+fnvDQTqfT\n",
       "9AQAIlzoAQAAIEjQAwAAQJCgBwAAgCBBDwAAAEGCHgAAAIIEPQAAAAQJegAAAAgS9AAAABAk6AEA\n",
       "ACBI0AMAAECQoAcAAIAgQQ8AAABBgh4AAACCBD0AAAAECXoAAAAIEvQAAAAQJOgBAAAgSNADAABA\n",
       "kKAHAACAIEEPAAAAQYIeAAAAggQ9AAAABAl6AAAACBL0AAAAECToAQAAIEjQAwAAQJCgBwAAgCBB\n",
       "DwAAAEGCHgAAAIIEPQAAAAQJegAAAAgS9AAAABAk6AEAACBI0AMAAECQoAcAAIAgQQ8AAABBgh4A\n",
       "AACCBD0AAAAECXoAAAAIEvQAAAAQJOgBAAAgSNADAABAkKAHAACAIEEPAAAAQYIeAAAAggQ9AAAA\n",
       "BAl6AAAACBL0AAAAEHSYHgAA/F62bZuesLPWmp4AAF/iQg8AAABBgh4AAACCBD0AAAAECXoAAAAI\n",
       "EvQAAAAQJOgBAAAgSNADAABAkKAHAACAIEEPAAAAQYIeAAAAggQ9AAAABAl6AAAACBL0AAAAECTo\n",
       "AQAAIEjQAwAAQJCgBwAAgCBBDwAAAEGCHgAAAIIEPQAAAAQJegAAAAgS9AAAABAk6AEAACBI0AMA\n",
       "AECQoAcAAIAgQQ8AAABBgh4AAACCBD0AAAAECXoAAAAIEvQAAAAQJOgBAAAgSNADAABAkKAHAACA\n",
       "IEEPAAAAQYIeAAAAggQ9AAAABAl6AAAACBL0AAAAECToAQAAIEjQAwAAQJCgBwAAgCBBDwAAAEGC\n",
       "HgAAAIIEPQAAAAQJegAAAAgS9AAAABAk6AEAACBI0AMAAEDQYXoAAMCkbdumJwDAl7jQAwAAQJCg\n",
       "BwAAgCBBDwAAAEGCHgAAAIIEPQAAAAQJegAAAAgS9AAAABAk6AEAACBI0AMAAECQoAcAAIAgQQ8A\n",
       "AABBgh4AAACCBD0AAAAECXoAAAAIEvQAAAAQJOgBAAAgSNADAABAkKAHAACAIEEPAAAAQYIeAAAA\n",
       "ggQ9AAAABAl6AAAACBL0AAAAECToAQAAIEjQAwAAQJCgBwAAgCBBDwAAAEGCHgAAAIIEPQAAAAQJ\n",
       "egAAAAgS9AAAABAk6AEAACBI0AMAAECQoAcAAIAgQQ8AAABBgh4AAACCBD0AAAAECXoAAAAIEvQA\n",
       "AAAQJOgBAAAgSNADAABAkKAHAACAIEEPAAAAQYIeAAAAggQ9AAAABAl6AAAACBL0AAAAECToAQAA\n",
       "IOgwPQAA+D5rrekJnzzaptvtNj0BAL7EhR4AAACCBD0AAAAECXoAAAAIEvQAAAAQJOgBAAAgSNAD\n",
       "AABAkKAHAACAIEEPAAAAQYIeAAAAggQ9AAAABAl6AAAACBL0AAAAECToAQAAIEjQAwAAQJCgBwAA\n",
       "gCBBDwAAAEGCHgAAAIIEPQAAAAQJegAAAAgS9AAAABAk6AEAACBI0AMAAECQoAcAAIAgQQ8AAABB\n",
       "gh4AAACCBD0AAAAECXoAAAAIEvQAAAAQJOgBAAAgSNADAABAkKAHAACAIEEPAAAAQYIeAAAAggQ9\n",
       "AAAABAl6AAAACBL0AAAAECToAQAAIEjQAwAAQJCgBwAAgCBBDwAAAEGCHgAAAIIEPQAAAAQJegAA\n",
       "AAgS9AAAABAk6AEAACBI0AMAAECQoAcAAIAgQQ8AAABBh+kBAPBM1lrTE3bu9/v0hIf3aG8GAP+W\n",
       "Cz0AAAAECXoAAAAIEvQAAAAQJOgBAAAgSNADAABAkKAHAACAIEEPAAAAQYIeAAAAggQ9AAAABAl6\n",
       "AAAACBL0AAAAECToAQAAIEjQAwAAQJCgBwAAgCBBDwAAAEGCHgAAAIIEPQAAAAQJegAAAAgS9AAA\n",
       "ABAk6AEAACBI0AMAAECQoAcAAIAgQQ8AAABBgh4AAACCBD0AAAAECXoAAAAIEvQAAAAQJOgBAAAg\n",
       "SNADAABAkKAHAACAIEEPAAAAQYIeAAAAggQ9AAAABAl6AAAACBL0AAAAECToAQAAIEjQAwAAQJCg\n",
       "BwAAgCBBDwAAAEGCHgAAAIIEPQAAAAQJegAAAAgS9AAAABAk6AEAACBI0AMAAECQoAcAAIAgQQ8A\n",
       "AABBh+kBAPBMXl9fpyfwi9Za0xN27vf79ISd8/k8PQGAn3ChBwAAgCBBDwAAAEGCHgAAAIIEPQAA\n",
       "AAQJegAAAAgS9AAAABAk6AEAACBI0AMAAECQoAcAAIAgQQ8AAABBgh4AAACCBD0AAAAECXoAAAAI\n",
       "EvQAAAAQJOgBAAAgSNADAABAkKAHAACAIEEPAAAAQYIeAAAAggQ9AAAABAl6AAAACBL0AAAAECTo\n",
       "AQAAIEjQAwAAQJCgBwAAgCBBDwAAAEGCHgAAAIIEPQAAAAQJegAAAAgS9AAAABAk6AEAACBI0AMA\n",
       "AECQoAcAAIAgQQ8AAABBgh4AAACCBD0AAAAECXoAAAAIEvQAAAAQJOgBAAAgSNADAABAkKAHAACA\n",
       "IEEPAAAAQYIeAAAAggQ9AAAABAl6AAAACBL0AAAAECToAQAAIEjQAwAAQNBhegAAPJMfP35MT+AX\n",
       "rbWmJ+zY88+2bZueAPAwXOgBAAAgSNADAABAkKAHAACAIEEPAAAAQYIeAAAAggQ9AAAABAl6AAAA\n",
       "CBL0AAAAECToAQAAIEjQAwAAQJCgBwAAgCBBDwAAAEGCHgAAAIIEPQAAAAQJegAAAAgS9AAAABAk\n",
       "6AEAACBI0AMAAECQoAcAAIAgQQ8AAABBgh4AAACCBD0AAAAECXoAAAAIEvQAAAAQJOgBAAAgSNAD\n",
       "AABAkKAHAACAIEEPAAAAQYIeAAAAggQ9AAAABAl6AAAACBL0AAAAECToAQAAIEjQAwAAQJCgBwAA\n",
       "gCBBDwAAAEGCHgAAAIIEPQAAAAQJegAAAAgS9AAAABAk6AEAACBI0AMAAECQoAcAAIAgQQ8AAABB\n",
       "gh4AAACCBD0AAAAECXoAAAAIEvQAAAAQdJgeAADPZNu26Qk7j7bnEa21pifs3O/36Qk7r6+v0xN2\n",
       "/NMAf3OhBwAAgCBBDwAAAEGCHgAAAIIEPQAAAAQJegAAAAgS9AAAABAk6AEAACBI0AMAAECQoAcA\n",
       "AIAgQQ8AAABBgh4AAACCBD0AAAAECXoAAAAIEvQAAAAQJOgBAAAgSNADAABAkKAHAACAIEEPAAAA\n",
       "QYIeAAAAggQ9AAAABAl6AAAACBL0AAAAECToAQAAIEjQAwAAQJCgBwAAgCBBDwAAAEGCHgAAAIIE\n",
       "PQAAAAQJegAAAAgS9AAAABAk6AEAACBI0AMAAECQoAcAAIAgQQ8AAABBgh4AAACCBD0AAAAECXoA\n",
       "AAAIEvQAAAAQJOgBAAAgSNADAABAkKAHAACAIEEPAAAAQYIeAAAAggQ9AAAABAl6AAAACBL0AAAA\n",
       "ECToAQAAIOgwPQAAYNK2bdMTAOBLXOgBAAAgSNADAABAkKAHAACAIEEPAAAAQYIeAAAAggQ9AAAA\n",
       "BAl6AAAACBL0AAAAECToAQAAIEjQAwAAQJCgBwAAgCBBDwAAAEGCHgAAAIIEPQAAAAQJegAAAAgS\n",
       "9AAAABAk6AEAACBI0AMAAECQoAcAAIAgQQ8AAABBgh4AAACCBD0AAAAECXoAAAAIEvQAAAAQJOgB\n",
       "AAAgSNADAABAkKAHAACAIEEPAAAAQYIeAAAAggQ9AAAABAl6AAAACBL0AAAAECToAQAAIEjQAwAA\n",
       "QJCgBwAAgCBBDwAAAEGCHgAAAIIEPQAAAAQJegAAAAgS9AAAABAk6AEAACBI0AMAAECQoAcAAIAg\n",
       "QQ8AAABBgh4AAACCBD0AAAAECXoAAAAIEvQAAAAQdJgeAAAwaa01PQEAvsSFHgAAAIIEPQAAAAQJ\n",
       "egAAAAgS9AAAABAk6AEAACBI0AMAAECQoAcAAIAgQQ8AAABBgh4AAACCBD0AAAAECXoAAAAIEvQA\n",
       "AAAQJOgBAAAgSNADAABAkKAHAACAIEEPAAAAQYIeAAAAggQ9AAAABAl6AAAACBL0AAAAECToAQAA\n",
       "IEjQAwAAQJCgBwAAgCBBDwAAAEGCHgAAAIIEPQAAAAQJegAAAAgS9AAAABAk6AEAACBI0AMAAECQ\n",
       "oAcAAIAgQQ8AAABBgh4AAACCBD0AAAAECXoAAAAIEvQAAAAQJOgBAAAgSNADAABAkKAHAACAIEEP\n",
       "AAAAQYIeAAAAggQ9AAAABAl6AAAACBL0AAAAECToAQAAIEjQAwAAQJCgBwAAgCBBDwAAAEGH6QEA\n",
       "wO9lrTU9Yed6vU5PAIAvcaEHAACAIEEPAAAAQYIeAAAAggQ9AAAABAl6AAAACBL0AAAAECToAQAA\n",
       "IEjQAwAAQJCgBwAAgCBBDwAAAEGCHgAAAIIEPQAAAAQJegAAAAgS9AAAABAk6AEAACBI0AMAAECQ\n",
       "oAcAAIAgQQ8AAABBgh4AAACCBD0AAAAECXoAAAAIEvQAAAAQJOgBAAAgSNADAABAkKAHAACAIEEP\n",
       "AAAAQYIeAAAAggQ9AAAABAl6AAAACBL0AAAAECToAQAAIEjQAwAAQJCgBwAAgCBBDwAAAEGCHgAA\n",
       "AIIEPQAAAAQJegAAAAgS9AAAABAk6AEAACBI0AMAAECQoAcAAIAgQQ8AAABBgh4AAACCBD0AAAAE\n",
       "CXoAAAAIEvQAAAAQJOgBAAAg6OV4PH5MjwCAZ7HWmp6wc71epyd88mjfiH92Op2mJwDwEy70AAAA\n",
       "ECToAQAAIEjQAwAAQJCgBwAAgCBBDwAAAEGCHgAAAIIEPQAAAAQJegAAAAgS9AAAABAk6AEAACBI\n",
       "0AMAAECQoAcAAIAgQQ8AAABBgh4AAACCBD0AAAAECXoAAAAIEvQAAAAQJOgBAAAgSNADAABAkKAH\n",
       "AACAIEEPAAAAQYIeAAAAggQ9AAAABAl6AAAACBL0AAAAECToAQAAIEjQAwAAQJCgBwAAgCBBDwAA\n",
       "AEGCHgAAAIIEPQAAAAQJegAAAAgS9AAAABAk6AEAACBI0AMAAECQoAcAAIAgQQ8AAABBgh4AAACC\n",
       "BD0AAAAECXoAAAAIEvQAAAAQJOgBAAAgSNADAABAkKAHAACAIEEPAAAAQYIeAAAAggQ9AAAABAl6\n",
       "AAAACDpMDwB4NNfrdXrCzlpresLOtm3TE3Yul8v0BPhf3W636QkARLjQAwAAQJCgBwAAgCBBDwAA\n",
       "AEGCHgAAAIIEPQAAAAQJegAAAAgS9AAAABAk6AEAACBI0AMAAECQoAcAAIAgQQ8AAABBgh4AAACC\n",
       "BD0AAAAECXoAAAAIEvQAAAAQJOgBAAAgSNADAABAkKAHAACAIEEPAAAAQYIeAAAAggQ9AAAABAl6\n",
       "AAAACBL0AAAAECToAQAAIEjQAwAAQJCgBwAAgCBBDwAAAEGCHgAAAIIEPQAAAAQJegAAAAgS9AAA\n",
       "ABAk6AEAACBI0MNf7dnBacRAFERBFnyd0KWwNJEojvVZR2PM32eqIujrowEAAIIEPQAAAAQJegAA\n",
       "AAgS9AAAABAk6AEAACBI0AMAAECQoAcAAIAgQQ8AAABBgh4AAACCBD0AAAAECXoAAAAIEvQAAAAQ\n",
       "JOgBAAAgSNADAABAkKAHAACAIEEPAAAAQa+11nt6BMAnue97egL8a+d5Tk94uK5resLD3nt6AgAR\n",
       "HnoAAAAIEvQAAAAQJOgBAAAgSNADAABAkKAHAACAIEEPAAAAQYIeAAAAggQ9AAAABAl6AAAACBL0\n",
       "AAAAECToAQAAIEjQAwAAQJCgBwAAgCBBDwAAAEGCHgAAAIIEPQAAAAQJegAAAAgS9AAAABAk6AEA\n",
       "ACBI0AMAAECQoAcAAIAgQQ8AAABBgh4AAACCBD0AAAAECXoAAAAIEvQAAAAQJOgBAAAgSNADAABA\n",
       "kKAHAACAIEEPAAAAQYIeAAAAggQ9AAAABAl6AAAACBL0AAAAECToAQAAIEjQAwAAQJCgBwAAgCBB\n",
       "DwAAAEGCHgAAAIIEPQAAAAQJegAAAAgS9AAAABAk6AEAACBI0AMAAECQoAcAAIAgQQ8AAABBgh4A\n",
       "AACCvqYHAMBv7L2nJzx82p7jOKYnAAB/xEMPAAAAQYIeAAAAggQ9AAAABAl6AAAACBL0AAAAECTo\n",
       "AQAAIEjQAwAAQJCgBwAAgCBBDwAAAEGCHgAAAIIEPQAAAAQJegAAAAgS9AAAABAk6AEAACBI0AMA\n",
       "AECQoAcAAIAgQQ8AAABBgh4AAACCBD0AAAAECXoAAAAIEvQAAAAQJOgBAAAgSNADAABAkKAHAACA\n",
       "IEEPAAAAQYIeAAAAggQ9AAAABAl6AAAACBL0AAAAECToAQAAIEjQAwAAQJCgBwAAgCBBDwAAAEGC\n",
       "HgAAAIIEPQAAAAQJegAAAAgS9AAAABAk6AEAACBI0AMAAECQoAcAAIAgQQ8AAABBgh4AAACCBD0A\n",
       "AAAECXoAAAAIEvQAAAAQJOgBAAAgSNADAABAkKAHAACAoNda6z09AgAAAPgZDz0AAAAECXoAAAAI\n",
       "EvQAAAAQJOgBAAAgSNADAABAkKAHAACAIEEPAAAAQYIeAAAAggQ9AAAABAl6AAAACBL0AAAAECTo\n",
       "AQAAIEjQAwAAQJCgBwAAgCBBDwAAAEGCHgAAAIIEPQAAAAQJegAAAAgS9AAAABAk6AEAACBI0AMA\n",
       "AECQoAcAAIAgQQ8AAABBgh4AAACCBD0AAAAECXoAAAAIEvQAAAAQJOgBAAAgSNADAABAkKAHAACA\n",
       "IEEPAAAAQYIeAAAAggQ9AAAABAl6AAAACBL0AAAAECToAQAAIEjQAwAAQJCgBwAAgCBBDwAAAEGC\n",
       "HgAAAIIEPQAAAAQJegAAAAgS9AAAABAk6AEAACBI0AMAAECQoAcAAIAgQQ8AAABBgh4AAACCBD0A\n",
       "AAAECXoAAAAIEvQAAAAQJOgBAAAgSNADAABAkKAHAACAIEEPAAAAQYIeAAAAggQ9AAAABAl6AAAA\n",
       "CBL0AAAAECToAQAAIEjQAwAAQJCgBwAAgCBBDwAAAEGCHgAAAIIEPQAAAAQJegAAAAgS9AAAABAk\n",
       "6AEAACBI0AMAAECQoAcAAIAgQQ8AAABBgh4AAACCBD0AAAAECXoAAAAIEvQAAAAQJOgBAAAgSNAD\n",
       "AABAkKAHAACAIEEPAAAAQYIeAAAAggQ9AAAABAl6AAAACBL0AAAAECToAQAAIEjQAwAAQJCgBwAA\n",
       "gCBBDwAAAEGCHgAAAIIEPQAAAAQJegAAAAgS9AAAABAk6AEAACBI0AMAAECQoAcAAIAgQQ8AAABB\n",
       "gh4AAACCBD0AAAAECXoAAAAIEvQAAAAQJOgBAAAgSNADAABAkKAHAACAIEEPAAAAQYIeAAAAggQ9\n",
       "AAAABAl6AAAACBL0AAAAECToAQAAIEjQAwAAQJCgBwAAgCBBDwAAAEGCHgAAAIIEPQAAAAQJegAA\n",
       "AAgS9AAAABAk6AEAACBI0AMAAECQoAcAAIAgQQ8AAABBgh4AAACCBD0AAAAECXoAAAAIEvQAAAAQ\n",
       "JOgBAAAgSNADAABAkKAHAACAIEEPAAAAQYIeAAAAggQ9AAAABAl6AAAACBL0AAAAECToAQAAIEjQ\n",
       "AwAAQJCgBwAAgCBBDwAAAEGCHgAAAIIEPThK0VkAAAKNSURBVAAAAAQJegAAAAgS9AAAABAk6AEA\n",
       "ACBI0AMAAECQoAcAAIAgQQ8AAABBgh4AAACCBD0AAAAECXoAAAAIEvQAAAAQJOgBAAAgSNADAABA\n",
       "kKAHAACAIEEPAAAAQYIeAAAAggQ9AAAABAl6AAAACBL0AAAAECToAQAAIEjQAwAAQJCgBwAAgCBB\n",
       "DwAAAEGCHgAAAIIEPQAAAAQJegAAAAgS9AAAABAk6AEAACBI0AMAAECQoAcAAIAgQQ8AAABBgh4A\n",
       "AACCBD0AAAAECXoAAAAIEvQAAAAQJOgBAAAgSNADAABAkKAHAACAIEEPAAAAQYIeAAAAggQ9AAAA\n",
       "BAl6AAAACBL0AAAAECToAQAAIEjQAwAAQJCgBwAAgCBBDwAAAEGCHgAAAIIEPQAAAAQJegAAAAgS\n",
       "9AAAABAk6AEAACBI0AMAAECQoAcAAIAgQQ8AAABBgh4AAACCBD0AAAAECXoAAAAIEvQAAAAQJOgB\n",
       "AAAgSNADAABAkKAHAACAIEEPAAAAQYIeAAAAggQ9AAAABAl6AAAACBL0AAAAECToAQAAIEjQAwAA\n",
       "QJCgBwAAgCBBDwAAAEGCHgAAAIIEPQAAAAQJegAAAAgS9AAAABAk6AEAACBI0AMAAECQoAcAAIAg\n",
       "QQ8AAABBgh4AAACCBD0AAAAECXoAAAAIEvQAAAAQJOgBAAAgSNADAABAkKAHAACAIEEPAAAAQYIe\n",
       "AAAAggQ9AAAABAl6AAAACBL0AAAAECToAQAAIEjQAwAAQJCgBwAAgCBBDwAAAEGCHgAAAIIEPQAA\n",
       "AAQJegAAAAgS9AAAABAk6AEAACBI0AMAAECQoAcAAIAgQQ8AAABBgh4AAACCBD0AAAAECXoAAAAI\n",
       "+gatn24tOmJfUgAAAABJRU5ErkJggg==\n",
       "\" transform=\"translate(141, 123)\"/>\n",
       "</g>\n",
       "<path clip-path=\"url(#clip700)\" d=\"M1340.7 1486.45 L2352.76 1486.45 L2352.76 123.472 L1340.7 123.472  Z\" fill=\"#ffffff\" fill-rule=\"evenodd\" fill-opacity=\"1\"/>\n",
       "<defs>\n",
       "  <clipPath id=\"clip703\">\n",
       "    <rect x=\"1340\" y=\"123\" width=\"1013\" height=\"1364\"/>\n",
       "  </clipPath>\n",
       "</defs>\n",
       "<polyline clip-path=\"url(#clip703)\" style=\"stroke:#000000; stroke-linecap:round; stroke-linejoin:round; stroke-width:2; stroke-opacity:0.1; fill:none\" points=\"1503.35,1486.45 1503.35,123.472 \"/>\n",
       "<polyline clip-path=\"url(#clip703)\" style=\"stroke:#000000; stroke-linecap:round; stroke-linejoin:round; stroke-width:2; stroke-opacity:0.1; fill:none\" points=\"1684.07,1486.45 1684.07,123.472 \"/>\n",
       "<polyline clip-path=\"url(#clip703)\" style=\"stroke:#000000; stroke-linecap:round; stroke-linejoin:round; stroke-width:2; stroke-opacity:0.1; fill:none\" points=\"1864.8,1486.45 1864.8,123.472 \"/>\n",
       "<polyline clip-path=\"url(#clip703)\" style=\"stroke:#000000; stroke-linecap:round; stroke-linejoin:round; stroke-width:2; stroke-opacity:0.1; fill:none\" points=\"2045.52,1486.45 2045.52,123.472 \"/>\n",
       "<polyline clip-path=\"url(#clip703)\" style=\"stroke:#000000; stroke-linecap:round; stroke-linejoin:round; stroke-width:2; stroke-opacity:0.1; fill:none\" points=\"2226.25,1486.45 2226.25,123.472 \"/>\n",
       "<polyline clip-path=\"url(#clip703)\" style=\"stroke:#000000; stroke-linecap:round; stroke-linejoin:round; stroke-width:2; stroke-opacity:0.1; fill:none\" points=\"1340.7,1267.4 2352.76,1267.4 \"/>\n",
       "<polyline clip-path=\"url(#clip703)\" style=\"stroke:#000000; stroke-linecap:round; stroke-linejoin:round; stroke-width:2; stroke-opacity:0.1; fill:none\" points=\"1340.7,1024.01 2352.76,1024.01 \"/>\n",
       "<polyline clip-path=\"url(#clip703)\" style=\"stroke:#000000; stroke-linecap:round; stroke-linejoin:round; stroke-width:2; stroke-opacity:0.1; fill:none\" points=\"1340.7,780.621 2352.76,780.621 \"/>\n",
       "<polyline clip-path=\"url(#clip703)\" style=\"stroke:#000000; stroke-linecap:round; stroke-linejoin:round; stroke-width:2; stroke-opacity:0.1; fill:none\" points=\"1340.7,537.233 2352.76,537.233 \"/>\n",
       "<polyline clip-path=\"url(#clip703)\" style=\"stroke:#000000; stroke-linecap:round; stroke-linejoin:round; stroke-width:2; stroke-opacity:0.1; fill:none\" points=\"1340.7,293.844 2352.76,293.844 \"/>\n",
       "<path clip-path=\"url(#clip700)\" d=\"M1539.1 16.7545 L1539.1 25.383 Q1534.97 21.5346 1530.27 19.6307 Q1525.61 17.7268 1520.34 17.7268 Q1509.97 17.7268 1504.46 24.0867 Q1498.96 30.4061 1498.96 42.3968 Q1498.96 54.3469 1504.46 60.7069 Q1509.97 67.0263 1520.34 67.0263 Q1525.61 67.0263 1530.27 65.1223 Q1534.97 63.2184 1539.1 59.3701 L1539.1 67.9175 Q1534.81 70.8341 1529.99 72.2924 Q1525.21 73.7508 1519.86 73.7508 Q1506.13 73.7508 1498.23 65.3654 Q1490.33 56.9395 1490.33 42.3968 Q1490.33 27.8135 1498.23 19.4281 Q1506.13 11.0023 1519.86 11.0023 Q1525.29 11.0023 1530.07 12.4606 Q1534.89 13.8784 1539.1 16.7545 Z\" fill=\"#000000\" fill-rule=\"nonzero\" fill-opacity=\"1\" /><path clip-path=\"url(#clip700)\" d=\"M1569 32.4315 Q1563 32.4315 1559.52 37.1306 Q1556.03 41.7891 1556.03 49.9314 Q1556.03 58.0738 1559.48 62.7728 Q1562.96 67.4314 1569 67.4314 Q1574.95 67.4314 1578.43 62.7323 Q1581.92 58.0333 1581.92 49.9314 Q1581.92 41.8701 1578.43 37.1711 Q1574.95 32.4315 1569 32.4315 M1569 26.1121 Q1578.72 26.1121 1584.27 32.4315 Q1589.82 38.7509 1589.82 49.9314 Q1589.82 61.0714 1584.27 67.4314 Q1578.72 73.7508 1569 73.7508 Q1559.23 73.7508 1553.68 67.4314 Q1548.17 61.0714 1548.17 49.9314 Q1548.17 38.7509 1553.68 32.4315 Q1559.23 26.1121 1569 26.1121 Z\" fill=\"#000000\" fill-rule=\"nonzero\" fill-opacity=\"1\" /><path clip-path=\"url(#clip700)\" d=\"M1601.4 54.671 L1601.4 27.2059 L1608.86 27.2059 L1608.86 54.3874 Q1608.86 60.8284 1611.37 64.0691 Q1613.88 67.2693 1618.9 67.2693 Q1624.94 67.2693 1628.42 63.421 Q1631.95 59.5726 1631.95 52.9291 L1631.95 27.2059 L1639.4 27.2059 L1639.4 72.576 L1631.95 72.576 L1631.95 65.6084 Q1629.23 69.7404 1625.63 71.7658 Q1622.06 73.7508 1617.32 73.7508 Q1609.5 73.7508 1605.45 68.8897 Q1601.4 64.0286 1601.4 54.671 M1620.16 26.1121 L1620.16 26.1121 Z\" fill=\"#000000\" fill-rule=\"nonzero\" fill-opacity=\"1\" /><path clip-path=\"url(#clip700)\" d=\"M1692.47 45.1919 L1692.47 72.576 L1685.01 72.576 L1685.01 45.4349 Q1685.01 38.994 1682.5 35.7938 Q1679.99 32.5936 1674.97 32.5936 Q1668.93 32.5936 1665.45 36.4419 Q1661.96 40.2903 1661.96 46.9338 L1661.96 72.576 L1654.47 72.576 L1654.47 27.2059 L1661.96 27.2059 L1661.96 34.2544 Q1664.64 30.163 1668.24 28.1376 Q1671.89 26.1121 1676.63 26.1121 Q1684.45 26.1121 1688.46 30.9732 Q1692.47 35.7938 1692.47 45.1919 Z\" fill=\"#000000\" fill-rule=\"nonzero\" fill-opacity=\"1\" /><path clip-path=\"url(#clip700)\" d=\"M1714.71 14.324 L1714.71 27.2059 L1730.06 27.2059 L1730.06 32.9987 L1714.71 32.9987 L1714.71 57.6282 Q1714.71 63.1779 1716.21 64.7578 Q1717.74 66.3376 1722.4 66.3376 L1730.06 66.3376 L1730.06 72.576 L1722.4 72.576 Q1713.78 72.576 1710.49 69.3758 Q1707.21 66.1351 1707.21 57.6282 L1707.21 32.9987 L1701.74 32.9987 L1701.74 27.2059 L1707.21 27.2059 L1707.21 14.324 L1714.71 14.324 Z\" fill=\"#000000\" fill-rule=\"nonzero\" fill-opacity=\"1\" /><path clip-path=\"url(#clip700)\" d=\"M1778.67 48.0275 L1778.67 51.6733 L1744.4 51.6733 Q1744.89 59.3701 1749.02 63.421 Q1753.19 67.4314 1760.6 67.4314 Q1764.9 67.4314 1768.91 66.3781 Q1772.96 65.3249 1776.93 63.2184 L1776.93 70.267 Q1772.92 71.9684 1768.71 72.8596 Q1764.49 73.7508 1760.16 73.7508 Q1749.3 73.7508 1742.94 67.4314 Q1736.62 61.1119 1736.62 50.3365 Q1736.62 39.1965 1742.62 32.6746 Q1748.65 26.1121 1758.86 26.1121 Q1768.02 26.1121 1773.32 32.0264 Q1778.67 37.9003 1778.67 48.0275 M1771.22 45.84 Q1771.14 39.7232 1767.77 36.0774 Q1764.45 32.4315 1758.94 32.4315 Q1752.7 32.4315 1748.94 35.9558 Q1745.21 39.4801 1744.64 45.8805 L1771.22 45.84 Z\" fill=\"#000000\" fill-rule=\"nonzero\" fill-opacity=\"1\" /><path clip-path=\"url(#clip700)\" d=\"M1817.19 34.1734 Q1815.94 33.4443 1814.44 33.1202 Q1812.98 32.7556 1811.2 32.7556 Q1804.88 32.7556 1801.48 36.8875 Q1798.11 40.9789 1798.11 48.6757 L1798.11 72.576 L1790.62 72.576 L1790.62 27.2059 L1798.11 27.2059 L1798.11 34.2544 Q1800.46 30.1225 1804.23 28.1376 Q1808 26.1121 1813.39 26.1121 Q1814.16 26.1121 1815.09 26.2337 Q1816.02 26.3147 1817.15 26.5172 L1817.19 34.1734 Z\" fill=\"#000000\" fill-rule=\"nonzero\" fill-opacity=\"1\" /><path clip-path=\"url(#clip700)\" d=\"M1847.98 9.54393 L1847.98 15.7418 L1840.85 15.7418 Q1836.84 15.7418 1835.26 17.3622 Q1833.72 18.9825 1833.72 23.1955 L1833.72 27.2059 L1846 27.2059 L1846 32.9987 L1833.72 32.9987 L1833.72 72.576 L1826.23 72.576 L1826.23 32.9987 L1819.1 32.9987 L1819.1 27.2059 L1826.23 27.2059 L1826.23 24.0462 Q1826.23 16.471 1829.75 13.0277 Q1833.28 9.54393 1840.93 9.54393 L1847.98 9.54393 Z\" fill=\"#000000\" fill-rule=\"nonzero\" fill-opacity=\"1\" /><path clip-path=\"url(#clip700)\" d=\"M1874.84 49.7694 Q1865.81 49.7694 1862.32 51.8354 Q1858.84 53.9013 1858.84 58.8839 Q1858.84 62.8538 1861.43 65.2034 Q1864.06 67.5124 1868.56 67.5124 Q1874.76 67.5124 1878.48 63.1374 Q1882.25 58.7219 1882.25 51.4303 L1882.25 49.7694 L1874.84 49.7694 M1889.71 46.6907 L1889.71 72.576 L1882.25 72.576 L1882.25 65.6895 Q1879.7 69.8214 1875.89 71.8063 Q1872.08 73.7508 1866.58 73.7508 Q1859.61 73.7508 1855.48 69.8619 Q1851.38 65.9325 1851.38 59.3701 Q1851.38 51.7138 1856.49 47.825 Q1861.63 43.9361 1871.8 43.9361 L1882.25 43.9361 L1882.25 43.2069 Q1882.25 38.0623 1878.85 35.2672 Q1875.49 32.4315 1869.37 32.4315 Q1865.48 32.4315 1861.8 33.3632 Q1858.11 34.295 1854.71 36.1584 L1854.71 29.2718 Q1858.8 27.692 1862.65 26.9223 Q1866.49 26.1121 1870.14 26.1121 Q1879.98 26.1121 1884.84 31.2163 Q1889.71 36.3204 1889.71 46.6907 Z\" fill=\"#000000\" fill-rule=\"nonzero\" fill-opacity=\"1\" /><path clip-path=\"url(#clip700)\" d=\"M1937.71 28.9478 L1937.71 35.9153 Q1934.55 34.1734 1931.35 33.3227 Q1928.19 32.4315 1924.95 32.4315 Q1917.7 32.4315 1913.69 37.0496 Q1909.68 41.6271 1909.68 49.9314 Q1909.68 58.2358 1913.69 62.8538 Q1917.7 67.4314 1924.95 67.4314 Q1928.19 67.4314 1931.35 66.5807 Q1934.55 65.6895 1937.71 63.9476 L1937.71 70.8341 Q1934.59 72.2924 1931.23 73.0216 Q1927.91 73.7508 1924.14 73.7508 Q1913.89 73.7508 1907.85 67.3098 Q1901.82 60.8689 1901.82 49.9314 Q1901.82 38.832 1907.89 32.472 Q1914.01 26.1121 1924.62 26.1121 Q1928.07 26.1121 1931.35 26.8413 Q1934.63 27.5299 1937.71 28.9478 Z\" fill=\"#000000\" fill-rule=\"nonzero\" fill-opacity=\"1\" /><path clip-path=\"url(#clip700)\" d=\"M1958.04 14.324 L1958.04 27.2059 L1973.4 27.2059 L1973.4 32.9987 L1958.04 32.9987 L1958.04 57.6282 Q1958.04 63.1779 1959.54 64.7578 Q1961.08 66.3376 1965.74 66.3376 L1973.4 66.3376 L1973.4 72.576 L1965.74 72.576 Q1957.11 72.576 1953.83 69.3758 Q1950.55 66.1351 1950.55 57.6282 L1950.55 32.9987 L1945.08 32.9987 L1945.08 27.2059 L1950.55 27.2059 L1950.55 14.324 L1958.04 14.324 Z\" fill=\"#000000\" fill-rule=\"nonzero\" fill-opacity=\"1\" /><path clip-path=\"url(#clip700)\" d=\"M1982.43 54.671 L1982.43 27.2059 L1989.88 27.2059 L1989.88 54.3874 Q1989.88 60.8284 1992.4 64.0691 Q1994.91 67.2693 1999.93 67.2693 Q2005.97 67.2693 2009.45 63.421 Q2012.97 59.5726 2012.97 52.9291 L2012.97 27.2059 L2020.43 27.2059 L2020.43 72.576 L2012.97 72.576 L2012.97 65.6084 Q2010.26 69.7404 2006.66 71.7658 Q2003.09 73.7508 1998.35 73.7508 Q1990.53 73.7508 1986.48 68.8897 Q1982.43 64.0286 1982.43 54.671 M2001.19 26.1121 L2001.19 26.1121 Z\" fill=\"#000000\" fill-rule=\"nonzero\" fill-opacity=\"1\" /><path clip-path=\"url(#clip700)\" d=\"M2056.4 49.7694 Q2047.37 49.7694 2043.88 51.8354 Q2040.4 53.9013 2040.4 58.8839 Q2040.4 62.8538 2042.99 65.2034 Q2045.63 67.5124 2050.12 67.5124 Q2056.32 67.5124 2060.05 63.1374 Q2063.81 58.7219 2063.81 51.4303 L2063.81 49.7694 L2056.4 49.7694 M2071.27 46.6907 L2071.27 72.576 L2063.81 72.576 L2063.81 65.6895 Q2061.26 69.8214 2057.45 71.8063 Q2053.65 73.7508 2048.14 73.7508 Q2041.17 73.7508 2037.04 69.8619 Q2032.95 65.9325 2032.95 59.3701 Q2032.95 51.7138 2038.05 47.825 Q2043.19 43.9361 2053.36 43.9361 L2063.81 43.9361 L2063.81 43.2069 Q2063.81 38.0623 2060.41 35.2672 Q2057.05 32.4315 2050.93 32.4315 Q2047.04 32.4315 2043.36 33.3632 Q2039.67 34.295 2036.27 36.1584 L2036.27 29.2718 Q2040.36 27.692 2044.21 26.9223 Q2048.06 26.1121 2051.7 26.1121 Q2061.55 26.1121 2066.41 31.2163 Q2071.27 36.3204 2071.27 46.6907 Z\" fill=\"#000000\" fill-rule=\"nonzero\" fill-opacity=\"1\" /><path clip-path=\"url(#clip700)\" d=\"M2086.62 9.54393 L2094.07 9.54393 L2094.07 72.576 L2086.62 72.576 L2086.62 9.54393 Z\" fill=\"#000000\" fill-rule=\"nonzero\" fill-opacity=\"1\" /><path clip-path=\"url(#clip700)\" d=\"M2111.57 62.2867 L2120.12 62.2867 L2120.12 72.576 L2111.57 72.576 L2111.57 62.2867 M2111.57 29.6769 L2120.12 29.6769 L2120.12 39.9662 L2111.57 39.9662 L2111.57 29.6769 Z\" fill=\"#000000\" fill-rule=\"nonzero\" fill-opacity=\"1\" /><path clip-path=\"url(#clip700)\" d=\"M2165.29 71.3202 L2165.29 63.8666 Q2168.37 65.3249 2171.53 66.0946 Q2174.69 66.8642 2177.73 66.8642 Q2185.83 66.8642 2190.08 61.436 Q2194.37 55.9673 2194.98 44.8678 Q2192.63 48.3516 2189.03 50.215 Q2185.42 52.0784 2181.05 52.0784 Q2171.97 52.0784 2166.67 46.6097 Q2161.4 41.1005 2161.4 31.5808 Q2161.4 22.2638 2166.91 16.633 Q2172.42 11.0023 2181.57 11.0023 Q2192.07 11.0023 2197.57 19.0636 Q2203.12 27.0843 2203.12 42.3968 Q2203.12 56.6965 2196.32 65.2439 Q2189.55 73.7508 2178.09 73.7508 Q2175.01 73.7508 2171.85 73.1431 Q2168.69 72.5355 2165.29 71.3202 M2181.57 45.678 Q2187.08 45.678 2190.28 41.9107 Q2193.52 38.1433 2193.52 31.5808 Q2193.52 25.0589 2190.28 21.2916 Q2187.08 17.4837 2181.57 17.4837 Q2176.06 17.4837 2172.82 21.2916 Q2169.62 25.0589 2169.62 31.5808 Q2169.62 38.1433 2172.82 41.9107 Q2176.06 45.678 2181.57 45.678 Z\" fill=\"#000000\" fill-rule=\"nonzero\" fill-opacity=\"1\" /><g clip-path=\"url(#clip703)\">\n",
       "<image width=\"1012\" height=\"1363\" xlink:href=\"data:image/png;base64,\n",
       "iVBORw0KGgoAAAANSUhEUgAAA/QAAAVTCAYAAABj7GMOAAAgAElEQVR4nOzZIasW9h+Gcc/fAw70\n",
       "WTMdmeA0z3pO0rGXoCzYZxNk+CIMmo0rJg+yYBsoGFyzD7RpMggLbsWd5R/iQP/h+1zb5/MK7npx\n",
       "72w2m6NjAAAAQMr/pgcAAAAAn07QAwAAQJCgBwAAgCBBDwAAAEGCHgAAAIIEPQAAAAQJegAAAAgS\n",
       "9AAAABAk6AEAACBI0AMAAECQoAcAAIAgQQ8AAABBgh4AAACCBD0AAAAECXoAAAAIEvQAAAAQJOgB\n",
       "AAAgSNADAABAkKAHAACAIEEPAAAAQYIeAAAAggQ9AAAABAl6AAAACBL0AAAAECToAQAAIEjQAwAA\n",
       "QJCgBwAAgCBBDwAAAEGCHgAAAIIEPQAAAAQJegAAAAgS9AAAABAk6AEAACBI0AMAAECQoAcAAIAg\n",
       "QQ8AAABBgh4AAACCBD0AAAAECXoAAAAIEvQAAAAQJOgBAAAgSNADAABAkKAHAACAIEEPAAAAQYIe\n",
       "AAAAggQ9AAAABAl6AAAACBL0AAAAECToAQAAIEjQAwAAQJCgBwAAgCBBDwAAAEGCHgAAAIIEPQAA\n",
       "AAQJegAAAAgS9AAAABAk6AEAACBI0AMAAECQoAcAAIAgQQ8AAABBgh4AAACCBD0AAAAECXoAAAAI\n",
       "EvQAAAAQJOgBAAAgSNADAABAkKAHAACAIEEPAAAAQYIeAAAAggQ9AAAABAl6AAAACBL0AAAAECTo\n",
       "AQAAIEjQAwAAQJCgBwAAgCBBDwAAAEGCHgAAAIIEPQAAAAQJegAAAAgS9AAAABAk6AEAACBI0AMA\n",
       "AECQoAcAAIAgQQ8AAABBgh4AAACCBD0AAAAECXoAAAAIEvQAAAAQJOgBAAAgSNADAABAkKAHAACA\n",
       "IEEPAAAAQYIeAAAAggQ9AAAABAl6AAAACBL0AAAAECToAQAAIEjQAwAAQJCgBwAAgCBBDwAAAEGC\n",
       "HgAAAIIEPQAAAAQJegAAAAgS9AAAABAk6AEAACBI0AMAAECQoAcAAIAgQQ8AAABBgh4AAACCBD0A\n",
       "AAAECXoAAAAIEvQAAAAQJOgBAAAgSNADAABAkKAHAACAIEEPAAAAQYIeAAAAggQ9AAAABAl6AAAA\n",
       "CBL0AAAAECToAQAAIEjQAwAAQJCgBwAAgCBBDwAAAEGCHgAAAIIEPQAAAAQJegAAAAgS9AAAABAk\n",
       "6AEAACBI0AMAAECQoAcAAIAgQQ8AAABBgh4AAACCBD0AAAAECXoAAAAIEvQAAAAQJOgBAAAgSNAD\n",
       "AABAkKAHAACAIEEPAAAAQYIeAAAAggQ9AAAABAl6AAAACBL0AAAAECToAQAAIEjQAwAAQJCgBwAA\n",
       "gCBBDwAAAEGCHgAAAIIEPQAAAAQJegAAAAgS9AAAABAk6AEAACBI0AMAAECQoAcAAIAgQQ8AAABB\n",
       "gh4AAACCBD0AAAAECXoAAAAIEvQAAAAQJOgBAAAgSNADAABAkKAHAACAIEEPAAAAQYIeAAAAggQ9\n",
       "AAAABAl6AAAACBL0AAAAECToAQAAIEjQAwAAQJCgBwAAgCBBDwAAAEGCHgAAAIIEPQAAAAQJegAA\n",
       "AAgS9AAAABAk6AEAACBI0AMAAECQoAcAAIAgQQ8AAABBgh4AAACCBD0AAAAECXoAAAAIEvQAAAAQ\n",
       "JOgBAAAgSNADAABAkKAHAACAIEEPAAAAQYIeAAAAggQ9AAAABAl6AAAACBL0AAAAECToAQAAIEjQ\n",
       "AwAAQNDu9AAAWm7cuDE9YfH7779PT1j89NNP0xMAgP8IDz0AAAAECXoAAAAIEvQAAAAQJOgBAAAg\n",
       "SNADAABAkKAHAACAIEEPAAAAQYIeAAAAggQ9AAAABAl6AAAACBL0AAAAECToAQAAIEjQAwAAQJCg\n",
       "BwAAgCBBDwAAAEGCHgAAAIIEPQAAAAQJegAAAAgS9AAAABAk6AEAACBI0AMAAECQoAcAAIAgQQ8A\n",
       "AABBgh4AAACCBD0AAAAECXoAAAAIEvQAAAAQJOgBAAAgSNADAABAkKAHAACAIEEPAAAAQYIeAAAA\n",
       "ggQ9AAAABAl6AAAACBL0AAAAECToAQAAIEjQAwAAQJCgBwAAgCBBDwAAAEGCHgAAAIIEPQAAAAQJ\n",
       "egAAAAgS9AAAABAk6AEAACBI0AMAAECQoAcAAIAgQQ8AAABBgh4AAACCdjabzdH0CAAAAODTeOgB\n",
       "AAAgSNADAABAkKAHAACAIEEPAAAAQYIeAAAAggQ9AAAABAl6AAAACBL0AAAAECToAQAAIEjQAwAA\n",
       "QJCgBwAAgCBBDwAAAEGCHgAAAIIEPQAAAAQJegAAAAgS9AAAABAk6AEAACBI0AMAAECQoAcAAIAg\n",
       "QQ8AAABBgh4AAACCBD0AAAAECXoAAAAIEvQAAAAQJOgBAAAgSNADAABAkKAHAACAIEEPAAAAQYIe\n",
       "AAAAggQ9AAAABAl6AAAACBL0AAAAECToAQAAIEjQAwAAQJCgBwAAgCBBDwAAAEGCHgAAAIIEPQAA\n",
       "AAQJegAAAAgS9AAAABAk6AEAACBI0AMAAECQoAcAAIAgQQ8AAABBgh4AAACCBD0AAAAECXoAAAAI\n",
       "EvQAAAAQtDs9AAD+H1euXJmesDg8PJyesNi2PceOHTv2zTffTE9Y3Lt3b3rC4s6dO9MTAIjw0AMA\n",
       "AECQoAcAAIAgQQ8AAABBgh4AAACCBD0AAAAECXoAAAAIEvQAAAAQJOgBAAAgSNADAABAkKAHAACA\n",
       "IEEPAAAAQYIeAAAAggQ9AAAABAl6AAAACBL0AAAAECToAQAAIEjQAwAAQJCgBwAAgCBBDwAAAEGC\n",
       "HgAAAIIEPQAAAAQJegAAAAgS9AAAABAk6AEAACBI0AMAAECQoAcAAIAgQQ8AAABBgh4AAACCBD0A\n",
       "AAAECXoAAAAIEvQAAAAQJOgBAAAgSNADAABAkKAHAACAIEEPAAAAQYIeAAAAggQ9AAAABAl6AAAA\n",
       "CBL0AAAAECToAQAAIEjQAwAAQJCgBwAAgCBBDwAAAEGCHgAAAIIEPQAAAAQJegAAAAgS9AAAABC0\n",
       "s9lsjqZHAMDnevjw4fSExYsXL6YnLK5duzY9Yeu9f/9+esLiq6++mp4AQISHHgAAAIIEPQAAAAQJ\n",
       "egAAAAgS9AAAABAk6AEAACBI0AMAAECQoAcAAIAgQQ8AAABBgh4AAACCBD0AAAAECXoAAAAIEvQA\n",
       "AAAQJOgBAAAgSNADAABAkKAHAACAIEEPAAAAQYIeAAAAggQ9AAAABAl6AAAACBL0AAAAECToAQAA\n",
       "IEjQAwAAQJCgBwAAgCBBDwAAAEGCHgAAAIIEPQAAAAQJegAAAAgS9AAAABAk6AEAACBI0AMAAECQ\n",
       "oAcAAIAgQQ8AAABBgh4AAACCBD0AAAAECXoAAAAIEvQAAAAQJOgBAAAgSNADAABAkKAHAACAIEEP\n",
       "AAAAQYIeAAAAggQ9AAAABAl6AAAACBL0AAAAECToAQAAIEjQAwAAQJCgBwAAgCBBDwAAAEG70wMA\n",
       "aDl37tz0hMXTp0+nJyxevXo1PWGxt7c3PeEDly5dmp6wOH78+PQEAPgsHnoAAAAIEvQAAAAQJOgB\n",
       "AAAgSNADAABAkKAHAACAIEEPAAAAQYIeAAAAggQ9AAAABAl6AAAACBL0AAAAECToAQAAIEjQAwAA\n",
       "QJCgBwAAgCBBDwAAAEGCHgAAAIIEPQAAAAQJegAAAAgS9AAAABAk6AEAACBI0AMAAECQoAcAAIAg\n",
       "QQ8AAABBgh4AAACCBD0AAAAECXoAAAAIEvQAAAAQJOgBAAAgSNADAABAkKAHAACAIEEPAAAAQYIe\n",
       "AAAAggQ9AAAABAl6AAAACBL0AAAAECToAQAAIEjQAwAAQJCgBwAAgCBBDwAAAEGCHgAAAIIEPQAA\n",
       "AAQJegAAAAgS9AAAABAk6AEAACBI0AMAAECQoAcAAIAgQQ8AAABBgh4AAACCBD0AAAAE7Ww2m6Pp\n",
       "EQDwua5duzY9YXH//v3pCVvv8PBwesJif39/esJib29vegIAER56AAAACBL0AAAAECToAQAAIEjQ\n",
       "AwAAQJCgBwAAgCBBDwAAAEGCHgAAAIIEPQAAAAQJegAAAAgS9AAAABAk6AEAACBI0AMAAECQoAcA\n",
       "AIAgQQ8AAABBgh4AAACCBD0AAAAECXoAAAAIEvQAAAAQJOgBAAAgSNADAABAkKAHAACAIEEPAAAA\n",
       "QYIeAAAAggQ9AAAABAl6AAAACBL0AAAAECToAQAAIEjQAwAAQJCgBwAAgCBBDwAAAEGCHgAAAIIE\n",
       "PQAAAAQJegAAAAgS9AAAABAk6AEAACBI0AMAAECQoAcAAIAgQQ8AAABBgh4AAACCBD0AAAAECXoA\n",
       "AAAIEvQAAAAQJOgBAAAgSNADAABAkKAHAACAIEEPAAAAQYIeAAAAgnY2m83R9AiAbfLy5cvpCYu/\n",
       "/vpresLi+++/n56weP78+fQEPtGDBw+mJyx2dnamJyzOnz8/PWFx8eLF6QkAfISHHgAAAIIEPQAA\n",
       "AAQJegAAAAgS9AAAABAk6AEAACBI0AMAAECQoAcAAIAgQQ8AAABBgh4AAACCBD0AAAAECXoAAAAI\n",
       "EvQAAAAQJOgBAAAgSNADAABAkKAHAACAIEEPAAAAQYIeAAAAggQ9AAAABAl6AAAACBL0AAAAECTo\n",
       "AQAAIEjQAwAAQJCgBwAAgCBBDwAAAEGCHgAAAIIEPQAAAAQJegAAAAgS9AAAABAk6AEAACBI0AMA\n",
       "AECQoAcAAIAgQQ8AAABBgh4AAACCBD0AAAAECXoAAAAIEvQAAAAQJOgBAAAgSNADAABAkKAHAACA\n",
       "IEEPAAAAQYIeAAAAggQ9AAAABAl6AAAACBL0AAAAECToAQAAIEjQAwAAQJCgBwAAgCBBDwAAAEG7\n",
       "0wMALl++PD1h8cUXX0xPWPzxxx/TExbPnz+fnsAn2N/fn57wgYODg+kJizdv3kxPWJw+fXp6wuLV\n",
       "q1fTExZnzpyZngCwNTz0AAAAECToAQAAIEjQAwAAQJCgBwAAgCBBDwAAAEGCHgAAAIIEPQAAAAQJ\n",
       "egAAAAgS9AAAABAk6AEAACBI0AMAAECQoAcAAIAgQQ8AAABBgh4AAACCBD0AAAAECXoAAAAIEvQA\n",
       "AAAQJOgBAAAgSNADAABAkKAHAACAIEEPAAAAQYIeAAAAggQ9AAAABAl6AAAACBL0AAAAECToAQAA\n",
       "IEjQAwAAQJCgBwAAgCBBDwAAAEGCHgAAAIIEPQAAAAQJegAAAAgS9AAAABAk6AEAACBI0AMAAECQ\n",
       "oAcAAIAgQQ8AAABBgh4AAACCBD0AAAAECXoAAAAIEvQAAAAQJOgBAAAgSNADAABAkKAHAACAIEEP\n",
       "AAAAQYIeAAAAggQ9AAAABAl6AAAACNqdHgBw8uTJ6Qlb7ddff52ewCfY39+fnrA4PDycnrD1vvzy\n",
       "y+kJiz///HN6wuLWrVvTEwD4CA89AAAABAl6AAAACBL0AAAAECToAQAAIEjQAwAAQJCgBwAAgCBB\n",
       "DwAAAEGCHgAAAIIEPQAAAAQJegAAAAgS9AAAABAk6AEAACBI0AMAAECQoAcAAIAgQQ8AAABBgh4A\n",
       "AACCBD0AAAAECXoAAAAIEvQAAAAQJOgBAAAgSNADAABAkKAHAACAIEEPAAAAQYIeAAAAggQ9AAAA\n",
       "BAl6AAAACBL0AAAAECToAQAAIEjQAwAAQJCgBwAAgCBBDwAAAEGCHgAAAIIEPQAAAAQJegAAAAgS\n",
       "9AAAABAk6AEAACBI0AMAAECQoAcAAIAgQQ8AAABBgh4AAACCBD0AAAAECXoAAAAIEvQAAAAQJOgB\n",
       "AAAgSNADAABAkKAHAACAIEEPAAAAQbvTAwAePXo0PWGrff3119MTFo8fP56esPj222+nJywODg6m\n",
       "J/CJTpw4MT1h8dtvv01PWDx8+HB6AgAf4aEHAACAIEEPAAAAQYIeAAAAggQ9AAAABAl6AAAACBL0\n",
       "AAAAECToAQAAIEjQAwAAQJCgBwAAgCBBDwAAAEGCHgAAAIIEPQAAAAQJegAAAAgS9AAAABAk6AEA\n",
       "ACBI0AMAAECQoAcAAIAgQQ8AAABBgh4AAACCBD0AAAAECXoAAAAIEvQAAAAQJOgBAAAgSNADAABA\n",
       "kKAHAACAIEEPAAAAQYIeAAAAggQ9AAAABAl6AAAACBL0AAAAECToAQAAIEjQAwAAQJCgBwAAgCBB\n",
       "DwAAAEGCHgAAAIIEPQAAAAQJegAAAAgS9AAAABAk6AEAACBI0AMAAECQoAcAAIAgQQ8AAABBgh4A\n",
       "AACCBD0AAAAECXoAAAAIEvQAAAAQJOgBAAAgSNADAABA0M5mszmaHgGwTW7evDk9YbFte44fPz49\n",
       "gbi7d+9OT1j88MMP0xMWp06dmp6wuHr16vSExbNnz6YnAGwNDz0AAAAECXoAAAAIEvQAAAAQJOgB\n",
       "AAAgSNADAABAkKAHAACAIEEPAAAAQYIeAAAAggQ9AAAABAl6AAAACBL0AAAAECToAQAAIEjQAwAA\n",
       "QJCgBwAAgCBBDwAAAEGCHgAAAIIEPQAAAAQJegAAAAgS9AAAABAk6AEAACBI0AMAAECQoAcAAIAg\n",
       "QQ8AAABBgh4AAACCBD0AAAAECXoAAAAIEvQAAAAQJOgBAAAgSNADAABAkKAHAACAIEEPAAAAQYIe\n",
       "AAAAggQ9AAAABAl6AAAACBL0AAAAECToAQAAIEjQAwAAQJCgBwAAgCBBDwAAAEGCHgAAAIIEPQAA\n",
       "AAQJegAAAAgS9AAAABAk6AEAACBI0AMAAECQoAcAAIAgQQ8AAABBgh4AAACCdjabzdH0CAA+7vXr\n",
       "19MTCNvb25uesPUODg6mJywePHgwPWFx9+7d6QmLO3fuTE8A2BoeegAAAAgS9AAAABAk6AEAACBI\n",
       "0AMAAECQoAcAAIAgQQ8AAABBgh4AAACCBD0AAAAECXoAAAAIEvQAAAAQJOgBAAAgSNADAABAkKAH\n",
       "AACAIEEPAAAAQYIeAAAAggQ9AAAABAl6AAAACBL0AAAAECToAQAAIEjQAwAAQJCgBwAAgCBBDwAA\n",
       "AEGCHgAAAIIEPQAAAAQJegAAAAgS9AAAABAk6AEAACBI0AMAAECQoAcAAIAgQQ8AAABBgh4AAACC\n",
       "BD0AAAAECXoAAAAIEvQAAAAQJOgBAAAgSNADAABAkKAHAACAIEEPAAAAQYIeAAAAggQ9AAAABAl6\n",
       "AAAACBL0AAAAECToAQAAIEjQAwAAQJCgBwAAgCBBDwAAAEGCHgAAAIJ2pwcA8M/29vamJ8C/2nff\n",
       "fTc9AQA+i4ceAAAAggQ9AAAABAl6AAAACBL0AAAAECToAQAAIEjQAwAAQJCgBwAAgCBBDwAAAEGC\n",
       "HgAAAIIEPQAAAAQJegAAAAgS9AAAABAk6AEAACBI0AMAAECQoAcAAIAgQQ8AAABBgh4AAACCBD0A\n",
       "AAAECXoAAAAIEvQAAAAQJOgBAAAgSNADAABAkKAHAACAIEEPAAAAQYIeAAAAggQ9AAAABAl6AAAA\n",
       "CBL0AAAAECToAQAAIEjQAwAAQJCgBwAAgCBBDwAAAEGCHgAAAIIEPQAAAAQJegAAAAgS9AAAABAk\n",
       "6AEAACBI0AMAAECQoAcAAIAgQQ8AAABBgh4AAACCBD0AAAAECXoAAAAIEvQAAAAQJOgBAAAgSNAD\n",
       "AABAkKAHAACAIEEPAAAAQbvTAwAAJv3yyy/TExbXr1+fngBAhIceAAAAggQ9AAAABAl6AAAACBL0\n",
       "AAAAECToAQAAIEjQAwAAQJCgBwAAgCBBDwAAAEGCHgAAAIIEPQAAAAQJegAAAAgS9AAAABAk6AEA\n",
       "ACBI0AMAAECQoAcAAIAgQQ8AAABBgh4AAACCBD0AAAAECXoAAAAIEvQAAAAQJOgBAAAgSNADAABA\n",
       "kKAHAACAIEEPAAAAQYIeAAAAggQ9AAAABAl6AAAACBL0AAAAECToAQAAIEjQAwAAQJCgBwAAgCBB\n",
       "DwAAAEGCHgAAAIIEPQAAAAQJegAAAAgS9AAAABAk6AEAACBI0AMAAECQoAcAAIAgQQ8AAABBgh4A\n",
       "AACCBD0AAAAECXoAAAAIEvQAAAAQJOgBAAAgSNADAABAkKAHAACAIEEPAAAAQbvTAwCA/5b9/f3p\n",
       "CYsff/xxegIAfBYPPQAAAAQJegAAAAgS9AAAABAk6AEAACBI0AMAAECQoAcAAIAgQQ8AAABBgh4A\n",
       "AACCBD0AAAAECXoAAAAIEvQAAAAQJOgBAAAgSNADAABAkKAHAACAIEEPAAAAQYIeAAAAggQ9AAAA\n",
       "BAl6AAAACBL0AAAAECToAQAAIEjQAwAAQJCgBwAAgCBBDwAAAEGCHgAAAIIEPQAAAAQJegAAAAgS\n",
       "9AAAABAk6AEAACBI0AMAAECQoAcAAIAgQQ8AAABBgh4AAACCBD0AAAAECXoAAAAIEvQAAAAQJOgB\n",
       "AAAgSNADAABAkKAHAACAIEEPAAAAQYIeAAAAggQ9AAAABAl6AAAACBL0AAAAECToAQAAIEjQAwAA\n",
       "QJCgBwAAgCBBDwAAAEG70wMA4N/k7Nmz0xMWT548mZ7wgRMnTkxP2GoXLlyYnrB49+7d9AQAPsJD\n",
       "DwAAAEGCHgAAAIIEPQAAAAQJegAAAAgS9AAAABAk6AEAACBI0AMAAECQoAcAAIAgQQ8AAABBgh4A\n",
       "AACCBD0AAAAECXoAAAAIEvQAAAAQJOgBAAAgSNADAABAkKAHAACAIEEPAAAAQYIeAAAAggQ9AAAA\n",
       "BAl6AAAACBL0AAAAECToAQAAIEjQAwAAQJCgBwAAgCBBDwAAAEGCHgAAAIIEPQAAAAQJegAAAAgS\n",
       "9AAAABAk6AEAACBI0AMAAECQoAcAAIAgQQ8AAABBgh4AAACCBD0AAAAECXoAAAAIEvQAAAAQJOgB\n",
       "AAAgSNADAABAkKAHAACAIEEPAAAAQYIeAAAAggQ9AAAABAl6AAAACBL0AAAAECToAQAAIEjQAwAA\n",
       "QJCgBwAAgKDd6QEA/LPDw8PpCYuff/55esLi9u3b0xOIe/v27fSExbt376YnABDhoQcAAIAgQQ8A\n",
       "AABBgh4AAACCBD0AAAAECXoAAAAIEvQAAAAQJOgBAAAgSNADAABAkKAHAACAIEEPAAAAQYIeAAAA\n",
       "ggQ9AAAABAl6AAAACBL0AAAAECToAQAAIEjQAwAAQJCgBwAAgCBBDwAAAEGCHgAAAIIEPQAAAAQJ\n",
       "egAAAAgS9AAAAH+3Z8cmlYZRFEV5YCT8gdiCTdiHJWg3ag1WYAemmhgaih2IuQhv4g9xwAG57mGt\n",
       "Ck66ORAk6AEAACBI0AMAAECQoAcAAIAgQQ8AAABBgh4AAACCBD0AAAAECXoAAAAIEvQAAAAQJOgB\n",
       "AAAgSNADAABAkKAHAACAIEEPAAAAQYIeAAAAggQ9AAAABAl6AAAACBL0AAAAECToAQAAIEjQAwAA\n",
       "QJCgBwAAgCBBDwAAAEGCHgAAAIIEPQAAAAQJegAAAAgS9AAAABAk6AEAACBI0AMAAEDQwfQAAP7u\n",
       "7OxsesLi9vZ2egJx19fX0xMW9/f30xMA4J946AEAACBI0AMAAECQoAcAAIAgQQ8AAABBgh4AAACC\n",
       "BD0AAAAECXoAAAAIEvQAAAAQJOgBAAAgSNADAABAkKAHAACAIEEPAAAAQYIeAAAAggQ9AAAABAl6\n",
       "AAAACBL0AAAAECToAQAAIEjQAwAAQJCgBwAAgCBBDwAAAEGCHgAAAIIEPQAAAAQJegAAAAgS9AAA\n",
       "ABAk6AEAACBI0AMAAECQoAcAAIAgQQ8AAABBgh4AAACCBD0AAAAECXoAAAAIEvQAAAAQJOgBAAAg\n",
       "SNADAABAkKAHAACAIEEPAAAAQYIeAAAAggQ9AAAABAl6AAAACBL0AAAAECToAQAAIEjQAwAAQJCg\n",
       "BwAAgCBBDwAAAEGCHgAAAIIEPQAAAAQJegAAAAjabdu2nx4B8Js8Pz9PT1g8Pj5OT1gcHh5OT1i8\n",
       "v79PT1g8PDxMT1hcXV1NTwAAfoiHHgAAAIIEPQAAAAQJegAAAAgS9AAAABAk6AEAACBI0AMAAECQ\n",
       "oAcAAIAgQQ8AAABBgh4AAACCBD0AAAAECXoAAAAIEvQAAAAQJOgBAAAgSNADAABAkKAHAACAIEEP\n",
       "AAAAQYIeAAAAggQ9AAAABAl6AAAACBL0AAAAECToAQAAIEjQAwAAQJCgBwAAgCBBDwAAAEGCHgAA\n",
       "AIIEPQAAAAQJegAAAAgS9AAAABAk6AEAACBI0AMAAECQoAcAAIAgQQ8AAABBgh4AAACCBD0AAAAE\n",
       "CXoAAAAIEvQAAAAQJOgBAAAgSNADAABAkKAHAACAIEEPAAAAQYIeAAAAggQ9AAAABAl6AAAACBL0\n",
       "AAAAECToAQAAIEjQAwAAQJCgBwAAgCBBDwAAAEEH0wMAfpuTk5PpCXzD09PT9ITF6enp9ITFbreb\n",
       "nvDJ5eXl9AQA+C946AEAACBI0AMAAECQoAcAAIAgQQ8AAABBgh4AAACCBD0AAAAECXoAAAAIEvQA\n",
       "AAAQJOgBAAAgSNADAABAkKAHAACAIEEPAAAAQYIeAAAAggQ9AAAABAl6AAAACBL0AAAAECToAQAA\n",
       "IEjQAwAAQJCgBwAAgCBBDwAAAEGCHgAAAIIEPQAAAAQJegAAAAgS9AAAABAk6AEAACBI0AMAAECQ\n",
       "oAcAAIAgQQ8AAABBgh4AAACCBD0AAAAECXoAAAAIEvQAAAAQJOgBAAAgSNADAABAkKAHAACAIEEP\n",
       "AAAAQYIeAAAAggQ9AAAABAl6AAAACBL0AAAAECToAQAAIEjQAwAAQJCgBwAAgCBBDwAAAEGCHgAA\n",
       "AIIEPQAAAAQJegAAAAgS9AAAABC027ZtPz0CAAAA+B4PPQAAAAQJegAAAAgS9AAAABAk6AEAACBI\n",
       "0AMAAECQoAcAAIAgQQ8AAABBgh4AAACCBD0AAAAECXoAAAAIEvQAAAAQJOgBAAAgSNADAABAkKAH\n",
       "AACAIEEPAAAAQYIeAAAAggQ9AAAABAl6AAAACBL0AAAAECToAQAAIEjQAwAAQJCgBwAAgCBBDwAA\n",
       "AEGCHgAAAIIEPQAAAAQJegAAAAgS9AAAABumJqQAAARLSURBVBAk6AEAACBI0AMAAECQoAcAAIAg\n",
       "QQ8AAABBgh4AAACCBD0AAAAECXoAAAAIEvQAAAAQJOgBAAAgSNADAABAkKAHAACAIEEPAAAAQYIe\n",
       "AAAAggQ9AAAABAl6AAAACBL0AAAAECToAQAAIEjQAwAAQJCgBwAAgCBBDwAAAEEH0wMA4H9ycXEx\n",
       "PWFxd3c3PeGTl5eX6QmL8/Pz6QmLm5ub6QmLj4+P6QkAfMFDDwAAAEGCHgAAAIIEPQAAAAQJegAA\n",
       "AAgS9AAAABAk6AEAACBI0AMAAECQoAcAAIAgQQ8AAABBgh4AAACCBD0AAAAECXoAAAAIEvQAAAAQ\n",
       "JOgBAAAgSNADAABAkKAHAACAIEEPAAAAQYIeAAAAggQ9AAAABAl6AAAACBL0AAAAECToAQAAIEjQ\n",
       "AwAAQJCgBwAAgCBBDwAAAEGCHgAAAIIEPQAAAAQJegAAAAgS9AAAABAk6AEAACBI0AMAAECQoAcA\n",
       "AIAgQQ8AAABBgh4AAACCBD0AAAAECXoAAAAIEvQAAAAQJOgBAAAgSNADAABAkKAHAACAIEEPAAAA\n",
       "QYIeAAAAggQ9AAAABAl6AAAACBL0AAAAECToAQAAIEjQAwAAQJCgBwAAgKDdtm376REAwM84Ojqa\n",
       "nvDJ29vb9IRf7fj4eHrC4vX1dXoCAF/w0AMAAECQoAcAAIAgQQ8AAABBgh4AAACCBD0AAAAECXoA\n",
       "AAAIEvQAAAAQJOgBAAAgSNADAABAkKAHAACAIEEPAAAAQYIeAAAAggQ9AAAABAl6AAAACBL0AAAA\n",
       "ECToAQAAIEjQAwAAQJCgBwAAgCBBDwAAAEGCHgAAAIIEPQAAAAQJegAAAAgS9AAAABAk6AEAACBI\n",
       "0AMAAECQoAcAAIAgQQ8AAABBgh4AAACCBD0AAAAECXoAAAAIEvQAAAAQJOgBAAAgSNADAABAkKAH\n",
       "AACAIEEPAAAAQYIeAAAAggQ9AAAABAl6AAAACBL0AAAAECToAQAAIEjQAwAAQJCgBwAAgCBBDwAA\n",
       "AEGCHgAAAIIEPQAAAAQJegAAAAgS9AAAABAk6AEAACBot23bfnoEAAAA8D0eegAAAAgS9AAAABAk\n",
       "6AEAACBI0AMAAECQoAcAAIAgQQ8AAABBgh4AAACCBD0AAAAECXoAAAAIEvQAAAAQJOgBAAAgSNAD\n",
       "AABAkKAHAACAIEEPAAAAQYIeAAAAggQ9AAAABAl6AAAACBL0AAAAECToAQAAIEjQAwAAQJCgBwAA\n",
       "gCBBDwAAAEGCHgAAAIIEPQAAAAQJegAAAAgS9AAAABAk6AEAACBI0AMAAECQoAcAAIAgQQ8AAABB\n",
       "gh4AAACCBD0AAAAECXoAAAAIEvQAAAAQJOgBAAAgSNADAABAkKAHAACAIEEPAAAAQYIeAAAAggQ9\n",
       "AAAABAl6AAAACBL0AAAAECToAQAAIEjQAwAAQJCgBwAAgCBBDwAAAEGCHgAAAIL+ABZ0veNY9gYo\n",
       "AAAAAElFTkSuQmCC\n",
       "\" transform=\"translate(1341, 123)\"/>\n",
       "</g>\n",
       "</svg>\n"
      ]
     },
     "metadata": {},
     "output_type": "display_data"
    }
   ],
   "source": [
    "include(\"../utils/plot.jl\")\n",
    "\n",
    "using CounterfactualExplanations.Evaluation: evaluate, validity\n",
    "\n",
    "# model_to_use = flux_clean\n",
    "model_to_use = flux_adv_strong\n",
    "# model_to_use = flux_adv_medium\n",
    "# model_to_use = flux_adv_weak\n",
    "\n",
    "# random point's Counterfactual\n",
    "index = rand(1:10000)\n",
    "\n",
    "different_label = rand(0:8)\n",
    "if different_label >= y_test[index]\n",
    "    different_label += 1\n",
    "end\n",
    "\n",
    "counterfactual_data = CounterfactualData(x_train, y_train)\n",
    "counterfactual_data.domain = [(0, 1) for var in counterfactual_data.features_continuous]\n",
    "generator = CounterfactualExplanations.ECCoGenerator(; λ=[0.01, 0.5])\n",
    "# convergence = CounterfactualExplanations.DecisionThresholdConvergence(decision_threshold=0.5, max_iter=1000)\n",
    "convergence = CounterfactualExplanations.GeneratorConditionsConvergence(decision_threshold=0.5, max_iter=1000)\n",
    " \n",
    "ce = generate_counterfactual(\n",
    "        reshape(x_test[:, index], 784, 1), different_label, counterfactual_data, model_to_use, generator; num_counterfactuals=1, convergence=convergence\n",
    "    )\n",
    "\n",
    "println(ce)\n",
    "\n",
    "ces = CounterfactualExplanations.counterfactual(ce)\n",
    "cfimage = ces[:, 1]\n",
    "\n",
    "println(\"ce target: \", ce.target)\n",
    "println(\"SSIM distance = \", distance_from_targets_ssim(ce))\n",
    "\n",
    "# inf_model = clean_model\n",
    "inf_model = adv_pgd_strong\n",
    "# inf_model = adv_pgd_medium\n",
    "# inf_model = adv_pgd_weak\n",
    "\n",
    "cf_pred = (inf_model(cfimage) |> Flux.onecold |> getindex) - 1\n",
    "println(\"valid? \", evaluate(ce; measure=validity)[1][1])\n",
    "actualimage = x_test[:, index]\n",
    "actual_pred = (inf_model(actualimage) |> Flux.onecold |> getindex) - 1\n",
    "plot_normal_and_ce(actualimage, actual_pred, cfimage, cf_pred, y_test[index])"
   ]
  },
  {
   "cell_type": "markdown",
   "metadata": {},
   "source": [
    "### Experimental setup"
   ]
  },
  {
   "cell_type": "markdown",
   "metadata": {},
   "source": [
    "#### Setting up data splits"
   ]
  },
  {
   "cell_type": "code",
   "execution_count": 11,
   "metadata": {},
   "outputs": [
    {
     "data": {
      "text/plain": [
       "5-element Vector{Vector{Int64}}:\n",
       " [4, 5, 5, 2, 7, 0, 2, 2, 7, 5  …  2, 5, 3, 2, 4, 3, 9, 3, 9, 0]\n",
       " [9, 5, 2, 1, 6, 5, 0, 1, 6, 4  …  1, 7, 1, 7, 0, 6, 5, 3, 4, 0]\n",
       " [6, 1, 8, 7, 9, 3, 7, 3, 0, 0  …  4, 5, 6, 1, 5, 5, 5, 4, 9, 3]\n",
       " [6, 0, 9, 9, 8, 0, 4, 9, 6, 5  …  8, 4, 0, 5, 0, 4, 0, 8, 2, 0]\n",
       " [6, 4, 0, 7, 7, 4, 9, 1, 6, 8  …  6, 9, 2, 9, 3, 1, 4, 6, 7, 7]"
      ]
     },
     "metadata": {},
     "output_type": "display_data"
    }
   ],
   "source": [
    "Random.seed!(42)\n",
    "\n",
    "function generate_split(num_datapoints)\n",
    "    rand(1:num_datapoints, 100)\n",
    "end\n",
    "\n",
    "function random_excluding(exclude)\n",
    "    value = rand(0:8)\n",
    "    return value < exclude ? value : value + 1\n",
    "end\n",
    "\n",
    "splits = [generate_split(length(y_test)) for _ in 1:5]\n",
    "targets = [[random_excluding(y_test[num]) for num in split] for split in splits]"
   ]
  },
  {
   "cell_type": "markdown",
   "metadata": {},
   "source": [
    "#### Setting up Counterfactual requirements"
   ]
  },
  {
   "cell_type": "code",
   "execution_count": 12,
   "metadata": {},
   "outputs": [
    {
     "data": {
      "text/plain": [
       "2-element Vector{Any}:\n",
       " CounterfactualExplanations.Convergence.GeneratorConditionsConvergence(0.5, 0.01, 1000, 0.75)\n",
       " CounterfactualExplanations.Convergence.DecisionThresholdConvergence(0.5, 1000, 0.75)"
      ]
     },
     "metadata": {},
     "output_type": "display_data"
    }
   ],
   "source": [
    "flux_clean = CounterfactualExplanations.MLP(clean_model; likelihood=:classification_multi)\n",
    "flux_adv_strong = CounterfactualExplanations.MLP(adv_pgd_strong; likelihood=:classification_multi)\n",
    "flux_adv_medium = CounterfactualExplanations.MLP(adv_pgd_medium; likelihood=:classification_multi) \n",
    "flux_adv_weak = CounterfactualExplanations.MLP(adv_pgd_weak; likelihood=:classification_multi) \n",
    "\n",
    "counterfactual_data = CounterfactualData(x_train, y_train)\n",
    "counterfactual_data.domain = [(0, 1) for var in counterfactual_data.features_continuous]\n",
    "generator = CounterfactualExplanations.ECCoGenerator(; λ=[0.01, 0.5])\n",
    "convergences = []\n",
    "push!(convergences, CounterfactualExplanations.GeneratorConditionsConvergence(decision_threshold=0.5,max_iter=1000))\n",
    "push!(convergences, CounterfactualExplanations.DecisionThresholdConvergence(decision_threshold=0.5, max_iter=1000))\n",
    "\n",
    "convergences\n"
   ]
  },
  {
   "cell_type": "markdown",
   "metadata": {},
   "source": [
    "### Experiment - Clean model"
   ]
  },
  {
   "cell_type": "code",
   "execution_count": 13,
   "metadata": {},
   "outputs": [
    {
     "name": "stdout",
     "output_type": "stream",
     "text": [
      "here!\n",
      "datapoint 10 of split 1 reached\n",
      "datapoint 20 of split 1 reached\n",
      "datapoint 30 of split 1 reached\n",
      "datapoint 40 of split 1 reached\n",
      "datapoint 50 of split 1 reached\n",
      "datapoint 60 of split 1 reached\n",
      "datapoint 70 of split 1 reached\n",
      "datapoint 80 of split 1 reached\n",
      "datapoint 90 of split 1 reached\n",
      "datapoint 100 of split 1 reached\n",
      "here!\n",
      "datapoint 10 of split 2 reached\n",
      "datapoint 20 of split 2 reached\n",
      "datapoint 30 of split 2 reached\n",
      "datapoint 40 of split 2 reached\n",
      "datapoint 50 of split 2 reached\n",
      "Skipping because of model misclassification\n",
      "datapoint 60 of split 2 reached\n",
      "datapoint 70 of split 2 reached\n",
      "datapoint 80 of split 2 reached\n",
      "datapoint 90 of split 2 reached\n",
      "datapoint 100 of split 2 reached\n"
     ]
    },
    {
     "name": "stderr",
     "output_type": "stream",
     "text": [
      "\u001b[32mProgress:  40%|█████████████████                        |  ETA: 0:32:30\u001b[39m\u001b[K"
     ]
    },
    {
     "name": "stdout",
     "output_type": "stream",
     "text": [
      "here!\n",
      "datapoint 10 of split 3 reached\n",
      "datapoint 20 of split 3 reached\n",
      "Skipping because of model misclassification\n",
      "datapoint 30 of split 3 reached\n",
      "datapoint 40 of split 3 reached\n",
      "datapoint 50 of split 3 reached\n",
      "datapoint 60 of split 3 reached\n",
      "datapoint 70 of split 3 reached\n",
      "Skipping because of model misclassification\n",
      "datapoint 80 of split 3 reached\n",
      "Skipping because of model misclassification\n",
      "Skipping because of model misclassification\n",
      "datapoint 90 of split 3 reached\n",
      "datapoint 100 of split 3 reached"
     ]
    },
    {
     "name": "stderr",
     "output_type": "stream",
     "text": [
      "\u001b[32mProgress:  60%|█████████████████████████                |  ETA: 0:21:27\u001b[39m\u001b[K"
     ]
    },
    {
     "name": "stdout",
     "output_type": "stream",
     "text": [
      "\n",
      "here!\n",
      "Skipping because of model misclassification\n",
      "datapoint 10 of split 4 reached\n",
      "datapoint 20 of split 4 reached\n",
      "datapoint 30 of split 4 reached\n",
      "Skipping because of model misclassification\n",
      "datapoint 40 of split 4 reached\n",
      "datapoint 50 of split 4 reached\n",
      "Skipping because of model misclassification\n",
      "datapoint 60 of split 4 reached\n",
      "datapoint 70 of split 4 reached\n",
      "Skipping because of model misclassification\n",
      "datapoint 80 of split 4 reached\n",
      "datapoint 90 of split 4 reached\n",
      "Skipping because of model misclassification\n",
      "datapoint 100 of split 4 reached\n"
     ]
    },
    {
     "name": "stderr",
     "output_type": "stream",
     "text": [
      "\u001b[32mProgress:  80%|█████████████████████████████████        |  ETA: 0:10:44\u001b[39m\u001b[K"
     ]
    },
    {
     "name": "stdout",
     "output_type": "stream",
     "text": [
      "here!\n",
      "datapoint 10 of split 5 reached\n",
      "datapoint 20 of split 5 reached\n",
      "datapoint 30 of split 5 reached\n",
      "Skipping because of model misclassification\n",
      "datapoint 40 of split 5 reached\n",
      "datapoint 50 of split 5 reached\n",
      "datapoint 60 of split 5 reached\n",
      "datapoint 70 of split 5 reached\n",
      "datapoint 80 of split 5 reached\n",
      "datapoint 90 of split 5 reached\n",
      "datapoint 100 of split 5 reached"
     ]
    },
    {
     "name": "stderr",
     "output_type": "stream",
     "text": [
      "\u001b[32mProgress: 100%|█████████████████████████████████████████| Time: 0:53:48\u001b[39m\u001b[K\n"
     ]
    },
    {
     "name": "stdout",
     "output_type": "stream",
     "text": [
      "\n"
     ]
    },
    {
     "data": {
      "text/plain": [
       "5-element Vector{Any}:\n",
       " 0.43777679242422307\n",
       " 0.43799570541294186\n",
       " 0.43817905078058494\n",
       " 0.4337871464951497\n",
       " 0.43585700921889026"
      ]
     },
     "metadata": {},
     "output_type": "display_data"
    }
   ],
   "source": [
    "mean_implausibilities_clean_dt = []\n",
    "mean_implausibilities_clean_gc = []\n",
    "total_validity_dt = 0\n",
    "total_validity_gc = 0\n",
    "model_to_use = clean_model\n",
    "\n",
    "@showprogress for (i, split) in enumerate(splits)\n",
    "    println(\"here!\")\n",
    "    implausibilities_dt = []\n",
    "    implausibilities_gc = []\n",
    "    for (j, index) in enumerate(split)\n",
    "\n",
    "        model_pred = (model_to_use(x_test[:, index]) |> Flux.onecold |> getindex) - 1\n",
    "        if model_pred != y_test[index]\n",
    "            println(\"Skipping because of model misclassification\")\n",
    "            continue\n",
    "        end\n",
    "\n",
    "        if (j % 10 == 0)\n",
    "            println(\"datapoint $j of split $i reached\")\n",
    "        end\n",
    "\n",
    "        count = 0\n",
    "\n",
    "        for convergence in convergences\n",
    "            ce = generate_counterfactual(\n",
    "            reshape(x_test'[index, :], 784, 1), targets[i][j], counterfactual_data, flux_clean, generator; num_counterfactuals=1, convergence=convergence\n",
    "            )\n",
    "\n",
    "            implausibility = distance_from_targets_ssim(ce)\n",
    "\n",
    "            if count == 0\n",
    "                total_validity_gc += evaluate(ce; measure=validity)[1][1]\n",
    "                push!(implausibilities_gc, implausibility)\n",
    "            elseif count == 1\n",
    "                total_validity_dt += evaluate(ce; measure=validity)[1][1]\n",
    "                push!(implausibilities_dt, implausibility)\n",
    "            end\n",
    "            \n",
    "            count += 1\n",
    "        end\n",
    "    end\n",
    "    push!(mean_implausibilities_clean_dt, mean(implausibilities_dt))\n",
    "    push!(mean_implausibilities_clean_gc, mean(implausibilities_gc))\n",
    "end\n",
    "\n",
    "mean_implausibilities_clean_dt"
   ]
  },
  {
   "cell_type": "code",
   "execution_count": 17,
   "metadata": {},
   "outputs": [
    {
     "name": "stdout",
     "output_type": "stream",
     "text": [
      "Using Decision Threshold Convergence:\n",
      "mean implausibilities using DTC: Any[0.43777679242422307, 0.43799570541294186, 0.43817905078058494, 0.4337871464951497, 0.43585700921889026]\n",
      "valid switches: 489.0\n",
      "mean: 0.43671914086635794\n",
      "std: 0.0018854338219273254\n",
      "Using Generator Conditions Convergence:\n",
      "mean implausibilities using GCC: Any[0.38854198524118294, 0.3956520911614494, 0.3914399930426151, 0.3845519454107425, 0.38809613711660845]\n",
      "valid switches: 485.0\n",
      "mean: 0.3896564303945197\n",
      "std: 0.004149135868294711\n"
     ]
    }
   ],
   "source": [
    "println(\"Using Decision Threshold Convergence:\")\n",
    "println(\"mean implausibilities using DTC: \", mean_implausibilities_clean_dt)\n",
    "println(\"valid switches: \", total_validity_dt)\n",
    "println(\"mean: \", mean(mean_implausibilities_clean_dt))\n",
    "println(\"std: \", std(mean_implausibilities_clean_dt))\n",
    "\n",
    "println(\"Using Generator Conditions Convergence:\")\n",
    "println(\"mean implausibilities using GCC: \", mean_implausibilities_clean_gc)\n",
    "println(\"valid switches: \", total_validity_gc)\n",
    "println(\"mean: \", mean(mean_implausibilities_clean_gc))\n",
    "println(\"std: \", std(mean_implausibilities_clean_gc))"
   ]
  },
  {
   "cell_type": "markdown",
   "metadata": {},
   "source": [
    "### Experiment - Strong AT model"
   ]
  },
  {
   "cell_type": "code",
   "execution_count": 15,
   "metadata": {},
   "outputs": [
    {
     "name": "stdout",
     "output_type": "stream",
     "text": [
      "here!\n",
      "datapoint 10 of split 1 reached\n",
      "datapoint 20 of split 1 reached\n",
      "datapoint 30 of split 1 reached\n",
      "datapoint 40 of split 1 reached\n",
      "datapoint 50 of split 1 reached\n",
      "datapoint 60 of split 1 reached\n",
      "Skipping because of model misclassification\n",
      "datapoint 70 of split 1 reached\n",
      "datapoint 80 of split 1 reached\n",
      "datapoint 90 of split 1 reached\n",
      "datapoint 100 of split 1 reached\n",
      "here!\n",
      "datapoint 10 of split 2 reached\n",
      "datapoint 20 of split 2 reached\n",
      "Skipping because of model misclassification\n",
      "datapoint 30 of split 2 reached\n",
      "datapoint 40 of split 2 reached\n",
      "Skipping because of model misclassification\n",
      "Skipping because of model misclassification\n",
      "datapoint 50 of split 2 reached\n",
      "datapoint 60 of split 2 reached\n",
      "Skipping because of model misclassification\n",
      "datapoint 70 of split 2 reached\n",
      "datapoint 80 of split 2 reached\n",
      "datapoint 90 of split 2 reached\n",
      "datapoint 100 of split 2 reached"
     ]
    },
    {
     "name": "stderr",
     "output_type": "stream",
     "text": [
      "\u001b[32mProgress:  40%|█████████████████                        |  ETA: 0:31:17\u001b[39m\u001b[K"
     ]
    },
    {
     "name": "stdout",
     "output_type": "stream",
     "text": [
      "\n",
      "here!\n",
      "datapoint 10 of split 3 reached\n",
      "datapoint 20 of split 3 reached\n",
      "datapoint 30 of split 3 reached\n",
      "datapoint 40 of split 3 reached\n",
      "datapoint 50 of split 3 reached\n",
      "datapoint 60 of split 3 reached\n",
      "datapoint 70 of split 3 reached\n",
      "Skipping because of model misclassification\n",
      "datapoint 80 of split 3 reached\n",
      "datapoint 90 of split 3 reached\n",
      "datapoint 100 of split 3 reached"
     ]
    },
    {
     "name": "stderr",
     "output_type": "stream",
     "text": [
      "\u001b[32mProgress:  60%|█████████████████████████                |  ETA: 0:20:38\u001b[39m\u001b[K"
     ]
    },
    {
     "name": "stdout",
     "output_type": "stream",
     "text": [
      "\n",
      "here!\n",
      "datapoint 10 of split 4 reached\n",
      "Skipping because of model misclassification\n",
      "Skipping because of model misclassification\n",
      "Skipping because of model misclassification\n",
      "datapoint 20 of split 4 reached\n",
      "Skipping because of model misclassification\n",
      "datapoint 30 of split 4 reached\n",
      "datapoint 40 of split 4 reached\n",
      "Skipping because of model misclassification\n",
      "datapoint 50 of split 4 reached\n",
      "datapoint 60 of split 4 reached\n",
      "datapoint 70 of split 4 reached\n",
      "datapoint 80 of split 4 reached\n",
      "Skipping because of model misclassification\n",
      "datapoint 90 of split 4 reached\n",
      "datapoint 100 of split 4 reached\n"
     ]
    },
    {
     "name": "stderr",
     "output_type": "stream",
     "text": [
      "\u001b[32mProgress:  80%|█████████████████████████████████        |  ETA: 0:10:09\u001b[39m\u001b[K"
     ]
    },
    {
     "name": "stdout",
     "output_type": "stream",
     "text": [
      "here!\n",
      "datapoint 10 of split 5 reached\n",
      "Skipping because of model misclassification\n",
      "datapoint 20 of split 5 reached\n",
      "datapoint 30 of split 5 reached\n",
      "Skipping because of model misclassification\n",
      "datapoint 40 of split 5 reached\n",
      "datapoint 50 of split 5 reached\n",
      "datapoint 60 of split 5 reached\n",
      "datapoint 70 of split 5 reached\n",
      "datapoint 80 of split 5 reached\n",
      "Skipping because of model misclassification\n",
      "datapoint 90 of split 5 reached\n",
      "datapoint 100 of split 5 reached\n"
     ]
    },
    {
     "name": "stderr",
     "output_type": "stream",
     "text": [
      "\u001b[32mProgress: 100%|█████████████████████████████████████████| Time: 0:50:41\u001b[39m\u001b[K\n"
     ]
    },
    {
     "data": {
      "text/plain": [
       "5-element Vector{Any}:\n",
       " 0.4145930153051518\n",
       " 0.4131686469842664\n",
       " 0.4126407135224599\n",
       " 0.41125010366840103\n",
       " 0.4101581423508147"
      ]
     },
     "metadata": {},
     "output_type": "display_data"
    }
   ],
   "source": [
    "mean_implausibilities_strong_dt = []\n",
    "mean_implausibilities_strong_gc = []\n",
    "total_validity_strong_dt = 0\n",
    "total_validity_strong_gc = 0\n",
    "model_to_use = adv_pgd_strong\n",
    "\n",
    "@showprogress for (i, split) in enumerate(splits)\n",
    "    println(\"here!\")\n",
    "    implausibilities_dt = []\n",
    "    implausibilities_gc = []\n",
    "    for (j, index) in enumerate(split)\n",
    "\n",
    "        model_pred = (model_to_use(x_test[:, index]) |> Flux.onecold |> getindex) - 1\n",
    "        if model_pred != y_test[index]\n",
    "            println(\"Skipping because of model misclassification\")\n",
    "            continue\n",
    "        end\n",
    "\n",
    "        if (j % 10 == 0)\n",
    "            println(\"datapoint $j of split $i reached\")\n",
    "        end\n",
    "\n",
    "        count = 0\n",
    "\n",
    "        for convergence in convergences\n",
    "            ce = generate_counterfactual(\n",
    "            reshape(x_test'[index, :], 784, 1), targets[i][j], counterfactual_data, flux_adv_strong, generator; num_counterfactuals=1, convergence=convergence\n",
    "            )\n",
    "\n",
    "            implausibility = distance_from_targets_ssim(ce)\n",
    "\n",
    "            if count == 0\n",
    "                total_validity_strong_gc += evaluate(ce; measure=validity)[1][1]\n",
    "                push!(implausibilities_gc, implausibility)\n",
    "            elseif count == 1\n",
    "                total_validity_strong_dt += evaluate(ce; measure=validity)[1][1]\n",
    "                push!(implausibilities_dt, implausibility)\n",
    "            end\n",
    "            \n",
    "            count += 1\n",
    "        end\n",
    "    end\n",
    "    push!(mean_implausibilities_strong_dt, mean(implausibilities_dt))\n",
    "    push!(mean_implausibilities_strong_gc, mean(implausibilities_gc))\n",
    "end\n",
    "\n",
    "mean_implausibilities_strong_dt"
   ]
  },
  {
   "cell_type": "code",
   "execution_count": 18,
   "metadata": {},
   "outputs": [
    {
     "name": "stdout",
     "output_type": "stream",
     "text": [
      "Using Decision Threshold Convergence:\n",
      "mean implausibilities using DTC: Any[0.4145930153051518, 0.4131686469842664, 0.4126407135224599, 0.41125010366840103, 0.4101581423508147]\n",
      "valid switches: 485.0\n",
      "mean: 0.4123621243662187\n",
      "std: 0.0017174903048787968\n",
      "Using Generator Conditions Convergence:\n",
      "mean implausibilities using GCC: Any[0.22347539670036054, 0.22505863793886008, 0.22188771905223703, 0.2131320895088706, 0.21908109626558292]\n",
      "valid switches: 485.0\n",
      "mean: 0.22052698789318223\n",
      "std: 0.004686568057518681\n"
     ]
    }
   ],
   "source": [
    "println(\"Using Decision Threshold Convergence:\")\n",
    "println(\"mean implausibilities using DTC: \", mean_implausibilities_strong_dt)\n",
    "println(\"valid switches: \", total_validity_strong_dt)\n",
    "println(\"mean: \", mean(mean_implausibilities_strong_dt))\n",
    "println(\"std: \", std(mean_implausibilities_strong_dt))\n",
    "\n",
    "println(\"Using Generator Conditions Convergence:\")\n",
    "println(\"mean implausibilities using GCC: \", mean_implausibilities_strong_gc)\n",
    "println(\"valid switches: \", total_validity_strong_gc)\n",
    "println(\"mean: \", mean(mean_implausibilities_strong_gc))\n",
    "println(\"std: \", std(mean_implausibilities_strong_gc))"
   ]
  },
  {
   "cell_type": "markdown",
   "metadata": {},
   "source": [
    "### Experiment: Medium AT model"
   ]
  },
  {
   "cell_type": "code",
   "execution_count": 19,
   "metadata": {},
   "outputs": [
    {
     "name": "stdout",
     "output_type": "stream",
     "text": [
      "here!\n",
      "datapoint 10 of split 1 reached\n",
      "datapoint 20 of split 1 reached\n",
      "datapoint 30 of split 1 reached\n",
      "datapoint 40 of split 1 reached\n",
      "Skipping because of model misclassification\n",
      "datapoint 50 of split 1 reached\n",
      "datapoint 60 of split 1 reached\n",
      "Skipping because of model misclassification\n",
      "datapoint 70 of split 1 reached\n",
      "datapoint 80 of split 1 reached\n",
      "datapoint 90 of split 1 reached\n",
      "datapoint 100 of split 1 reached\n",
      "here!\n",
      "datapoint 10 of split 2 reached\n",
      "datapoint 20 of split 2 reached\n",
      "Skipping because of model misclassification\n",
      "Skipping because of model misclassification\n",
      "datapoint 30 of split 2 reached\n",
      "datapoint 40 of split 2 reached\n",
      "Skipping because of model misclassification\n",
      "datapoint 50 of split 2 reached\n",
      "datapoint 60 of split 2 reached\n",
      "datapoint 70 of split 2 reached\n",
      "datapoint 80 of split 2 reached\n",
      "datapoint 90 of split 2 reached\n",
      "datapoint 100 of split 2 reached"
     ]
    },
    {
     "name": "stderr",
     "output_type": "stream",
     "text": [
      "\u001b[32mProgress:  40%|█████████████████                        |  ETA: 0:31:36\u001b[39m\u001b[K"
     ]
    },
    {
     "name": "stdout",
     "output_type": "stream",
     "text": [
      "\n",
      "here!\n",
      "datapoint 10 of split 3 reached\n",
      "datapoint 20 of split 3 reached\n",
      "datapoint 30 of split 3 reached\n",
      "datapoint 40 of split 3 reached\n",
      "datapoint 50 of split 3 reached\n",
      "datapoint 60 of split 3 reached\n",
      "datapoint 70 of split 3 reached\n",
      "Skipping because of model misclassification\n",
      "datapoint 80 of split 3 reached\n",
      "datapoint 90 of split 3 reached\n",
      "datapoint 100 of split 3 reached"
     ]
    },
    {
     "name": "stderr",
     "output_type": "stream",
     "text": [
      "\u001b[32mProgress:  60%|█████████████████████████                |  ETA: 0:20:49\u001b[39m\u001b[K"
     ]
    },
    {
     "name": "stdout",
     "output_type": "stream",
     "text": [
      "\n",
      "here!\n",
      "datapoint 10 of split 4 reached\n",
      "datapoint 20 of split 4 reached\n",
      "datapoint 30 of split 4 reached\n",
      "datapoint 40 of split 4 reached\n",
      "datapoint 50 of split 4 reached\n",
      "datapoint 60 of split 4 reached\n",
      "datapoint 70 of split 4 reached\n",
      "datapoint 80 of split 4 reached\n",
      "datapoint 90 of split 4 reached\n"
     ]
    },
    {
     "name": "stderr",
     "output_type": "stream",
     "text": [
      "\u001b[32mProgress:  80%|█████████████████████████████████        |  ETA: 0:10:25\u001b[39m\u001b[K"
     ]
    },
    {
     "name": "stdout",
     "output_type": "stream",
     "text": [
      "datapoint 100 of split 4 reached\n",
      "here!\n",
      "datapoint 10 of split 5 reached\n",
      "datapoint 20 of split 5 reached\n",
      "datapoint 30 of split 5 reached\n",
      "Skipping because of model misclassification\n",
      "datapoint 40 of split 5 reached\n",
      "datapoint 50 of split 5 reached\n",
      "datapoint 60 of split 5 reached\n",
      "datapoint 70 of split 5 reached\n",
      "datapoint 80 of split 5 reached\n",
      "Skipping because of model misclassification\n",
      "datapoint 90 of split 5 reached\n",
      "datapoint 100 of split 5 reached\n"
     ]
    },
    {
     "name": "stderr",
     "output_type": "stream",
     "text": [
      "\u001b[32mProgress: 100%|█████████████████████████████████████████| Time: 0:51:59\u001b[39m\u001b[K\n"
     ]
    },
    {
     "data": {
      "text/plain": [
       "5-element Vector{Any}:\n",
       " 0.4127359033457597\n",
       " 0.4125870317500011\n",
       " 0.4103797155638935\n",
       " 0.407369496464206\n",
       " 0.4110017455574345"
      ]
     },
     "metadata": {},
     "output_type": "display_data"
    }
   ],
   "source": [
    "mean_implausibilities_medium_dt = []\n",
    "mean_implausibilities_medium_gc = []\n",
    "total_validity_medium_dt = 0\n",
    "total_validity_medium_gc = 0\n",
    "model_to_use = adv_pgd_medium\n",
    "\n",
    "@showprogress for (i, split) in enumerate(splits)\n",
    "    println(\"here!\")\n",
    "    implausibilities_dt = []\n",
    "    implausibilities_gc = []\n",
    "    for (j, index) in enumerate(split)\n",
    "\n",
    "        model_pred = (model_to_use(x_test[:, index]) |> Flux.onecold |> getindex) - 1\n",
    "        if model_pred != y_test[index]\n",
    "            println(\"Skipping because of model misclassification\")\n",
    "            continue\n",
    "        end\n",
    "\n",
    "        if (j % 10 == 0)\n",
    "            println(\"datapoint $j of split $i reached\")\n",
    "        end\n",
    "\n",
    "        count = 0\n",
    "\n",
    "        for convergence in convergences\n",
    "            ce = generate_counterfactual(\n",
    "            reshape(x_test'[index, :], 784, 1), targets[i][j], counterfactual_data, flux_adv_medium, generator; num_counterfactuals=1, convergence=convergence\n",
    "            )\n",
    "\n",
    "            implausibility = distance_from_targets_ssim(ce)\n",
    "\n",
    "            if count == 0\n",
    "                total_validity_medium_gc += evaluate(ce; measure=validity)[1][1]\n",
    "                push!(implausibilities_gc, implausibility)\n",
    "            elseif count == 1\n",
    "                total_validity_medium_dt += evaluate(ce; measure=validity)[1][1]\n",
    "                push!(implausibilities_dt, implausibility)\n",
    "            end\n",
    "            \n",
    "            count += 1\n",
    "        end\n",
    "    end\n",
    "    push!(mean_implausibilities_medium_dt, mean(implausibilities_dt))\n",
    "    push!(mean_implausibilities_medium_gc, mean(implausibilities_gc))\n",
    "end\n",
    "\n",
    "mean_implausibilities_medium_dt"
   ]
  },
  {
   "cell_type": "code",
   "execution_count": 20,
   "metadata": {},
   "outputs": [
    {
     "name": "stdout",
     "output_type": "stream",
     "text": [
      "Using Decision Threshold Convergence:\n",
      "mean implausibilities using DTC: Any[0.4127359033457597, 0.4125870317500011, 0.4103797155638935, 0.407369496464206, 0.4110017455574345]\n",
      "valid switches: 492.0\n",
      "mean: 0.410814778536259\n",
      "std: 0.002175190049181847\n",
      "Using Generator Conditions Convergence:\n",
      "mean implausibilities using GCC: Any[0.24082424456074866, 0.23973712509276368, 0.23589814734028797, 0.22722762492097157, 0.23488743054783923]\n",
      "valid switches: 492.0\n",
      "mean: 0.23571491449252227\n",
      "std: 0.005362737642411256\n"
     ]
    }
   ],
   "source": [
    "println(\"Using Decision Threshold Convergence:\")\n",
    "println(\"mean implausibilities using DTC: \", mean_implausibilities_medium_dt)\n",
    "println(\"valid switches: \", total_validity_medium_dt)\n",
    "println(\"mean: \", mean(mean_implausibilities_medium_dt))\n",
    "println(\"std: \", std(mean_implausibilities_medium_dt))\n",
    "\n",
    "println(\"Using Generator Conditions Convergence:\")\n",
    "println(\"mean implausibilities using GCC: \", mean_implausibilities_medium_gc)\n",
    "println(\"valid switches: \", total_validity_medium_gc)\n",
    "println(\"mean: \", mean(mean_implausibilities_medium_gc))\n",
    "println(\"std: \", std(mean_implausibilities_medium_gc))"
   ]
  },
  {
   "cell_type": "markdown",
   "metadata": {},
   "source": [
    "### Experiment: Weak AT model"
   ]
  },
  {
   "cell_type": "code",
   "execution_count": 21,
   "metadata": {},
   "outputs": [
    {
     "name": "stdout",
     "output_type": "stream",
     "text": [
      "here!\n",
      "datapoint 10 of split 1 reached\n",
      "datapoint 20 of split 1 reached\n",
      "datapoint 30 of split 1 reached\n",
      "datapoint 40 of split 1 reached\n",
      "datapoint 50 of split 1 reached\n",
      "datapoint 60 of split 1 reached\n",
      "Skipping because of model misclassification\n",
      "datapoint 70 of split 1 reached\n",
      "datapoint 80 of split 1 reached\n",
      "Skipping because of model misclassification\n",
      "datapoint 90 of split 1 reached\n",
      "datapoint 100 of split 1 reached\n",
      "here!\n",
      "datapoint 10 of split 2 reached\n",
      "datapoint 20 of split 2 reached\n",
      "Skipping because of model misclassification\n",
      "datapoint 30 of split 2 reached\n",
      "datapoint 40 of split 2 reached\n",
      "datapoint 50 of split 2 reached\n",
      "datapoint 60 of split 2 reached\n",
      "datapoint 70 of split 2 reached\n",
      "datapoint 80 of split 2 reached\n",
      "datapoint 90 of split 2 reached\n",
      "datapoint 100 of split 2 reached\n"
     ]
    },
    {
     "name": "stderr",
     "output_type": "stream",
     "text": [
      "\u001b[32mProgress:  40%|█████████████████                        |  ETA: 0:31:05\u001b[39m\u001b[K"
     ]
    },
    {
     "name": "stdout",
     "output_type": "stream",
     "text": [
      "here!\n",
      "datapoint 10 of split 3 reached\n",
      "datapoint 20 of split 3 reached\n",
      "datapoint 30 of split 3 reached\n",
      "datapoint 40 of split 3 reached\n",
      "datapoint 50 of split 3 reached\n",
      "datapoint 60 of split 3 reached\n",
      "datapoint 70 of split 3 reached\n",
      "Skipping because of model misclassification\n",
      "datapoint 80 of split 3 reached\n",
      "datapoint 90 of split 3 reached\n",
      "datapoint 100 of split 3 reached"
     ]
    },
    {
     "name": "stderr",
     "output_type": "stream",
     "text": [
      "\u001b[32mProgress:  60%|█████████████████████████                |  ETA: 0:20:43\u001b[39m\u001b[K"
     ]
    },
    {
     "name": "stdout",
     "output_type": "stream",
     "text": [
      "\n",
      "here!\n",
      "datapoint 10 of split 4 reached\n",
      "datapoint 20 of split 4 reached\n",
      "datapoint 30 of split 4 reached\n",
      "datapoint 40 of split 4 reached\n",
      "datapoint 50 of split 4 reached\n",
      "datapoint 60 of split 4 reached\n",
      "datapoint 70 of split 4 reached\n",
      "datapoint 80 of split 4 reached\n",
      "datapoint 90 of split 4 reached\n",
      "datapoint 100 of split 4 reached\n"
     ]
    },
    {
     "name": "stderr",
     "output_type": "stream",
     "text": [
      "\u001b[32mProgress:  80%|█████████████████████████████████        |  ETA: 0:10:23\u001b[39m\u001b[K"
     ]
    },
    {
     "name": "stdout",
     "output_type": "stream",
     "text": [
      "here!\n",
      "datapoint 10 of split 5 reached\n",
      "datapoint 20 of split 5 reached\n",
      "datapoint 30 of split 5 reached\n",
      "Skipping because of model misclassification\n",
      "datapoint 40 of split 5 reached\n",
      "datapoint 50 of split 5 reached\n",
      "datapoint 60 of split 5 reached\n",
      "datapoint 70 of split 5 reached\n",
      "datapoint 80 of split 5 reached\n",
      "Skipping because of model misclassification\n",
      "datapoint 90 of split 5 reached\n",
      "datapoint 100 of split 5 reached\n"
     ]
    },
    {
     "name": "stderr",
     "output_type": "stream",
     "text": [
      "\u001b[32mProgress: 100%|█████████████████████████████████████████| Time: 0:51:18\u001b[39m\u001b[K\n"
     ]
    },
    {
     "data": {
      "text/plain": [
       "5-element Vector{Any}:\n",
       " 0.4184785757374198\n",
       " 0.4182587214701604\n",
       " 0.41589372145389286\n",
       " 0.41210849153153634\n",
       " 0.41708944438497797"
      ]
     },
     "metadata": {},
     "output_type": "display_data"
    }
   ],
   "source": [
    "mean_implausibilities_weak_dt = []\n",
    "mean_implausibilities_weak_gc = []\n",
    "total_validity_weak_dt = 0\n",
    "total_validity_weak_gc = 0\n",
    "model_to_use = adv_pgd_weak\n",
    "\n",
    "@showprogress for (i, split) in enumerate(splits)\n",
    "    println(\"here!\")\n",
    "    implausibilities_dt = []\n",
    "    implausibilities_gc = []\n",
    "    for (j, index) in enumerate(split)\n",
    "\n",
    "        model_pred = (model_to_use(x_test[:, index]) |> Flux.onecold |> getindex) - 1\n",
    "        if model_pred != y_test[index]\n",
    "            println(\"Skipping because of model misclassification\")\n",
    "            continue\n",
    "        end\n",
    "\n",
    "        if (j % 10 == 0)\n",
    "            println(\"datapoint $j of split $i reached\")\n",
    "        end\n",
    "\n",
    "        count = 0\n",
    "\n",
    "        for convergence in convergences\n",
    "            ce = generate_counterfactual(\n",
    "            reshape(x_test'[index, :], 784, 1), targets[i][j], counterfactual_data, flux_adv_weak, generator; num_counterfactuals=1, convergence=convergence\n",
    "            )\n",
    "\n",
    "            implausibility = distance_from_targets_ssim(ce)\n",
    "\n",
    "            if count == 0\n",
    "                total_validity_weak_gc += evaluate(ce; measure=validity)[1][1]\n",
    "                push!(implausibilities_gc, implausibility)\n",
    "            elseif count == 1\n",
    "                total_validity_weak_dt += evaluate(ce; measure=validity)[1][1]\n",
    "                push!(implausibilities_dt, implausibility)\n",
    "            end\n",
    "            \n",
    "            count += 1\n",
    "        end\n",
    "    end\n",
    "    push!(mean_implausibilities_weak_dt, mean(implausibilities_dt))\n",
    "    push!(mean_implausibilities_weak_gc, mean(implausibilities_gc))\n",
    "end\n",
    "\n",
    "mean_implausibilities_weak_dt"
   ]
  },
  {
   "cell_type": "code",
   "execution_count": 22,
   "metadata": {},
   "outputs": [
    {
     "name": "stdout",
     "output_type": "stream",
     "text": [
      "Using Decision Threshold Convergence:\n",
      "mean implausibilities using DTC: Any[0.4184785757374198, 0.4182587214701604, 0.41589372145389286, 0.41210849153153634, 0.41708944438497797]\n",
      "valid switches: 494.0\n",
      "mean: 0.41636579091559744\n",
      "std: 0.0025941360678301286\n",
      "Using Generator Conditions Convergence:\n",
      "mean implausibilities using GCC: Any[0.26809586590485596, 0.26555259449304847, 0.26271750891203755, 0.2523918602002133, 0.2628205541149617]\n",
      "valid switches: 494.0\n",
      "mean: 0.2623156767250234\n",
      "std: 0.005974670038903717\n"
     ]
    }
   ],
   "source": [
    "println(\"Using Decision Threshold Convergence:\")\n",
    "println(\"mean implausibilities using DTC: \", mean_implausibilities_weak_dt)\n",
    "println(\"valid switches: \", total_validity_weak_dt)\n",
    "println(\"mean: \", mean(mean_implausibilities_weak_dt))\n",
    "println(\"std: \", std(mean_implausibilities_weak_dt))\n",
    "\n",
    "println(\"Using Generator Conditions Convergence:\")\n",
    "println(\"mean implausibilities using GCC: \", mean_implausibilities_weak_gc)\n",
    "println(\"valid switches: \", total_validity_weak_gc)\n",
    "println(\"mean: \", mean(mean_implausibilities_weak_gc))\n",
    "println(\"std: \", std(mean_implausibilities_weak_gc))"
   ]
  },
  {
   "cell_type": "code",
   "execution_count": null,
   "metadata": {},
   "outputs": [],
   "source": []
  }
 ],
 "metadata": {
  "kernelspec": {
   "display_name": "Julia 1.10.3",
   "language": "julia",
   "name": "julia-1.10"
  },
  "language_info": {
   "file_extension": ".jl",
   "mimetype": "application/julia",
   "name": "julia",
   "version": "1.10.3"
  }
 },
 "nbformat": 4,
 "nbformat_minor": 2
}
